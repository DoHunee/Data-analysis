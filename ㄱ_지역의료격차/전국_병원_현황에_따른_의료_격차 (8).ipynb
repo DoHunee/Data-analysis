{
 "cells": [
  {
   "cell_type": "markdown",
   "id": "c0892a66",
   "metadata": {},
   "source": [
    "# 전국 병원 현황에 따른 지역 의료 격차"
   ]
  },
  {
   "cell_type": "markdown",
   "id": "29252d0b",
   "metadata": {},
   "source": [
    "---"
   ]
  },
  {
   "cell_type": "markdown",
   "id": "24802f87",
   "metadata": {},
   "source": [
    "# 프로젝트 소개<br>\n",
    "- 각 지역의 병원 등의 수 확인하기 위해 **전국 병원 현황 데이터**를 활용\n",
    "- 탐색적 데이터 분석을 수행하기 위한 데이터 정제, 특성 엔지니어링, 시각화 방법 학습\n",
    "- 지역 간의 의료시설 격차를 알아보고 지역의료 부족에 관해 다시 생각해 볼 수 있음"
   ]
  },
  {
   "cell_type": "markdown",
   "id": "68a18f07",
   "metadata": {},
   "source": [
    "---"
   ]
  },
  {
   "cell_type": "markdown",
   "id": "2054ddaf",
   "metadata": {},
   "source": [
    "# 프로젝트 목차<br>\n",
    "1. **데이터 읽기:** 병원 정보 데이터를 불러오고 DataFrame 구조를 확인<br>\n",
    "    1.1. 데이터 불러오기<br>\n",
    "    1.2. 데이터 확인하기<br>\n",
    "<br>\n",
    "2. **데이터 정제:** 데이터 확인 후 형 변환 및 이상치 데이터 처리<br>\n",
    "    2.1 Null값 확인하기<br>\n",
    "    2.2 열 이름 변경하기<br>\n",
    "<br>\n",
    "3. **데이터 시각화:** 각 변수별로 추가적인 정제 또는 feature engineering 과정을 거치고 시각화를 총해 데이터 특성 파악<br>\n",
    "    3.1 지역별 전체 병원시설 수 알아보기<br>\n",
    "    3.2 병원급 이상 시설의 수 알아보기<br>\n",
    "<br>\n",
    "4. **프로젝트 발전 가능성**<br>\n",
    "<br>\n",
    "5. **프로젝트 후기**"
   ]
  },
  {
   "cell_type": "markdown",
   "id": "137a6e80",
   "metadata": {},
   "source": [
    "---"
   ]
  },
  {
   "cell_type": "markdown",
   "id": "f3e4e9f1",
   "metadata": {},
   "source": [
    "# 데이터 출처<br>\n",
    "- 건강보험심사평가원_전국 병의원 및 약국 현황: https://www.data.go.kr/data/15051059/fileData.do"
   ]
  },
  {
   "cell_type": "markdown",
   "id": "dc050f9d",
   "metadata": {},
   "source": [
    "---"
   ]
  },
  {
   "cell_type": "markdown",
   "id": "3b6b83ae",
   "metadata": {},
   "source": [
    "# 프로젝트 기획 배경<br>\n",
    "- 요즘 **병원 치료를 받으러 지방에서 서울로 올라가는 사람들**이 많다는 뉴스를 접하였습니다. 또한 지역 간 의료 인력의 격차가 심하고 필수 의료 서비스가 부족하다는 뉴스도 많이 접할 수 있습니다. 저도 지방에 거주하며 이러한 것을 많이 느껴왔습니다. 그래서 전국 병원 현황을 통해 그 격차를 좀 더 상세히 알아보려 합니다.<br>\n",
    "<br>\n",
    "- 우리 일상에서 중요한 부분 중 하나인 의료 서비스를 많은 이들이 쉽고, 편하게 집 근처에서 받을 수 있는 환경이 하루빨리 만들어지길 바라는 생각에 프로젝트를 구상하게 되었습니다."
   ]
  },
  {
   "cell_type": "markdown",
   "id": "f6a64f41",
   "metadata": {},
   "source": [
    "---"
   ]
  },
  {
   "cell_type": "markdown",
   "id": "be11c1be",
   "metadata": {},
   "source": [
    "# 1. 데이터 읽기"
   ]
  },
  {
   "cell_type": "code",
   "execution_count": 201,
   "id": "d65d4e5a",
   "metadata": {},
   "outputs": [],
   "source": [
    "import numpy as np \n",
    "import pandas as pd \n",
    "import matplotlib.pyplot as plt"
   ]
  },
  {
   "cell_type": "markdown",
   "id": "99e284c3",
   "metadata": {},
   "source": [
    "### 1.1 데이터 불러오기"
   ]
  },
  {
   "cell_type": "code",
   "execution_count": 202,
   "id": "e1fbeb91",
   "metadata": {},
   "outputs": [],
   "source": [
    "# pd.read_csv를 통하여 병원 정보 데이터를 데이터프레임 형태로 읽어옵니다.\n",
    "hos_all = pd.read_csv(\"./data/병원정보.csv\", encoding = 'cp949')"
   ]
  },
  {
   "cell_type": "markdown",
   "id": "84625d79",
   "metadata": {},
   "source": [
    "### 1.2 데이터 확인하기"
   ]
  },
  {
   "cell_type": "code",
   "execution_count": 203,
   "id": "6bdd771e",
   "metadata": {},
   "outputs": [
    {
     "data": {
      "text/html": [
       "<div>\n",
       "<style scoped>\n",
       "    .dataframe tbody tr th:only-of-type {\n",
       "        vertical-align: middle;\n",
       "    }\n",
       "\n",
       "    .dataframe tbody tr th {\n",
       "        vertical-align: top;\n",
       "    }\n",
       "\n",
       "    .dataframe thead th {\n",
       "        text-align: right;\n",
       "    }\n",
       "</style>\n",
       "<table border=\"1\" class=\"dataframe\">\n",
       "  <thead>\n",
       "    <tr style=\"text-align: right;\">\n",
       "      <th></th>\n",
       "      <th>암호화요양기호</th>\n",
       "      <th>요양기관명</th>\n",
       "      <th>종별코드</th>\n",
       "      <th>종별코드명</th>\n",
       "      <th>시도코드</th>\n",
       "      <th>시도코드명</th>\n",
       "      <th>시군구코드</th>\n",
       "      <th>시군구코드명</th>\n",
       "      <th>읍면동</th>\n",
       "      <th>우편번호</th>\n",
       "      <th>...</th>\n",
       "      <th>치과일반의 인원수</th>\n",
       "      <th>치과인턴 인원수</th>\n",
       "      <th>치과레지던트 인원수</th>\n",
       "      <th>치과전문의 인원수</th>\n",
       "      <th>한방일반의 인원수</th>\n",
       "      <th>한방인턴 인원수</th>\n",
       "      <th>한방레지던트 인원수</th>\n",
       "      <th>한방전문의 인원수</th>\n",
       "      <th>좌표(X)</th>\n",
       "      <th>좌표(Y)</th>\n",
       "    </tr>\n",
       "  </thead>\n",
       "  <tbody>\n",
       "    <tr>\n",
       "      <th>0</th>\n",
       "      <td>JDQ4MTYyMiM1MSMkMSMkMCMkODkkMzgxMzUxIzExIyQxIy...</td>\n",
       "      <td>가톨릭대학교인천성모병원</td>\n",
       "      <td>1</td>\n",
       "      <td>상급종합</td>\n",
       "      <td>220000</td>\n",
       "      <td>인천</td>\n",
       "      <td>220003</td>\n",
       "      <td>인천부평구</td>\n",
       "      <td>NaN</td>\n",
       "      <td>NaN</td>\n",
       "      <td>...</td>\n",
       "      <td>1</td>\n",
       "      <td>0</td>\n",
       "      <td>0</td>\n",
       "      <td>2</td>\n",
       "      <td>0</td>\n",
       "      <td>0</td>\n",
       "      <td>0</td>\n",
       "      <td>0</td>\n",
       "      <td>126.724899</td>\n",
       "      <td>37.484831</td>\n",
       "    </tr>\n",
       "    <tr>\n",
       "      <th>1</th>\n",
       "      <td>JDQ4MTYyMiM1MSMkMSMkNCMkODkkMzgxMzUxIzExIyQxIy...</td>\n",
       "      <td>강릉아산병원</td>\n",
       "      <td>1</td>\n",
       "      <td>상급종합</td>\n",
       "      <td>320000</td>\n",
       "      <td>강원</td>\n",
       "      <td>320100</td>\n",
       "      <td>강릉시</td>\n",
       "      <td>NaN</td>\n",
       "      <td>25440.0</td>\n",
       "      <td>...</td>\n",
       "      <td>0</td>\n",
       "      <td>0</td>\n",
       "      <td>0</td>\n",
       "      <td>2</td>\n",
       "      <td>0</td>\n",
       "      <td>0</td>\n",
       "      <td>0</td>\n",
       "      <td>0</td>\n",
       "      <td>128.857841</td>\n",
       "      <td>37.818433</td>\n",
       "    </tr>\n",
       "    <tr>\n",
       "      <th>2</th>\n",
       "      <td>JDQ4MTg4MSM1MSMkMSMkMCMkODkkMzgxMzUxIzExIyQxIy...</td>\n",
       "      <td>강북삼성병원</td>\n",
       "      <td>1</td>\n",
       "      <td>상급종합</td>\n",
       "      <td>110000</td>\n",
       "      <td>서울</td>\n",
       "      <td>110016</td>\n",
       "      <td>종로구</td>\n",
       "      <td>NaN</td>\n",
       "      <td>3181.0</td>\n",
       "      <td>...</td>\n",
       "      <td>3</td>\n",
       "      <td>0</td>\n",
       "      <td>0</td>\n",
       "      <td>5</td>\n",
       "      <td>0</td>\n",
       "      <td>0</td>\n",
       "      <td>0</td>\n",
       "      <td>0</td>\n",
       "      <td>126.967750</td>\n",
       "      <td>37.568408</td>\n",
       "    </tr>\n",
       "    <tr>\n",
       "      <th>3</th>\n",
       "      <td>JDQ4MTg4MSM1MSMkMSMkMCMkODkkMzgxMzUxIzExIyQxIy...</td>\n",
       "      <td>건국대학교병원</td>\n",
       "      <td>1</td>\n",
       "      <td>상급종합</td>\n",
       "      <td>110000</td>\n",
       "      <td>서울</td>\n",
       "      <td>110023</td>\n",
       "      <td>광진구</td>\n",
       "      <td>NaN</td>\n",
       "      <td>5030.0</td>\n",
       "      <td>...</td>\n",
       "      <td>0</td>\n",
       "      <td>0</td>\n",
       "      <td>0</td>\n",
       "      <td>3</td>\n",
       "      <td>0</td>\n",
       "      <td>0</td>\n",
       "      <td>0</td>\n",
       "      <td>0</td>\n",
       "      <td>127.071828</td>\n",
       "      <td>37.540376</td>\n",
       "    </tr>\n",
       "    <tr>\n",
       "      <th>4</th>\n",
       "      <td>JDQ4MTYyMiM4MSMkMSMkMCMkODkkMzgxMzUxIzExIyQxIy...</td>\n",
       "      <td>경북대학교병원</td>\n",
       "      <td>1</td>\n",
       "      <td>상급종합</td>\n",
       "      <td>230000</td>\n",
       "      <td>대구</td>\n",
       "      <td>230006</td>\n",
       "      <td>대구중구</td>\n",
       "      <td>NaN</td>\n",
       "      <td>41944.0</td>\n",
       "      <td>...</td>\n",
       "      <td>0</td>\n",
       "      <td>0</td>\n",
       "      <td>0</td>\n",
       "      <td>1</td>\n",
       "      <td>0</td>\n",
       "      <td>0</td>\n",
       "      <td>0</td>\n",
       "      <td>0</td>\n",
       "      <td>128.604125</td>\n",
       "      <td>35.866774</td>\n",
       "    </tr>\n",
       "    <tr>\n",
       "      <th>5</th>\n",
       "      <td>JDQ4MTYyMiM4MSMkMSMkNCMkODkkMzgxMzUxIzExIyQxIy...</td>\n",
       "      <td>경상국립대학교병원</td>\n",
       "      <td>1</td>\n",
       "      <td>상급종합</td>\n",
       "      <td>380000</td>\n",
       "      <td>경남</td>\n",
       "      <td>380500</td>\n",
       "      <td>진주시</td>\n",
       "      <td>NaN</td>\n",
       "      <td>52727.0</td>\n",
       "      <td>...</td>\n",
       "      <td>1</td>\n",
       "      <td>0</td>\n",
       "      <td>0</td>\n",
       "      <td>1</td>\n",
       "      <td>0</td>\n",
       "      <td>0</td>\n",
       "      <td>0</td>\n",
       "      <td>0</td>\n",
       "      <td>128.095672</td>\n",
       "      <td>35.176325</td>\n",
       "    </tr>\n",
       "    <tr>\n",
       "      <th>6</th>\n",
       "      <td>JDQ4MTg4MSM1MSMkMSMkMCMkODkkMzgxMzUxIzExIyQxIy...</td>\n",
       "      <td>경희대학교병원</td>\n",
       "      <td>1</td>\n",
       "      <td>상급종합</td>\n",
       "      <td>110000</td>\n",
       "      <td>서울</td>\n",
       "      <td>110007</td>\n",
       "      <td>동대문구</td>\n",
       "      <td>NaN</td>\n",
       "      <td>2447.0</td>\n",
       "      <td>...</td>\n",
       "      <td>0</td>\n",
       "      <td>0</td>\n",
       "      <td>0</td>\n",
       "      <td>0</td>\n",
       "      <td>0</td>\n",
       "      <td>0</td>\n",
       "      <td>0</td>\n",
       "      <td>0</td>\n",
       "      <td>127.051852</td>\n",
       "      <td>37.594119</td>\n",
       "    </tr>\n",
       "    <tr>\n",
       "      <th>7</th>\n",
       "      <td>JDQ4MTYyMiM4MSMkMSMkMCMkODkkMzgxMzUxIzExIyQxIy...</td>\n",
       "      <td>계명대학교동산병원</td>\n",
       "      <td>1</td>\n",
       "      <td>상급종합</td>\n",
       "      <td>230000</td>\n",
       "      <td>대구</td>\n",
       "      <td>230007</td>\n",
       "      <td>대구달서구</td>\n",
       "      <td>NaN</td>\n",
       "      <td>42601.0</td>\n",
       "      <td>...</td>\n",
       "      <td>3</td>\n",
       "      <td>0</td>\n",
       "      <td>0</td>\n",
       "      <td>1</td>\n",
       "      <td>0</td>\n",
       "      <td>0</td>\n",
       "      <td>0</td>\n",
       "      <td>0</td>\n",
       "      <td>128.480131</td>\n",
       "      <td>35.853886</td>\n",
       "    </tr>\n",
       "    <tr>\n",
       "      <th>8</th>\n",
       "      <td>JDQ4MTg4MSM1MSMkMSMkMCMkODkkMzgxMzUxIzExIyQxIy...</td>\n",
       "      <td>고려대학교의과대학부속구로병원</td>\n",
       "      <td>1</td>\n",
       "      <td>상급종합</td>\n",
       "      <td>110000</td>\n",
       "      <td>서울</td>\n",
       "      <td>110005</td>\n",
       "      <td>구로구</td>\n",
       "      <td>NaN</td>\n",
       "      <td>8308.0</td>\n",
       "      <td>...</td>\n",
       "      <td>0</td>\n",
       "      <td>6</td>\n",
       "      <td>16</td>\n",
       "      <td>10</td>\n",
       "      <td>0</td>\n",
       "      <td>0</td>\n",
       "      <td>0</td>\n",
       "      <td>0</td>\n",
       "      <td>126.884870</td>\n",
       "      <td>37.492052</td>\n",
       "    </tr>\n",
       "    <tr>\n",
       "      <th>9</th>\n",
       "      <td>JDQ4MTYyMiM1MSMkMSMkMCMkODkkMzgxMzUxIzExIyQxIy...</td>\n",
       "      <td>고려대학교의과대학부속안산병원</td>\n",
       "      <td>1</td>\n",
       "      <td>상급종합</td>\n",
       "      <td>310000</td>\n",
       "      <td>경기</td>\n",
       "      <td>311101</td>\n",
       "      <td>안산단원구</td>\n",
       "      <td>NaN</td>\n",
       "      <td>15355.0</td>\n",
       "      <td>...</td>\n",
       "      <td>0</td>\n",
       "      <td>0</td>\n",
       "      <td>0</td>\n",
       "      <td>4</td>\n",
       "      <td>0</td>\n",
       "      <td>0</td>\n",
       "      <td>0</td>\n",
       "      <td>0</td>\n",
       "      <td>126.824903</td>\n",
       "      <td>37.318514</td>\n",
       "    </tr>\n",
       "  </tbody>\n",
       "</table>\n",
       "<p>10 rows × 28 columns</p>\n",
       "</div>"
      ],
      "text/plain": [
       "                                             암호화요양기호            요양기관명  종별코드  \\\n",
       "0  JDQ4MTYyMiM1MSMkMSMkMCMkODkkMzgxMzUxIzExIyQxIy...     가톨릭대학교인천성모병원     1   \n",
       "1  JDQ4MTYyMiM1MSMkMSMkNCMkODkkMzgxMzUxIzExIyQxIy...           강릉아산병원     1   \n",
       "2  JDQ4MTg4MSM1MSMkMSMkMCMkODkkMzgxMzUxIzExIyQxIy...           강북삼성병원     1   \n",
       "3  JDQ4MTg4MSM1MSMkMSMkMCMkODkkMzgxMzUxIzExIyQxIy...          건국대학교병원     1   \n",
       "4  JDQ4MTYyMiM4MSMkMSMkMCMkODkkMzgxMzUxIzExIyQxIy...          경북대학교병원     1   \n",
       "5  JDQ4MTYyMiM4MSMkMSMkNCMkODkkMzgxMzUxIzExIyQxIy...        경상국립대학교병원     1   \n",
       "6  JDQ4MTg4MSM1MSMkMSMkMCMkODkkMzgxMzUxIzExIyQxIy...          경희대학교병원     1   \n",
       "7  JDQ4MTYyMiM4MSMkMSMkMCMkODkkMzgxMzUxIzExIyQxIy...        계명대학교동산병원     1   \n",
       "8  JDQ4MTg4MSM1MSMkMSMkMCMkODkkMzgxMzUxIzExIyQxIy...  고려대학교의과대학부속구로병원     1   \n",
       "9  JDQ4MTYyMiM1MSMkMSMkMCMkODkkMzgxMzUxIzExIyQxIy...  고려대학교의과대학부속안산병원     1   \n",
       "\n",
       "  종별코드명    시도코드 시도코드명   시군구코드 시군구코드명  읍면동     우편번호  ... 치과일반의 인원수 치과인턴 인원수  \\\n",
       "0  상급종합  220000    인천  220003  인천부평구  NaN      NaN  ...         1        0   \n",
       "1  상급종합  320000    강원  320100    강릉시  NaN  25440.0  ...         0        0   \n",
       "2  상급종합  110000    서울  110016    종로구  NaN   3181.0  ...         3        0   \n",
       "3  상급종합  110000    서울  110023    광진구  NaN   5030.0  ...         0        0   \n",
       "4  상급종합  230000    대구  230006   대구중구  NaN  41944.0  ...         0        0   \n",
       "5  상급종합  380000    경남  380500    진주시  NaN  52727.0  ...         1        0   \n",
       "6  상급종합  110000    서울  110007   동대문구  NaN   2447.0  ...         0        0   \n",
       "7  상급종합  230000    대구  230007  대구달서구  NaN  42601.0  ...         3        0   \n",
       "8  상급종합  110000    서울  110005    구로구  NaN   8308.0  ...         0        6   \n",
       "9  상급종합  310000    경기  311101  안산단원구  NaN  15355.0  ...         0        0   \n",
       "\n",
       "  치과레지던트 인원수  치과전문의 인원수  한방일반의 인원수  한방인턴 인원수  한방레지던트 인원수  한방전문의 인원수  \\\n",
       "0          0          2          0         0           0          0   \n",
       "1          0          2          0         0           0          0   \n",
       "2          0          5          0         0           0          0   \n",
       "3          0          3          0         0           0          0   \n",
       "4          0          1          0         0           0          0   \n",
       "5          0          1          0         0           0          0   \n",
       "6          0          0          0         0           0          0   \n",
       "7          0          1          0         0           0          0   \n",
       "8         16         10          0         0           0          0   \n",
       "9          0          4          0         0           0          0   \n",
       "\n",
       "        좌표(X)      좌표(Y)  \n",
       "0  126.724899  37.484831  \n",
       "1  128.857841  37.818433  \n",
       "2  126.967750  37.568408  \n",
       "3  127.071828  37.540376  \n",
       "4  128.604125  35.866774  \n",
       "5  128.095672  35.176325  \n",
       "6  127.051852  37.594119  \n",
       "7  128.480131  35.853886  \n",
       "8  126.884870  37.492052  \n",
       "9  126.824903  37.318514  \n",
       "\n",
       "[10 rows x 28 columns]"
      ]
     },
     "execution_count": 203,
     "metadata": {},
     "output_type": "execute_result"
    }
   ],
   "source": [
    "# 상위 10개 데이터를 출력합니다.\n",
    "hos_all.head(10)"
   ]
  },
  {
   "cell_type": "code",
   "execution_count": 204,
   "id": "cfeb1163",
   "metadata": {},
   "outputs": [
    {
     "name": "stdout",
     "output_type": "stream",
     "text": [
      "<class 'pandas.core.frame.DataFrame'>\n",
      "RangeIndex: 76032 entries, 0 to 76031\n",
      "Data columns (total 28 columns):\n",
      " #   Column      Non-Null Count  Dtype  \n",
      "---  ------      --------------  -----  \n",
      " 0   암호화요양기호     76032 non-null  object \n",
      " 1   요양기관명       76032 non-null  object \n",
      " 2   종별코드        76032 non-null  int64  \n",
      " 3   종별코드명       76032 non-null  object \n",
      " 4   시도코드        76032 non-null  int64  \n",
      " 5   시도코드명       76032 non-null  object \n",
      " 6   시군구코드       76032 non-null  int64  \n",
      " 7   시군구코드명      76032 non-null  object \n",
      " 8   읍면동         27806 non-null  object \n",
      " 9   우편번호        76031 non-null  float64\n",
      " 10  주소          76032 non-null  object \n",
      " 11  병원홈페이지      8879 non-null   object \n",
      " 12  개설일자        76025 non-null  object \n",
      " 13  총의사수        76032 non-null  int64  \n",
      " 14  의과일반의 인원수   76032 non-null  int64  \n",
      " 15  의과인턴 인원수    76032 non-null  int64  \n",
      " 16  의과레지던트 인원수  76032 non-null  int64  \n",
      " 17  의과전문의 인원수   76032 non-null  int64  \n",
      " 18  치과일반의 인원수   76032 non-null  int64  \n",
      " 19  치과인턴 인원수    76032 non-null  int64  \n",
      " 20  치과레지던트 인원수  76032 non-null  int64  \n",
      " 21  치과전문의 인원수   76032 non-null  int64  \n",
      " 22  한방일반의 인원수   76032 non-null  int64  \n",
      " 23  한방인턴 인원수    76032 non-null  int64  \n",
      " 24  한방레지던트 인원수  76032 non-null  int64  \n",
      " 25  한방전문의 인원수   76032 non-null  int64  \n",
      " 26  좌표(X)       75922 non-null  float64\n",
      " 27  좌표(Y)       75922 non-null  float64\n",
      "dtypes: float64(3), int64(16), object(9)\n",
      "memory usage: 16.2+ MB\n"
     ]
    }
   ],
   "source": [
    "# 병원 정보 데이터프레임 정보를 요약하여 출력합니다. \n",
    "hos_all.info()"
   ]
  },
  {
   "cell_type": "markdown",
   "id": "952b1fb7",
   "metadata": {},
   "source": [
    "# 2. 데이터 정제"
   ]
  },
  {
   "cell_type": "code",
   "execution_count": 205,
   "id": "48536268",
   "metadata": {},
   "outputs": [
    {
     "data": {
      "text/html": [
       "<div>\n",
       "<style scoped>\n",
       "    .dataframe tbody tr th:only-of-type {\n",
       "        vertical-align: middle;\n",
       "    }\n",
       "\n",
       "    .dataframe tbody tr th {\n",
       "        vertical-align: top;\n",
       "    }\n",
       "\n",
       "    .dataframe thead th {\n",
       "        text-align: right;\n",
       "    }\n",
       "</style>\n",
       "<table border=\"1\" class=\"dataframe\">\n",
       "  <thead>\n",
       "    <tr style=\"text-align: right;\">\n",
       "      <th></th>\n",
       "      <th>요양기관명</th>\n",
       "      <th>종별코드명</th>\n",
       "      <th>시도코드명</th>\n",
       "    </tr>\n",
       "  </thead>\n",
       "  <tbody>\n",
       "    <tr>\n",
       "      <th>0</th>\n",
       "      <td>가톨릭대학교인천성모병원</td>\n",
       "      <td>상급종합</td>\n",
       "      <td>인천</td>\n",
       "    </tr>\n",
       "    <tr>\n",
       "      <th>1</th>\n",
       "      <td>강릉아산병원</td>\n",
       "      <td>상급종합</td>\n",
       "      <td>강원</td>\n",
       "    </tr>\n",
       "    <tr>\n",
       "      <th>2</th>\n",
       "      <td>강북삼성병원</td>\n",
       "      <td>상급종합</td>\n",
       "      <td>서울</td>\n",
       "    </tr>\n",
       "    <tr>\n",
       "      <th>3</th>\n",
       "      <td>건국대학교병원</td>\n",
       "      <td>상급종합</td>\n",
       "      <td>서울</td>\n",
       "    </tr>\n",
       "    <tr>\n",
       "      <th>4</th>\n",
       "      <td>경북대학교병원</td>\n",
       "      <td>상급종합</td>\n",
       "      <td>대구</td>\n",
       "    </tr>\n",
       "    <tr>\n",
       "      <th>...</th>\n",
       "      <td>...</td>\n",
       "      <td>...</td>\n",
       "      <td>...</td>\n",
       "    </tr>\n",
       "    <tr>\n",
       "      <th>76027</th>\n",
       "      <td>힘나는한의원</td>\n",
       "      <td>한의원</td>\n",
       "      <td>경기</td>\n",
       "    </tr>\n",
       "    <tr>\n",
       "      <th>76028</th>\n",
       "      <td>힘내라한의원</td>\n",
       "      <td>한의원</td>\n",
       "      <td>서울</td>\n",
       "    </tr>\n",
       "    <tr>\n",
       "      <th>76029</th>\n",
       "      <td>힘찬걸음한의원</td>\n",
       "      <td>한의원</td>\n",
       "      <td>경기</td>\n",
       "    </tr>\n",
       "    <tr>\n",
       "      <th>76030</th>\n",
       "      <td>힘찬마디한의원</td>\n",
       "      <td>한의원</td>\n",
       "      <td>서울</td>\n",
       "    </tr>\n",
       "    <tr>\n",
       "      <th>76031</th>\n",
       "      <td>힘찬세상경희한의원</td>\n",
       "      <td>한의원</td>\n",
       "      <td>서울</td>\n",
       "    </tr>\n",
       "  </tbody>\n",
       "</table>\n",
       "<p>76032 rows × 3 columns</p>\n",
       "</div>"
      ],
      "text/plain": [
       "              요양기관명 종별코드명 시도코드명\n",
       "0      가톨릭대학교인천성모병원  상급종합    인천\n",
       "1            강릉아산병원  상급종합    강원\n",
       "2            강북삼성병원  상급종합    서울\n",
       "3           건국대학교병원  상급종합    서울\n",
       "4           경북대학교병원  상급종합    대구\n",
       "...             ...   ...   ...\n",
       "76027        힘나는한의원   한의원    경기\n",
       "76028        힘내라한의원   한의원    서울\n",
       "76029       힘찬걸음한의원   한의원    경기\n",
       "76030       힘찬마디한의원   한의원    서울\n",
       "76031     힘찬세상경희한의원   한의원    서울\n",
       "\n",
       "[76032 rows x 3 columns]"
      ]
     },
     "execution_count": 205,
     "metadata": {},
     "output_type": "execute_result"
    }
   ],
   "source": [
    "# 불필요한 컬럼 삭제\n",
    "hos_recent = hos_all.drop(columns={'암호화요양기호', '종별코드', '시도코드', '시군구코드', '시군구코드명', '읍면동', '우편번호' , '주소', '병원홈페이지', '개설일자', '총의사수', '의과일반의 인원수', '의과인턴 인원수', '의과레지던트 인원수', '의과전문의 인원수', '치과일반의 인원수', '치과인턴 인원수', '치과레지던트 인원수', '치과전문의 인원수', '한방일반의 인원수', '한방인턴 인원수', '한방레지던트 인원수', '한방전문의 인원수', '좌표(X)','좌표(Y)'})\n",
    "hos_recent"
   ]
  },
  {
   "cell_type": "markdown",
   "id": "be8c562f",
   "metadata": {},
   "source": [
    "### 2.1 Null값 확인하기"
   ]
  },
  {
   "cell_type": "code",
   "execution_count": 206,
   "id": "3f9fef23",
   "metadata": {},
   "outputs": [
    {
     "data": {
      "text/plain": [
       "요양기관명    0\n",
       "종별코드명    0\n",
       "시도코드명    0\n",
       "dtype: int64"
      ]
     },
     "execution_count": 206,
     "metadata": {},
     "output_type": "execute_result"
    }
   ],
   "source": [
    "hos_recent.isnull().sum()"
   ]
  },
  {
   "cell_type": "markdown",
   "id": "5e275fd0",
   "metadata": {},
   "source": [
    "### 2.2 열 이름 변경하기"
   ]
  },
  {
   "cell_type": "code",
   "execution_count": 207,
   "id": "ff2ad048",
   "metadata": {},
   "outputs": [],
   "source": [
    "hos_recent.rename(columns={'요양기관명':'이름'}, inplace=True)\n",
    "hos_recent.rename(columns={'종별코드명':'분류'}, inplace=True)\n",
    "hos_recent.rename(columns={'시도코드명':'지역'}, inplace=True)"
   ]
  },
  {
   "cell_type": "code",
   "execution_count": 208,
   "id": "d07d75cf",
   "metadata": {},
   "outputs": [
    {
     "name": "stdout",
     "output_type": "stream",
     "text": [
      "<class 'pandas.core.frame.DataFrame'>\n",
      "RangeIndex: 76032 entries, 0 to 76031\n",
      "Data columns (total 3 columns):\n",
      " #   Column  Non-Null Count  Dtype \n",
      "---  ------  --------------  ----- \n",
      " 0   이름      76032 non-null  object\n",
      " 1   분류      76032 non-null  object\n",
      " 2   지역      76032 non-null  object\n",
      "dtypes: object(3)\n",
      "memory usage: 1.7+ MB\n"
     ]
    }
   ],
   "source": [
    "hos_recent.info()"
   ]
  },
  {
   "cell_type": "code",
   "execution_count": 209,
   "id": "8136db5c",
   "metadata": {},
   "outputs": [
    {
     "data": {
      "text/plain": [
       "['강원',\n",
       " '경기',\n",
       " '경남',\n",
       " '경북',\n",
       " '광주',\n",
       " '대구',\n",
       " '대전',\n",
       " '부산',\n",
       " '서울',\n",
       " '세종시',\n",
       " '울산',\n",
       " '인천',\n",
       " '전남',\n",
       " '전북',\n",
       " '제주',\n",
       " '충남',\n",
       " '충북']"
      ]
     },
     "execution_count": 209,
     "metadata": {},
     "output_type": "execute_result"
    }
   ],
   "source": [
    "sorted(list(set(hos_recent['지역'])))"
   ]
  },
  {
   "cell_type": "code",
   "execution_count": 210,
   "id": "7f6435d5",
   "metadata": {},
   "outputs": [
    {
     "data": {
      "text/plain": [
       "['병원',\n",
       " '보건소',\n",
       " '보건의료원',\n",
       " '보건지소',\n",
       " '보건진료소',\n",
       " '상급종합',\n",
       " '요양병원',\n",
       " '의원',\n",
       " '정신병원',\n",
       " '조산원',\n",
       " '종합병원',\n",
       " '치과병원',\n",
       " '치과의원',\n",
       " '한방병원',\n",
       " '한의원']"
      ]
     },
     "execution_count": 210,
     "metadata": {},
     "output_type": "execute_result"
    }
   ],
   "source": [
    "sorted(list(set(hos_recent['분류'])))"
   ]
  },
  {
   "cell_type": "code",
   "execution_count": 211,
   "id": "9bb3d51f",
   "metadata": {},
   "outputs": [
    {
     "data": {
      "text/plain": [
       "지역\n",
       "강원      1938\n",
       "경기     16864\n",
       "경남      4203\n",
       "경북      3408\n",
       "광주      2265\n",
       "대구      3973\n",
       "대전      2335\n",
       "부산      5468\n",
       "서울     18601\n",
       "세종시      428\n",
       "울산      1413\n",
       "인천      3646\n",
       "전남      2630\n",
       "전북      2909\n",
       "제주      1008\n",
       "충남      2761\n",
       "충북      2182\n",
       "Name: 분류, dtype: int64"
      ]
     },
     "execution_count": 211,
     "metadata": {},
     "output_type": "execute_result"
    }
   ],
   "source": [
    "hos_recent.groupby(['지역']).count()['분류']"
   ]
  },
  {
   "cell_type": "code",
   "execution_count": 213,
   "id": "b5a60fde",
   "metadata": {},
   "outputs": [
    {
     "data": {
      "text/plain": [
       "분류\n",
       "병원        1403\n",
       "보건소        243\n",
       "보건의료원       15\n",
       "보건지소      1322\n",
       "보건진료소     1906\n",
       "상급종합        45\n",
       "요양병원      1447\n",
       "의원       34845\n",
       "정신병원       252\n",
       "조산원         15\n",
       "종합병원       327\n",
       "치과병원       237\n",
       "치과의원     18820\n",
       "한방병원       529\n",
       "한의원      14626\n",
       "Name: 지역, dtype: int64"
      ]
     },
     "execution_count": 213,
     "metadata": {},
     "output_type": "execute_result"
    }
   ],
   "source": [
    "hos_recent.groupby(['분류']).count()['지역']"
   ]
  },
  {
   "cell_type": "markdown",
   "id": "f8d08198",
   "metadata": {},
   "source": [
    "# 3. 데이터 시각화"
   ]
  },
  {
   "cell_type": "markdown",
   "id": "d33c4afc",
   "metadata": {},
   "source": [
    "### 3.1 지역별 전체 병원시설 수 알아보기"
   ]
  },
  {
   "cell_type": "code",
   "execution_count": 215,
   "id": "b2f081d1",
   "metadata": {},
   "outputs": [],
   "source": [
    "hos_강원 = hos_recent[hos_recent['지역'].str.startswith('강원')].copy().groupby(['지역']).count()['분류']\n",
    "hos_경기 = hos_recent[hos_recent['지역'].str.startswith('경기')].copy().groupby(['지역']).count()['분류']\n",
    "hos_경남 = hos_recent[hos_recent['지역'].str.startswith('경남')].copy().groupby(['지역']).count()['분류']\n",
    "hos_경북 = hos_recent[hos_recent['지역'].str.startswith('경북')].copy().groupby(['지역']).count()['분류']\n",
    "hos_광주 = hos_recent[hos_recent['지역'].str.startswith('광주')].copy().groupby(['지역']).count()['분류']\n",
    "hos_대구 = hos_recent[hos_recent['지역'].str.startswith('대구')].copy().groupby(['지역']).count()['분류']\n",
    "hos_대전 = hos_recent[hos_recent['지역'].str.startswith('대전')].copy().groupby(['지역']).count()['분류']\n",
    "hos_부산 = hos_recent[hos_recent['지역'].str.startswith('부산')].copy().groupby(['지역']).count()['분류']\n",
    "hos_서울 = hos_recent[hos_recent['지역'].str.startswith('서울')].copy().groupby(['지역']).count()['분류']\n",
    "hos_세종시 = hos_recent[hos_recent['지역'].str.startswith('세종시')].copy().groupby(['지역']).count()['분류']\n",
    "hos_울산 = hos_recent[hos_recent['지역'].str.startswith('울산')].copy().groupby(['지역']).count()['분류']\n",
    "hos_인천 = hos_recent[hos_recent['지역'].str.startswith('인천')].copy().groupby(['지역']).count()['분류']\n",
    "hos_전남 = hos_recent[hos_recent['지역'].str.startswith('전남')].copy().groupby(['지역']).count()['분류']\n",
    "hos_전북 = hos_recent[hos_recent['지역'].str.startswith('전북')].copy().groupby(['지역']).count()['분류']\n",
    "hos_제주 = hos_recent[hos_recent['지역'].str.startswith('제주')].copy().groupby(['지역']).count()['분류']\n",
    "hos_충북 = hos_recent[hos_recent['지역'].str.startswith('충북')].copy().groupby(['지역']).count()['분류']\n",
    "hos_충남 = hos_recent[hos_recent['지역'].str.startswith('충남')].copy().groupby(['지역']).count()['분류']"
   ]
  },
  {
   "cell_type": "code",
   "execution_count": 216,
   "id": "fd3c7822",
   "metadata": {},
   "outputs": [
    {
     "name": "stdout",
     "output_type": "stream",
     "text": [
      "1938\n",
      "16864\n",
      "4203\n",
      "3408\n",
      "2265\n",
      "3973\n",
      "2335\n",
      "5468\n",
      "18601\n",
      "428\n",
      "3646\n",
      "1413\n",
      "2630\n",
      "2909\n",
      "1008\n",
      "2182\n",
      "2761\n"
     ]
    }
   ],
   "source": [
    "print(hos_강원.sum())\n",
    "print(hos_경기.sum())\n",
    "print(hos_경남.sum())\n",
    "print(hos_경북.sum())\n",
    "print(hos_광주.sum())\n",
    "print(hos_대구.sum())\n",
    "print(hos_대전.sum())\n",
    "print(hos_부산.sum())\n",
    "print(hos_서울.sum())\n",
    "print(hos_세종시.sum())\n",
    "print(hos_인천.sum())\n",
    "print(hos_울산.sum())\n",
    "print(hos_전남.sum())\n",
    "print(hos_전북.sum())\n",
    "print(hos_제주.sum())\n",
    "print(hos_충북.sum())\n",
    "print(hos_충남.sum())"
   ]
  },
  {
   "cell_type": "code",
   "execution_count": 218,
   "id": "e41a9429",
   "metadata": {},
   "outputs": [],
   "source": [
    "hos_recent_1 = hos_recent.groupby(['지역']).count()['분류']"
   ]
  },
  {
   "cell_type": "code",
   "execution_count": 219,
   "id": "2eda96ad",
   "metadata": {},
   "outputs": [],
   "source": [
    "# 한글 폰트 설정 \n",
    "from matplotlib import font_manager, rc\n",
    "f_path = \"c:/Windows/Fonts/malgun.ttf\"\n",
    "font_name = font_manager.FontProperties(fname=f_path).get_name()\n",
    "rc('font', family=font_name)"
   ]
  },
  {
   "cell_type": "code",
   "execution_count": 220,
   "id": "0d2fd026",
   "metadata": {},
   "outputs": [
    {
     "data": {
      "text/plain": [
       "<Figure size 2000x1000 with 0 Axes>"
      ]
     },
     "metadata": {},
     "output_type": "display_data"
    },
    {
     "data": {
      "image/png": "[encoded data removed]",
      "text/plain": [
       "<Figure size 1500x500 with 1 Axes>"
      ]
     },
     "metadata": {},
     "output_type": "display_data"
    },
    {
     "data": {
      "image/png": "[encoded data removed]",
      "text/plain": [
       "<Figure size 1000x1000 with 4 Axes>"
      ]
     },
     "metadata": {},
     "output_type": "display_data"
    },
    {
     "data": {
      "image/png": "[encoded data removed]",
      "text/plain": [
       "<Figure size 1000x1000 with 4 Axes>"
      ]
     },
     "metadata": {},
     "output_type": "display_data"
    },
    {
     "data": {
      "image/png": "[encoded data removed]",
      "text/plain": [
       "<Figure size 1000x1000 with 4 Axes>"
      ]
     },
     "metadata": {},
     "output_type": "display_data"
    },
    {
     "data": {
      "image/png": "[encoded data removed]",
      "text/plain": [
       "<Figure size 1000x1000 with 4 Axes>"
      ]
     },
     "metadata": {},
     "output_type": "display_data"
    },
    {
     "data": {
      "image/png": "[encoded data removed]",
      "text/plain": [
       "<Figure size 1000x1000 with 1 Axes>"
      ]
     },
     "metadata": {},
     "output_type": "display_data"
    }
   ],
   "source": [
    "plt.figure(figsize=(20,10))\n",
    "\n",
    "plt.rcParams['axes.unicode_minus'] = False\n",
    "\n",
    "plt.figure(figsize=(15, 5))\n",
    "hos_recent_1.plot(kind='bar')\n",
    "plt.show()\n",
    "\n",
    "plt.figure(figsize=(10, 10))\n",
    "plt.subplot(2, 2, 1)\n",
    "hos_강원.plot(kind='bar', color='firebrick')\n",
    "plt.title('강원')\n",
    "plt.ylim([0, 20000])\n",
    "\n",
    "plt.subplot(2, 2, 2)\n",
    "hos_경기.plot(kind='bar', color='darkorange')\n",
    "plt.title('경기')\n",
    "plt.ylim([0, 20000])\n",
    "\n",
    "plt.subplot(2, 2, 3)\n",
    "hos_경남.plot(kind='bar', color='forestgreen')\n",
    "plt.title('경남')\n",
    "plt.ylim([0, 20000])\n",
    "\n",
    "plt.subplot(2, 2, 4)\n",
    "hos_경북.plot(kind='bar', color='royalblue')\n",
    "plt.title('경북')\n",
    "plt.ylim([0, 20000])\n",
    "\n",
    "plt.figure(figsize=(10, 10))\n",
    "plt.subplot(2, 2, 1)\n",
    "hos_광주.plot(kind='bar', color='firebrick')\n",
    "plt.title('광주')\n",
    "plt.ylim([0, 20000])\n",
    "\n",
    "plt.subplot(2, 2, 2)\n",
    "hos_대구.plot(kind='bar', color='darkorange')\n",
    "plt.title('대구')\n",
    "plt.ylim([0, 20000])\n",
    "\n",
    "plt.subplot(2, 2, 3)\n",
    "hos_대전.plot(kind='bar', color='forestgreen')\n",
    "plt.title('대전')\n",
    "plt.ylim([0, 20000])\n",
    "\n",
    "plt.subplot(2, 2, 4)\n",
    "hos_부산.plot(kind='bar', color='royalblue')\n",
    "plt.title('부산')\n",
    "plt.ylim([0, 20000])\n",
    "\n",
    "plt.figure(figsize=(10, 10))\n",
    "plt.subplot(2, 2, 1)\n",
    "hos_서울.plot(kind='bar', color='firebrick')\n",
    "plt.title('서울')\n",
    "plt.ylim([0, 20000])\n",
    "\n",
    "plt.subplot(2, 2, 2 )\n",
    "hos_세종시.plot(kind='bar', color='darkorange')\n",
    "plt.title('세종시')\n",
    "plt.ylim([0, 20000])\n",
    "\n",
    "plt.subplot(2, 2, 3)\n",
    "hos_인천.plot(kind='bar', color='forestgreen')\n",
    "plt.title('인천')\n",
    "plt.ylim([0, 20000])\n",
    "\n",
    "plt.subplot(2, 2, 4)\n",
    "hos_울산.plot(kind='bar', color='royalblue')\n",
    "plt.title('울산')\n",
    "plt.ylim([0, 20000])\n",
    "\n",
    "plt.figure(figsize=(10, 10))\n",
    "plt.subplot(2, 2, 1)\n",
    "hos_전남.plot(kind='bar', color='firebrick')\n",
    "plt.title('전남')\n",
    "plt.ylim([0, 20000])\n",
    "\n",
    "plt.subplot(2, 2, 2)\n",
    "hos_전북.plot(kind='bar', color='darkorange')\n",
    "plt.title('전북')\n",
    "plt.ylim([0, 20000])\n",
    "\n",
    "plt.subplot(2, 2, 3)\n",
    "hos_제주.plot(kind='bar', color='forestgreen')\n",
    "plt.title('제주')\n",
    "plt.ylim([0, 20000])\n",
    "\n",
    "plt.subplot(2, 2, 4)\n",
    "hos_충남.plot(kind='bar', color='royalblue')\n",
    "plt.title('충남')\n",
    "plt.ylim([0, 20000])\n",
    "\n",
    "plt.figure(figsize=(10, 10))\n",
    "plt.subplot(2, 2, 1)\n",
    "hos_충북.plot(kind='bar', color='royalblue')\n",
    "plt.title('충북')\n",
    "plt.ylim([0, 20000])\n",
    "\n",
    "plt.tight_layout()\n",
    "plt.show()"
   ]
  },
  {
   "cell_type": "markdown",
   "id": "59e1ef7f",
   "metadata": {},
   "source": [
    "<br>\n",
    "- 그래프를 봤을 때 전체적인 의료 시설이 경기, 서울 지역에 많이 있는 것을 볼 수 있고, 다른 지역들과 수의 차이가 큰 것을 볼 수 있다.<br>\n",
    "- 그래프로 유추해봤을 때 병원급(병원, 종합병원, 상급병원) 이상의 의료시설 등도 경기, 서울 지역에 많이 있을 것 같다는 생각을 할 수 있다.<br>"
   ]
  },
  {
   "cell_type": "markdown",
   "id": "429e88d4",
   "metadata": {},
   "source": [
    "### 3.2 병원급 이상 시설의 수 알아보기"
   ]
  },
  {
   "cell_type": "code",
   "execution_count": 236,
   "id": "9cfb1403",
   "metadata": {},
   "outputs": [],
   "source": [
    "# 분류별로 지역에 따라 분리\n",
    "def classification(분류):\n",
    "  temp = hos_recent[hos_recent['분류'].str.startswith(분류)].groupby(['분류'])['지역'].value_counts()\n",
    "  return temp"
   ]
  },
  {
   "cell_type": "code",
   "execution_count": 224,
   "id": "61c66513",
   "metadata": {},
   "outputs": [
    {
     "name": "stdout",
     "output_type": "stream",
     "text": [
      "지역  강원   경기   경남  경북  광주  대구  대전   부산   서울  세종시  울산  인천  전남  전북  제주  충남  충북\n",
      "분류                                                                         \n",
      "병원  37  276  132  55  86  91  47  140  224    1  32  59  73  62   7  44  37\n",
      "지역    강원  경기  경남  광주  대구  대전  부산  서울  울산  인천  전남  전북  충남  충북\n",
      "분류                                                          \n",
      "상급종합   2   5   3   2   5   1   3  14   1   3   1   2   2   1\n",
      "지역    강원  경기  경남  경북  광주  대구  대전  부산  서울  세종시  울산  인천  전남  전북  제주  충남  충북\n",
      "분류                                                                       \n",
      "종합병원  13  67  23  20  22  13   9  25  42    2   8  17  25  12   6  11  12\n"
     ]
    }
   ],
   "source": [
    "hos_병원_class = classification('병원').unstack()\n",
    "hos_상급종합_class = classification('상급종합').unstack()\n",
    "hos_종합병원_class = classification('종합병원').unstack()\n",
    "\n",
    "print(hos_병원_class)\n",
    "print(hos_상급종합_class)\n",
    "print(hos_종합병원_class)"
   ]
  },
  {
   "cell_type": "markdown",
   "id": "0ae12969",
   "metadata": {},
   "source": [
    "### 3.2.1 NaN값 및 Index 채우기"
   ]
  },
  {
   "cell_type": "code",
   "execution_count": 225,
   "id": "ed5b442a",
   "metadata": {},
   "outputs": [],
   "source": [
    "hos_병원_class = hos_병원_class.fillna(0.0)\n",
    "hos_종합병원_class = hos_종합병원_class.fillna(0.0)\n",
    "hos_상급종합_class = hos_상급종합_class.fillna(0.0)"
   ]
  },
  {
   "cell_type": "code",
   "execution_count": 226,
   "id": "5d64e40e",
   "metadata": {},
   "outputs": [
    {
     "data": {
      "text/html": [
       "<div>\n",
       "<style scoped>\n",
       "    .dataframe tbody tr th:only-of-type {\n",
       "        vertical-align: middle;\n",
       "    }\n",
       "\n",
       "    .dataframe tbody tr th {\n",
       "        vertical-align: top;\n",
       "    }\n",
       "\n",
       "    .dataframe thead th {\n",
       "        text-align: right;\n",
       "    }\n",
       "</style>\n",
       "<table border=\"1\" class=\"dataframe\">\n",
       "  <thead>\n",
       "    <tr style=\"text-align: right;\">\n",
       "      <th>지역</th>\n",
       "      <th>강원</th>\n",
       "      <th>경기</th>\n",
       "      <th>경남</th>\n",
       "      <th>경북</th>\n",
       "      <th>광주</th>\n",
       "      <th>대구</th>\n",
       "      <th>대전</th>\n",
       "      <th>부산</th>\n",
       "      <th>서울</th>\n",
       "      <th>세종시</th>\n",
       "      <th>울산</th>\n",
       "      <th>인천</th>\n",
       "      <th>전남</th>\n",
       "      <th>전북</th>\n",
       "      <th>제주</th>\n",
       "      <th>충남</th>\n",
       "      <th>충북</th>\n",
       "    </tr>\n",
       "    <tr>\n",
       "      <th>분류</th>\n",
       "      <th></th>\n",
       "      <th></th>\n",
       "      <th></th>\n",
       "      <th></th>\n",
       "      <th></th>\n",
       "      <th></th>\n",
       "      <th></th>\n",
       "      <th></th>\n",
       "      <th></th>\n",
       "      <th></th>\n",
       "      <th></th>\n",
       "      <th></th>\n",
       "      <th></th>\n",
       "      <th></th>\n",
       "      <th></th>\n",
       "      <th></th>\n",
       "      <th></th>\n",
       "    </tr>\n",
       "  </thead>\n",
       "  <tbody>\n",
       "    <tr>\n",
       "      <th>병원</th>\n",
       "      <td>37</td>\n",
       "      <td>276</td>\n",
       "      <td>132</td>\n",
       "      <td>55</td>\n",
       "      <td>86</td>\n",
       "      <td>91</td>\n",
       "      <td>47</td>\n",
       "      <td>140</td>\n",
       "      <td>224</td>\n",
       "      <td>1</td>\n",
       "      <td>32</td>\n",
       "      <td>59</td>\n",
       "      <td>73</td>\n",
       "      <td>62</td>\n",
       "      <td>7</td>\n",
       "      <td>44</td>\n",
       "      <td>37</td>\n",
       "    </tr>\n",
       "  </tbody>\n",
       "</table>\n",
       "</div>"
      ],
      "text/plain": [
       "지역  강원   경기   경남  경북  광주  대구  대전   부산   서울  세종시  울산  인천  전남  전북  제주  충남  충북\n",
       "분류                                                                         \n",
       "병원  37  276  132  55  86  91  47  140  224    1  32  59  73  62   7  44  37"
      ]
     },
     "execution_count": 226,
     "metadata": {},
     "output_type": "execute_result"
    }
   ],
   "source": [
    "hos_병원_class"
   ]
  },
  {
   "cell_type": "code",
   "execution_count": 227,
   "id": "2a825867",
   "metadata": {},
   "outputs": [
    {
     "data": {
      "text/html": [
       "<div>\n",
       "<style scoped>\n",
       "    .dataframe tbody tr th:only-of-type {\n",
       "        vertical-align: middle;\n",
       "    }\n",
       "\n",
       "    .dataframe tbody tr th {\n",
       "        vertical-align: top;\n",
       "    }\n",
       "\n",
       "    .dataframe thead th {\n",
       "        text-align: right;\n",
       "    }\n",
       "</style>\n",
       "<table border=\"1\" class=\"dataframe\">\n",
       "  <thead>\n",
       "    <tr style=\"text-align: right;\">\n",
       "      <th>지역</th>\n",
       "      <th>강원</th>\n",
       "      <th>경기</th>\n",
       "      <th>경남</th>\n",
       "      <th>경북</th>\n",
       "      <th>광주</th>\n",
       "      <th>대구</th>\n",
       "      <th>대전</th>\n",
       "      <th>부산</th>\n",
       "      <th>서울</th>\n",
       "      <th>세종시</th>\n",
       "      <th>울산</th>\n",
       "      <th>인천</th>\n",
       "      <th>전남</th>\n",
       "      <th>전북</th>\n",
       "      <th>제주</th>\n",
       "      <th>충남</th>\n",
       "      <th>충북</th>\n",
       "    </tr>\n",
       "    <tr>\n",
       "      <th>분류</th>\n",
       "      <th></th>\n",
       "      <th></th>\n",
       "      <th></th>\n",
       "      <th></th>\n",
       "      <th></th>\n",
       "      <th></th>\n",
       "      <th></th>\n",
       "      <th></th>\n",
       "      <th></th>\n",
       "      <th></th>\n",
       "      <th></th>\n",
       "      <th></th>\n",
       "      <th></th>\n",
       "      <th></th>\n",
       "      <th></th>\n",
       "      <th></th>\n",
       "      <th></th>\n",
       "    </tr>\n",
       "  </thead>\n",
       "  <tbody>\n",
       "    <tr>\n",
       "      <th>종합병원</th>\n",
       "      <td>13</td>\n",
       "      <td>67</td>\n",
       "      <td>23</td>\n",
       "      <td>20</td>\n",
       "      <td>22</td>\n",
       "      <td>13</td>\n",
       "      <td>9</td>\n",
       "      <td>25</td>\n",
       "      <td>42</td>\n",
       "      <td>2</td>\n",
       "      <td>8</td>\n",
       "      <td>17</td>\n",
       "      <td>25</td>\n",
       "      <td>12</td>\n",
       "      <td>6</td>\n",
       "      <td>11</td>\n",
       "      <td>12</td>\n",
       "    </tr>\n",
       "  </tbody>\n",
       "</table>\n",
       "</div>"
      ],
      "text/plain": [
       "지역    강원  경기  경남  경북  광주  대구  대전  부산  서울  세종시  울산  인천  전남  전북  제주  충남  충북\n",
       "분류                                                                       \n",
       "종합병원  13  67  23  20  22  13   9  25  42    2   8  17  25  12   6  11  12"
      ]
     },
     "execution_count": 227,
     "metadata": {},
     "output_type": "execute_result"
    }
   ],
   "source": [
    "hos_종합병원_class"
   ]
  },
  {
   "cell_type": "code",
   "execution_count": 228,
   "id": "32d4127f",
   "metadata": {},
   "outputs": [
    {
     "data": {
      "text/html": [
       "<div>\n",
       "<style scoped>\n",
       "    .dataframe tbody tr th:only-of-type {\n",
       "        vertical-align: middle;\n",
       "    }\n",
       "\n",
       "    .dataframe tbody tr th {\n",
       "        vertical-align: top;\n",
       "    }\n",
       "\n",
       "    .dataframe thead th {\n",
       "        text-align: right;\n",
       "    }\n",
       "</style>\n",
       "<table border=\"1\" class=\"dataframe\">\n",
       "  <thead>\n",
       "    <tr style=\"text-align: right;\">\n",
       "      <th>지역</th>\n",
       "      <th>강원</th>\n",
       "      <th>경기</th>\n",
       "      <th>경남</th>\n",
       "      <th>광주</th>\n",
       "      <th>대구</th>\n",
       "      <th>대전</th>\n",
       "      <th>부산</th>\n",
       "      <th>서울</th>\n",
       "      <th>울산</th>\n",
       "      <th>인천</th>\n",
       "      <th>전남</th>\n",
       "      <th>전북</th>\n",
       "      <th>충남</th>\n",
       "      <th>충북</th>\n",
       "    </tr>\n",
       "    <tr>\n",
       "      <th>분류</th>\n",
       "      <th></th>\n",
       "      <th></th>\n",
       "      <th></th>\n",
       "      <th></th>\n",
       "      <th></th>\n",
       "      <th></th>\n",
       "      <th></th>\n",
       "      <th></th>\n",
       "      <th></th>\n",
       "      <th></th>\n",
       "      <th></th>\n",
       "      <th></th>\n",
       "      <th></th>\n",
       "      <th></th>\n",
       "    </tr>\n",
       "  </thead>\n",
       "  <tbody>\n",
       "    <tr>\n",
       "      <th>상급종합</th>\n",
       "      <td>2</td>\n",
       "      <td>5</td>\n",
       "      <td>3</td>\n",
       "      <td>2</td>\n",
       "      <td>5</td>\n",
       "      <td>1</td>\n",
       "      <td>3</td>\n",
       "      <td>14</td>\n",
       "      <td>1</td>\n",
       "      <td>3</td>\n",
       "      <td>1</td>\n",
       "      <td>2</td>\n",
       "      <td>2</td>\n",
       "      <td>1</td>\n",
       "    </tr>\n",
       "  </tbody>\n",
       "</table>\n",
       "</div>"
      ],
      "text/plain": [
       "지역    강원  경기  경남  광주  대구  대전  부산  서울  울산  인천  전남  전북  충남  충북\n",
       "분류                                                          \n",
       "상급종합   2   5   3   2   5   1   3  14   1   3   1   2   2   1"
      ]
     },
     "execution_count": 228,
     "metadata": {},
     "output_type": "execute_result"
    }
   ],
   "source": [
    "hos_상급종합_class"
   ]
  },
  {
   "cell_type": "code",
   "execution_count": 229,
   "id": "34d23528",
   "metadata": {},
   "outputs": [],
   "source": [
    "#빈 열 추가\n",
    "hos_상급종합_class.insert(3, '경북', 0, allow_duplicates=False)\n",
    "hos_상급종합_class.insert(9, '세종시', 0, allow_duplicates=False)\n",
    "hos_상급종합_class.insert(14, '제주', 0, allow_duplicates=False)"
   ]
  },
  {
   "cell_type": "code",
   "execution_count": 230,
   "id": "4df58e2c",
   "metadata": {},
   "outputs": [
    {
     "data": {
      "text/html": [
       "<div>\n",
       "<style scoped>\n",
       "    .dataframe tbody tr th:only-of-type {\n",
       "        vertical-align: middle;\n",
       "    }\n",
       "\n",
       "    .dataframe tbody tr th {\n",
       "        vertical-align: top;\n",
       "    }\n",
       "\n",
       "    .dataframe thead th {\n",
       "        text-align: right;\n",
       "    }\n",
       "</style>\n",
       "<table border=\"1\" class=\"dataframe\">\n",
       "  <thead>\n",
       "    <tr style=\"text-align: right;\">\n",
       "      <th>지역</th>\n",
       "      <th>강원</th>\n",
       "      <th>경기</th>\n",
       "      <th>경남</th>\n",
       "      <th>경북</th>\n",
       "      <th>광주</th>\n",
       "      <th>대구</th>\n",
       "      <th>대전</th>\n",
       "      <th>부산</th>\n",
       "      <th>서울</th>\n",
       "      <th>세종시</th>\n",
       "      <th>울산</th>\n",
       "      <th>인천</th>\n",
       "      <th>전남</th>\n",
       "      <th>전북</th>\n",
       "      <th>제주</th>\n",
       "      <th>충남</th>\n",
       "      <th>충북</th>\n",
       "    </tr>\n",
       "    <tr>\n",
       "      <th>분류</th>\n",
       "      <th></th>\n",
       "      <th></th>\n",
       "      <th></th>\n",
       "      <th></th>\n",
       "      <th></th>\n",
       "      <th></th>\n",
       "      <th></th>\n",
       "      <th></th>\n",
       "      <th></th>\n",
       "      <th></th>\n",
       "      <th></th>\n",
       "      <th></th>\n",
       "      <th></th>\n",
       "      <th></th>\n",
       "      <th></th>\n",
       "      <th></th>\n",
       "      <th></th>\n",
       "    </tr>\n",
       "  </thead>\n",
       "  <tbody>\n",
       "    <tr>\n",
       "      <th>상급종합</th>\n",
       "      <td>2</td>\n",
       "      <td>5</td>\n",
       "      <td>3</td>\n",
       "      <td>0</td>\n",
       "      <td>2</td>\n",
       "      <td>5</td>\n",
       "      <td>1</td>\n",
       "      <td>3</td>\n",
       "      <td>14</td>\n",
       "      <td>0</td>\n",
       "      <td>1</td>\n",
       "      <td>3</td>\n",
       "      <td>1</td>\n",
       "      <td>2</td>\n",
       "      <td>0</td>\n",
       "      <td>2</td>\n",
       "      <td>1</td>\n",
       "    </tr>\n",
       "  </tbody>\n",
       "</table>\n",
       "</div>"
      ],
      "text/plain": [
       "지역    강원  경기  경남  경북  광주  대구  대전  부산  서울  세종시  울산  인천  전남  전북  제주  충남  충북\n",
       "분류                                                                       \n",
       "상급종합   2   5   3   0   2   5   1   3  14    0   1   3   1   2   0   2   1"
      ]
     },
     "execution_count": 230,
     "metadata": {},
     "output_type": "execute_result"
    }
   ],
   "source": [
    "hos_상급종합_class"
   ]
  },
  {
   "cell_type": "code",
   "execution_count": 232,
   "id": "dbd24a42",
   "metadata": {},
   "outputs": [],
   "source": [
    "# 종류마다 지역 groupby\n",
    "hos_recent_1 = dict(hos_recent[hos_recent['분류']=='병원'].copy().groupby('지역').count()['이름'])\n",
    "hos_recent_2 = dict(hos_recent[hos_recent['분류']=='종합병원'].copy().groupby('지역').count()['이름'])\n",
    "hos_recent_3 = dict(hos_recent[hos_recent['분류']=='상급종합'].copy().groupby('지역').count()['이름'])\n",
    "\n",
    "# print(len(hos_recent_3))"
   ]
  },
  {
   "cell_type": "code",
   "execution_count": 233,
   "id": "17d8d66b",
   "metadata": {},
   "outputs": [
    {
     "name": "stdout",
     "output_type": "stream",
     "text": [
      "['강원', '경기', '경남', '경북', '광주', '대구', '대전', '부산', '서울', '세종시', '울산', '인천', '전남', '전북', '제주', '충남', '충북']\n"
     ]
    }
   ],
   "source": [
    "x = ['강원', '경기', '경남', '경북', '광주', '대구', '대전', '부산', '서울', '세종시', '울산', '인천', '전남', '전북', '제주', '충남', '충북']\n",
    "\n",
    "print(x)"
   ]
  },
  {
   "cell_type": "code",
   "execution_count": 234,
   "id": "a88774d1",
   "metadata": {},
   "outputs": [],
   "source": [
    "# key 정렬\n",
    "hos_recent_1 = dict(sorted(hos_recent_1.items()))\n",
    "hos_recent_2 = dict(sorted(hos_recent_2.items()))\n",
    "hos_recent_3 = dict(sorted(hos_상급종합_class.items()))"
   ]
  },
  {
   "cell_type": "code",
   "execution_count": 235,
   "id": "b1b4f13d",
   "metadata": {},
   "outputs": [
    {
     "data": {
      "image/png": "[encoded data removed]",
      "text/plain": [
       "<Figure size 2000x1000 with 1 Axes>"
      ]
     },
     "metadata": {},
     "output_type": "display_data"
    }
   ],
   "source": [
    "plt.figure(figsize=(20,10))\n",
    "plt.rcParams['axes.unicode_minus'] = False\n",
    "\n",
    "plt.plot(x, list(hos_recent_1.values()), color='firebrick')\n",
    "plt.plot(x, list(hos_recent_2.values()), color='green')\n",
    "plt.plot(x, list(hos_recent_3.values()), color='navy')\n",
    "plt.xticks(rotation=45)\n",
    "plt.legend(['병원', '종합병원', '상급종합'])\n",
    "\n",
    "\n",
    "plt.show()"
   ]
  },
  {
   "cell_type": "markdown",
   "id": "be597076",
   "metadata": {},
   "source": [
    "<br>\n",
    "- 병원급 이상 시설 수 그래프를 보았을 때도 다른 지역들 보다 경기, 서울 지역에서 병원 수가 현저히 많은 것을 볼 수 있다.<br>\n",
    "- 따라서 나머지 (병원급이 아닌) 시설들 또한 경기, 서울 지역에 현저히 수가 많을 것이라고 유추할 수 있다.<br>\n",
    "- 상급종합의 경우 경북, 세종시, 제주에는 시설이 하나도 없는 것을 알 수 있다.<br>\n",
    "<br>"
   ]
  },
  {
   "cell_type": "markdown",
   "id": "619af06a",
   "metadata": {},
   "source": [
    "# 4. 프로젝트 발전 가능성<br>\n",
    "- 프로젝트를 바탕으로 하여 정보를 알림으로써 국민들이 지역 의료 불균형에 대해 관심을 가질 수 있고, 이에 대한 개선의 필요성을 느낄 수 있을 것입니다.<br>\n",
    "<br>\n",
    "- 도/광역시 뿐만 아니라 시, 읍면동 등 **지역을 좀 더 세분화** 한다면 지역간의 의료 불균형 뿐만 아니라 도시 안에서의 의료 불균형에 대해서도 주목하고 관심을 가질 수 있을 것입니다.<br>\n",
    "<br>\n",
    "- 이를 시작으로 하여 의료만이 아닌, 사각지대에 놓여진 다양한 공공서비스들에 대한 불균형들에 대해서도 알린다면 국민의 삶의 질을 높일 수 있을 것입니다.<br>\n",
    "<br>"
   ]
  },
  {
   "cell_type": "markdown",
   "id": "105f520e",
   "metadata": {},
   "source": [
    "# 5. 프로젝트 후기<br>\n",
    "- 항목들을 좀 더 세분화 하여 데이터 시각화 처리를 하고 싶었고, 데이터 처리를 함에 있어 부족한 부분들이 있는데 이것들을 아직 해결하지 못하여 아쉽다.<br>\n",
    "<br>\n",
    "- 그래프를 만들 때 한글이 자꾸 깨지고 x값, y값의 크기가 같지 않아 생기는 value error 등이 있었다. 하지만 인터넷 검색과 스스로 생각하여 여러 시도를 하다보니 이러한 오류들을 해결을 할 수 있었다. 이를 통해 스스로 해결해 나갈 수 있다는 자신감을 얻었다.<br>\n",
    "<br>\n",
    "- 부족하지만 한 프로젝트를 혼자 만들어냈다는 것이 자랑스럽고 앞으로 더욱 다양한 데이터를 활용하여 사람들에게 도움이 되는 프로젝트를 만들어보고 싶다.<br>"
   ]
  }
 ],
 "metadata": {
  "kernelspec": {
   "display_name": "Python 3 (ipykernel)",
   "language": "python",
   "name": "python3"
  },
  "language_info": {
   "codemirror_mode": {
    "name": "ipython",
    "version": 3
   },
   "file_extension": ".py",
   "mimetype": "text/x-python",
   "name": "python",
   "nbconvert_exporter": "python",
   "pygments_lexer": "ipython3",
   "version": "3.9.13"
  }
 },
 "nbformat": 4,
 "nbformat_minor": 5
}

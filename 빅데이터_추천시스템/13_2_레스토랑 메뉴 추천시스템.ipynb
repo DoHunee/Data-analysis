{
 "cells": [
  {
   "cell_type": "markdown",
   "metadata": {},
   "source": [
    "# 레스토랑 메뉴 추천시스템\n",
    "- 레스토랑 추천\n",
    "- 메뉴 추천"
   ]
  },
  {
   "cell_type": "code",
   "execution_count": 1,
   "metadata": {},
   "outputs": [],
   "source": [
    "from numpy import *\n",
    "from numpy import linalg as la"
   ]
  },
  {
   "cell_type": "code",
   "execution_count": 2,
   "metadata": {},
   "outputs": [],
   "source": [
    "def ecludSim(inA,inB):\n",
    "    return 1.0/(1.0 + la.norm(inA - inB))\n",
    "\n",
    "def pearsSim(inA,inB):\n",
    "    if len(inA) < 3 : return 1.0\n",
    "    return 0.5+0.5*corrcoef(inA, inB, rowvar = 0)[0][1]\n",
    "\n",
    "def cosSim(inA,inB):\n",
    "    num = float(inA.T*inB)\n",
    "    denom = la.norm(inA)*la.norm(inB)\n",
    "    return 0.5+0.5*(num/denom)"
   ]
  },
  {
   "cell_type": "markdown",
   "metadata": {},
   "source": [
    "## 1. 맛보지 않은 음식 추천하기\n",
    "- item-based Collaborative Filtering\n",
    "\n",
    "\n",
    "1. 사용자가 아직 점수를 매기지 않은 item (값이 0인 것)\n",
    "2. 위 1에 대해 예상 점수를 구함(item의 유사성 이용)\n",
    "3. 목록을 내림차순으로 정렬, N개의 item 추천"
   ]
  },
  {
   "cell_type": "code",
   "execution_count": 3,
   "metadata": {},
   "outputs": [],
   "source": [
    "def standEst(dataMat, user, simMeas, item):\n",
    "    n = shape(dataMat)[1]\n",
    "    simTotal = 0.0; ratSimTotal = 0.0\n",
    "    for j in range(n):\n",
    "        userRating = dataMat[user,j]\n",
    "        if userRating == 0: continue\n",
    "        # 두 사용자에 의해 점수가 매겨진 item 찾기, 0이 아닌 ([행], [열]) 배열\n",
    "        overLap = nonzero(logical_and(dataMat[:,item].A>0, dataMat[:,j].A>0))[0]\n",
    "        if len(overLap) == 0: similarity = 0\n",
    "        else: similarity = simMeas(dataMat[overLap,item], dataMat[overLap,j])\n",
    "        print('the %d and %d similarity is: %f' % (item, j, similarity))\n",
    "        simTotal += similarity\n",
    "        ratSimTotal += similarity * userRating\n",
    "    if simTotal == 0: return 0\n",
    "    else: return ratSimTotal/simTotal"
   ]
  },
  {
   "cell_type": "code",
   "execution_count": 4,
   "metadata": {},
   "outputs": [],
   "source": [
    "def recommend(dataMat, user, N=3, simMeas=cosSim, estMethod=standEst):\n",
    "    # 1. 점수를 매기지 않은 item 찾기\n",
    "    unratedItems = nonzero(dataMat[user,:].A==0)[1]\n",
    "    if len(unratedItems) == 0: return 'you rated everything'\n",
    "    itemScores = []\n",
    "    \n",
    "    # 2. 점수를 매기지 않은 item의 유사도\n",
    "    for item in unratedItems:\n",
    "        estimatedScore = estMethod(dataMat, user, simMeas, item)\n",
    "        itemScores.append((item, estimatedScore))\n",
    "    \n",
    "    return sorted(itemScores, key=lambda jj: jj[1], reverse=True)[:N]"
   ]
  },
  {
   "cell_type": "code",
   "execution_count": 5,
   "metadata": {},
   "outputs": [],
   "source": [
    "def loadExData():\n",
    "    return[[4, 4, 0, 2, 2],\n",
    "           [4, 0, 0, 3, 3],\n",
    "           [4, 0, 0, 1, 1],\n",
    "           [1, 1, 1, 2, 0],\n",
    "           [2, 2, 2, 0, 0],\n",
    "           [5, 5, 5, 0, 0],\n",
    "           [1, 1, 1, 0, 0]]"
   ]
  },
  {
   "cell_type": "code",
   "execution_count": 6,
   "metadata": {},
   "outputs": [],
   "source": [
    "myMat = mat(loadExData())"
   ]
  },
  {
   "cell_type": "code",
   "execution_count": 7,
   "metadata": {},
   "outputs": [
    {
     "name": "stdout",
     "output_type": "stream",
     "text": [
      "the 1 and 0 similarity is: 1.000000\n",
      "the 1 and 3 similarity is: 0.928746\n",
      "the 1 and 4 similarity is: 1.000000\n",
      "the 2 and 0 similarity is: 1.000000\n",
      "the 2 and 3 similarity is: 1.000000\n",
      "the 2 and 4 similarity is: 0.000000\n"
     ]
    },
    {
     "data": {
      "text/plain": [
       "[(2, 2.5), (1, 2.0243290220056256)]"
      ]
     },
     "execution_count": 7,
     "metadata": {},
     "output_type": "execute_result"
    }
   ],
   "source": [
    "import pdb\n",
    "recommend(myMat,2)"
   ]
  },
  {
   "cell_type": "markdown",
   "metadata": {},
   "source": [
    "## 2. SVD로 추천하기"
   ]
  },
  {
   "cell_type": "code",
   "execution_count": 14,
   "metadata": {},
   "outputs": [],
   "source": [
    "def loadExData2():\n",
    "    return[[2, 0, 0, 4, 4, 0, 0, 0, 0, 0, 0],\n",
    "           [0, 0, 0, 0, 0, 0, 0, 0, 0, 0, 5],\n",
    "           [0, 0, 0, 0, 0, 0, 0, 1, 0, 4, 0],\n",
    "           [3, 3, 4, 0, 3, 0, 0, 2, 2, 0, 0],\n",
    "           [5, 5, 5, 0, 0, 0, 0, 0, 0, 0, 0],\n",
    "           [0, 0, 0, 0, 0, 0, 5, 0, 0, 5, 0],\n",
    "           [4, 0, 4, 0, 0, 0, 0, 0, 0, 0, 5],\n",
    "           [0, 0, 0, 0, 0, 4, 0, 0, 0, 0, 4],\n",
    "           [0, 0, 0, 0, 0, 0, 5, 0, 0, 5, 0],\n",
    "           [0, 0, 0, 3, 0, 0, 0, 0, 4, 5, 0],\n",
    "           [1, 1, 2, 1, 1, 2, 1, 0, 4, 5, 0]]"
   ]
  },
  {
   "cell_type": "code",
   "execution_count": 15,
   "metadata": {},
   "outputs": [
    {
     "data": {
      "text/plain": [
       "matrix([[2, 0, 0, 4, 4, 0, 0, 0, 0, 0, 0],\n",
       "        [0, 0, 0, 0, 0, 0, 0, 0, 0, 0, 5],\n",
       "        [0, 0, 0, 0, 0, 0, 0, 1, 0, 4, 0],\n",
       "        [3, 3, 4, 0, 3, 0, 0, 2, 2, 0, 0],\n",
       "        [5, 5, 5, 0, 0, 0, 0, 0, 0, 0, 0],\n",
       "        [0, 0, 0, 0, 0, 0, 5, 0, 0, 5, 0],\n",
       "        [4, 0, 4, 0, 0, 0, 0, 0, 0, 0, 5],\n",
       "        [0, 0, 0, 0, 0, 4, 0, 0, 0, 0, 4],\n",
       "        [0, 0, 0, 0, 0, 0, 5, 0, 0, 5, 0],\n",
       "        [0, 0, 0, 3, 0, 0, 0, 0, 4, 5, 0],\n",
       "        [1, 1, 2, 1, 1, 2, 1, 0, 4, 5, 0]])"
      ]
     },
     "execution_count": 15,
     "metadata": {},
     "output_type": "execute_result"
    }
   ],
   "source": [
    "myMat2=mat(loadExData2())\n",
    "myMat2"
   ]
  },
  {
   "cell_type": "code",
   "execution_count": 16,
   "metadata": {},
   "outputs": [],
   "source": [
    "U,Sigma,VT=linalg.svd(myMat2)"
   ]
  },
  {
   "cell_type": "code",
   "execution_count": 17,
   "metadata": {},
   "outputs": [
    {
     "data": {
      "text/plain": [
       "array([1.34342819e+01, 1.18190832e+01, 8.20176076e+00, 6.86912480e+00,\n",
       "       5.29063022e+00, 3.91213561e+00, 2.94562509e+00, 2.35486137e+00,\n",
       "       2.08702082e+00, 7.08715931e-01, 1.36040486e-16])"
      ]
     },
     "execution_count": 17,
     "metadata": {},
     "output_type": "execute_result"
    }
   ],
   "source": [
    "Sigma"
   ]
  },
  {
   "cell_type": "markdown",
   "metadata": {},
   "source": [
    "- 전체 제곱 특이값의 합에서 90%까지 특이값 선정"
   ]
  },
  {
   "cell_type": "code",
   "execution_count": 18,
   "metadata": {},
   "outputs": [],
   "source": [
    "Sig2 = Sigma ** 2"
   ]
  },
  {
   "cell_type": "code",
   "execution_count": 19,
   "metadata": {},
   "outputs": [
    {
     "data": {
      "text/plain": [
       "497.0"
      ]
     },
     "execution_count": 19,
     "metadata": {},
     "output_type": "execute_result"
    }
   ],
   "source": [
    "sum(Sig2)"
   ]
  },
  {
   "cell_type": "code",
   "execution_count": 20,
   "metadata": {},
   "outputs": [
    {
     "data": {
      "text/plain": [
       "447.3"
      ]
     },
     "execution_count": 20,
     "metadata": {},
     "output_type": "execute_result"
    }
   ],
   "source": [
    "sum(Sig2)*.9"
   ]
  },
  {
   "cell_type": "code",
   "execution_count": 23,
   "metadata": {},
   "outputs": [
    {
     "data": {
      "text/plain": [
       "462.6151815287942"
      ]
     },
     "execution_count": 23,
     "metadata": {},
     "output_type": "execute_result"
    }
   ],
   "source": [
    "sum(Sig2[:5])"
   ]
  },
  {
   "cell_type": "code",
   "execution_count": 28,
   "metadata": {},
   "outputs": [],
   "source": [
    "def svdEst(dataMat, user, simMeas, item):\n",
    "    n = shape(dataMat)[1]\n",
    "    simTotal = 0.0; ratSimTotal = 0.0\n",
    "    U,Sigma,VT = la.svd(dataMat)\n",
    "    Sig5 = mat(eye(5)*Sigma[:5]) #arrange Sig5 into a diagonal matrix\n",
    "    xformedItems = dataMat.T * U[:,:5] * Sig5.I  #create transformed items\n",
    "    for j in range(n):\n",
    "        userRating = dataMat[user,j]\n",
    "        if userRating == 0 or j==item: continue\n",
    "        similarity = simMeas(xformedItems[item,:].T,\\\n",
    "                             xformedItems[j,:].T)\n",
    "        print('the %d and %d similarity is: %f' % (item, j, similarity))\n",
    "        simTotal += similarity\n",
    "        ratSimTotal += similarity * userRating\n",
    "    if simTotal == 0: return 0\n",
    "    else: return ratSimTotal/simTotal"
   ]
  },
  {
   "cell_type": "code",
   "execution_count": 29,
   "metadata": {},
   "outputs": [
    {
     "name": "stdout",
     "output_type": "stream",
     "text": [
      "the 0 and 7 similarity is: 0.858762\n",
      "the 0 and 9 similarity is: 0.443178\n",
      "the 1 and 7 similarity is: 0.912336\n",
      "the 1 and 9 similarity is: 0.509364\n",
      "the 2 and 7 similarity is: 0.871203\n",
      "the 2 and 9 similarity is: 0.516620\n",
      "the 3 and 7 similarity is: 0.631617\n",
      "the 3 and 9 similarity is: 0.548647\n",
      "the 4 and 7 similarity is: 0.686696\n",
      "the 4 and 9 similarity is: 0.448957\n",
      "the 5 and 7 similarity is: 0.422636\n",
      "the 5 and 9 similarity is: 0.647437\n",
      "the 6 and 7 similarity is: 0.418756\n",
      "the 6 and 9 similarity is: 0.724403\n",
      "the 8 and 7 similarity is: 0.728176\n",
      "the 8 and 9 similarity is: 0.738655\n",
      "the 10 and 7 similarity is: 0.320211\n",
      "the 10 and 9 similarity is: 0.489873\n"
     ]
    },
    {
     "data": {
      "text/plain": [
       "[(6, 2.9010549617145442), (5, 2.815120365684119), (10, 2.8141556010824655)]"
      ]
     },
     "execution_count": 29,
     "metadata": {},
     "output_type": "execute_result"
    }
   ],
   "source": [
    "recommend(myMat2,2,estMethod=svdEst)"
   ]
  },
  {
   "cell_type": "code",
   "execution_count": null,
   "metadata": {},
   "outputs": [],
   "source": []
  }
 ],
 "metadata": {
  "kernelspec": {
   "display_name": "Python 3",
   "language": "python",
   "name": "python3"
  },
  "language_info": {
   "codemirror_mode": {
    "name": "ipython",
    "version": 3
   },
   "file_extension": ".py",
   "mimetype": "text/x-python",
   "name": "python",
   "nbconvert_exporter": "python",
   "pygments_lexer": "ipython3",
   "version": "3.8.8"
  }
 },
 "nbformat": 4,
 "nbformat_minor": 4
}

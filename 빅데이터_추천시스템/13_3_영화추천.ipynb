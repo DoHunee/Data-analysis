{
 "cells": [
  {
   "cell_type": "markdown",
   "metadata": {},
   "source": [
    "# 영화 추천시스템"
   ]
  },
  {
   "cell_type": "markdown",
   "metadata": {},
   "source": [
    "### 라이브러리 및 데이터 불러오기"
   ]
  },
  {
   "cell_type": "code",
   "execution_count": 14,
   "metadata": {},
   "outputs": [],
   "source": [
    "import pandas as pd\n",
    "from numpy import *\n",
    "import numpy as np\n",
    "import matplotlib.pyplot as plt"
   ]
  },
  {
   "cell_type": "code",
   "execution_count": 1,
   "metadata": {},
   "outputs": [
    {
     "name": "stdout",
     "output_type": "stream",
     "text": [
      "   userId  movieId  rating   timestamp\n",
      "0       1       31     2.5  1260759144\n",
      "1       1     1029     3.0  1260759179\n",
      "2       1     1061     3.0  1260759182\n",
      "3       1     1129     2.0  1260759185\n",
      "4       1     1172     4.0  1260759205\n"
     ]
    }
   ],
   "source": [
    "ratings = pd.read_csv(\"ratings_small.csv\")\n",
    "print (ratings.head())"
   ]
  },
  {
   "cell_type": "code",
   "execution_count": 2,
   "metadata": {},
   "outputs": [
    {
     "name": "stdout",
     "output_type": "stream",
     "text": [
      "   movieId                               title  \\\n",
      "0        1                    Toy Story (1995)   \n",
      "1        2                      Jumanji (1995)   \n",
      "2        3             Grumpier Old Men (1995)   \n",
      "3        4            Waiting to Exhale (1995)   \n",
      "4        5  Father of the Bride Part II (1995)   \n",
      "\n",
      "                                        genres  \n",
      "0  Adventure|Animation|Children|Comedy|Fantasy  \n",
      "1                   Adventure|Children|Fantasy  \n",
      "2                               Comedy|Romance  \n",
      "3                         Comedy|Drama|Romance  \n",
      "4                                       Comedy  \n"
     ]
    }
   ],
   "source": [
    "movies = pd.read_csv(\"movies.csv\")\n",
    "print (movies.head())"
   ]
  },
  {
   "cell_type": "markdown",
   "metadata": {},
   "source": [
    "###  영화 평점과 이름 병합 "
   ]
  },
  {
   "cell_type": "code",
   "execution_count": 3,
   "metadata": {},
   "outputs": [],
   "source": [
    "ratings = pd.merge(ratings[['userId','movieId','rating']],\n",
    "                   movies[['movieId','title']], how='left',\n",
    "                   left_on ='movieId' ,right_on = 'movieId')"
   ]
  },
  {
   "cell_type": "code",
   "execution_count": 4,
   "metadata": {},
   "outputs": [],
   "source": [
    "rp = ratings.pivot_table(columns = ['movieId'],index = ['userId'],values = 'rating')\n",
    "rp = rp.fillna(0)"
   ]
  },
  {
   "cell_type": "code",
   "execution_count": 5,
   "metadata": {},
   "outputs": [
    {
     "data": {
      "text/html": [
       "<div>\n",
       "<style scoped>\n",
       "    .dataframe tbody tr th:only-of-type {\n",
       "        vertical-align: middle;\n",
       "    }\n",
       "\n",
       "    .dataframe tbody tr th {\n",
       "        vertical-align: top;\n",
       "    }\n",
       "\n",
       "    .dataframe thead th {\n",
       "        text-align: right;\n",
       "    }\n",
       "</style>\n",
       "<table border=\"1\" class=\"dataframe\">\n",
       "  <thead>\n",
       "    <tr style=\"text-align: right;\">\n",
       "      <th>movieId</th>\n",
       "      <th>1</th>\n",
       "      <th>2</th>\n",
       "      <th>3</th>\n",
       "      <th>4</th>\n",
       "      <th>5</th>\n",
       "      <th>6</th>\n",
       "      <th>7</th>\n",
       "      <th>8</th>\n",
       "      <th>9</th>\n",
       "      <th>10</th>\n",
       "      <th>...</th>\n",
       "      <th>160080</th>\n",
       "      <th>160271</th>\n",
       "      <th>160438</th>\n",
       "      <th>160563</th>\n",
       "      <th>160565</th>\n",
       "      <th>160567</th>\n",
       "      <th>160590</th>\n",
       "      <th>161155</th>\n",
       "      <th>161594</th>\n",
       "      <th>162376</th>\n",
       "    </tr>\n",
       "    <tr>\n",
       "      <th>userId</th>\n",
       "      <th></th>\n",
       "      <th></th>\n",
       "      <th></th>\n",
       "      <th></th>\n",
       "      <th></th>\n",
       "      <th></th>\n",
       "      <th></th>\n",
       "      <th></th>\n",
       "      <th></th>\n",
       "      <th></th>\n",
       "      <th></th>\n",
       "      <th></th>\n",
       "      <th></th>\n",
       "      <th></th>\n",
       "      <th></th>\n",
       "      <th></th>\n",
       "      <th></th>\n",
       "      <th></th>\n",
       "      <th></th>\n",
       "      <th></th>\n",
       "      <th></th>\n",
       "    </tr>\n",
       "  </thead>\n",
       "  <tbody>\n",
       "    <tr>\n",
       "      <th>1</th>\n",
       "      <td>0.0</td>\n",
       "      <td>0.0</td>\n",
       "      <td>0.0</td>\n",
       "      <td>0.0</td>\n",
       "      <td>0.0</td>\n",
       "      <td>0.0</td>\n",
       "      <td>0.0</td>\n",
       "      <td>0.0</td>\n",
       "      <td>0.0</td>\n",
       "      <td>0.0</td>\n",
       "      <td>...</td>\n",
       "      <td>0.0</td>\n",
       "      <td>0.0</td>\n",
       "      <td>0.0</td>\n",
       "      <td>0.0</td>\n",
       "      <td>0.0</td>\n",
       "      <td>0.0</td>\n",
       "      <td>0.0</td>\n",
       "      <td>0.0</td>\n",
       "      <td>0.0</td>\n",
       "      <td>0.0</td>\n",
       "    </tr>\n",
       "    <tr>\n",
       "      <th>2</th>\n",
       "      <td>0.0</td>\n",
       "      <td>0.0</td>\n",
       "      <td>0.0</td>\n",
       "      <td>0.0</td>\n",
       "      <td>0.0</td>\n",
       "      <td>0.0</td>\n",
       "      <td>0.0</td>\n",
       "      <td>0.0</td>\n",
       "      <td>0.0</td>\n",
       "      <td>4.0</td>\n",
       "      <td>...</td>\n",
       "      <td>0.0</td>\n",
       "      <td>0.0</td>\n",
       "      <td>0.0</td>\n",
       "      <td>0.0</td>\n",
       "      <td>0.0</td>\n",
       "      <td>0.0</td>\n",
       "      <td>0.0</td>\n",
       "      <td>0.0</td>\n",
       "      <td>0.0</td>\n",
       "      <td>0.0</td>\n",
       "    </tr>\n",
       "    <tr>\n",
       "      <th>3</th>\n",
       "      <td>0.0</td>\n",
       "      <td>0.0</td>\n",
       "      <td>0.0</td>\n",
       "      <td>0.0</td>\n",
       "      <td>0.0</td>\n",
       "      <td>0.0</td>\n",
       "      <td>0.0</td>\n",
       "      <td>0.0</td>\n",
       "      <td>0.0</td>\n",
       "      <td>0.0</td>\n",
       "      <td>...</td>\n",
       "      <td>0.0</td>\n",
       "      <td>0.0</td>\n",
       "      <td>0.0</td>\n",
       "      <td>0.0</td>\n",
       "      <td>0.0</td>\n",
       "      <td>0.0</td>\n",
       "      <td>0.0</td>\n",
       "      <td>0.0</td>\n",
       "      <td>0.0</td>\n",
       "      <td>0.0</td>\n",
       "    </tr>\n",
       "    <tr>\n",
       "      <th>4</th>\n",
       "      <td>0.0</td>\n",
       "      <td>0.0</td>\n",
       "      <td>0.0</td>\n",
       "      <td>0.0</td>\n",
       "      <td>0.0</td>\n",
       "      <td>0.0</td>\n",
       "      <td>0.0</td>\n",
       "      <td>0.0</td>\n",
       "      <td>0.0</td>\n",
       "      <td>4.0</td>\n",
       "      <td>...</td>\n",
       "      <td>0.0</td>\n",
       "      <td>0.0</td>\n",
       "      <td>0.0</td>\n",
       "      <td>0.0</td>\n",
       "      <td>0.0</td>\n",
       "      <td>0.0</td>\n",
       "      <td>0.0</td>\n",
       "      <td>0.0</td>\n",
       "      <td>0.0</td>\n",
       "      <td>0.0</td>\n",
       "    </tr>\n",
       "    <tr>\n",
       "      <th>5</th>\n",
       "      <td>0.0</td>\n",
       "      <td>0.0</td>\n",
       "      <td>4.0</td>\n",
       "      <td>0.0</td>\n",
       "      <td>0.0</td>\n",
       "      <td>0.0</td>\n",
       "      <td>0.0</td>\n",
       "      <td>0.0</td>\n",
       "      <td>0.0</td>\n",
       "      <td>0.0</td>\n",
       "      <td>...</td>\n",
       "      <td>0.0</td>\n",
       "      <td>0.0</td>\n",
       "      <td>0.0</td>\n",
       "      <td>0.0</td>\n",
       "      <td>0.0</td>\n",
       "      <td>0.0</td>\n",
       "      <td>0.0</td>\n",
       "      <td>0.0</td>\n",
       "      <td>0.0</td>\n",
       "      <td>0.0</td>\n",
       "    </tr>\n",
       "  </tbody>\n",
       "</table>\n",
       "<p>5 rows × 5411 columns</p>\n",
       "</div>"
      ],
      "text/plain": [
       "movieId  1       2       3       4       5       6       7       8       \\\n",
       "userId                                                                    \n",
       "1           0.0     0.0     0.0     0.0     0.0     0.0     0.0     0.0   \n",
       "2           0.0     0.0     0.0     0.0     0.0     0.0     0.0     0.0   \n",
       "3           0.0     0.0     0.0     0.0     0.0     0.0     0.0     0.0   \n",
       "4           0.0     0.0     0.0     0.0     0.0     0.0     0.0     0.0   \n",
       "5           0.0     0.0     4.0     0.0     0.0     0.0     0.0     0.0   \n",
       "\n",
       "movieId  9       10      ...  160080  160271  160438  160563  160565  160567  \\\n",
       "userId                   ...                                                   \n",
       "1           0.0     0.0  ...     0.0     0.0     0.0     0.0     0.0     0.0   \n",
       "2           0.0     4.0  ...     0.0     0.0     0.0     0.0     0.0     0.0   \n",
       "3           0.0     0.0  ...     0.0     0.0     0.0     0.0     0.0     0.0   \n",
       "4           0.0     4.0  ...     0.0     0.0     0.0     0.0     0.0     0.0   \n",
       "5           0.0     0.0  ...     0.0     0.0     0.0     0.0     0.0     0.0   \n",
       "\n",
       "movieId  160590  161155  161594  162376  \n",
       "userId                                   \n",
       "1           0.0     0.0     0.0     0.0  \n",
       "2           0.0     0.0     0.0     0.0  \n",
       "3           0.0     0.0     0.0     0.0  \n",
       "4           0.0     0.0     0.0     0.0  \n",
       "5           0.0     0.0     0.0     0.0  \n",
       "\n",
       "[5 rows x 5411 columns]"
      ]
     },
     "execution_count": 5,
     "metadata": {},
     "output_type": "execute_result"
    }
   ],
   "source": [
    "rp.head()"
   ]
  },
  {
   "cell_type": "markdown",
   "metadata": {},
   "source": [
    "### 판다스 데이터프레임을 넘파이로 변환"
   ]
  },
  {
   "cell_type": "code",
   "execution_count": 15,
   "metadata": {},
   "outputs": [],
   "source": [
    "rp_mat = mat(rp)"
   ]
  },
  {
   "cell_type": "code",
   "execution_count": 16,
   "metadata": {},
   "outputs": [
    {
     "data": {
      "text/plain": [
       "matrix([[0., 0., 0., ..., 0., 0., 0.],\n",
       "        [0., 0., 0., ..., 0., 0., 0.],\n",
       "        [0., 0., 0., ..., 0., 0., 0.],\n",
       "        ...,\n",
       "        [0., 0., 0., ..., 0., 0., 0.],\n",
       "        [3., 3., 0., ..., 0., 0., 0.],\n",
       "        [3., 3., 0., ..., 0., 0., 0.]])"
      ]
     },
     "execution_count": 16,
     "metadata": {},
     "output_type": "execute_result"
    }
   ],
   "source": [
    "rp_mat"
   ]
  },
  {
   "cell_type": "markdown",
   "metadata": {},
   "source": [
    "### 코사인거리 계산"
   ]
  },
  {
   "cell_type": "code",
   "execution_count": 6,
   "metadata": {},
   "outputs": [],
   "source": [
    "from scipy.spatial.distance import cosine"
   ]
  },
  {
   "cell_type": "code",
   "execution_count": 7,
   "metadata": {},
   "outputs": [
    {
     "name": "stdout",
     "output_type": "stream",
     "text": [
      "Cosine similarity between A and B is 0.8216\n"
     ]
    }
   ],
   "source": [
    "# 코사인거리 계산 예시\n",
    "a= np.asarray( [2, 1, 0, 2, 0, 1, 1, 1])\n",
    "b = np.asarray( [2, 1, 1, 1, 1, 0, 1, 1])\n",
    "\n",
    "print (\"Cosine similarity between A and B is\",round(1-cosine(a,b),4))"
   ]
  },
  {
   "cell_type": "markdown",
   "metadata": {},
   "source": [
    "## 1. 사용자 기반 유사성 매트릭스"
   ]
  },
  {
   "cell_type": "code",
   "execution_count": 9,
   "metadata": {},
   "outputs": [
    {
     "name": "stdout",
     "output_type": "stream",
     "text": [
      "213 5411\n"
     ]
    }
   ],
   "source": [
    "m, n = rp.shape\n",
    "print(m,n)"
   ]
  },
  {
   "cell_type": "code",
   "execution_count": 10,
   "metadata": {},
   "outputs": [],
   "source": [
    "mat_users = np.zeros((m, m))"
   ]
  },
  {
   "cell_type": "code",
   "execution_count": 11,
   "metadata": {},
   "outputs": [
    {
     "data": {
      "text/plain": [
       "array([[0., 0., 0., ..., 0., 0., 0.],\n",
       "       [0., 0., 0., ..., 0., 0., 0.],\n",
       "       [0., 0., 0., ..., 0., 0., 0.],\n",
       "       ...,\n",
       "       [0., 0., 0., ..., 0., 0., 0.],\n",
       "       [0., 0., 0., ..., 0., 0., 0.],\n",
       "       [0., 0., 0., ..., 0., 0., 0.]])"
      ]
     },
     "execution_count": 11,
     "metadata": {},
     "output_type": "execute_result"
    }
   ],
   "source": [
    "mat_users"
   ]
  },
  {
   "cell_type": "code",
   "execution_count": 17,
   "metadata": {},
   "outputs": [],
   "source": [
    "for i in range(m):\n",
    "    for j in range(m):\n",
    "        if i != j:\n",
    "            mat_users[i][j] = (1- cosine(rp_mat[i,:], rp_mat[j,:]))\n",
    "        else:\n",
    "            mat_users[i][j] = 0."
   ]
  },
  {
   "cell_type": "code",
   "execution_count": 19,
   "metadata": {},
   "outputs": [
    {
     "data": {
      "text/html": [
       "<div>\n",
       "<style scoped>\n",
       "    .dataframe tbody tr th:only-of-type {\n",
       "        vertical-align: middle;\n",
       "    }\n",
       "\n",
       "    .dataframe tbody tr th {\n",
       "        vertical-align: top;\n",
       "    }\n",
       "\n",
       "    .dataframe thead th {\n",
       "        text-align: right;\n",
       "    }\n",
       "</style>\n",
       "<table border=\"1\" class=\"dataframe\">\n",
       "  <thead>\n",
       "    <tr style=\"text-align: right;\">\n",
       "      <th>userId</th>\n",
       "      <th>1</th>\n",
       "      <th>2</th>\n",
       "      <th>3</th>\n",
       "      <th>4</th>\n",
       "      <th>5</th>\n",
       "      <th>6</th>\n",
       "      <th>7</th>\n",
       "      <th>8</th>\n",
       "      <th>9</th>\n",
       "      <th>10</th>\n",
       "      <th>...</th>\n",
       "      <th>204</th>\n",
       "      <th>205</th>\n",
       "      <th>206</th>\n",
       "      <th>207</th>\n",
       "      <th>208</th>\n",
       "      <th>209</th>\n",
       "      <th>210</th>\n",
       "      <th>211</th>\n",
       "      <th>212</th>\n",
       "      <th>213</th>\n",
       "    </tr>\n",
       "    <tr>\n",
       "      <th>userId</th>\n",
       "      <th></th>\n",
       "      <th></th>\n",
       "      <th></th>\n",
       "      <th></th>\n",
       "      <th></th>\n",
       "      <th></th>\n",
       "      <th></th>\n",
       "      <th></th>\n",
       "      <th></th>\n",
       "      <th></th>\n",
       "      <th></th>\n",
       "      <th></th>\n",
       "      <th></th>\n",
       "      <th></th>\n",
       "      <th></th>\n",
       "      <th></th>\n",
       "      <th></th>\n",
       "      <th></th>\n",
       "      <th></th>\n",
       "      <th></th>\n",
       "      <th></th>\n",
       "    </tr>\n",
       "  </thead>\n",
       "  <tbody>\n",
       "    <tr>\n",
       "      <th>1</th>\n",
       "      <td>0.000000</td>\n",
       "      <td>0.000000</td>\n",
       "      <td>0.000000</td>\n",
       "      <td>0.074482</td>\n",
       "      <td>0.016818</td>\n",
       "      <td>0.000000</td>\n",
       "      <td>0.083884</td>\n",
       "      <td>0.000000</td>\n",
       "      <td>0.012843</td>\n",
       "      <td>0.000000</td>\n",
       "      <td>...</td>\n",
       "      <td>0.000000</td>\n",
       "      <td>0.000000</td>\n",
       "      <td>0.000000</td>\n",
       "      <td>0.152746</td>\n",
       "      <td>0.000000</td>\n",
       "      <td>0.000000</td>\n",
       "      <td>0.000000</td>\n",
       "      <td>0.025665</td>\n",
       "      <td>0.053411</td>\n",
       "      <td>0.014873</td>\n",
       "    </tr>\n",
       "    <tr>\n",
       "      <th>2</th>\n",
       "      <td>0.000000</td>\n",
       "      <td>0.000000</td>\n",
       "      <td>0.124295</td>\n",
       "      <td>0.118821</td>\n",
       "      <td>0.103646</td>\n",
       "      <td>0.000000</td>\n",
       "      <td>0.212985</td>\n",
       "      <td>0.113190</td>\n",
       "      <td>0.113333</td>\n",
       "      <td>0.043213</td>\n",
       "      <td>...</td>\n",
       "      <td>0.000000</td>\n",
       "      <td>0.072173</td>\n",
       "      <td>0.021929</td>\n",
       "      <td>0.038117</td>\n",
       "      <td>0.035502</td>\n",
       "      <td>0.021677</td>\n",
       "      <td>0.071819</td>\n",
       "      <td>0.135890</td>\n",
       "      <td>0.187098</td>\n",
       "      <td>0.134630</td>\n",
       "    </tr>\n",
       "    <tr>\n",
       "      <th>3</th>\n",
       "      <td>0.000000</td>\n",
       "      <td>0.124295</td>\n",
       "      <td>0.000000</td>\n",
       "      <td>0.081640</td>\n",
       "      <td>0.151531</td>\n",
       "      <td>0.060691</td>\n",
       "      <td>0.154714</td>\n",
       "      <td>0.249781</td>\n",
       "      <td>0.134475</td>\n",
       "      <td>0.114672</td>\n",
       "      <td>...</td>\n",
       "      <td>0.000000</td>\n",
       "      <td>0.110968</td>\n",
       "      <td>0.051140</td>\n",
       "      <td>0.051725</td>\n",
       "      <td>0.128808</td>\n",
       "      <td>0.000000</td>\n",
       "      <td>0.000000</td>\n",
       "      <td>0.096803</td>\n",
       "      <td>0.164688</td>\n",
       "      <td>0.123897</td>\n",
       "    </tr>\n",
       "    <tr>\n",
       "      <th>4</th>\n",
       "      <td>0.074482</td>\n",
       "      <td>0.118821</td>\n",
       "      <td>0.081640</td>\n",
       "      <td>0.000000</td>\n",
       "      <td>0.130649</td>\n",
       "      <td>0.079648</td>\n",
       "      <td>0.319745</td>\n",
       "      <td>0.191013</td>\n",
       "      <td>0.030417</td>\n",
       "      <td>0.137186</td>\n",
       "      <td>...</td>\n",
       "      <td>0.048892</td>\n",
       "      <td>0.085509</td>\n",
       "      <td>0.252688</td>\n",
       "      <td>0.040471</td>\n",
       "      <td>0.083486</td>\n",
       "      <td>0.049957</td>\n",
       "      <td>0.147393</td>\n",
       "      <td>0.063217</td>\n",
       "      <td>0.227245</td>\n",
       "      <td>0.192670</td>\n",
       "    </tr>\n",
       "    <tr>\n",
       "      <th>5</th>\n",
       "      <td>0.016818</td>\n",
       "      <td>0.103646</td>\n",
       "      <td>0.151531</td>\n",
       "      <td>0.130649</td>\n",
       "      <td>0.000000</td>\n",
       "      <td>0.063796</td>\n",
       "      <td>0.095888</td>\n",
       "      <td>0.165712</td>\n",
       "      <td>0.086616</td>\n",
       "      <td>0.032370</td>\n",
       "      <td>...</td>\n",
       "      <td>0.059153</td>\n",
       "      <td>0.066815</td>\n",
       "      <td>0.055752</td>\n",
       "      <td>0.024227</td>\n",
       "      <td>0.047905</td>\n",
       "      <td>0.000000</td>\n",
       "      <td>0.074473</td>\n",
       "      <td>0.050070</td>\n",
       "      <td>0.286572</td>\n",
       "      <td>0.174631</td>\n",
       "    </tr>\n",
       "  </tbody>\n",
       "</table>\n",
       "<p>5 rows × 213 columns</p>\n",
       "</div>"
      ],
      "text/plain": [
       "userId       1         2         3         4         5         6         7    \\\n",
       "userId                                                                         \n",
       "1       0.000000  0.000000  0.000000  0.074482  0.016818  0.000000  0.083884   \n",
       "2       0.000000  0.000000  0.124295  0.118821  0.103646  0.000000  0.212985   \n",
       "3       0.000000  0.124295  0.000000  0.081640  0.151531  0.060691  0.154714   \n",
       "4       0.074482  0.118821  0.081640  0.000000  0.130649  0.079648  0.319745   \n",
       "5       0.016818  0.103646  0.151531  0.130649  0.000000  0.063796  0.095888   \n",
       "\n",
       "userId       8         9         10   ...       204       205       206  \\\n",
       "userId                                ...                                 \n",
       "1       0.000000  0.012843  0.000000  ...  0.000000  0.000000  0.000000   \n",
       "2       0.113190  0.113333  0.043213  ...  0.000000  0.072173  0.021929   \n",
       "3       0.249781  0.134475  0.114672  ...  0.000000  0.110968  0.051140   \n",
       "4       0.191013  0.030417  0.137186  ...  0.048892  0.085509  0.252688   \n",
       "5       0.165712  0.086616  0.032370  ...  0.059153  0.066815  0.055752   \n",
       "\n",
       "userId       207       208       209       210       211       212       213  \n",
       "userId                                                                        \n",
       "1       0.152746  0.000000  0.000000  0.000000  0.025665  0.053411  0.014873  \n",
       "2       0.038117  0.035502  0.021677  0.071819  0.135890  0.187098  0.134630  \n",
       "3       0.051725  0.128808  0.000000  0.000000  0.096803  0.164688  0.123897  \n",
       "4       0.040471  0.083486  0.049957  0.147393  0.063217  0.227245  0.192670  \n",
       "5       0.024227  0.047905  0.000000  0.074473  0.050070  0.286572  0.174631  \n",
       "\n",
       "[5 rows x 213 columns]"
      ]
     },
     "execution_count": 19,
     "metadata": {},
     "output_type": "execute_result"
    }
   ],
   "source": [
    "pd_users = pd.DataFrame(mat_users,index =rp.index ,columns= rp.index )\n",
    "pd_users.head()"
   ]
  },
  {
   "cell_type": "markdown",
   "metadata": {},
   "source": [
    "### 1.1 유사한 사용자 찾기"
   ]
  },
  {
   "cell_type": "code",
   "execution_count": 20,
   "metadata": {},
   "outputs": [],
   "source": [
    "def topn_simusers(uid = 16,n=5):\n",
    "    users = pd_users.loc[uid,:].sort_values(ascending = False)\n",
    "    topn_users = users.iloc[:n,]\n",
    "    topn_users = topn_users.rename('score')    \n",
    "    print (\"Similar users as user:\",uid)\n",
    "    return pd.DataFrame(topn_users)"
   ]
  },
  {
   "cell_type": "code",
   "execution_count": 21,
   "metadata": {},
   "outputs": [
    {
     "name": "stdout",
     "output_type": "stream",
     "text": [
      "Similar users as user: 17\n",
      "           score\n",
      "userId          \n",
      "23      0.374641\n",
      "105     0.309477\n",
      "15      0.307179\n",
      "8       0.285136\n",
      "152     0.283516\n",
      "134     0.268920\n",
      "118     0.268601\n",
      "73      0.261408\n",
      "22      0.255590\n",
      "102     0.255553\n"
     ]
    }
   ],
   "source": [
    "print (topn_simusers(uid=17,n=10))"
   ]
  },
  {
   "cell_type": "markdown",
   "metadata": {},
   "source": [
    "### 2.2 높은 평점 영화 찾기"
   ]
  },
  {
   "cell_type": "code",
   "execution_count": 22,
   "metadata": {},
   "outputs": [],
   "source": [
    "def topn_movieratings(uid = 355,n_ratings=10):    \n",
    "    uid_ratings = ratings.loc[ratings['userId']==uid]\n",
    "    uid_ratings = uid_ratings.sort_values(by='rating',ascending = [False])\n",
    "    print (\"Top\",n_ratings ,\"movie ratings of user:\",uid)\n",
    "    return uid_ratings.iloc[:n_ratings,] "
   ]
  },
  {
   "cell_type": "code",
   "execution_count": 23,
   "metadata": {},
   "outputs": [
    {
     "name": "stdout",
     "output_type": "stream",
     "text": [
      "Top 10 movie ratings of user: 196\n",
      "       userId  movieId  rating                            title\n",
      "26787     196     2858     5.0           American Beauty (1999)\n",
      "26848     196     3671     5.0           Blazing Saddles (1974)\n",
      "26814     196     3408     5.0           Erin Brockovich (2000)\n",
      "26818     196     3489     5.0                      Hook (1991)\n",
      "26801     196     3082     5.0  World Is Not Enough, The (1999)\n",
      "26821     196     3510     5.0                 Frequency (2000)\n",
      "26824     196     3536     5.0         Keeping the Faith (2000)\n",
      "26794     196     2949     5.0                    Dr. No (1962)\n",
      "26840     196     3624     5.0             Shanghai Noon (2000)\n",
      "26785     196     2762     5.0          Sixth Sense, The (1999)\n"
     ]
    }
   ],
   "source": [
    "print (topn_movieratings(uid=196,n_ratings=10))"
   ]
  },
  {
   "cell_type": "markdown",
   "metadata": {},
   "source": [
    "## 2. 영화 유사성 매트릭스"
   ]
  },
  {
   "cell_type": "code",
   "execution_count": 34,
   "metadata": {},
   "outputs": [],
   "source": [
    "import time\n",
    "start_time = time.time()\n",
    "mat_movies = np.zeros((n, n))"
   ]
  },
  {
   "cell_type": "code",
   "execution_count": 35,
   "metadata": {},
   "outputs": [],
   "source": [
    "for i in range(n):\n",
    "    for j in range(n):\n",
    "        if i!=j:\n",
    "            mat_movies[i,j] = (1- cosine(rp_mat[:,i], rp_mat[:,j]))\n",
    "        else:\n",
    "            mat_movies[i,j] = 0.\n",
    "last_time = time.time()"
   ]
  },
  {
   "cell_type": "code",
   "execution_count": 36,
   "metadata": {},
   "outputs": [
    {
     "name": "stdout",
     "output_type": "stream",
     "text": [
      "--- 886.6716542243958 seconds ---\n"
     ]
    }
   ],
   "source": [
    "print(\"--- %s seconds ---\" % (last_time - start_time))"
   ]
  },
  {
   "cell_type": "code",
   "execution_count": 28,
   "metadata": {},
   "outputs": [],
   "source": [
    "pd_movies = pd.DataFrame(mat_movies,index =rp.columns ,columns= rp.columns )"
   ]
  },
  {
   "cell_type": "code",
   "execution_count": 29,
   "metadata": {},
   "outputs": [
    {
     "data": {
      "text/html": [
       "<div>\n",
       "<style scoped>\n",
       "    .dataframe tbody tr th:only-of-type {\n",
       "        vertical-align: middle;\n",
       "    }\n",
       "\n",
       "    .dataframe tbody tr th {\n",
       "        vertical-align: top;\n",
       "    }\n",
       "\n",
       "    .dataframe thead th {\n",
       "        text-align: right;\n",
       "    }\n",
       "</style>\n",
       "<table border=\"1\" class=\"dataframe\">\n",
       "  <thead>\n",
       "    <tr style=\"text-align: right;\">\n",
       "      <th>movieId</th>\n",
       "      <th>1</th>\n",
       "      <th>2</th>\n",
       "      <th>3</th>\n",
       "      <th>4</th>\n",
       "      <th>5</th>\n",
       "      <th>6</th>\n",
       "      <th>7</th>\n",
       "      <th>8</th>\n",
       "      <th>9</th>\n",
       "      <th>10</th>\n",
       "      <th>...</th>\n",
       "      <th>160080</th>\n",
       "      <th>160271</th>\n",
       "      <th>160438</th>\n",
       "      <th>160563</th>\n",
       "      <th>160565</th>\n",
       "      <th>160567</th>\n",
       "      <th>160590</th>\n",
       "      <th>161155</th>\n",
       "      <th>161594</th>\n",
       "      <th>162376</th>\n",
       "    </tr>\n",
       "    <tr>\n",
       "      <th>movieId</th>\n",
       "      <th></th>\n",
       "      <th></th>\n",
       "      <th></th>\n",
       "      <th></th>\n",
       "      <th></th>\n",
       "      <th></th>\n",
       "      <th></th>\n",
       "      <th></th>\n",
       "      <th></th>\n",
       "      <th></th>\n",
       "      <th></th>\n",
       "      <th></th>\n",
       "      <th></th>\n",
       "      <th></th>\n",
       "      <th></th>\n",
       "      <th></th>\n",
       "      <th></th>\n",
       "      <th></th>\n",
       "      <th></th>\n",
       "      <th></th>\n",
       "      <th></th>\n",
       "    </tr>\n",
       "  </thead>\n",
       "  <tbody>\n",
       "    <tr>\n",
       "      <th>1</th>\n",
       "      <td>0.000000</td>\n",
       "      <td>0.395916</td>\n",
       "      <td>0.256876</td>\n",
       "      <td>0.164504</td>\n",
       "      <td>0.189582</td>\n",
       "      <td>0.344532</td>\n",
       "      <td>0.199528</td>\n",
       "      <td>0.112490</td>\n",
       "      <td>0.095801</td>\n",
       "      <td>0.284761</td>\n",
       "      <td>...</td>\n",
       "      <td>0.056591</td>\n",
       "      <td>0.056591</td>\n",
       "      <td>0.0</td>\n",
       "      <td>0.056591</td>\n",
       "      <td>0.056591</td>\n",
       "      <td>0.056591</td>\n",
       "      <td>0.113182</td>\n",
       "      <td>0.056591</td>\n",
       "      <td>0.141478</td>\n",
       "      <td>0.141478</td>\n",
       "    </tr>\n",
       "    <tr>\n",
       "      <th>2</th>\n",
       "      <td>0.395916</td>\n",
       "      <td>0.000000</td>\n",
       "      <td>0.227528</td>\n",
       "      <td>0.326561</td>\n",
       "      <td>0.276072</td>\n",
       "      <td>0.204245</td>\n",
       "      <td>0.265428</td>\n",
       "      <td>0.351015</td>\n",
       "      <td>0.193906</td>\n",
       "      <td>0.425883</td>\n",
       "      <td>...</td>\n",
       "      <td>0.085907</td>\n",
       "      <td>0.085907</td>\n",
       "      <td>0.0</td>\n",
       "      <td>0.085907</td>\n",
       "      <td>0.085907</td>\n",
       "      <td>0.085907</td>\n",
       "      <td>0.000000</td>\n",
       "      <td>0.085907</td>\n",
       "      <td>0.107384</td>\n",
       "      <td>0.107384</td>\n",
       "    </tr>\n",
       "    <tr>\n",
       "      <th>3</th>\n",
       "      <td>0.256876</td>\n",
       "      <td>0.227528</td>\n",
       "      <td>0.000000</td>\n",
       "      <td>0.268179</td>\n",
       "      <td>0.395922</td>\n",
       "      <td>0.204222</td>\n",
       "      <td>0.494572</td>\n",
       "      <td>0.206024</td>\n",
       "      <td>0.382819</td>\n",
       "      <td>0.109113</td>\n",
       "      <td>...</td>\n",
       "      <td>0.000000</td>\n",
       "      <td>0.000000</td>\n",
       "      <td>0.0</td>\n",
       "      <td>0.000000</td>\n",
       "      <td>0.000000</td>\n",
       "      <td>0.000000</td>\n",
       "      <td>0.000000</td>\n",
       "      <td>0.000000</td>\n",
       "      <td>0.000000</td>\n",
       "      <td>0.000000</td>\n",
       "    </tr>\n",
       "    <tr>\n",
       "      <th>4</th>\n",
       "      <td>0.164504</td>\n",
       "      <td>0.326561</td>\n",
       "      <td>0.268179</td>\n",
       "      <td>0.000000</td>\n",
       "      <td>0.244047</td>\n",
       "      <td>0.131439</td>\n",
       "      <td>0.431539</td>\n",
       "      <td>0.691411</td>\n",
       "      <td>0.458831</td>\n",
       "      <td>0.106525</td>\n",
       "      <td>...</td>\n",
       "      <td>0.000000</td>\n",
       "      <td>0.000000</td>\n",
       "      <td>0.0</td>\n",
       "      <td>0.000000</td>\n",
       "      <td>0.000000</td>\n",
       "      <td>0.000000</td>\n",
       "      <td>0.000000</td>\n",
       "      <td>0.000000</td>\n",
       "      <td>0.000000</td>\n",
       "      <td>0.000000</td>\n",
       "    </tr>\n",
       "    <tr>\n",
       "      <th>5</th>\n",
       "      <td>0.189582</td>\n",
       "      <td>0.276072</td>\n",
       "      <td>0.395922</td>\n",
       "      <td>0.244047</td>\n",
       "      <td>0.000000</td>\n",
       "      <td>0.259674</td>\n",
       "      <td>0.438815</td>\n",
       "      <td>0.301315</td>\n",
       "      <td>0.528777</td>\n",
       "      <td>0.223261</td>\n",
       "      <td>...</td>\n",
       "      <td>0.272853</td>\n",
       "      <td>0.272853</td>\n",
       "      <td>0.0</td>\n",
       "      <td>0.272853</td>\n",
       "      <td>0.272853</td>\n",
       "      <td>0.272853</td>\n",
       "      <td>0.000000</td>\n",
       "      <td>0.272853</td>\n",
       "      <td>0.000000</td>\n",
       "      <td>0.000000</td>\n",
       "    </tr>\n",
       "  </tbody>\n",
       "</table>\n",
       "<p>5 rows × 5411 columns</p>\n",
       "</div>"
      ],
      "text/plain": [
       "movieId    1         2         3         4         5         6         7       \\\n",
       "movieId                                                                         \n",
       "1        0.000000  0.395916  0.256876  0.164504  0.189582  0.344532  0.199528   \n",
       "2        0.395916  0.000000  0.227528  0.326561  0.276072  0.204245  0.265428   \n",
       "3        0.256876  0.227528  0.000000  0.268179  0.395922  0.204222  0.494572   \n",
       "4        0.164504  0.326561  0.268179  0.000000  0.244047  0.131439  0.431539   \n",
       "5        0.189582  0.276072  0.395922  0.244047  0.000000  0.259674  0.438815   \n",
       "\n",
       "movieId    8         9         10      ...    160080    160271  160438  \\\n",
       "movieId                                ...                               \n",
       "1        0.112490  0.095801  0.284761  ...  0.056591  0.056591     0.0   \n",
       "2        0.351015  0.193906  0.425883  ...  0.085907  0.085907     0.0   \n",
       "3        0.206024  0.382819  0.109113  ...  0.000000  0.000000     0.0   \n",
       "4        0.691411  0.458831  0.106525  ...  0.000000  0.000000     0.0   \n",
       "5        0.301315  0.528777  0.223261  ...  0.272853  0.272853     0.0   \n",
       "\n",
       "movieId    160563    160565    160567    160590    161155    161594    162376  \n",
       "movieId                                                                        \n",
       "1        0.056591  0.056591  0.056591  0.113182  0.056591  0.141478  0.141478  \n",
       "2        0.085907  0.085907  0.085907  0.000000  0.085907  0.107384  0.107384  \n",
       "3        0.000000  0.000000  0.000000  0.000000  0.000000  0.000000  0.000000  \n",
       "4        0.000000  0.000000  0.000000  0.000000  0.000000  0.000000  0.000000  \n",
       "5        0.272853  0.272853  0.272853  0.000000  0.272853  0.000000  0.000000  \n",
       "\n",
       "[5 rows x 5411 columns]"
      ]
     },
     "execution_count": 29,
     "metadata": {},
     "output_type": "execute_result"
    }
   ],
   "source": [
    "pd_movies.head()"
   ]
  },
  {
   "cell_type": "markdown",
   "metadata": {},
   "source": [
    "### 2.1 csv파일로 내보내기"
   ]
  },
  {
   "cell_type": "code",
   "execution_count": 30,
   "metadata": {},
   "outputs": [],
   "source": [
    "pd_movies.to_csv('pd_movies.csv',sep=',')"
   ]
  },
  {
   "cell_type": "code",
   "execution_count": 31,
   "metadata": {},
   "outputs": [],
   "source": [
    "pd_movies = pd.read_csv(\"pd_movies.csv\",index_col='movieId')"
   ]
  },
  {
   "cell_type": "markdown",
   "metadata": {},
   "source": [
    "### 2.2 유사한 영화 찾기"
   ]
  },
  {
   "cell_type": "code",
   "execution_count": 37,
   "metadata": {},
   "outputs": [],
   "source": [
    "import pdb\n",
    "def topn_simovies(mid = 588,n=15):\n",
    "    mid_ratings = pd_movies.loc[mid,:].sort_values(ascending = False)\n",
    "    topn_movies = pd.DataFrame(mid_ratings.iloc[:n,])\n",
    "    pdb.set_trace()\n",
    "    topn_movies['index1'] = topn_movies.index\n",
    "    topn_movies['index1'] = topn_movies['index1'].astype('int64')\n",
    "    topn_movies = pd.merge(topn_movies,movies[['movieId','title']],\n",
    "                           how = 'left',left_on ='index1' ,right_on = 'movieId')\n",
    "    print (\"Movies similar to movie id:\",mid,\",\",\n",
    "           movies['title'][movies['movieId']==mid].to_string(index=False),\",are\")\n",
    "    del topn_movies['index1']\n",
    "    return topn_movies"
   ]
  },
  {
   "cell_type": "code",
   "execution_count": 33,
   "metadata": {},
   "outputs": [
    {
     "name": "stdout",
     "output_type": "stream",
     "text": [
      "Movies similar to movie id: 589 ,  Terminator 2: Judgment Day (1991) ,are\n",
      "         589  movieId                                              title\n",
      "0   0.712045      480                               Jurassic Park (1993)\n",
      "1   0.703844      377                                       Speed (1994)\n",
      "2   0.668278      457                               Fugitive, The (1993)\n",
      "3   0.654820      110                                  Braveheart (1995)\n",
      "4   0.644830     1240                             Terminator, The (1984)\n",
      "5   0.633408      356                                Forrest Gump (1994)\n",
      "6   0.629459      349                    Clear and Present Danger (1994)\n",
      "7   0.621467      380                                   True Lies (1994)\n",
      "8   0.620268      316                                    Stargate (1994)\n",
      "9   0.597198     1196  Star Wars: Episode V - The Empire Strikes Back...\n",
      "10  0.596392      593                   Silence of the Lambs, The (1991)\n",
      "11  0.595827      292                                    Outbreak (1995)\n",
      "12  0.594451      296                                Pulp Fiction (1994)\n",
      "13  0.594274       10                                   GoldenEye (1995)\n",
      "14  0.590504      165                  Die Hard: With a Vengeance (1995)\n"
     ]
    }
   ],
   "source": [
    "print (topn_simovies(mid=589,n=15))"
   ]
  },
  {
   "cell_type": "markdown",
   "metadata": {},
   "source": [
    "## 3. SVD 분석"
   ]
  },
  {
   "cell_type": "code",
   "execution_count": 64,
   "metadata": {},
   "outputs": [],
   "source": [
    "U,Sigma,VT=linalg.svd(rp_mat)"
   ]
  },
  {
   "cell_type": "code",
   "execution_count": 65,
   "metadata": {},
   "outputs": [
    {
     "data": {
      "text/plain": [
       "array([288.74592695, 141.2420035 , 120.69848545, 104.5558196 ,\n",
       "        97.92855509,  93.28582631,  88.19821066,  86.04588056,\n",
       "        84.07709823,  78.73883217,  73.23711794,  70.53432365,\n",
       "        69.34166542,  69.07175985,  67.44988983,  66.31942586,\n",
       "        64.77740082,  64.62758463,  63.63014435,  61.66677188,\n",
       "        60.28703369,  60.11993174,  59.52959968,  58.64983626,\n",
       "        57.04081242,  55.66065809,  54.07277667,  53.28740833,\n",
       "        53.20554049,  52.75730779,  52.42363691,  51.21836761,\n",
       "        50.8553373 ,  50.15960726,  49.20679687,  48.90618691,\n",
       "        48.56521915,  48.19529441,  47.74786695,  47.20897421,\n",
       "        46.94973691,  46.54213668,  45.86137871,  44.983795  ,\n",
       "        44.66823518,  44.32833769,  44.02781377,  43.27901946,\n",
       "        43.20762452,  42.91542551,  42.36021609,  42.00372572,\n",
       "        41.42074972,  41.02842424,  40.74707134,  39.78734835,\n",
       "        39.38538296,  38.79474677,  38.61773693,  38.49721699,\n",
       "        38.03524689,  37.94742911,  37.40161675,  37.19120825,\n",
       "        37.05578978,  36.93380919,  36.58530369,  36.05994428,\n",
       "        35.9388553 ,  35.66122268,  35.41323363,  34.96776035,\n",
       "        34.73096732,  34.50198464,  34.31750431,  34.12443685,\n",
       "        33.70129302,  33.56780321,  33.22507551,  33.01939789,\n",
       "        32.82166833,  32.78553135,  32.40572115,  32.01499102,\n",
       "        31.48709386,  31.40582922,  31.29006093,  31.17381586,\n",
       "        31.00026546,  30.69000515,  30.50519007,  30.22993219,\n",
       "        30.1268132 ,  29.96173421,  29.71625203,  29.36671561,\n",
       "        29.2956274 ,  29.04046013,  28.98152508,  28.78748559,\n",
       "        28.63258445,  28.31109992,  28.17855431,  28.00515077,\n",
       "        27.78079013,  27.58804022,  27.35248762,  27.25200242,\n",
       "        27.03036966,  26.89023894,  26.7253022 ,  26.68508617,\n",
       "        26.51009579,  26.31188241,  25.87394963,  25.77907942,\n",
       "        25.50905315,  25.1439147 ,  25.05577441,  24.93160806,\n",
       "        24.71395899,  24.47172587,  24.36597843,  24.0612435 ,\n",
       "        23.87203467,  23.72177203,  23.61773164,  23.40075801,\n",
       "        23.15878518,  23.03739692,  22.77362802,  22.75414625,\n",
       "        22.57779583,  22.49282465,  22.1374448 ,  22.0751769 ,\n",
       "        21.92805658,  21.86970353,  21.71382609,  21.48136644,\n",
       "        21.19281291,  21.12289494,  20.97942463,  20.88209722,\n",
       "        20.6627859 ,  20.62278912,  20.3439247 ,  20.18723974,\n",
       "        20.07087234,  19.98533759,  19.87291426,  19.5990099 ,\n",
       "        19.50835816,  19.32057283,  19.18754755,  19.11131085,\n",
       "        18.97757831,  18.89719684,  18.71024418,  18.6012554 ,\n",
       "        18.41194172,  18.37035965,  18.19936324,  17.94396507,\n",
       "        17.82001397,  17.68658312,  17.53651501,  17.10847217,\n",
       "        16.95894576,  16.93185764,  16.59784058,  16.51707925,\n",
       "        16.39042809,  16.26891771,  16.02379715,  15.85098819,\n",
       "        15.75219071,  15.59925553,  15.35672685,  15.09210419,\n",
       "        14.87312759,  14.69020337,  14.53067672,  14.33384306,\n",
       "        14.29790966,  14.0920101 ,  13.76449584,  13.70823676,\n",
       "        13.5869241 ,  13.50023912,  13.24597003,  13.14530672,\n",
       "        12.86527087,  12.67808126,  12.55012042,  12.51674082,\n",
       "        12.12510515,  12.03274531,  11.91943413,  11.67636435,\n",
       "        11.54296792,  11.37130966,  10.96650744,  10.8553824 ,\n",
       "        10.46564648,  10.4372803 ,  10.38537247,   9.85877158,\n",
       "         9.25487116,   8.36173374,   8.11713689,   7.92339278,\n",
       "         6.82141726])"
      ]
     },
     "execution_count": 65,
     "metadata": {},
     "output_type": "execute_result"
    }
   ],
   "source": [
    "Sigma"
   ]
  },
  {
   "cell_type": "code",
   "execution_count": 66,
   "metadata": {},
   "outputs": [
    {
     "name": "stdout",
     "output_type": "stream",
     "text": [
      "400804.00000000006 360723.60000000003\n"
     ]
    }
   ],
   "source": [
    "Sig3 = Sigma ** 2\n",
    "total = sum(Sig3)\n",
    "total90 = total*.9\n",
    "print(total, total90)"
   ]
  },
  {
   "cell_type": "code",
   "execution_count": 67,
   "metadata": {},
   "outputs": [
    {
     "data": {
      "text/plain": [
       "361380.69787404063"
      ]
     },
     "execution_count": 67,
     "metadata": {},
     "output_type": "execute_result"
    }
   ],
   "source": [
    "sum(Sig3[:105])"
   ]
  },
  {
   "cell_type": "code",
   "execution_count": 68,
   "metadata": {},
   "outputs": [],
   "source": [
    "from numpy import *\n",
    "from numpy import linalg as la"
   ]
  },
  {
   "cell_type": "code",
   "execution_count": 69,
   "metadata": {},
   "outputs": [],
   "source": [
    "def ecludSim(inA,inB):\n",
    "    return 1.0/(1.0 + la.norm(inA - inB))\n",
    "\n",
    "def pearsSim(inA,inB):\n",
    "    if len(inA) < 3 : return 1.0\n",
    "    return 0.5+0.5*corrcoef(inA, inB, rowvar = 0)[0][1]\n",
    "\n",
    "def cosSim(inA,inB):\n",
    "    num = float(inA.T*inB)\n",
    "    denom = la.norm(inA)*la.norm(inB)\n",
    "    return 0.5+0.5*(num/denom)"
   ]
  },
  {
   "cell_type": "code",
   "execution_count": 70,
   "metadata": {},
   "outputs": [],
   "source": [
    "def svdEst(dataMat, user, simMeas, item):\n",
    "    n = shape(dataMat)[1]\n",
    "    simTotal = 0.0; ratSimTotal = 0.0\n",
    "    U,Sigma,VT = la.svd(dataMat)\n",
    "    Sig5 = mat(eye(5)*Sigma[:5]) #arrange Sig5 into a diagonal matrix\n",
    "    xformedItems = dataMat.T * U[:,:5] * Sig5.I  #create transformed items\n",
    "    for j in range(n):\n",
    "        userRating = dataMat[user,j]\n",
    "        if userRating == 0 or j==item: continue\n",
    "        similarity = simMeas(xformedItems[item,:].T,\\\n",
    "                             xformedItems[j,:].T)\n",
    "        #print('the %d and %d similarity is: %f' % (item, j, similarity))\n",
    "        simTotal += similarity\n",
    "        ratSimTotal += similarity * userRating\n",
    "    if simTotal == 0: return 0\n",
    "    else: return ratSimTotal/simTotal"
   ]
  },
  {
   "cell_type": "code",
   "execution_count": 71,
   "metadata": {},
   "outputs": [],
   "source": [
    "def recommend(dataMat, user, N=3, simMeas=cosSim, estMethod=svdEst):\n",
    "    # 1. 점수를 매기지 않은 item 찾기\n",
    "    unratedItems = nonzero(dataMat[user,:].A==0)[1]\n",
    "    if len(unratedItems) == 0: return 'you rated everything'\n",
    "    itemScores = []\n",
    "    \n",
    "    # 2. 점수를 매기지 않은 item의 유사도\n",
    "    for item in unratedItems:\n",
    "        estimatedScore = estMethod(dataMat, user, simMeas, item)\n",
    "        itemScores.append((item, estimatedScore))\n",
    "    \n",
    "    return sorted(itemScores, key=lambda jj: jj[1], reverse=True)[:N]"
   ]
  },
  {
   "cell_type": "code",
   "execution_count": 72,
   "metadata": {},
   "outputs": [
    {
     "data": {
      "text/plain": [
       "[(3373, 4.099979300318332),\n",
       " (3596, 4.096751932654711),\n",
       " (5050, 4.096751932654711),\n",
       " (2216, 4.096545547607235),\n",
       " (4167, 4.093710527267996),\n",
       " (5310, 4.093390643220823),\n",
       " (4131, 4.092987062943223),\n",
       " (3458, 4.092033575167376),\n",
       " (4416, 4.092033575167376),\n",
       " (4491, 4.092033575167376)]"
      ]
     },
     "execution_count": 72,
     "metadata": {},
     "output_type": "execute_result"
    }
   ],
   "source": [
    "recommend(rp_mat,115, N=10, estMethod=svdEst)"
   ]
  },
  {
   "cell_type": "code",
   "execution_count": null,
   "metadata": {},
   "outputs": [],
   "source": []
  }
 ],
 "metadata": {
  "kernelspec": {
   "display_name": "Python 3",
   "language": "python",
   "name": "python3"
  },
  "language_info": {
   "codemirror_mode": {
    "name": "ipython",
    "version": 3
   },
   "file_extension": ".py",
   "mimetype": "text/x-python",
   "name": "python",
   "nbconvert_exporter": "python",
   "pygments_lexer": "ipython3",
   "version": "3.8.8"
  }
 },
 "nbformat": 4,
 "nbformat_minor": 2
}

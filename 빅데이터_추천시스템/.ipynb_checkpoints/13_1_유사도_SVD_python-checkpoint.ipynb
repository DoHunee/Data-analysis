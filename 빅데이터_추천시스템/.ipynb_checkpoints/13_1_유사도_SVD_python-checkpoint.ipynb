{
 "cells": [
  {
   "cell_type": "markdown",
   "metadata": {},
   "source": [
    "# 1. 유사도 계산하기\n",
    "\n",
    "- 추천\n",
    "    - 어떤 user와 취향이 유사한 user가 좋아하는 item 추천\n",
    "    - 어떤 user가 좋아하는 item과 유사한 item을 찾음\n",
    "- 사용자간 유사도 측정\n",
    "    - 유클리드 거리: 거리가 멀수록 유사하지 않음\n",
    "    - 피어슨상관계수: 두 객체 간의 공분산과 표준편차를 이용"
   ]
  },
  {
   "cell_type": "code",
   "execution_count": 1,
   "metadata": {},
   "outputs": [],
   "source": [
    "import json\n",
    "import numpy as np"
   ]
  },
  {
   "cell_type": "markdown",
   "metadata": {},
   "source": [
    "## 1.1 Python code"
   ]
  },
  {
   "cell_type": "markdown",
   "metadata": {},
   "source": [
    "### Euclidean score\n",
    "![유클리드거리](uclidean_distance.png)"
   ]
  },
  {
   "cell_type": "code",
   "execution_count": 2,
   "metadata": {},
   "outputs": [],
   "source": [
    "# Compute the Euclidean distance score between user1 and user2 \n",
    "def euclidean_score(dataset, user1, user2):\n",
    "    if user1 not in dataset:\n",
    "        raise TypeError('Cannot find ' + user1 + ' in the dataset')\n",
    "\n",
    "    if user2 not in dataset:\n",
    "        raise TypeError('Cannot find ' + user2 + ' in the dataset')\n",
    "\n",
    "    # 두 사용자에게서 평점을 받은 영화 저장\n",
    "    common_movies = {} \n",
    "\n",
    "    # 두 사용자에게서 모두 평점을 받은 영화 찾음\n",
    "    for item in dataset[user1]:\n",
    "        if item in dataset[user2]:\n",
    "            common_movies[item] = 1\n",
    "\n",
    "    # 사용자간 공통 영화가 없으면, score = 0 \n",
    "    if len(common_movies) == 0:\n",
    "        return 0\n",
    "\n",
    "    squared_diff = [] \n",
    "\n",
    "    # 두 사용자에게서 평점을 받은 영화를 대상으로 사용자간의 평점 차이 값을 제곱\n",
    "    for item in dataset[user1]:\n",
    "        if item in dataset[user2]:\n",
    "            squared_diff.append(np.square(dataset[user1][item] - dataset[user2][item]))\n",
    "        \n",
    "    # 유클리드 거리 값을 0 ~ 1로 변환\n",
    "    return 1 / (1 + np.sqrt(np.sum(squared_diff))) "
   ]
  },
  {
   "cell_type": "markdown",
   "metadata": {},
   "source": [
    "### Pearson correlation score\n",
    "![피어슨상관계수](peason_coefficient.png)"
   ]
  },
  {
   "cell_type": "code",
   "execution_count": 3,
   "metadata": {},
   "outputs": [],
   "source": [
    "# Compute the Pearson correlation score between user1 and user2 \n",
    "def pearson_score(dataset, user1, user2):\n",
    "    if user1 not in dataset:\n",
    "        raise TypeError('Cannot find ' + user1 + ' in the dataset')\n",
    "\n",
    "    if user2 not in dataset:\n",
    "        raise TypeError('Cannot find ' + user2 + ' in the dataset')\n",
    "\n",
    "    # 두 사용자에게서 평점을 받은 영화 저장\n",
    "    common_movies = {}\n",
    "\n",
    "    # 두 사용자에게서 모두 평점을 받은 영화 찾음\n",
    "    for item in dataset[user1]:\n",
    "        if item in dataset[user2]:\n",
    "            common_movies[item] = 1\n",
    "\n",
    "    num_ratings = len(common_movies) \n",
    "\n",
    "    # 사용자간 공통 영화가 없으면, score = 0 \n",
    "    if num_ratings == 0:\n",
    "        return 0\n",
    "\n",
    "    # 사용자별로 공통으로 평가한 영화의 평점 합 계산 \n",
    "    user1_sum = np.sum([dataset[user1][item] for item in common_movies])\n",
    "    user2_sum = np.sum([dataset[user2][item] for item in common_movies])\n",
    "\n",
    "    # 사용자별로 공통으로 평가한 영화의 평점의 제곱 합 계산\n",
    "    user1_squared_sum = np.sum([np.square(dataset[user1][item]) for item in common_movies])\n",
    "    user2_squared_sum = np.sum([np.square(dataset[user2][item]) for item in common_movies])\n",
    "\n",
    "    # 두 사용자가 평가한 영화 평점의 곱\n",
    "    sum_of_products = np.sum([dataset[user1][item] * dataset[user2][item] for item in common_movies])\n",
    "\n",
    "    # Calculate the Pearson correlation score\n",
    "    Sxy = sum_of_products - (user1_sum * user2_sum / num_ratings)\n",
    "    Sxx = user1_squared_sum - np.square(user1_sum) / num_ratings\n",
    "    Syy = user2_squared_sum - np.square(user2_sum) / num_ratings\n",
    "    \n",
    "    if Sxx * Syy == 0:\n",
    "        return 0\n",
    "\n",
    "    return Sxy / np.sqrt(Sxx * Syy)"
   ]
  },
  {
   "cell_type": "code",
   "execution_count": 4,
   "metadata": {},
   "outputs": [
    {
     "data": {
      "text/plain": [
       "{'David Smith': {'Vertigo': 4,\n",
       "  'Scarface': 4.5,\n",
       "  'Raging Bull': 3.0,\n",
       "  'Goodfellas': 4.5,\n",
       "  'The Apartment': 1.0},\n",
       " 'Brenda Peterson': {'Vertigo': 3.0,\n",
       "  'Scarface': 1.5,\n",
       "  'Raging Bull': 1.0,\n",
       "  'Goodfellas': 2.0,\n",
       "  'The Apartment': 5.0,\n",
       "  'Roman Holiday': 4.5},\n",
       " 'Bill Duffy': {'Vertigo': 4.5,\n",
       "  'Scarface': 5.0,\n",
       "  'Goodfellas': 4.5,\n",
       "  'The Apartment': 1.0},\n",
       " 'Samuel Miller': {'Scarface': 3.5,\n",
       "  'Raging Bull': 5.0,\n",
       "  'The Apartment': 1.0,\n",
       "  'Goodfellas': 5.0,\n",
       "  'Roman Holiday': 1.0},\n",
       " 'Julie Hammel': {'Scarface': 2.5, 'Roman Holiday': 4.5, 'Goodfellas': 3.0},\n",
       " 'Clarissa Jackson': {'Vertigo': 5.0,\n",
       "  'Scarface': 4.5,\n",
       "  'Raging Bull': 4.0,\n",
       "  'Goodfellas': 2.5,\n",
       "  'The Apartment': 1.0,\n",
       "  'Roman Holiday': 1.5},\n",
       " 'Adam Cohen': {'Vertigo': 3.5,\n",
       "  'Scarface': 3.0,\n",
       "  'The Apartment': 1.0,\n",
       "  'Goodfellas': 4.5,\n",
       "  'Roman Holiday': 3.0},\n",
       " 'Chris Duncan': {'The Apartment': 1.5, 'Raging Bull': 4.5}}"
      ]
     },
     "execution_count": 4,
     "metadata": {},
     "output_type": "execute_result"
    }
   ],
   "source": [
    "ratings_file = 'ratings.json'\n",
    "\n",
    "with open(ratings_file, 'r') as f:\n",
    "    data = json.loads(f.read())\n",
    "data"
   ]
  },
  {
   "cell_type": "code",
   "execution_count": 5,
   "metadata": {},
   "outputs": [
    {
     "name": "stdout",
     "output_type": "stream",
     "text": [
      "\n",
      "Euclidean score:\n",
      "0.585786437626905\n",
      "\n",
      "Pearson score:\n",
      "0.9909924304103233\n"
     ]
    }
   ],
   "source": [
    "user1 = \"David Smith\"\n",
    "user2 = \"Bill Duffy\"\n",
    "\n",
    "print(\"\\nEuclidean score:\")\n",
    "print(euclidean_score(data, user1, user2))\n",
    "\n",
    "print(\"\\nPearson score:\")\n",
    "print(pearson_score(data, user1, user2))"
   ]
  },
  {
   "cell_type": "markdown",
   "metadata": {},
   "source": [
    "## 1.2 scipy.spatial.distance 이용\n",
    "- https://docs.scipy.org/doc/scipy/reference/spatial.distance.html#module-scipy.spatial.distance\n",
    "### cosine 유사도"
   ]
  },
  {
   "cell_type": "code",
   "execution_count": 3,
   "metadata": {},
   "outputs": [],
   "source": [
    "from scipy.spatial.distance import cosine"
   ]
  },
  {
   "cell_type": "code",
   "execution_count": 4,
   "metadata": {},
   "outputs": [],
   "source": [
    "a = np.asarray([3,4,3,1])\n",
    "b = np.asarray([3,3,5,2])\n",
    "c = np.asarray([3,5,4,1])"
   ]
  },
  {
   "cell_type": "code",
   "execution_count": 5,
   "metadata": {},
   "outputs": [
    {
     "data": {
      "text/plain": [
       "0.9941"
      ]
     },
     "execution_count": 5,
     "metadata": {},
     "output_type": "execute_result"
    }
   ],
   "source": [
    "# cosine 유사도\n",
    "round(1-cosine(a,c),4)"
   ]
  },
  {
   "cell_type": "markdown",
   "metadata": {},
   "source": [
    "## 1.3 numpy.linalg 모듈 이용\n",
    "### SVD(Singular Value Decomposition): 특이값분해\n",
    "![SVD](SVD.png)"
   ]
  },
  {
   "cell_type": "code",
   "execution_count": 9,
   "metadata": {},
   "outputs": [],
   "source": [
    "from numpy import *\n",
    "from numpy import linalg as la"
   ]
  },
  {
   "cell_type": "code",
   "execution_count": 10,
   "metadata": {},
   "outputs": [],
   "source": [
    "def loadExData():\n",
    "    return[[1, 1, 1, 0, 0],\n",
    "            [2, 2, 2, 0, 0],\n",
    "            [1, 1, 1, 0, 0],\n",
    "            [5, 5, 5, 0, 0],\n",
    "            [1, 1, 0, 2, 2],\n",
    "            [0, 0, 0, 3, 3],\n",
    "            [0, 0, 0, 1, 1]]"
   ]
  },
  {
   "cell_type": "code",
   "execution_count": 11,
   "metadata": {},
   "outputs": [],
   "source": [
    "Data=loadExData()"
   ]
  },
  {
   "cell_type": "code",
   "execution_count": 12,
   "metadata": {},
   "outputs": [],
   "source": [
    "U,Sigma,VT=linalg.svd(Data)"
   ]
  },
  {
   "cell_type": "code",
   "execution_count": 13,
   "metadata": {},
   "outputs": [
    {
     "name": "stdout",
     "output_type": "stream",
     "text": [
      "[9.7214 5.294  0.6842 0.     0.    ]\n"
     ]
    }
   ],
   "source": [
    "print(Sigma.round(4))"
   ]
  },
  {
   "cell_type": "code",
   "execution_count": 14,
   "metadata": {},
   "outputs": [
    {
     "data": {
      "text/plain": [
       "matrix([[9.72140007, 0.        ],\n",
       "        [0.        , 5.29397912]])"
      ]
     },
     "execution_count": 14,
     "metadata": {},
     "output_type": "execute_result"
    }
   ],
   "source": [
    "Sig2=mat([[Sigma[0], 0],[0, Sigma[1]]])\n",
    "Sig2"
   ]
  },
  {
   "cell_type": "code",
   "execution_count": 15,
   "metadata": {},
   "outputs": [
    {
     "name": "stdout",
     "output_type": "stream",
     "text": [
      "[[ 1.00497377e+00  1.00497377e+00  9.89899934e-01 -7.22620478e-04\n",
      "  -7.22620478e-04]\n",
      " [ 2.00994753e+00  2.00994753e+00  1.97979987e+00 -1.44524096e-03\n",
      "  -1.44524096e-03]\n",
      " [ 1.00497377e+00  1.00497377e+00  9.89899934e-01 -7.22620478e-04\n",
      "  -7.22620478e-04]\n",
      " [ 5.02486883e+00  5.02486883e+00  4.94949967e+00 -3.61310239e-03\n",
      "  -3.61310239e-03]\n",
      " [ 7.69884117e-01  7.69884117e-01  4.67288818e-01  2.03343270e+00\n",
      "   2.03343270e+00]\n",
      " [ 1.41378969e-01  1.41378969e-01 -2.87093661e-01  2.97945956e+00\n",
      "   2.97945956e+00]\n",
      " [ 4.71263231e-02  4.71263231e-02 -9.56978871e-02  9.93153188e-01\n",
      "   9.93153188e-01]]\n"
     ]
    }
   ],
   "source": [
    "print(U[:,:2]*Sig2*VT[:2,:])"
   ]
  },
  {
   "cell_type": "markdown",
   "metadata": {},
   "source": [
    "### 유사도 측정\n",
    "- 유클리디언\n",
    "- 피어슨\n",
    "- 코사인"
   ]
  },
  {
   "cell_type": "code",
   "execution_count": 16,
   "metadata": {},
   "outputs": [],
   "source": [
    "def loadExData2():\n",
    "    return[[0, 0, 0, 0, 0, 4, 0, 0, 0, 0, 5],\n",
    "           [0, 0, 0, 3, 0, 4, 0, 0, 0, 0, 3],\n",
    "           [0, 0, 0, 0, 4, 0, 0, 1, 0, 4, 0],\n",
    "           [3, 3, 4, 0, 0, 0, 0, 2, 2, 0, 0],\n",
    "           [5, 4, 5, 0, 0, 0, 0, 5, 5, 0, 0],\n",
    "           [0, 0, 0, 0, 5, 0, 1, 0, 0, 5, 0],\n",
    "           [4, 3, 4, 0, 0, 0, 0, 5, 5, 0, 1],\n",
    "           [0, 0, 0, 4, 0, 4, 0, 0, 0, 0, 4],\n",
    "           [0, 0, 0, 2, 0, 2, 5, 0, 0, 1, 2],\n",
    "           [0, 0, 0, 0, 5, 0, 0, 0, 0, 4, 0],\n",
    "           [1, 0, 0, 0, 0, 0, 0, 1, 2, 0, 0]]"
   ]
  },
  {
   "cell_type": "code",
   "execution_count": 17,
   "metadata": {},
   "outputs": [],
   "source": [
    "def ecludSim(inA,inB):\n",
    "    return 1.0/(1.0 + la.norm(inA - inB))"
   ]
  },
  {
   "cell_type": "code",
   "execution_count": 18,
   "metadata": {},
   "outputs": [],
   "source": [
    "# inA가 3개 이상일 경우만 상관계수를 구할 수 있음\n",
    "def pearsSim(inA,inB):\n",
    "    if len(inA) < 3 : return 1.0\n",
    "    return 0.5+0.5*corrcoef(inA, inB, rowvar = 0)[0][1]"
   ]
  },
  {
   "cell_type": "code",
   "execution_count": 19,
   "metadata": {},
   "outputs": [],
   "source": [
    "def cosSim(inA,inB):\n",
    "    num = float(inA.T*inB)\n",
    "    denom = la.norm(inA)*la.norm(inB)\n",
    "    return 0.5+0.5*(num/denom)"
   ]
  },
  {
   "cell_type": "code",
   "execution_count": 20,
   "metadata": {},
   "outputs": [
    {
     "data": {
      "text/plain": [
       "matrix([[0, 0, 0, 0, 0, 4, 0, 0, 0, 0, 5],\n",
       "        [0, 0, 0, 3, 0, 4, 0, 0, 0, 0, 3],\n",
       "        [0, 0, 0, 0, 4, 0, 0, 1, 0, 4, 0],\n",
       "        [3, 3, 4, 0, 0, 0, 0, 2, 2, 0, 0],\n",
       "        [5, 4, 5, 0, 0, 0, 0, 5, 5, 0, 0],\n",
       "        [0, 0, 0, 0, 5, 0, 1, 0, 0, 5, 0],\n",
       "        [4, 3, 4, 0, 0, 0, 0, 5, 5, 0, 1],\n",
       "        [0, 0, 0, 4, 0, 4, 0, 0, 0, 0, 4],\n",
       "        [0, 0, 0, 2, 0, 2, 5, 0, 0, 1, 2],\n",
       "        [0, 0, 0, 0, 5, 0, 0, 0, 0, 4, 0],\n",
       "        [1, 0, 0, 0, 0, 0, 0, 1, 2, 0, 0]])"
      ]
     },
     "execution_count": 20,
     "metadata": {},
     "output_type": "execute_result"
    }
   ],
   "source": [
    "myMat = mat(loadExData2())\n",
    "myMat"
   ]
  },
  {
   "cell_type": "code",
   "execution_count": 21,
   "metadata": {},
   "outputs": [
    {
     "data": {
      "text/plain": [
       "0.08462632608958592"
      ]
     },
     "execution_count": 21,
     "metadata": {},
     "output_type": "execute_result"
    }
   ],
   "source": [
    "ecludSim(myMat[:,0], myMat[:,4])"
   ]
  },
  {
   "cell_type": "code",
   "execution_count": 22,
   "metadata": {},
   "outputs": [
    {
     "data": {
      "text/plain": [
       "1.0"
      ]
     },
     "execution_count": 22,
     "metadata": {},
     "output_type": "execute_result"
    }
   ],
   "source": [
    "ecludSim(myMat[:,0], myMat[:,0])"
   ]
  },
  {
   "cell_type": "code",
   "execution_count": 23,
   "metadata": {},
   "outputs": [
    {
     "data": {
      "text/plain": [
       "0.5"
      ]
     },
     "execution_count": 23,
     "metadata": {},
     "output_type": "execute_result"
    }
   ],
   "source": [
    "cosSim(myMat[:,0], myMat[:,4])"
   ]
  },
  {
   "cell_type": "code",
   "execution_count": 24,
   "metadata": {},
   "outputs": [
    {
     "data": {
      "text/plain": [
       "1.0"
      ]
     },
     "execution_count": 24,
     "metadata": {},
     "output_type": "execute_result"
    }
   ],
   "source": [
    "cosSim(myMat[:,0], myMat[:,0])"
   ]
  },
  {
   "cell_type": "code",
   "execution_count": 25,
   "metadata": {},
   "outputs": [
    {
     "data": {
      "text/plain": [
       "0.30035408702896593"
      ]
     },
     "execution_count": 25,
     "metadata": {},
     "output_type": "execute_result"
    }
   ],
   "source": [
    "pearsSim(myMat[:,0], myMat[:,4])"
   ]
  },
  {
   "cell_type": "code",
   "execution_count": 26,
   "metadata": {},
   "outputs": [
    {
     "data": {
      "text/plain": [
       "1.0"
      ]
     },
     "execution_count": 26,
     "metadata": {},
     "output_type": "execute_result"
    }
   ],
   "source": [
    "pearsSim(myMat[:,0], myMat[:,0])"
   ]
  },
  {
   "cell_type": "markdown",
   "metadata": {},
   "source": [
    "# 2. 협업 필터링\n",
    "\n",
    "## 2.1 유사한 사용자 찾기\n",
    "\n",
    "- 협업 필터링: 새로운 객체를 결정하기 위해 데이터셋에 포함된 객체 간의 패턴을 식별 프로세스\n",
    "- dataset에서 유사한 사용자를 찾아 추천\n",
    "- 데이터셋에 포함된 다른 사용자들의 선호도(preference) 정보를 활용함으로써 여러 사용자가 '협업'해 동시에 무엇을 추천하는 듯한 효과\n",
    "- 추천하지 않을 아이템을 filtering\n",
    "- 두 사람이 이전에 본 영화들에 대해 비슷한 평점을 주었다면 두 사람은 유사도가 높음 \n",
    "  => 새로운 영화에 대해서도 비슷한 평점을 줄 것으로 기대\n",
    "- 유클리드점수/피어슨상관계수를 이용하여 데이터셋에서 유사한 사용자를 찾음"
   ]
  },
  {
   "cell_type": "code",
   "execution_count": 27,
   "metadata": {},
   "outputs": [],
   "source": [
    "import json\n",
    "import numpy as np"
   ]
  },
  {
   "cell_type": "code",
   "execution_count": 28,
   "metadata": {},
   "outputs": [],
   "source": [
    "# Compute the Pearson correlation score between user1 and user2 \n",
    "def pearson_score(dataset, user1, user2):\n",
    "    if user1 not in dataset:\n",
    "        raise TypeError('Cannot find ' + user1 + ' in the dataset')\n",
    "\n",
    "    if user2 not in dataset:\n",
    "        raise TypeError('Cannot find ' + user2 + ' in the dataset')\n",
    "\n",
    "    # 두 사용자에게서 평점을 받은 영화 저장\n",
    "    common_movies = {}\n",
    "\n",
    "    # 두 사용자에게서 모두 평점을 받은 영화 찾음\n",
    "    for item in dataset[user1]:\n",
    "        if item in dataset[user2]:\n",
    "            common_movies[item] = 1\n",
    "\n",
    "    num_ratings = len(common_movies) \n",
    "\n",
    "    # 사용자간 공통 영화가 없으면, score = 0 \n",
    "    if num_ratings == 0:\n",
    "        return 0\n",
    "\n",
    "    # 사용자별로 공통으로 평가한 영화의 평점 합 계산 \n",
    "    user1_sum = np.sum([dataset[user1][item] for item in common_movies])\n",
    "    user2_sum = np.sum([dataset[user2][item] for item in common_movies])\n",
    "\n",
    "    # 사용자별로 공통으로 평가한 영화의 평점의 제곱 합 계산\n",
    "    user1_squared_sum = np.sum([np.square(dataset[user1][item]) for item in common_movies])\n",
    "    user2_squared_sum = np.sum([np.square(dataset[user2][item]) for item in common_movies])\n",
    "\n",
    "    # 두 사용자가 평가한 영화 평점의 곱\n",
    "    sum_of_products = np.sum([dataset[user1][item] * dataset[user2][item] for item in common_movies])\n",
    "\n",
    "    # Calculate the Pearson correlation score\n",
    "    Sxy = sum_of_products - (user1_sum * user2_sum / num_ratings)\n",
    "    Sxx = user1_squared_sum - np.square(user1_sum) / num_ratings\n",
    "    Syy = user2_squared_sum - np.square(user2_sum) / num_ratings\n",
    "    \n",
    "    if Sxx * Syy == 0:\n",
    "        return 0\n",
    "\n",
    "    return Sxy / np.sqrt(Sxx * Syy)"
   ]
  },
  {
   "cell_type": "code",
   "execution_count": 29,
   "metadata": {},
   "outputs": [],
   "source": [
    "# 입력 user와 유사한 상위 user(num_users)를 찾음\n",
    "def find_similar_users(dataset, user, num_users):\n",
    "    if user not in dataset:\n",
    "        raise TypeError('Cannot find ' + user + ' in the dataset')\n",
    "\n",
    "    # 입력 사용자와 다른 모든 사용자 간의 Pearson score 계산\n",
    "    scores = np.array([[x, pearson_score(dataset, user, x)] for x in dataset if x != user])\n",
    "\n",
    "    # 내림차순으로 정렬\n",
    "    scores_sorted = np.argsort(scores[:, 1])[::-1]\n",
    "\n",
    "    # 상위 num_users 추출\n",
    "    top_users = scores_sorted[:num_users] \n",
    "\n",
    "    return scores[top_users] "
   ]
  },
  {
   "cell_type": "code",
   "execution_count": 30,
   "metadata": {},
   "outputs": [
    {
     "data": {
      "text/plain": [
       "{'David Smith': {'Vertigo': 4,\n",
       "  'Scarface': 4.5,\n",
       "  'Raging Bull': 3.0,\n",
       "  'Goodfellas': 4.5,\n",
       "  'The Apartment': 1.0},\n",
       " 'Brenda Peterson': {'Vertigo': 3.0,\n",
       "  'Scarface': 1.5,\n",
       "  'Raging Bull': 1.0,\n",
       "  'Goodfellas': 2.0,\n",
       "  'The Apartment': 5.0,\n",
       "  'Roman Holiday': 4.5},\n",
       " 'Bill Duffy': {'Vertigo': 4.5,\n",
       "  'Scarface': 5.0,\n",
       "  'Goodfellas': 4.5,\n",
       "  'The Apartment': 1.0},\n",
       " 'Samuel Miller': {'Scarface': 3.5,\n",
       "  'Raging Bull': 5.0,\n",
       "  'The Apartment': 1.0,\n",
       "  'Goodfellas': 5.0,\n",
       "  'Roman Holiday': 1.0},\n",
       " 'Julie Hammel': {'Scarface': 2.5, 'Roman Holiday': 4.5, 'Goodfellas': 3.0},\n",
       " 'Clarissa Jackson': {'Vertigo': 5.0,\n",
       "  'Scarface': 4.5,\n",
       "  'Raging Bull': 4.0,\n",
       "  'Goodfellas': 2.5,\n",
       "  'The Apartment': 1.0,\n",
       "  'Roman Holiday': 1.5},\n",
       " 'Adam Cohen': {'Vertigo': 3.5,\n",
       "  'Scarface': 3.0,\n",
       "  'The Apartment': 1.0,\n",
       "  'Goodfellas': 4.5,\n",
       "  'Roman Holiday': 3.0},\n",
       " 'Chris Duncan': {'The Apartment': 1.5, 'Raging Bull': 4.5}}"
      ]
     },
     "execution_count": 30,
     "metadata": {},
     "output_type": "execute_result"
    }
   ],
   "source": [
    "ratings_file = 'ratings.json'\n",
    "user = 'Bill Duffy'\n",
    "\n",
    "with open(ratings_file, 'r') as f:\n",
    "    data = json.loads(f.read())\n",
    "data"
   ]
  },
  {
   "cell_type": "code",
   "execution_count": 31,
   "metadata": {},
   "outputs": [
    {
     "name": "stdout",
     "output_type": "stream",
     "text": [
      "\n",
      "Users similar to Bill Duffy:\n",
      "\n",
      "User\t\t\tSimilarity score\n",
      "-----------------------------------------\n",
      "David Smith \t\t 0.99\n",
      "Samuel Miller \t\t 0.88\n",
      "Adam Cohen \t\t 0.86\n"
     ]
    }
   ],
   "source": [
    "print('\\nUsers similar to ' + user + ':\\n')\n",
    "similar_users = find_similar_users(data, user, 3) \n",
    "print('User\\t\\t\\tSimilarity score')\n",
    "print('-'*41)\n",
    "for item in similar_users:\n",
    "    print(item[0], '\\t\\t', round(float(item[1]), 2))"
   ]
  },
  {
   "cell_type": "code",
   "execution_count": 32,
   "metadata": {},
   "outputs": [
    {
     "name": "stdout",
     "output_type": "stream",
     "text": [
      "\n",
      "Users similar to Clarissa Jackson:\n",
      "\n",
      "User\t\t\tSimilarity score\n",
      "-----------------------------------------\n",
      "Chris Duncan \t\t 1.0\n",
      "Bill Duffy \t\t 0.83\n",
      "Samuel Miller \t\t 0.73\n"
     ]
    }
   ],
   "source": [
    "user = 'Clarissa Jackson'\n",
    "print('\\nUsers similar to ' + user + ':\\n')\n",
    "similar_users = find_similar_users(data, user, 3) \n",
    "print('User\\t\\t\\tSimilarity score')\n",
    "print('-'*41)\n",
    "for item in similar_users:\n",
    "    print(item[0], '\\t\\t', round(float(item[1]), 2))"
   ]
  },
  {
   "cell_type": "markdown",
   "metadata": {},
   "source": [
    "## 2.2 영화 추천 시스템 만들기\n",
    "\n",
    "- 특정 사용자에게 영화를 추천할 때 데이터셋에서 유사한 사용자를 찾고 이 사용자의 영화 평점 정보 이용"
   ]
  },
  {
   "cell_type": "code",
   "execution_count": 34,
   "metadata": {},
   "outputs": [],
   "source": [
    "# 입력 사용자에게 영화를 추천\n",
    "def get_recommendations(dataset, input_user):\n",
    "    if input_user not in dataset:\n",
    "        raise TypeError('Cannot find ' + input_user + ' in the dataset')\n",
    "\n",
    "    overall_scores = {}\n",
    "    similarity_scores = {}\n",
    "\n",
    "    # 입력 user와 dataset의 다른 사용자 간의 유사도계산(pearson상관계수)\n",
    "    for user in [x for x in dataset if x != input_user]:\n",
    "        similarity_score = pearson_score(dataset, input_user, user)\n",
    "\n",
    "        if similarity_score <= 0:\n",
    "            continue\n",
    "        \n",
    "        # 다른 사용자가 본 영화 중에서 입력 user가 보지 않았거나 평점이 0인 영화 list\n",
    "        filtered_list = [x for x in dataset[user] if x not in \\\n",
    "                dataset[input_user] or dataset[input_user][x] == 0]\n",
    "\n",
    "        # 유사도에 따라 가중 평점\n",
    "        for item in filtered_list: \n",
    "            overall_scores.update({item: dataset[user][item] * similarity_score})\n",
    "            similarity_scores.update({item: similarity_score})\n",
    "\n",
    "    if len(overall_scores) == 0:\n",
    "        return ['No recommendations possible']\n",
    "\n",
    "    # 가중 점수에 따라 점수를 정규화(normalization)\n",
    "    movie_scores = np.array([[score/similarity_scores[item], item] \n",
    "            for item, score in overall_scores.items()])\n",
    "\n",
    "    # Sort in decreasing order \n",
    "    movie_scores = movie_scores[np.argsort(movie_scores[:, 0])[::-1]]\n",
    "\n",
    "    # Extract the movie recommendations\n",
    "    movie_recommendations = [movie for _, movie in movie_scores]\n",
    "\n",
    "    return movie_recommendations"
   ]
  },
  {
   "cell_type": "code",
   "execution_count": 35,
   "metadata": {},
   "outputs": [],
   "source": [
    "ratings_file = 'ratings.json'\n",
    "user = 'Chris Duncan'\n",
    "\n",
    "with open(ratings_file, 'r') as f:\n",
    "    data = json.loads(f.read())"
   ]
  },
  {
   "cell_type": "code",
   "execution_count": 36,
   "metadata": {},
   "outputs": [
    {
     "name": "stdout",
     "output_type": "stream",
     "text": [
      "\n",
      "Movie recommendations for Chris Duncan:\n",
      "1. Vertigo\n",
      "2. Scarface\n",
      "3. Goodfellas\n",
      "4. Roman Holiday\n"
     ]
    }
   ],
   "source": [
    "print(\"\\nMovie recommendations for \" + user + \":\")\n",
    "movies = get_recommendations(data, user) \n",
    "for i, movie in enumerate(movies):\n",
    "    print(str(i+1) + '. ' + movie)"
   ]
  },
  {
   "cell_type": "code",
   "execution_count": 37,
   "metadata": {},
   "outputs": [
    {
     "name": "stdout",
     "output_type": "stream",
     "text": [
      "\n",
      "Movie recommendations for Julie Hammel:\n",
      "1. The Apartment\n",
      "2. Vertigo\n",
      "3. Raging Bull\n"
     ]
    }
   ],
   "source": [
    "user = 'Julie Hammel'\n",
    "print(\"\\nMovie recommendations for \" + user + \":\")\n",
    "movies = get_recommendations(data, user) \n",
    "for i, movie in enumerate(movies):\n",
    "    print(str(i+1) + '. ' + movie)"
   ]
  },
  {
   "cell_type": "markdown",
   "metadata": {
    "collapsed": true
   },
   "source": [
    "### MovieLens 영화 평점 데이터로 테스트"
   ]
  },
  {
   "cell_type": "code",
   "execution_count": null,
   "metadata": {},
   "outputs": [],
   "source": []
  }
 ],
 "metadata": {
  "kernelspec": {
   "display_name": "Python 3",
   "language": "python",
   "name": "python3"
  },
  "language_info": {
   "codemirror_mode": {
    "name": "ipython",
    "version": 3
   },
   "file_extension": ".py",
   "mimetype": "text/x-python",
   "name": "python",
   "nbconvert_exporter": "python",
   "pygments_lexer": "ipython3",
   "version": "3.8.8"
  }
 },
 "nbformat": 4,
 "nbformat_minor": 4
}

{
 "cells": [
  {
   "cell_type": "markdown",
   "metadata": {},
   "source": [
    "<h1>[Project] 지진데이터 분석\n",
    "</h1>"
   ]
  },
  {
   "cell_type": "markdown",
   "metadata": {},
   "source": [
    "<h2>프로젝트 목표<h2>\n",
    "<h4>기상청에서 내려받은 지진정보로 데이터를 분석하여 유의미한 정보 도출</h4>\n",
    "  "
   ]
  },
  {
   "cell_type": "markdown",
   "metadata": {},
   "source": [
    "<h2>프로젝트 목차</h2>\n",
    "\n",
    "<h4> 1. 데이터 읽기 </h4>\n",
    "    <h5><pre> 1.1 기상청에서 내려받은 csv 파일을 읽는다</pre></h5>\n",
    "    <h5><pre>자료출처 : https://data.kma.go.kr/cmmn/main.do</pre></h5>\n",
    "<h4> 2. 데이터 정제 </h4>\n",
    "<h5><pre> 2.1 데이터 병합</pre></h5>\n",
    "<h5><pre> 2.2 중복값 제거</pre></h5>\n",
    "<h5><pre> 2.3 시간칼럼에서 불필요한 시간 삭제</pre></h5>\n",
    "<h5><pre> 2.4 위치 정보를 군단위까지 나타내기</pre></h5>\n",
    "<h4> 3. 데이터 시각화 </h4>\n",
    "    <h5><pre>3.1 2021년, 2022년 월별 지진발생횟수</pre></h5>\n",
    "    <h5><pre>3.2 2021년, 2022년 지역별 지진발생횟수</pre></h5>\n",
    "    <h5><pre>3.3 2021년, 2022년 지진규모별 지진발생횟수</pre></h5>\n",
    "    <h5><pre>3.4 2021년, 2022년 진앙깊이별 지진발생횟수</pre></h5>\n"
   ]
  },
  {
   "cell_type": "markdown",
   "metadata": {
    "scrolled": false
   },
   "source": [
    "<h2>1. 데이터 불러오기</h2>"
   ]
  },
  {
   "cell_type": "code",
   "execution_count": 50,
   "metadata": {},
   "outputs": [],
   "source": [
    "import pandas as pd\n",
    "import numpy as np\n",
    "import seaborn as sns\n",
    "import matplotlib as mpl\n",
    "import matplotlib.pyplot as plt\n",
    "import matplotlib.font_manager as fm\n",
    "\n"
   ]
  },
  {
   "cell_type": "code",
   "execution_count": 51,
   "metadata": {
    "scrolled": true
   },
   "outputs": [],
   "source": [
    "EQK_normal = pd.read_csv(\"./data/EQK_normal.csv\", encoding='cp949')\n",
    "EQK_small = pd.read_csv(\"./data/EQK_small.csv\", encoding='cp949')\n",
    "\n"
   ]
  },
  {
   "cell_type": "markdown",
   "metadata": {
    "scrolled": false
   },
   "source": [
    "<h2>2. 데이터 정제하기</h2>"
   ]
  },
  {
   "cell_type": "markdown",
   "metadata": {},
   "source": [
    "<h3>2.1 데이터 병합</h3>"
   ]
  },
  {
   "cell_type": "code",
   "execution_count": 52,
   "metadata": {
    "scrolled": false
   },
   "outputs": [
    {
     "name": "stdout",
     "output_type": "stream",
     "text": [
      "1401\n",
      "133\n",
      "1268\n"
     ]
    }
   ],
   "source": [
    "EQK = pd.merge(EQK_normal, EQK_small, how='outer')\n",
    "print(len(EQK))\n",
    "print(len(EQK_normal))\n",
    "print(len(EQK_small))\n",
    "EQK = pd.DataFrame(EQK)\n"
   ]
  },
  {
   "cell_type": "code",
   "execution_count": 53,
   "metadata": {},
   "outputs": [
    {
     "data": {
      "text/html": [
       "<div>\n",
       "<style scoped>\n",
       "    .dataframe tbody tr th:only-of-type {\n",
       "        vertical-align: middle;\n",
       "    }\n",
       "\n",
       "    .dataframe tbody tr th {\n",
       "        vertical-align: top;\n",
       "    }\n",
       "\n",
       "    .dataframe thead th {\n",
       "        text-align: right;\n",
       "    }\n",
       "</style>\n",
       "<table border=\"1\" class=\"dataframe\">\n",
       "  <thead>\n",
       "    <tr style=\"text-align: right;\">\n",
       "      <th></th>\n",
       "      <th>시간</th>\n",
       "      <th>규모</th>\n",
       "      <th>진앙(km)</th>\n",
       "      <th>위도</th>\n",
       "      <th>경도</th>\n",
       "      <th>위치</th>\n",
       "    </tr>\n",
       "  </thead>\n",
       "  <tbody>\n",
       "    <tr>\n",
       "      <th>0</th>\n",
       "      <td>2021-01-14 08:17:28</td>\n",
       "      <td>2.1</td>\n",
       "      <td>0</td>\n",
       "      <td>36.86</td>\n",
       "      <td>125.43</td>\n",
       "      <td>충남 태안군 서격렬비도 북북서쪽 30km 해역</td>\n",
       "    </tr>\n",
       "    <tr>\n",
       "      <th>1</th>\n",
       "      <td>2021-01-24 06:23:05</td>\n",
       "      <td>2.1</td>\n",
       "      <td>11</td>\n",
       "      <td>35.84</td>\n",
       "      <td>125.14</td>\n",
       "      <td>전북 군산시 어청도 서남서쪽 81km 해역</td>\n",
       "    </tr>\n",
       "    <tr>\n",
       "      <th>2</th>\n",
       "      <td>2021-02-03 12:17:56</td>\n",
       "      <td>2.2</td>\n",
       "      <td>8</td>\n",
       "      <td>37.32</td>\n",
       "      <td>126.24</td>\n",
       "      <td>인천 옹진군 서남서쪽 38km 해역</td>\n",
       "    </tr>\n",
       "    <tr>\n",
       "      <th>3</th>\n",
       "      <td>2021-02-06 04:40:03</td>\n",
       "      <td>2.7</td>\n",
       "      <td>5</td>\n",
       "      <td>35.81</td>\n",
       "      <td>127.53</td>\n",
       "      <td>전북 장수군 북쪽 18km 지역</td>\n",
       "    </tr>\n",
       "    <tr>\n",
       "      <th>4</th>\n",
       "      <td>2021-02-08 03:37:34</td>\n",
       "      <td>3.2</td>\n",
       "      <td>24</td>\n",
       "      <td>40.67</td>\n",
       "      <td>127.45</td>\n",
       "      <td>북한 함경남도 장진 북북동쪽 37km 지역</td>\n",
       "    </tr>\n",
       "  </tbody>\n",
       "</table>\n",
       "</div>"
      ],
      "text/plain": [
       "                    시간   규모  진앙(km)     위도      경도                         위치\n",
       "0  2021-01-14 08:17:28  2.1       0  36.86  125.43  충남 태안군 서격렬비도 북북서쪽 30km 해역\n",
       "1  2021-01-24 06:23:05  2.1      11  35.84  125.14    전북 군산시 어청도 서남서쪽 81km 해역\n",
       "2  2021-02-03 12:17:56  2.2       8  37.32  126.24        인천 옹진군 서남서쪽 38km 해역\n",
       "3  2021-02-06 04:40:03  2.7       5  35.81  127.53          전북 장수군 북쪽 18km 지역\n",
       "4  2021-02-08 03:37:34  3.2      24  40.67  127.45    북한 함경남도 장진 북북동쪽 37km 지역"
      ]
     },
     "execution_count": 53,
     "metadata": {},
     "output_type": "execute_result"
    }
   ],
   "source": [
    "EQK.head()"
   ]
  },
  {
   "cell_type": "code",
   "execution_count": 54,
   "metadata": {},
   "outputs": [
    {
     "name": "stdout",
     "output_type": "stream",
     "text": [
      "<class 'pandas.core.frame.DataFrame'>\n",
      "Int64Index: 1401 entries, 0 to 1400\n",
      "Data columns (total 6 columns):\n",
      " #   Column  Non-Null Count  Dtype  \n",
      "---  ------  --------------  -----  \n",
      " 0   시간      1401 non-null   object \n",
      " 1   규모      1401 non-null   float64\n",
      " 2   진앙(km)  1401 non-null   int64  \n",
      " 3   위도      1401 non-null   float64\n",
      " 4   경도      1401 non-null   float64\n",
      " 5   위치      1401 non-null   object \n",
      "dtypes: float64(3), int64(1), object(2)\n",
      "memory usage: 76.6+ KB\n"
     ]
    }
   ],
   "source": [
    "EQK.info()"
   ]
  },
  {
   "cell_type": "code",
   "execution_count": 55,
   "metadata": {
    "scrolled": true
   },
   "outputs": [
    {
     "data": {
      "text/html": [
       "<div>\n",
       "<style scoped>\n",
       "    .dataframe tbody tr th:only-of-type {\n",
       "        vertical-align: middle;\n",
       "    }\n",
       "\n",
       "    .dataframe tbody tr th {\n",
       "        vertical-align: top;\n",
       "    }\n",
       "\n",
       "    .dataframe thead th {\n",
       "        text-align: right;\n",
       "    }\n",
       "</style>\n",
       "<table border=\"1\" class=\"dataframe\">\n",
       "  <thead>\n",
       "    <tr style=\"text-align: right;\">\n",
       "      <th></th>\n",
       "      <th>시간</th>\n",
       "      <th>규모</th>\n",
       "      <th>진앙(km)</th>\n",
       "      <th>위도</th>\n",
       "      <th>경도</th>\n",
       "      <th>위치</th>\n",
       "    </tr>\n",
       "  </thead>\n",
       "  <tbody>\n",
       "    <tr>\n",
       "      <th>count</th>\n",
       "      <td>1401</td>\n",
       "      <td>1401.000000</td>\n",
       "      <td>1401.000000</td>\n",
       "      <td>1401.000000</td>\n",
       "      <td>1401.000000</td>\n",
       "      <td>1401</td>\n",
       "    </tr>\n",
       "    <tr>\n",
       "      <th>unique</th>\n",
       "      <td>1399</td>\n",
       "      <td>NaN</td>\n",
       "      <td>NaN</td>\n",
       "      <td>NaN</td>\n",
       "      <td>NaN</td>\n",
       "      <td>991</td>\n",
       "    </tr>\n",
       "    <tr>\n",
       "      <th>top</th>\n",
       "      <td>2021-03-09 16:53:19</td>\n",
       "      <td>NaN</td>\n",
       "      <td>NaN</td>\n",
       "      <td>NaN</td>\n",
       "      <td>NaN</td>\n",
       "      <td>경북 경주시 남남서쪽 11km 지역</td>\n",
       "    </tr>\n",
       "    <tr>\n",
       "      <th>freq</th>\n",
       "      <td>2</td>\n",
       "      <td>NaN</td>\n",
       "      <td>NaN</td>\n",
       "      <td>NaN</td>\n",
       "      <td>NaN</td>\n",
       "      <td>26</td>\n",
       "    </tr>\n",
       "    <tr>\n",
       "      <th>mean</th>\n",
       "      <td>NaN</td>\n",
       "      <td>1.471235</td>\n",
       "      <td>12.196288</td>\n",
       "      <td>36.178637</td>\n",
       "      <td>127.836731</td>\n",
       "      <td>NaN</td>\n",
       "    </tr>\n",
       "    <tr>\n",
       "      <th>std</th>\n",
       "      <td>NaN</td>\n",
       "      <td>0.440609</td>\n",
       "      <td>5.289276</td>\n",
       "      <td>1.314145</td>\n",
       "      <td>1.404713</td>\n",
       "      <td>NaN</td>\n",
       "    </tr>\n",
       "    <tr>\n",
       "      <th>min</th>\n",
       "      <td>NaN</td>\n",
       "      <td>0.400000</td>\n",
       "      <td>0.000000</td>\n",
       "      <td>32.930000</td>\n",
       "      <td>124.300000</td>\n",
       "      <td>NaN</td>\n",
       "    </tr>\n",
       "    <tr>\n",
       "      <th>25%</th>\n",
       "      <td>NaN</td>\n",
       "      <td>1.200000</td>\n",
       "      <td>9.000000</td>\n",
       "      <td>35.650000</td>\n",
       "      <td>126.790000</td>\n",
       "      <td>NaN</td>\n",
       "    </tr>\n",
       "    <tr>\n",
       "      <th>50%</th>\n",
       "      <td>NaN</td>\n",
       "      <td>1.400000</td>\n",
       "      <td>12.000000</td>\n",
       "      <td>36.100000</td>\n",
       "      <td>127.930000</td>\n",
       "      <td>NaN</td>\n",
       "    </tr>\n",
       "    <tr>\n",
       "      <th>75%</th>\n",
       "      <td>NaN</td>\n",
       "      <td>1.700000</td>\n",
       "      <td>16.000000</td>\n",
       "      <td>36.750000</td>\n",
       "      <td>129.180000</td>\n",
       "      <td>NaN</td>\n",
       "    </tr>\n",
       "    <tr>\n",
       "      <th>max</th>\n",
       "      <td>NaN</td>\n",
       "      <td>4.900000</td>\n",
       "      <td>33.000000</td>\n",
       "      <td>41.310000</td>\n",
       "      <td>130.980000</td>\n",
       "      <td>NaN</td>\n",
       "    </tr>\n",
       "  </tbody>\n",
       "</table>\n",
       "</div>"
      ],
      "text/plain": [
       "                         시간           규모       진앙(km)           위도  \\\n",
       "count                  1401  1401.000000  1401.000000  1401.000000   \n",
       "unique                 1399          NaN          NaN          NaN   \n",
       "top     2021-03-09 16:53:19          NaN          NaN          NaN   \n",
       "freq                      2          NaN          NaN          NaN   \n",
       "mean                    NaN     1.471235    12.196288    36.178637   \n",
       "std                     NaN     0.440609     5.289276     1.314145   \n",
       "min                     NaN     0.400000     0.000000    32.930000   \n",
       "25%                     NaN     1.200000     9.000000    35.650000   \n",
       "50%                     NaN     1.400000    12.000000    36.100000   \n",
       "75%                     NaN     1.700000    16.000000    36.750000   \n",
       "max                     NaN     4.900000    33.000000    41.310000   \n",
       "\n",
       "                 경도                   위치  \n",
       "count   1401.000000                 1401  \n",
       "unique          NaN                  991  \n",
       "top             NaN  경북 경주시 남남서쪽 11km 지역  \n",
       "freq            NaN                   26  \n",
       "mean     127.836731                  NaN  \n",
       "std        1.404713                  NaN  \n",
       "min      124.300000                  NaN  \n",
       "25%      126.790000                  NaN  \n",
       "50%      127.930000                  NaN  \n",
       "75%      129.180000                  NaN  \n",
       "max      130.980000                  NaN  "
      ]
     },
     "execution_count": 55,
     "metadata": {},
     "output_type": "execute_result"
    }
   ],
   "source": [
    "EQK.describe(include='all')"
   ]
  },
  {
   "cell_type": "markdown",
   "metadata": {},
   "source": [
    "<h3>2.2 중복값 제거</h3>"
   ]
  },
  {
   "cell_type": "code",
   "execution_count": 56,
   "metadata": {},
   "outputs": [
    {
     "data": {
      "text/html": [
       "<div>\n",
       "<style scoped>\n",
       "    .dataframe tbody tr th:only-of-type {\n",
       "        vertical-align: middle;\n",
       "    }\n",
       "\n",
       "    .dataframe tbody tr th {\n",
       "        vertical-align: top;\n",
       "    }\n",
       "\n",
       "    .dataframe thead th {\n",
       "        text-align: right;\n",
       "    }\n",
       "</style>\n",
       "<table border=\"1\" class=\"dataframe\">\n",
       "  <thead>\n",
       "    <tr style=\"text-align: right;\">\n",
       "      <th></th>\n",
       "      <th>시간</th>\n",
       "      <th>규모</th>\n",
       "      <th>진앙(km)</th>\n",
       "      <th>위도</th>\n",
       "      <th>경도</th>\n",
       "      <th>위치</th>\n",
       "    </tr>\n",
       "  </thead>\n",
       "  <tbody>\n",
       "    <tr>\n",
       "      <th>271</th>\n",
       "      <td>2021-03-09 16:53:19</td>\n",
       "      <td>1.1</td>\n",
       "      <td>17</td>\n",
       "      <td>36.43</td>\n",
       "      <td>128.32</td>\n",
       "      <td>경북 상주시 동쪽 15km 지역</td>\n",
       "    </tr>\n",
       "    <tr>\n",
       "      <th>272</th>\n",
       "      <td>2021-03-09 16:53:19</td>\n",
       "      <td>1.1</td>\n",
       "      <td>17</td>\n",
       "      <td>36.43</td>\n",
       "      <td>128.32</td>\n",
       "      <td>경북 상주시 동쪽 15km 지역</td>\n",
       "    </tr>\n",
       "    <tr>\n",
       "      <th>273</th>\n",
       "      <td>2021-03-09 23:02:34</td>\n",
       "      <td>1.2</td>\n",
       "      <td>16</td>\n",
       "      <td>35.77</td>\n",
       "      <td>129.18</td>\n",
       "      <td>경북 경주시 남남서쪽 10km 지역</td>\n",
       "    </tr>\n",
       "    <tr>\n",
       "      <th>274</th>\n",
       "      <td>2021-03-09 23:02:34</td>\n",
       "      <td>1.2</td>\n",
       "      <td>16</td>\n",
       "      <td>35.77</td>\n",
       "      <td>129.18</td>\n",
       "      <td>경북 경주시 남남서쪽 10km 지역</td>\n",
       "    </tr>\n",
       "  </tbody>\n",
       "</table>\n",
       "</div>"
      ],
      "text/plain": [
       "                      시간   규모  진앙(km)     위도      경도                   위치\n",
       "271  2021-03-09 16:53:19  1.1      17  36.43  128.32    경북 상주시 동쪽 15km 지역\n",
       "272  2021-03-09 16:53:19  1.1      17  36.43  128.32    경북 상주시 동쪽 15km 지역\n",
       "273  2021-03-09 23:02:34  1.2      16  35.77  129.18  경북 경주시 남남서쪽 10km 지역\n",
       "274  2021-03-09 23:02:34  1.2      16  35.77  129.18  경북 경주시 남남서쪽 10km 지역"
      ]
     },
     "execution_count": 56,
     "metadata": {},
     "output_type": "execute_result"
    }
   ],
   "source": [
    "EQK[EQK.duplicated(keep=False)]"
   ]
  },
  {
   "cell_type": "code",
   "execution_count": 57,
   "metadata": {
    "scrolled": true
   },
   "outputs": [
    {
     "data": {
      "text/html": [
       "<div>\n",
       "<style scoped>\n",
       "    .dataframe tbody tr th:only-of-type {\n",
       "        vertical-align: middle;\n",
       "    }\n",
       "\n",
       "    .dataframe tbody tr th {\n",
       "        vertical-align: top;\n",
       "    }\n",
       "\n",
       "    .dataframe thead th {\n",
       "        text-align: right;\n",
       "    }\n",
       "</style>\n",
       "<table border=\"1\" class=\"dataframe\">\n",
       "  <thead>\n",
       "    <tr style=\"text-align: right;\">\n",
       "      <th></th>\n",
       "      <th>시간</th>\n",
       "      <th>규모</th>\n",
       "      <th>진앙(km)</th>\n",
       "      <th>위도</th>\n",
       "      <th>경도</th>\n",
       "      <th>위치</th>\n",
       "    </tr>\n",
       "  </thead>\n",
       "  <tbody>\n",
       "    <tr>\n",
       "      <th>count</th>\n",
       "      <td>1399</td>\n",
       "      <td>1399.000000</td>\n",
       "      <td>1399.000000</td>\n",
       "      <td>1399.000000</td>\n",
       "      <td>1399.000000</td>\n",
       "      <td>1399</td>\n",
       "    </tr>\n",
       "    <tr>\n",
       "      <th>unique</th>\n",
       "      <td>1399</td>\n",
       "      <td>NaN</td>\n",
       "      <td>NaN</td>\n",
       "      <td>NaN</td>\n",
       "      <td>NaN</td>\n",
       "      <td>991</td>\n",
       "    </tr>\n",
       "    <tr>\n",
       "      <th>top</th>\n",
       "      <td>2021-01-14 08:17:28</td>\n",
       "      <td>NaN</td>\n",
       "      <td>NaN</td>\n",
       "      <td>NaN</td>\n",
       "      <td>NaN</td>\n",
       "      <td>경북 경주시 남남서쪽 11km 지역</td>\n",
       "    </tr>\n",
       "    <tr>\n",
       "      <th>freq</th>\n",
       "      <td>1</td>\n",
       "      <td>NaN</td>\n",
       "      <td>NaN</td>\n",
       "      <td>NaN</td>\n",
       "      <td>NaN</td>\n",
       "      <td>26</td>\n",
       "    </tr>\n",
       "    <tr>\n",
       "      <th>mean</th>\n",
       "      <td>NaN</td>\n",
       "      <td>1.471694</td>\n",
       "      <td>12.190136</td>\n",
       "      <td>36.178749</td>\n",
       "      <td>127.835425</td>\n",
       "      <td>NaN</td>\n",
       "    </tr>\n",
       "    <tr>\n",
       "      <th>std</th>\n",
       "      <td>NaN</td>\n",
       "      <td>0.440752</td>\n",
       "      <td>5.290517</td>\n",
       "      <td>1.315022</td>\n",
       "      <td>1.405198</td>\n",
       "      <td>NaN</td>\n",
       "    </tr>\n",
       "    <tr>\n",
       "      <th>min</th>\n",
       "      <td>NaN</td>\n",
       "      <td>0.400000</td>\n",
       "      <td>0.000000</td>\n",
       "      <td>32.930000</td>\n",
       "      <td>124.300000</td>\n",
       "      <td>NaN</td>\n",
       "    </tr>\n",
       "    <tr>\n",
       "      <th>25%</th>\n",
       "      <td>NaN</td>\n",
       "      <td>1.200000</td>\n",
       "      <td>9.000000</td>\n",
       "      <td>35.650000</td>\n",
       "      <td>126.790000</td>\n",
       "      <td>NaN</td>\n",
       "    </tr>\n",
       "    <tr>\n",
       "      <th>50%</th>\n",
       "      <td>NaN</td>\n",
       "      <td>1.400000</td>\n",
       "      <td>12.000000</td>\n",
       "      <td>36.100000</td>\n",
       "      <td>127.930000</td>\n",
       "      <td>NaN</td>\n",
       "    </tr>\n",
       "    <tr>\n",
       "      <th>75%</th>\n",
       "      <td>NaN</td>\n",
       "      <td>1.700000</td>\n",
       "      <td>16.000000</td>\n",
       "      <td>36.750000</td>\n",
       "      <td>129.180000</td>\n",
       "      <td>NaN</td>\n",
       "    </tr>\n",
       "    <tr>\n",
       "      <th>max</th>\n",
       "      <td>NaN</td>\n",
       "      <td>4.900000</td>\n",
       "      <td>33.000000</td>\n",
       "      <td>41.310000</td>\n",
       "      <td>130.980000</td>\n",
       "      <td>NaN</td>\n",
       "    </tr>\n",
       "  </tbody>\n",
       "</table>\n",
       "</div>"
      ],
      "text/plain": [
       "                         시간           규모       진앙(km)           위도  \\\n",
       "count                  1399  1399.000000  1399.000000  1399.000000   \n",
       "unique                 1399          NaN          NaN          NaN   \n",
       "top     2021-01-14 08:17:28          NaN          NaN          NaN   \n",
       "freq                      1          NaN          NaN          NaN   \n",
       "mean                    NaN     1.471694    12.190136    36.178749   \n",
       "std                     NaN     0.440752     5.290517     1.315022   \n",
       "min                     NaN     0.400000     0.000000    32.930000   \n",
       "25%                     NaN     1.200000     9.000000    35.650000   \n",
       "50%                     NaN     1.400000    12.000000    36.100000   \n",
       "75%                     NaN     1.700000    16.000000    36.750000   \n",
       "max                     NaN     4.900000    33.000000    41.310000   \n",
       "\n",
       "                 경도                   위치  \n",
       "count   1399.000000                 1399  \n",
       "unique          NaN                  991  \n",
       "top             NaN  경북 경주시 남남서쪽 11km 지역  \n",
       "freq            NaN                   26  \n",
       "mean     127.835425                  NaN  \n",
       "std        1.405198                  NaN  \n",
       "min      124.300000                  NaN  \n",
       "25%      126.790000                  NaN  \n",
       "50%      127.930000                  NaN  \n",
       "75%      129.180000                  NaN  \n",
       "max      130.980000                  NaN  "
      ]
     },
     "execution_count": 57,
     "metadata": {},
     "output_type": "execute_result"
    }
   ],
   "source": [
    "EQK = EQK.drop_duplicates()\n",
    "EQK.describe(include='all')"
   ]
  },
  {
   "cell_type": "markdown",
   "metadata": {},
   "source": [
    "<h3>2.3 시간 칼럼에서 불필요한 시간을 삭제</h3>"
   ]
  },
  {
   "cell_type": "code",
   "execution_count": 58,
   "metadata": {},
   "outputs": [],
   "source": [
    "EQK['시간'] = EQK['시간'].apply(lambda x: x.split(\" \")[0])"
   ]
  },
  {
   "cell_type": "markdown",
   "metadata": {},
   "source": [
    "<h3>2.4 위치 정보를 군단위까지 나타내기</h3>"
   ]
  },
  {
   "cell_type": "code",
   "execution_count": 59,
   "metadata": {
    "scrolled": true
   },
   "outputs": [],
   "source": [
    "EQK['위치'] = EQK['위치'].apply(lambda x: x.split(\" \")[0:-3])"
   ]
  },
  {
   "cell_type": "code",
   "execution_count": 60,
   "metadata": {},
   "outputs": [
    {
     "data": {
      "text/html": [
       "<div>\n",
       "<style scoped>\n",
       "    .dataframe tbody tr th:only-of-type {\n",
       "        vertical-align: middle;\n",
       "    }\n",
       "\n",
       "    .dataframe tbody tr th {\n",
       "        vertical-align: top;\n",
       "    }\n",
       "\n",
       "    .dataframe thead th {\n",
       "        text-align: right;\n",
       "    }\n",
       "</style>\n",
       "<table border=\"1\" class=\"dataframe\">\n",
       "  <thead>\n",
       "    <tr style=\"text-align: right;\">\n",
       "      <th></th>\n",
       "      <th>시간</th>\n",
       "      <th>규모</th>\n",
       "      <th>진앙(km)</th>\n",
       "      <th>위도</th>\n",
       "      <th>경도</th>\n",
       "      <th>위치</th>\n",
       "    </tr>\n",
       "  </thead>\n",
       "  <tbody>\n",
       "    <tr>\n",
       "      <th>0</th>\n",
       "      <td>2021-01-14</td>\n",
       "      <td>2.1</td>\n",
       "      <td>0</td>\n",
       "      <td>36.86</td>\n",
       "      <td>125.43</td>\n",
       "      <td>[충남, 태안군, 서격렬비도]</td>\n",
       "    </tr>\n",
       "    <tr>\n",
       "      <th>1</th>\n",
       "      <td>2021-01-24</td>\n",
       "      <td>2.1</td>\n",
       "      <td>11</td>\n",
       "      <td>35.84</td>\n",
       "      <td>125.14</td>\n",
       "      <td>[전북, 군산시, 어청도]</td>\n",
       "    </tr>\n",
       "    <tr>\n",
       "      <th>2</th>\n",
       "      <td>2021-02-03</td>\n",
       "      <td>2.2</td>\n",
       "      <td>8</td>\n",
       "      <td>37.32</td>\n",
       "      <td>126.24</td>\n",
       "      <td>[인천, 옹진군]</td>\n",
       "    </tr>\n",
       "    <tr>\n",
       "      <th>3</th>\n",
       "      <td>2021-02-06</td>\n",
       "      <td>2.7</td>\n",
       "      <td>5</td>\n",
       "      <td>35.81</td>\n",
       "      <td>127.53</td>\n",
       "      <td>[전북, 장수군]</td>\n",
       "    </tr>\n",
       "    <tr>\n",
       "      <th>4</th>\n",
       "      <td>2021-02-08</td>\n",
       "      <td>3.2</td>\n",
       "      <td>24</td>\n",
       "      <td>40.67</td>\n",
       "      <td>127.45</td>\n",
       "      <td>[북한, 함경남도, 장진]</td>\n",
       "    </tr>\n",
       "  </tbody>\n",
       "</table>\n",
       "</div>"
      ],
      "text/plain": [
       "           시간   규모  진앙(km)     위도      경도                위치\n",
       "0  2021-01-14  2.1       0  36.86  125.43  [충남, 태안군, 서격렬비도]\n",
       "1  2021-01-24  2.1      11  35.84  125.14    [전북, 군산시, 어청도]\n",
       "2  2021-02-03  2.2       8  37.32  126.24         [인천, 옹진군]\n",
       "3  2021-02-06  2.7       5  35.81  127.53         [전북, 장수군]\n",
       "4  2021-02-08  3.2      24  40.67  127.45    [북한, 함경남도, 장진]"
      ]
     },
     "execution_count": 60,
     "metadata": {},
     "output_type": "execute_result"
    }
   ],
   "source": [
    "EQK.head()"
   ]
  },
  {
   "cell_type": "code",
   "execution_count": 61,
   "metadata": {
    "scrolled": true
   },
   "outputs": [],
   "source": [
    "EQK['위치'] = EQK['위치'].apply(lambda x: \" \".join(x))"
   ]
  },
  {
   "cell_type": "code",
   "execution_count": 62,
   "metadata": {
    "scrolled": true
   },
   "outputs": [
    {
     "data": {
      "text/plain": [
       "0    충남 태안군 서격렬비도\n",
       "1      전북 군산시 어청도\n",
       "2          인천 옹진군\n",
       "3          전북 장수군\n",
       "4      북한 함경남도 장진\n",
       "Name: 위치, dtype: object"
      ]
     },
     "execution_count": 62,
     "metadata": {},
     "output_type": "execute_result"
    }
   ],
   "source": [
    "EQK['위치'].head()"
   ]
  },
  {
   "cell_type": "markdown",
   "metadata": {
    "scrolled": false
   },
   "source": [
    "<h2>3. 데이터 시각화</h2>"
   ]
  },
  {
   "cell_type": "markdown",
   "metadata": {},
   "source": [
    "<h3>3.1 2021년, 2022년 월별 지진발생횟수</h3>"
   ]
  },
  {
   "cell_type": "code",
   "execution_count": 63,
   "metadata": {},
   "outputs": [
    {
     "data": {
      "text/plain": [
       "0       2021-01-14\n",
       "1       2021-01-24\n",
       "2       2021-02-03\n",
       "3       2021-02-06\n",
       "4       2021-02-08\n",
       "           ...    \n",
       "1396    2022-11-09\n",
       "1397    2022-11-09\n",
       "1398    2022-11-10\n",
       "1399    2022-11-10\n",
       "1400    2022-11-10\n",
       "Name: 시간, Length: 1399, dtype: object"
      ]
     },
     "execution_count": 63,
     "metadata": {},
     "output_type": "execute_result"
    }
   ],
   "source": [
    "EQK['시간']"
   ]
  },
  {
   "cell_type": "code",
   "execution_count": 64,
   "metadata": {},
   "outputs": [],
   "source": [
    "year_month = []\n",
    "\n",
    "for data in EQK['시간']:\n",
    "    year = data.split(\"-\")[0]\n",
    "    month = data.split(\"-\")[1]\n",
    "    year_month.append(f'{year}년 {month}월')"
   ]
  },
  {
   "cell_type": "code",
   "execution_count": 65,
   "metadata": {},
   "outputs": [],
   "source": [
    "EQK['year_month'] = year_month"
   ]
  },
  {
   "cell_type": "code",
   "execution_count": 66,
   "metadata": {},
   "outputs": [
    {
     "data": {
      "text/plain": [
       "year_month\n",
       "2021년 01월    66\n",
       "2021년 02월    73\n",
       "2021년 03월    63\n",
       "2021년 04월    63\n",
       "2021년 05월    49\n",
       "2021년 06월    61\n",
       "2021년 07월    54\n",
       "2021년 08월    66\n",
       "2021년 09월    58\n",
       "2021년 10월    51\n",
       "2021년 11월    61\n",
       "2021년 12월    66\n",
       "2022년 01월    56\n",
       "2022년 02월    60\n",
       "2022년 03월    54\n",
       "2022년 04월    65\n",
       "2022년 05월    61\n",
       "2022년 06월    68\n",
       "2022년 07월    72\n",
       "2022년 08월    66\n",
       "2022년 09월    57\n",
       "2022년 10월    76\n",
       "2022년 11월    33\n",
       "Name: 규모, dtype: int64"
      ]
     },
     "execution_count": 66,
     "metadata": {},
     "output_type": "execute_result"
    }
   ],
   "source": [
    "EQK.groupby(\"year_month\").count()['규모']"
   ]
  },
  {
   "cell_type": "code",
   "execution_count": 67,
   "metadata": {
    "scrolled": true
   },
   "outputs": [],
   "source": [
    "EQK_month = pd.DataFrame(EQK.groupby(\"year_month\").count()[\"규모\"]).rename(columns={\"규모\":\"지진발생횟수\"})"
   ]
  },
  {
   "cell_type": "code",
   "execution_count": 68,
   "metadata": {
    "scrolled": true
   },
   "outputs": [
    {
     "data": {
      "image/png": "[encoded data removed]",
      "text/plain": [
       "<Figure size 3000x1000 with 1 Axes>"
      ]
     },
     "metadata": {},
     "output_type": "display_data"
    }
   ],
   "source": [
    "plt.rc('font', family='NanumGothic')\n",
    "plt.rc('axes', unicode_minus=False)\n",
    "\n",
    "plt.figure(figsize=(30,10))\n",
    "\n",
    "sns.set(font='NanumGothic', \n",
    "        rc={\"axes.unicode_minus\":False},\n",
    "        style='darkgrid')\n",
    "\n",
    "ax = sns.countplot(x='year_month', data=EQK, palette=\"Set2\", order=EQK_month.index)\n",
    "plt.xticks(rotation=-270)\n",
    "plt.show()"
   ]
  },
  {
   "cell_type": "markdown",
   "metadata": {},
   "source": [
    "<h3>3.2 2021년, 2022년 지역별 지진발생횟수</h3>"
   ]
  },
  {
   "cell_type": "code",
   "execution_count": 69,
   "metadata": {},
   "outputs": [
    {
     "data": {
      "text/plain": [
       "location\n",
       "경북 경주시        123\n",
       "경북 영덕군         81\n",
       "전남 신안군 흑산도     69\n",
       "제주 서귀포시        43\n",
       "경북 포항시 북구      42\n",
       "충북 괴산군         41\n",
       "경북 포항시 남구      40\n",
       "경북 김천시         34\n",
       "경북 상주시         33\n",
       "강원 삼척시         26\n",
       "충남 태안군         24\n",
       "전북 군산시 어청도     19\n",
       "경북 문경시         19\n",
       "울산 동구          19\n",
       "전남 여수시 거문도     19\n",
       "경북 울진군         19\n",
       "경북 안동시         17\n",
       "전남 영광군         16\n",
       "충북 영동군         16\n",
       "북한 함경북도 길주     15\n",
       "Name: 규모, dtype: int64"
      ]
     },
     "execution_count": 69,
     "metadata": {},
     "output_type": "execute_result"
    }
   ],
   "source": [
    "EQK['location'] = EQK['위치']\n",
    "EQK_region = EQK.groupby('location').count()[\"규모\"].sort_values(ascending=False).head(20)\n",
    "EQK_region"
   ]
  },
  {
   "cell_type": "code",
   "execution_count": 70,
   "metadata": {
    "scrolled": false
   },
   "outputs": [
    {
     "data": {
      "image/png": "[encoded data removed]",
      "text/plain": [
       "<Figure size 2000x1000 with 1 Axes>"
      ]
     },
     "metadata": {},
     "output_type": "display_data"
    }
   ],
   "source": [
    "plt.figure(figsize=(20,10))\n",
    "plt.rc('font', family=\"NanumGothic\")\n",
    "plt.rcParams['axes.unicode_minus'] = False\n",
    "\n",
    "ax = sns.countplot(x='location', data=EQK, palette=\"Set2\", order=EQK_region.index)\n",
    "plt.xticks(rotation=-270)\n",
    "plt.show()"
   ]
  },
  {
   "cell_type": "code",
   "execution_count": 71,
   "metadata": {
    "scrolled": true
   },
   "outputs": [
    {
     "data": {
      "text/html": [
       "<div>\n",
       "<style scoped>\n",
       "    .dataframe tbody tr th:only-of-type {\n",
       "        vertical-align: middle;\n",
       "    }\n",
       "\n",
       "    .dataframe tbody tr th {\n",
       "        vertical-align: top;\n",
       "    }\n",
       "\n",
       "    .dataframe thead th {\n",
       "        text-align: right;\n",
       "    }\n",
       "</style>\n",
       "<table border=\"1\" class=\"dataframe\">\n",
       "  <thead>\n",
       "    <tr style=\"text-align: right;\">\n",
       "      <th></th>\n",
       "      <th>시간</th>\n",
       "      <th>규모</th>\n",
       "      <th>진앙(km)</th>\n",
       "      <th>위도</th>\n",
       "      <th>경도</th>\n",
       "      <th>위치</th>\n",
       "      <th>year_month</th>\n",
       "      <th>location</th>\n",
       "    </tr>\n",
       "  </thead>\n",
       "  <tbody>\n",
       "    <tr>\n",
       "      <th>9</th>\n",
       "      <td>2021-03-16</td>\n",
       "      <td>2.6</td>\n",
       "      <td>18</td>\n",
       "      <td>35.76</td>\n",
       "      <td>129.19</td>\n",
       "      <td>경북 경주시</td>\n",
       "      <td>2021년 03월</td>\n",
       "      <td>경북 경주시</td>\n",
       "    </tr>\n",
       "  </tbody>\n",
       "</table>\n",
       "</div>"
      ],
      "text/plain": [
       "           시간   규모  진앙(km)     위도      경도      위치 year_month location\n",
       "9  2021-03-16  2.6      18  35.76  129.19  경북 경주시  2021년 03월   경북 경주시"
      ]
     },
     "execution_count": 71,
     "metadata": {},
     "output_type": "execute_result"
    }
   ],
   "source": [
    "EQK[EQK['location'] == '경북 경주시'].head(1)"
   ]
  },
  {
   "cell_type": "markdown",
   "metadata": {},
   "source": [
    "<h3>3.3 2021년, 2022년 지진규모별 지진발생횟수</h3>"
   ]
  },
  {
   "cell_type": "code",
   "execution_count": 72,
   "metadata": {},
   "outputs": [
    {
     "data": {
      "text/html": [
       "<div>\n",
       "<style scoped>\n",
       "    .dataframe tbody tr th:only-of-type {\n",
       "        vertical-align: middle;\n",
       "    }\n",
       "\n",
       "    .dataframe tbody tr th {\n",
       "        vertical-align: top;\n",
       "    }\n",
       "\n",
       "    .dataframe thead th {\n",
       "        text-align: right;\n",
       "    }\n",
       "</style>\n",
       "<table border=\"1\" class=\"dataframe\">\n",
       "  <thead>\n",
       "    <tr style=\"text-align: right;\">\n",
       "      <th></th>\n",
       "      <th>규모</th>\n",
       "      <th>count</th>\n",
       "    </tr>\n",
       "  </thead>\n",
       "  <tbody>\n",
       "    <tr>\n",
       "      <th>0</th>\n",
       "      <td>1.4</td>\n",
       "      <td>160</td>\n",
       "    </tr>\n",
       "    <tr>\n",
       "      <th>1</th>\n",
       "      <td>1.2</td>\n",
       "      <td>154</td>\n",
       "    </tr>\n",
       "    <tr>\n",
       "      <th>2</th>\n",
       "      <td>1.3</td>\n",
       "      <td>141</td>\n",
       "    </tr>\n",
       "    <tr>\n",
       "      <th>3</th>\n",
       "      <td>1.6</td>\n",
       "      <td>138</td>\n",
       "    </tr>\n",
       "    <tr>\n",
       "      <th>4</th>\n",
       "      <td>1.5</td>\n",
       "      <td>135</td>\n",
       "    </tr>\n",
       "    <tr>\n",
       "      <th>5</th>\n",
       "      <td>1.1</td>\n",
       "      <td>112</td>\n",
       "    </tr>\n",
       "    <tr>\n",
       "      <th>6</th>\n",
       "      <td>1.7</td>\n",
       "      <td>106</td>\n",
       "    </tr>\n",
       "    <tr>\n",
       "      <th>7</th>\n",
       "      <td>1.0</td>\n",
       "      <td>78</td>\n",
       "    </tr>\n",
       "    <tr>\n",
       "      <th>8</th>\n",
       "      <td>1.9</td>\n",
       "      <td>69</td>\n",
       "    </tr>\n",
       "    <tr>\n",
       "      <th>9</th>\n",
       "      <td>1.8</td>\n",
       "      <td>64</td>\n",
       "    </tr>\n",
       "    <tr>\n",
       "      <th>10</th>\n",
       "      <td>0.9</td>\n",
       "      <td>60</td>\n",
       "    </tr>\n",
       "    <tr>\n",
       "      <th>11</th>\n",
       "      <td>0.8</td>\n",
       "      <td>37</td>\n",
       "    </tr>\n",
       "    <tr>\n",
       "      <th>12</th>\n",
       "      <td>2.3</td>\n",
       "      <td>23</td>\n",
       "    </tr>\n",
       "    <tr>\n",
       "      <th>13</th>\n",
       "      <td>2.1</td>\n",
       "      <td>21</td>\n",
       "    </tr>\n",
       "    <tr>\n",
       "      <th>14</th>\n",
       "      <td>2.2</td>\n",
       "      <td>20</td>\n",
       "    </tr>\n",
       "    <tr>\n",
       "      <th>15</th>\n",
       "      <td>2.4</td>\n",
       "      <td>14</td>\n",
       "    </tr>\n",
       "    <tr>\n",
       "      <th>16</th>\n",
       "      <td>2.6</td>\n",
       "      <td>12</td>\n",
       "    </tr>\n",
       "    <tr>\n",
       "      <th>17</th>\n",
       "      <td>2.5</td>\n",
       "      <td>11</td>\n",
       "    </tr>\n",
       "    <tr>\n",
       "      <th>18</th>\n",
       "      <td>2.0</td>\n",
       "      <td>9</td>\n",
       "    </tr>\n",
       "    <tr>\n",
       "      <th>19</th>\n",
       "      <td>0.7</td>\n",
       "      <td>7</td>\n",
       "    </tr>\n",
       "    <tr>\n",
       "      <th>20</th>\n",
       "      <td>2.7</td>\n",
       "      <td>5</td>\n",
       "    </tr>\n",
       "    <tr>\n",
       "      <th>21</th>\n",
       "      <td>2.9</td>\n",
       "      <td>5</td>\n",
       "    </tr>\n",
       "    <tr>\n",
       "      <th>22</th>\n",
       "      <td>0.6</td>\n",
       "      <td>4</td>\n",
       "    </tr>\n",
       "    <tr>\n",
       "      <th>23</th>\n",
       "      <td>2.8</td>\n",
       "      <td>2</td>\n",
       "    </tr>\n",
       "    <tr>\n",
       "      <th>24</th>\n",
       "      <td>3.1</td>\n",
       "      <td>2</td>\n",
       "    </tr>\n",
       "    <tr>\n",
       "      <th>25</th>\n",
       "      <td>3.2</td>\n",
       "      <td>2</td>\n",
       "    </tr>\n",
       "    <tr>\n",
       "      <th>26</th>\n",
       "      <td>3.4</td>\n",
       "      <td>2</td>\n",
       "    </tr>\n",
       "    <tr>\n",
       "      <th>27</th>\n",
       "      <td>4.0</td>\n",
       "      <td>1</td>\n",
       "    </tr>\n",
       "    <tr>\n",
       "      <th>28</th>\n",
       "      <td>4.1</td>\n",
       "      <td>1</td>\n",
       "    </tr>\n",
       "    <tr>\n",
       "      <th>29</th>\n",
       "      <td>0.4</td>\n",
       "      <td>1</td>\n",
       "    </tr>\n",
       "    <tr>\n",
       "      <th>30</th>\n",
       "      <td>3.7</td>\n",
       "      <td>1</td>\n",
       "    </tr>\n",
       "    <tr>\n",
       "      <th>31</th>\n",
       "      <td>3.5</td>\n",
       "      <td>1</td>\n",
       "    </tr>\n",
       "    <tr>\n",
       "      <th>32</th>\n",
       "      <td>4.9</td>\n",
       "      <td>1</td>\n",
       "    </tr>\n",
       "  </tbody>\n",
       "</table>\n",
       "</div>"
      ],
      "text/plain": [
       "     규모  count\n",
       "0   1.4    160\n",
       "1   1.2    154\n",
       "2   1.3    141\n",
       "3   1.6    138\n",
       "4   1.5    135\n",
       "5   1.1    112\n",
       "6   1.7    106\n",
       "7   1.0     78\n",
       "8   1.9     69\n",
       "9   1.8     64\n",
       "10  0.9     60\n",
       "11  0.8     37\n",
       "12  2.3     23\n",
       "13  2.1     21\n",
       "14  2.2     20\n",
       "15  2.4     14\n",
       "16  2.6     12\n",
       "17  2.5     11\n",
       "18  2.0      9\n",
       "19  0.7      7\n",
       "20  2.7      5\n",
       "21  2.9      5\n",
       "22  0.6      4\n",
       "23  2.8      2\n",
       "24  3.1      2\n",
       "25  3.2      2\n",
       "26  3.4      2\n",
       "27  4.0      1\n",
       "28  4.1      1\n",
       "29  0.4      1\n",
       "30  3.7      1\n",
       "31  3.5      1\n",
       "32  4.9      1"
      ]
     },
     "execution_count": 72,
     "metadata": {},
     "output_type": "execute_result"
    }
   ],
   "source": [
    "EQK_size = EQK.groupby('규모').count()[\"위치\"].sort_values(ascending=False)\n",
    "EQK_size = pd.DataFrame(EQK_size).reset_index().rename(columns={'위치':'count'})\n",
    "\n",
    "EQK_size"
   ]
  },
  {
   "cell_type": "code",
   "execution_count": 76,
   "metadata": {
    "scrolled": true
   },
   "outputs": [
    {
     "data": {
      "image/png": "[encoded data removed]",
      "text/plain": [
       "<Figure size 3000x1000 with 1 Axes>"
      ]
     },
     "metadata": {},
     "output_type": "display_data"
    }
   ],
   "source": [
    "plt.figure(figsize=(30,10))\n",
    "plt.rc('font', family=\"NanumGothic\")\n",
    "plt.rcParams['axes.unicode_minus'] = False\n",
    "ax = sns.lineplot(x='규모',y='count', data=EQK_size)\n",
    "plt.show()"
   ]
  },
  {
   "cell_type": "markdown",
   "metadata": {},
   "source": [
    "<h3>3.4 2021년, 2022년 진앙깊이별 지진발생횟수</h3>"
   ]
  },
  {
   "cell_type": "code",
   "execution_count": 74,
   "metadata": {},
   "outputs": [
    {
     "data": {
      "text/html": [
       "<div>\n",
       "<style scoped>\n",
       "    .dataframe tbody tr th:only-of-type {\n",
       "        vertical-align: middle;\n",
       "    }\n",
       "\n",
       "    .dataframe tbody tr th {\n",
       "        vertical-align: top;\n",
       "    }\n",
       "\n",
       "    .dataframe thead th {\n",
       "        text-align: right;\n",
       "    }\n",
       "</style>\n",
       "<table border=\"1\" class=\"dataframe\">\n",
       "  <thead>\n",
       "    <tr style=\"text-align: right;\">\n",
       "      <th></th>\n",
       "      <th>지진발생횟수</th>\n",
       "    </tr>\n",
       "    <tr>\n",
       "      <th>진앙(km)</th>\n",
       "      <th></th>\n",
       "    </tr>\n",
       "  </thead>\n",
       "  <tbody>\n",
       "    <tr>\n",
       "      <th>0</th>\n",
       "      <td>33</td>\n",
       "    </tr>\n",
       "    <tr>\n",
       "      <th>1</th>\n",
       "      <td>8</td>\n",
       "    </tr>\n",
       "    <tr>\n",
       "      <th>2</th>\n",
       "      <td>14</td>\n",
       "    </tr>\n",
       "    <tr>\n",
       "      <th>3</th>\n",
       "      <td>17</td>\n",
       "    </tr>\n",
       "    <tr>\n",
       "      <th>4</th>\n",
       "      <td>35</td>\n",
       "    </tr>\n",
       "    <tr>\n",
       "      <th>5</th>\n",
       "      <td>47</td>\n",
       "    </tr>\n",
       "    <tr>\n",
       "      <th>6</th>\n",
       "      <td>52</td>\n",
       "    </tr>\n",
       "    <tr>\n",
       "      <th>7</th>\n",
       "      <td>61</td>\n",
       "    </tr>\n",
       "    <tr>\n",
       "      <th>8</th>\n",
       "      <td>71</td>\n",
       "    </tr>\n",
       "    <tr>\n",
       "      <th>9</th>\n",
       "      <td>85</td>\n",
       "    </tr>\n",
       "    <tr>\n",
       "      <th>10</th>\n",
       "      <td>84</td>\n",
       "    </tr>\n",
       "    <tr>\n",
       "      <th>11</th>\n",
       "      <td>94</td>\n",
       "    </tr>\n",
       "    <tr>\n",
       "      <th>12</th>\n",
       "      <td>117</td>\n",
       "    </tr>\n",
       "    <tr>\n",
       "      <th>13</th>\n",
       "      <td>122</td>\n",
       "    </tr>\n",
       "    <tr>\n",
       "      <th>14</th>\n",
       "      <td>98</td>\n",
       "    </tr>\n",
       "    <tr>\n",
       "      <th>15</th>\n",
       "      <td>85</td>\n",
       "    </tr>\n",
       "    <tr>\n",
       "      <th>16</th>\n",
       "      <td>82</td>\n",
       "    </tr>\n",
       "    <tr>\n",
       "      <th>17</th>\n",
       "      <td>62</td>\n",
       "    </tr>\n",
       "    <tr>\n",
       "      <th>18</th>\n",
       "      <td>78</td>\n",
       "    </tr>\n",
       "    <tr>\n",
       "      <th>19</th>\n",
       "      <td>36</td>\n",
       "    </tr>\n",
       "    <tr>\n",
       "      <th>20</th>\n",
       "      <td>53</td>\n",
       "    </tr>\n",
       "    <tr>\n",
       "      <th>21</th>\n",
       "      <td>29</td>\n",
       "    </tr>\n",
       "    <tr>\n",
       "      <th>22</th>\n",
       "      <td>6</td>\n",
       "    </tr>\n",
       "    <tr>\n",
       "      <th>23</th>\n",
       "      <td>9</td>\n",
       "    </tr>\n",
       "    <tr>\n",
       "      <th>24</th>\n",
       "      <td>7</td>\n",
       "    </tr>\n",
       "    <tr>\n",
       "      <th>25</th>\n",
       "      <td>4</td>\n",
       "    </tr>\n",
       "    <tr>\n",
       "      <th>26</th>\n",
       "      <td>5</td>\n",
       "    </tr>\n",
       "    <tr>\n",
       "      <th>27</th>\n",
       "      <td>1</td>\n",
       "    </tr>\n",
       "    <tr>\n",
       "      <th>29</th>\n",
       "      <td>2</td>\n",
       "    </tr>\n",
       "    <tr>\n",
       "      <th>31</th>\n",
       "      <td>1</td>\n",
       "    </tr>\n",
       "    <tr>\n",
       "      <th>33</th>\n",
       "      <td>1</td>\n",
       "    </tr>\n",
       "  </tbody>\n",
       "</table>\n",
       "</div>"
      ],
      "text/plain": [
       "        지진발생횟수\n",
       "진앙(km)        \n",
       "0           33\n",
       "1            8\n",
       "2           14\n",
       "3           17\n",
       "4           35\n",
       "5           47\n",
       "6           52\n",
       "7           61\n",
       "8           71\n",
       "9           85\n",
       "10          84\n",
       "11          94\n",
       "12         117\n",
       "13         122\n",
       "14          98\n",
       "15          85\n",
       "16          82\n",
       "17          62\n",
       "18          78\n",
       "19          36\n",
       "20          53\n",
       "21          29\n",
       "22           6\n",
       "23           9\n",
       "24           7\n",
       "25           4\n",
       "26           5\n",
       "27           1\n",
       "29           2\n",
       "31           1\n",
       "33           1"
      ]
     },
     "execution_count": 74,
     "metadata": {},
     "output_type": "execute_result"
    }
   ],
   "source": [
    "EQK_depth = pd.DataFrame(EQK.groupby(\"진앙(km)\").count()[\"규모\"]).rename(columns={\"규모\":\"지진발생횟수\"})\n",
    "EQK_depth"
   ]
  },
  {
   "cell_type": "code",
   "execution_count": 75,
   "metadata": {},
   "outputs": [
    {
     "data": {
      "image/png": "[encoded data removed]",
      "text/plain": [
       "<Figure size 3000x1000 with 1 Axes>"
      ]
     },
     "metadata": {},
     "output_type": "display_data"
    }
   ],
   "source": [
    "plt.figure(figsize=(30,10))\n",
    "\n",
    "# 한글 출력을 위해서 폰트 옵션을 설정합니다.\n",
    "sns.set(font='NanumGothic', \n",
    "        rc={\"axes.unicode_minus\":False},\n",
    "        style='darkgrid')\n",
    "\n",
    "ax = sns.countplot(x='진앙(km)', data=EQK, palette=\"Set2\", order=EQK_depth.index)\n",
    "plt.xticks(rotation=-270)\n",
    "plt.show()"
   ]
  }
 ],
 "metadata": {
  "kernelspec": {
   "display_name": "Python 3 (ipykernel)",
   "language": "python",
   "name": "python3"
  },
  "language_info": {
   "codemirror_mode": {
    "name": "ipython",
    "version": 3
   },
   "file_extension": ".py",
   "mimetype": "text/x-python",
   "name": "python",
   "nbconvert_exporter": "python",
   "pygments_lexer": "ipython3",
   "version": "3.11.0"
  }
 },
 "nbformat": 4,
 "nbformat_minor": 2
}

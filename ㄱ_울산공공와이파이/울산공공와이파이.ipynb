{
 "cells": [
  {
   "cell_type": "markdown",
   "metadata": {},
   "source": [
    "# [프로젝트] 울산 공공 와이파이 분석하기\n",
    "---"
   ]
  },
  {
   "cell_type": "markdown",
   "metadata": {},
   "source": [
    "# 1. 프로젝트 기획 배경\n",
    "---\n",
    "\n",
    "\n",
    "현대사회의 필수품인 스마트폰으로 많은 정보나 활동하기 위해 와이파이는 필수입니다. 하지만 울산광역시 내의 위치, 시설마다 공공 와이파이의 설치율의 편차가 큰 것 같다고 생각하였습니다.\n",
    "\n",
    "그래서 데이터 분석으로 확인해보려 합니다."
   ]
  },
  {
   "cell_type": "markdown",
   "metadata": {},
   "source": [
    "## 프로젝트 목표\n",
    "---\n",
    "- 울산광역시 공공 와이파이 데이터를 분석하여 유의미한 정보 도출할 수 있다.\n",
    "- 탐색적 데이터 분석을 수행하기 위한 데이터 정제, 특성 엔지니어링, 시각화 방법 학습할 수 있다."
   ]
  },
  {
   "cell_type": "markdown",
   "metadata": {},
   "source": [
    "# 2. 프로젝트 목차\n",
    "---\n",
    "\n",
    "1. **데이터 수집:** 울산광역시 공공 와이파이 정보 데이터를 불러오고 DataFrame 구조를 확인<br>\n",
    "    1-1 라이브러리 임포트 하기<br>\n",
    "    1-2 데이터 불러오기<br><br>\n",
    "\n",
    "2. **데이터 정제:** 데이터 확인 후 형 변환 및 이상치 데이터 처리<br>\n",
    "    2.1 중복값 확인<br>\n",
    "    2.2 불필요한 데이터 삭제<br>\n",
    "    2.3 null 데이터 채우기<br><br>\n",
    " \n",
    "3. **데이터 시각화:** 각 변수별로 추가적인 정제 과정을 거치고 시각화를 총해 데이터 특성 파악<br>\n",
    "    3.1 군/구별 와이파이 설치갯수<br>\n",
    "    3.2 시설별 와이파이 설치갯수<br>\n",
    "    3.3 년월별 와이파이 설치갯수<br>\n"
   ]
  },
  {
   "cell_type": "markdown",
   "metadata": {},
   "source": [
    "## 1. 데이터 수집하기\n",
    "---"
   ]
  },
  {
   "cell_type": "markdown",
   "metadata": {},
   "source": [
    "### 1.1 라이브러리 임포트 하기\n",
    "---"
   ]
  },
  {
   "cell_type": "code",
   "execution_count": 1,
   "metadata": {},
   "outputs": [],
   "source": [
    "import numpy as np\n",
    "import pandas as pd\n",
    "import seaborn as sns\n",
    "import matplotlib.pyplot as plt\n",
    "import matplotlib.font_manager as fm\n",
    "# 경고 무시\n",
    "pd.set_option('mode.chained_assignment',  None)"
   ]
  },
  {
   "cell_type": "markdown",
   "metadata": {},
   "source": [
    "### 1.2 데이터 불러오기\n",
    "---\n",
    "자료출처 : https://www.localdata.go.kr/lif/lifeCtacDataView.do"
   ]
  },
  {
   "cell_type": "code",
   "execution_count": 2,
   "metadata": {},
   "outputs": [],
   "source": [
    "wifi = pd.read_csv(\"./울산무료와이파이.csv\", encoding='euc-kr')"
   ]
  },
  {
   "cell_type": "code",
   "execution_count": 3,
   "metadata": {},
   "outputs": [
    {
     "data": {
      "text/html": [
       "<div>\n",
       "<style scoped>\n",
       "    .dataframe tbody tr th:only-of-type {\n",
       "        vertical-align: middle;\n",
       "    }\n",
       "\n",
       "    .dataframe tbody tr th {\n",
       "        vertical-align: top;\n",
       "    }\n",
       "\n",
       "    .dataframe thead th {\n",
       "        text-align: right;\n",
       "    }\n",
       "</style>\n",
       "<table border=\"1\" class=\"dataframe\">\n",
       "  <thead>\n",
       "    <tr style=\"text-align: right;\">\n",
       "      <th></th>\n",
       "      <th>번호</th>\n",
       "      <th>설치장소명</th>\n",
       "      <th>설치장소상세</th>\n",
       "      <th>설치시도명</th>\n",
       "      <th>설치시군구명</th>\n",
       "      <th>설치시설구분</th>\n",
       "      <th>서비스제공사명</th>\n",
       "      <th>와이파이SSID</th>\n",
       "      <th>설치연월</th>\n",
       "      <th>소재지도로명주소</th>\n",
       "      <th>소재지지번주소</th>\n",
       "      <th>관리기관명</th>\n",
       "      <th>관리기관전화번호</th>\n",
       "      <th>WGS84위도</th>\n",
       "      <th>WGS84경도</th>\n",
       "      <th>데이터기준일자</th>\n",
       "    </tr>\n",
       "  </thead>\n",
       "  <tbody>\n",
       "    <tr>\n",
       "      <th>500</th>\n",
       "      <td>501</td>\n",
       "      <td>전하경로당</td>\n",
       "      <td>경로당 내</td>\n",
       "      <td>울산광역시</td>\n",
       "      <td>동구</td>\n",
       "      <td>서민·복지시설</td>\n",
       "      <td>LGU+</td>\n",
       "      <td>Public Wifi FREE</td>\n",
       "      <td>2020-02</td>\n",
       "      <td>울산광역시 동구 진성12길 130</td>\n",
       "      <td>NaN</td>\n",
       "      <td>울산광역시 동구</td>\n",
       "      <td>052-209-3140</td>\n",
       "      <td>35.511236</td>\n",
       "      <td>129.427574</td>\n",
       "      <td>2022-11-16</td>\n",
       "    </tr>\n",
       "    <tr>\n",
       "      <th>501</th>\n",
       "      <td>502</td>\n",
       "      <td>산성경로당</td>\n",
       "      <td>경로당 내</td>\n",
       "      <td>울산광역시</td>\n",
       "      <td>동구</td>\n",
       "      <td>서민·복지시설</td>\n",
       "      <td>LGU+</td>\n",
       "      <td>Public Wifi FREE</td>\n",
       "      <td>2020-02</td>\n",
       "      <td>울산광역시 동구 진성5길 56-2</td>\n",
       "      <td>NaN</td>\n",
       "      <td>울산광역시 동구</td>\n",
       "      <td>052-209-3140</td>\n",
       "      <td>35.508081</td>\n",
       "      <td>129.426058</td>\n",
       "      <td>2022-11-16</td>\n",
       "    </tr>\n",
       "    <tr>\n",
       "      <th>502</th>\n",
       "      <td>503</td>\n",
       "      <td>화정주공경로당</td>\n",
       "      <td>경로당 내</td>\n",
       "      <td>울산광역시</td>\n",
       "      <td>동구</td>\n",
       "      <td>서민·복지시설</td>\n",
       "      <td>LGU+</td>\n",
       "      <td>Public Wifi FREE</td>\n",
       "      <td>2020-02</td>\n",
       "      <td>울산광역시 동구 월봉10길 14</td>\n",
       "      <td>NaN</td>\n",
       "      <td>울산광역시 동구</td>\n",
       "      <td>052-209-3140</td>\n",
       "      <td>35.494542</td>\n",
       "      <td>129.419422</td>\n",
       "      <td>2022-11-16</td>\n",
       "    </tr>\n",
       "    <tr>\n",
       "      <th>503</th>\n",
       "      <td>504</td>\n",
       "      <td>월봉경로당</td>\n",
       "      <td>경로당 내</td>\n",
       "      <td>울산광역시</td>\n",
       "      <td>동구</td>\n",
       "      <td>서민·복지시설</td>\n",
       "      <td>LGU+</td>\n",
       "      <td>Public Wifi FREE</td>\n",
       "      <td>2020-02</td>\n",
       "      <td>울산광역시 동구 월봉로 78-1</td>\n",
       "      <td>NaN</td>\n",
       "      <td>울산광역시 동구</td>\n",
       "      <td>052-209-3140</td>\n",
       "      <td>35.492819</td>\n",
       "      <td>129.426083</td>\n",
       "      <td>2022-11-16</td>\n",
       "    </tr>\n",
       "    <tr>\n",
       "      <th>504</th>\n",
       "      <td>505</td>\n",
       "      <td>쇠평어린이공원</td>\n",
       "      <td>공원 내</td>\n",
       "      <td>울산광역시</td>\n",
       "      <td>동구</td>\n",
       "      <td>지역문화시설</td>\n",
       "      <td>LGU+</td>\n",
       "      <td>Public Wifi FREE</td>\n",
       "      <td>2020-02</td>\n",
       "      <td>울산광역시 동구 동부동 87</td>\n",
       "      <td>NaN</td>\n",
       "      <td>울산광역시 동구</td>\n",
       "      <td>052-209-3140</td>\n",
       "      <td>35.552577</td>\n",
       "      <td>129.434637</td>\n",
       "      <td>2022-11-16</td>\n",
       "    </tr>\n",
       "  </tbody>\n",
       "</table>\n",
       "</div>"
      ],
      "text/plain": [
       "      번호    설치장소명 설치장소상세  설치시도명 설치시군구명   설치시설구분 서비스제공사명          와이파이SSID  \\\n",
       "500  501    전하경로당  경로당 내  울산광역시     동구  서민·복지시설    LGU+  Public Wifi FREE   \n",
       "501  502    산성경로당  경로당 내  울산광역시     동구  서민·복지시설    LGU+  Public Wifi FREE   \n",
       "502  503  화정주공경로당  경로당 내  울산광역시     동구  서민·복지시설    LGU+  Public Wifi FREE   \n",
       "503  504    월봉경로당  경로당 내  울산광역시     동구  서민·복지시설    LGU+  Public Wifi FREE   \n",
       "504  505  쇠평어린이공원   공원 내  울산광역시     동구   지역문화시설    LGU+  Public Wifi FREE   \n",
       "\n",
       "        설치연월            소재지도로명주소 소재지지번주소     관리기관명      관리기관전화번호    WGS84위도  \\\n",
       "500  2020-02  울산광역시 동구 진성12길 130     NaN  울산광역시 동구  052-209-3140  35.511236   \n",
       "501  2020-02  울산광역시 동구 진성5길 56-2     NaN  울산광역시 동구  052-209-3140  35.508081   \n",
       "502  2020-02   울산광역시 동구 월봉10길 14     NaN  울산광역시 동구  052-209-3140  35.494542   \n",
       "503  2020-02   울산광역시 동구 월봉로 78-1     NaN  울산광역시 동구  052-209-3140  35.492819   \n",
       "504  2020-02     울산광역시 동구 동부동 87     NaN  울산광역시 동구  052-209-3140  35.552577   \n",
       "\n",
       "        WGS84경도     데이터기준일자  \n",
       "500  129.427574  2022-11-16  \n",
       "501  129.426058  2022-11-16  \n",
       "502  129.419422  2022-11-16  \n",
       "503  129.426083  2022-11-16  \n",
       "504  129.434637  2022-11-16  "
      ]
     },
     "execution_count": 3,
     "metadata": {},
     "output_type": "execute_result"
    }
   ],
   "source": [
    "wifi.tail()"
   ]
  },
  {
   "cell_type": "markdown",
   "metadata": {},
   "source": [
    "## 2. 데이터 정제하기\n",
    "---"
   ]
  },
  {
   "cell_type": "markdown",
   "metadata": {},
   "source": [
    "### 2.1 중복값 확인하기\n",
    "---"
   ]
  },
  {
   "cell_type": "code",
   "execution_count": 4,
   "metadata": {},
   "outputs": [
    {
     "data": {
      "text/html": [
       "<div>\n",
       "<style scoped>\n",
       "    .dataframe tbody tr th:only-of-type {\n",
       "        vertical-align: middle;\n",
       "    }\n",
       "\n",
       "    .dataframe tbody tr th {\n",
       "        vertical-align: top;\n",
       "    }\n",
       "\n",
       "    .dataframe thead th {\n",
       "        text-align: right;\n",
       "    }\n",
       "</style>\n",
       "<table border=\"1\" class=\"dataframe\">\n",
       "  <thead>\n",
       "    <tr style=\"text-align: right;\">\n",
       "      <th></th>\n",
       "      <th>번호</th>\n",
       "      <th>설치장소명</th>\n",
       "      <th>설치장소상세</th>\n",
       "      <th>설치시도명</th>\n",
       "      <th>설치시군구명</th>\n",
       "      <th>설치시설구분</th>\n",
       "      <th>서비스제공사명</th>\n",
       "      <th>와이파이SSID</th>\n",
       "      <th>설치연월</th>\n",
       "      <th>소재지도로명주소</th>\n",
       "      <th>소재지지번주소</th>\n",
       "      <th>관리기관명</th>\n",
       "      <th>관리기관전화번호</th>\n",
       "      <th>WGS84위도</th>\n",
       "      <th>WGS84경도</th>\n",
       "      <th>데이터기준일자</th>\n",
       "    </tr>\n",
       "  </thead>\n",
       "  <tbody>\n",
       "  </tbody>\n",
       "</table>\n",
       "</div>"
      ],
      "text/plain": [
       "Empty DataFrame\n",
       "Columns: [번호, 설치장소명, 설치장소상세, 설치시도명, 설치시군구명, 설치시설구분, 서비스제공사명, 와이파이SSID, 설치연월, 소재지도로명주소, 소재지지번주소, 관리기관명, 관리기관전화번호, WGS84위도, WGS84경도, 데이터기준일자]\n",
       "Index: []"
      ]
     },
     "execution_count": 4,
     "metadata": {},
     "output_type": "execute_result"
    }
   ],
   "source": [
    "wifi[wifi.duplicated(keep=False)]"
   ]
  },
  {
   "cell_type": "markdown",
   "metadata": {},
   "source": [
    "### 2.2 불필요한 데이터 삭제\n",
    "---"
   ]
  },
  {
   "cell_type": "code",
   "execution_count": 5,
   "metadata": {},
   "outputs": [],
   "source": [
    "wifi = wifi.drop(['번호','설치장소상세','설치시도명','서비스제공사명','와이파이SSID','소재지지번주소','관리기관명','관리기관전화번호','WGS84위도','WGS84경도','데이터기준일자'], axis=1)"
   ]
  },
  {
   "cell_type": "code",
   "execution_count": 6,
   "metadata": {},
   "outputs": [
    {
     "name": "stdout",
     "output_type": "stream",
     "text": [
      "<class 'pandas.core.frame.DataFrame'>\n",
      "RangeIndex: 505 entries, 0 to 504\n",
      "Data columns (total 5 columns):\n",
      "설치장소명       505 non-null object\n",
      "설치시군구명      505 non-null object\n",
      "설치시설구분      505 non-null object\n",
      "설치연월        261 non-null object\n",
      "소재지도로명주소    479 non-null object\n",
      "dtypes: object(5)\n",
      "memory usage: 19.8+ KB\n"
     ]
    }
   ],
   "source": [
    "wifi.info()"
   ]
  },
  {
   "cell_type": "markdown",
   "metadata": {},
   "source": [
    "### 2.3 null 데이터 채우기\n",
    "---"
   ]
  },
  {
   "cell_type": "code",
   "execution_count": 7,
   "metadata": {},
   "outputs": [
    {
     "data": {
      "text/plain": [
       "설치장소명         0\n",
       "설치시군구명        0\n",
       "설치시설구분        0\n",
       "설치연월        244\n",
       "소재지도로명주소     26\n",
       "dtype: int64"
      ]
     },
     "execution_count": 7,
     "metadata": {},
     "output_type": "execute_result"
    }
   ],
   "source": [
    "wifi.isnull().sum()"
   ]
  },
  {
   "cell_type": "code",
   "execution_count": 8,
   "metadata": {},
   "outputs": [],
   "source": [
    "wifi['설치연월'] = wifi['설치연월'].fillna('0')\n",
    "wifi['소재지도로명주소'] = wifi['소재지도로명주소'].fillna(\"0\")"
   ]
  },
  {
   "cell_type": "code",
   "execution_count": 9,
   "metadata": {},
   "outputs": [
    {
     "data": {
      "text/plain": [
       "설치장소명       0\n",
       "설치시군구명      0\n",
       "설치시설구분      0\n",
       "설치연월        0\n",
       "소재지도로명주소    0\n",
       "dtype: int64"
      ]
     },
     "execution_count": 9,
     "metadata": {},
     "output_type": "execute_result"
    }
   ],
   "source": [
    "wifi.isnull().sum()"
   ]
  },
  {
   "cell_type": "markdown",
   "metadata": {},
   "source": [
    "## 3. 데이터 시각화하기\n",
    "---"
   ]
  },
  {
   "cell_type": "markdown",
   "metadata": {},
   "source": [
    "### 3.1 군/구별 와이파이 설치갯수\n",
    "---"
   ]
  },
  {
   "cell_type": "code",
   "execution_count": 10,
   "metadata": {},
   "outputs": [
    {
     "data": {
      "text/plain": [
       "62    남구\n",
       "36    남구\n",
       "37    남구\n",
       "38    남구\n",
       "39    남구\n",
       "40    남구\n",
       "41    남구\n",
       "43    남구\n",
       "44    남구\n",
       "45    남구\n",
       "46    남구\n",
       "47    남구\n",
       "48    남구\n",
       "49    남구\n",
       "50    남구\n",
       "35    남구\n",
       "51    남구\n",
       "53    남구\n",
       "54    남구\n",
       "55    남구\n",
       "56    남구\n",
       "57    남구\n",
       "58    남구\n",
       "59    남구\n",
       "60    남구\n",
       "61    남구\n",
       "63    남구\n",
       "98    남구\n",
       "97    남구\n",
       "96    남구\n",
       "      ..\n",
       "90    중구\n",
       "91    중구\n",
       "87    중구\n",
       "93    중구\n",
       "94    중구\n",
       "65    중구\n",
       "92    중구\n",
       "88    중구\n",
       "66    중구\n",
       "68    중구\n",
       "86    중구\n",
       "85    중구\n",
       "84    중구\n",
       "83    중구\n",
       "82    중구\n",
       "81    중구\n",
       "80    중구\n",
       "79    중구\n",
       "67    중구\n",
       "78    중구\n",
       "89    중구\n",
       "75    중구\n",
       "74    중구\n",
       "73    중구\n",
       "72    중구\n",
       "71    중구\n",
       "70    중구\n",
       "69    중구\n",
       "77    중구\n",
       "76    중구\n",
       "Name: 설치시군구명, Length: 505, dtype: object"
      ]
     },
     "execution_count": 10,
     "metadata": {},
     "output_type": "execute_result"
    }
   ],
   "source": [
    "wifi['설치시군구명'].sort_values()"
   ]
  },
  {
   "cell_type": "code",
   "execution_count": 11,
   "metadata": {},
   "outputs": [
    {
     "data": {
      "text/plain": [
       "location\n",
       "중구      31\n",
       "남구      50\n",
       "울주군     63\n",
       "동구     153\n",
       "북구     208\n",
       "Name: 설치시군구명, dtype: int64"
      ]
     },
     "execution_count": 11,
     "metadata": {},
     "output_type": "execute_result"
    }
   ],
   "source": [
    "wifi['location'] = wifi['설치시군구명']\n",
    "wifi_location = wifi.groupby('location').count()[\"설치시군구명\"].sort_values()\n",
    "wifi_location"
   ]
  },
  {
   "cell_type": "code",
   "execution_count": 12,
   "metadata": {},
   "outputs": [],
   "source": [
    "fm._rebuild()\n",
    "fm.get_fontconfig_fonts()\n",
    "\n",
    "# 디렉토리 및 파일 이름에 맞추어 변경\n",
    "font_location = './NanumGothic.ttf'\n",
    "\n",
    "font_name = fm.FontProperties(fname=font_location).get_name()\n",
    "plt.rc('font', family=font_name)"
   ]
  },
  {
   "cell_type": "code",
   "execution_count": 13,
   "metadata": {},
   "outputs": [
    {
     "data": {
      "image/png": "[encoded data removed]",
      "text/plain": [
       "<matplotlib.figure.Figure at 0x7f750f5c69e8>"
      ]
     },
     "metadata": {
      "needs_background": "light"
     },
     "output_type": "display_data"
    }
   ],
   "source": [
    "plt.figure(figsize=(30,10))\n",
    "\n",
    "sns.set(font='NanumGothic', \n",
    "        rc={\"axes.unicode_minus\":False}, #한글 폰트 사용시 마이너스 폰트 깨짐 해결\n",
    "        style='darkgrid')\n",
    "\n",
    "ax = sns.countplot(x='location', data=wifi, palette=\"Set2\", order=wifi_location.index)\n",
    "plt.show()"
   ]
  },
  {
   "cell_type": "markdown",
   "metadata": {},
   "source": [
    "### 3.2 시설별 와이파이 설치갯수\n",
    "---"
   ]
  },
  {
   "cell_type": "code",
   "execution_count": 14,
   "metadata": {},
   "outputs": [
    {
     "data": {
      "text/plain": [
       "0       관공서\n",
       "114     관공서\n",
       "115     관공서\n",
       "122     관공서\n",
       "123     관공서\n",
       "124     관공서\n",
       "125     관공서\n",
       "126     관공서\n",
       "127     관공서\n",
       "128     관공서\n",
       "130     관공서\n",
       "131     관공서\n",
       "132     관공서\n",
       "133     관공서\n",
       "134     관공서\n",
       "135     관공서\n",
       "113     관공서\n",
       "112     관공서\n",
       "111     관공서\n",
       "110     관공서\n",
       "86      관공서\n",
       "87      관공서\n",
       "88      관공서\n",
       "89      관공서\n",
       "90      관공서\n",
       "91      관공서\n",
       "92      관공서\n",
       "136     관공서\n",
       "93      관공서\n",
       "99      관공서\n",
       "       ... \n",
       "177    편의시설\n",
       "232    편의시설\n",
       "178    편의시설\n",
       "192    편의시설\n",
       "199    편의시설\n",
       "200    편의시설\n",
       "201    편의시설\n",
       "202    편의시설\n",
       "204    편의시설\n",
       "205    편의시설\n",
       "345    편의시설\n",
       "206    편의시설\n",
       "207    편의시설\n",
       "208    편의시설\n",
       "234    편의시설\n",
       "209    편의시설\n",
       "222    편의시설\n",
       "223    편의시설\n",
       "176    편의시설\n",
       "226    편의시설\n",
       "324    편의시설\n",
       "229    편의시설\n",
       "453    편의시설\n",
       "455    편의시설\n",
       "315    편의시설\n",
       "466    편의시설\n",
       "467    편의시설\n",
       "470    편의시설\n",
       "220    편의시설\n",
       "224    편의시설\n",
       "Name: 설치시설구분, Length: 505, dtype: object"
      ]
     },
     "execution_count": 14,
     "metadata": {},
     "output_type": "execute_result"
    }
   ],
   "source": [
    "wifi['설치시설구분'].sort_values()"
   ]
  },
  {
   "cell_type": "code",
   "execution_count": 15,
   "metadata": {},
   "outputs": [
    {
     "data": {
      "text/plain": [
       "facility\n",
       "교육시설         5\n",
       "기타          26\n",
       "편의시설        46\n",
       "서민·복지시설     52\n",
       "관광          74\n",
       "교통시설        86\n",
       "지역문화시설      93\n",
       "관공서        123\n",
       "Name: 설치시설구분, dtype: int64"
      ]
     },
     "execution_count": 15,
     "metadata": {},
     "output_type": "execute_result"
    }
   ],
   "source": [
    "wifi['facility'] = wifi['설치시설구분']\n",
    "wifi_facility = wifi.groupby('facility').count()[\"설치시설구분\"].sort_values()\n",
    "wifi_facility"
   ]
  },
  {
   "cell_type": "code",
   "execution_count": 16,
   "metadata": {},
   "outputs": [
    {
     "data": {
      "image/png": "[encoded data removed]",
      "text/plain": [
       "<matplotlib.figure.Figure at 0x7f7549dea748>"
      ]
     },
     "metadata": {},
     "output_type": "display_data"
    }
   ],
   "source": [
    "plt.figure(figsize=(30,10))\n",
    "\n",
    "sns.set(font='NanumGothic', \n",
    "        rc={\"axes.unicode_minus\":False},\n",
    "        style='darkgrid')\n",
    "\n",
    "ax = sns.countplot(x='facility', data=wifi, palette=\"Set2\", order=wifi_facility.index)\n",
    "plt.show()"
   ]
  },
  {
   "cell_type": "markdown",
   "metadata": {},
   "source": [
    "### 3.3 년월별 와이파이 설치갯수\n",
    "---"
   ]
  },
  {
   "cell_type": "code",
   "execution_count": 17,
   "metadata": {},
   "outputs": [
    {
     "data": {
      "text/plain": [
       "252          0\n",
       "175          0\n",
       "176          0\n",
       "177          0\n",
       "178          0\n",
       "179          0\n",
       "180          0\n",
       "181          0\n",
       "182          0\n",
       "183          0\n",
       "184          0\n",
       "185          0\n",
       "186          0\n",
       "187          0\n",
       "188          0\n",
       "174          0\n",
       "189          0\n",
       "191          0\n",
       "192          0\n",
       "193          0\n",
       "194          0\n",
       "195          0\n",
       "196          0\n",
       "197          0\n",
       "198          0\n",
       "199          0\n",
       "200          0\n",
       "201          0\n",
       "202          0\n",
       "203          0\n",
       "        ...   \n",
       "113    2020-05\n",
       "114    2020-05\n",
       "115    2020-05\n",
       "116    2020-05\n",
       "110    2020-05\n",
       "89     2020-05\n",
       "86     2020-05\n",
       "87     2020-05\n",
       "85     2020-05\n",
       "84     2020-05\n",
       "83     2020-05\n",
       "82     2020-05\n",
       "81     2020-05\n",
       "80     2020-05\n",
       "79     2020-05\n",
       "88     2020-05\n",
       "117    2020-06\n",
       "446    2020-11\n",
       "445    2020-11\n",
       "444    2020-11\n",
       "413    2020-11\n",
       "441    2020-11\n",
       "437    2020-11\n",
       "439    2020-11\n",
       "438    2020-11\n",
       "436    2020-11\n",
       "442    2020-11\n",
       "443    2020-11\n",
       "440    2020-11\n",
       "414    2021-12\n",
       "Name: 설치연월, Length: 505, dtype: object"
      ]
     },
     "execution_count": 17,
     "metadata": {},
     "output_type": "execute_result"
    }
   ],
   "source": [
    "wifi['설치연월'].sort_values()"
   ]
  },
  {
   "cell_type": "code",
   "execution_count": 18,
   "metadata": {},
   "outputs": [
    {
     "data": {
      "text/plain": [
       "447    2011-10\n",
       "448    2011-10\n",
       "449    2011-10\n",
       "64     2013-01\n",
       "450    2013-12\n",
       "451    2013-12\n",
       "452    2013-12\n",
       "453    2013-12\n",
       "454    2013-12\n",
       "65     2014-01\n",
       "465    2014-12\n",
       "464    2014-12\n",
       "463    2014-12\n",
       "461    2014-12\n",
       "462    2014-12\n",
       "459    2014-12\n",
       "458    2014-12\n",
       "457    2014-12\n",
       "460    2014-12\n",
       "455    2014-12\n",
       "466    2015-10\n",
       "467    2015-10\n",
       "472    2016-07\n",
       "471    2016-12\n",
       "476    2017-01\n",
       "67     2017-01\n",
       "66     2017-01\n",
       "68     2017-01\n",
       "473    2017-02\n",
       "474    2017-06\n",
       "        ...   \n",
       "84     2020-05\n",
       "83     2020-05\n",
       "82     2020-05\n",
       "81     2020-05\n",
       "80     2020-05\n",
       "79     2020-05\n",
       "95     2020-05\n",
       "96     2020-05\n",
       "113    2020-05\n",
       "98     2020-05\n",
       "111    2020-05\n",
       "112    2020-05\n",
       "114    2020-05\n",
       "115    2020-05\n",
       "116    2020-05\n",
       "97     2020-05\n",
       "117    2020-06\n",
       "441    2020-11\n",
       "413    2020-11\n",
       "440    2020-11\n",
       "439    2020-11\n",
       "438    2020-11\n",
       "444    2020-11\n",
       "436    2020-11\n",
       "445    2020-11\n",
       "446    2020-11\n",
       "443    2020-11\n",
       "437    2020-11\n",
       "442    2020-11\n",
       "414    2021-12\n",
       "Name: 설치연월, Length: 261, dtype: object"
      ]
     },
     "execution_count": 18,
     "metadata": {},
     "output_type": "execute_result"
    }
   ],
   "source": [
    "mask = wifi['설치연월'].isin(['0'])\n",
    "wifi_del = wifi[~mask]\n",
    "wifi_del['설치연월'].sort_values()"
   ]
  },
  {
   "cell_type": "code",
   "execution_count": 19,
   "metadata": {},
   "outputs": [],
   "source": [
    "wifi_del[\"설치연월\"]=wifi_del[\"설치연월\"].apply(str)"
   ]
  },
  {
   "cell_type": "code",
   "execution_count": 20,
   "metadata": {},
   "outputs": [],
   "source": [
    "year_month = []\n",
    "\n",
    "for data in wifi_del['설치연월']:\n",
    "    year = data.split(\"-\")[0]\n",
    "    month = data.split(\"-\")[1]\n",
    "    year_month.append(f'{year}년 {month}월')"
   ]
  },
  {
   "cell_type": "code",
   "execution_count": 21,
   "metadata": {},
   "outputs": [],
   "source": [
    "wifi_del['year_month'] = year_month"
   ]
  },
  {
   "cell_type": "code",
   "execution_count": 22,
   "metadata": {},
   "outputs": [
    {
     "data": {
      "text/plain": [
       "year_month\n",
       "2011년 10월      3\n",
       "2013년 01월      1\n",
       "2013년 12월      5\n",
       "2014년 01월      1\n",
       "2014년 12월     10\n",
       "2015년 10월      2\n",
       "2016년 07월      1\n",
       "2016년 12월      1\n",
       "2017년 01월      4\n",
       "2017년 02월      1\n",
       "2017년 06월      1\n",
       "2017년 07월      1\n",
       "2017년 10월      1\n",
       "2018년 01월      1\n",
       "2018년 05월     13\n",
       "2018년 07월      2\n",
       "2018년 11월      4\n",
       "2019년 01월     18\n",
       "2019년 02월      1\n",
       "2019년 03월      6\n",
       "2019년 04월     13\n",
       "2019년 05월      1\n",
       "2019년 06월      1\n",
       "2019년 07월      1\n",
       "2019년 08월      1\n",
       "2019년 09월     10\n",
       "2019년 11월      8\n",
       "2019년 12월      2\n",
       "2020년 02월    102\n",
       "2020년 04월      4\n",
       "2020년 05월     27\n",
       "2020년 06월      1\n",
       "2020년 11월     12\n",
       "2021년 12월      1\n",
       "Name: 설치연월, dtype: int64"
      ]
     },
     "execution_count": 22,
     "metadata": {},
     "output_type": "execute_result"
    }
   ],
   "source": [
    "wifi_del.groupby(\"year_month\").count()['설치연월']"
   ]
  },
  {
   "cell_type": "code",
   "execution_count": 23,
   "metadata": {},
   "outputs": [],
   "source": [
    "wifi_year_month = pd.DataFrame(wifi_del.groupby(\"year_month\").count()[\"설치연월\"])"
   ]
  },
  {
   "cell_type": "code",
   "execution_count": 24,
   "metadata": {},
   "outputs": [
    {
     "data": {
      "image/png": "[encoded data removed]",
      "text/plain": [
       "<matplotlib.figure.Figure at 0x7f7549b59978>"
      ]
     },
     "metadata": {},
     "output_type": "display_data"
    }
   ],
   "source": [
    "plt.rcParams['axes.unicode_minus'] = False #한글 폰트 사용시 마이너스 폰트 깨짐 해결\n",
    "\n",
    "plt.figure(figsize=(30,10))\n",
    "\n",
    "sns.set(font='NanumGothic', \n",
    "        rc={\"axes.unicode_minus\":False},\n",
    "        style='darkgrid')\n",
    "\n",
    "ax = sns.countplot(x='year_month', data=wifi_del, palette=\"Set2\", order=wifi_year_month.index)\n",
    "plt.xticks(rotation=-270)\n",
    "plt.show()"
   ]
  },
  {
   "cell_type": "markdown",
   "metadata": {},
   "source": [
    "# 3. 프로젝트 후기\n",
    "----\n",
    "\n",
    "- 직접 프로젝트를 하나 만듦으로써 데이터 분석에 대해 많은 것을 배울 수 있었습니다.\n",
    "\n",
    "- 파일 업로드 문제, 폰트 깨짐 등 자잘한 오류가 발생하였습니다. 하지만 제 생각과 구글링을 통해 여러 번 시도하다 보니 이러한 오류들을 해결을 할 수 있었습니다. 이를 통해 오류가 발생한다고 하더라도 스스로 해결해 나갈 수 있다는 자신감을 얻었습니다. "
   ]
  }
 ],
 "metadata": {
  "kernelspec": {
   "display_name": "Python 3",
   "language": "python",
   "name": "python3"
  },
  "language_info": {
   "codemirror_mode": {
    "name": "ipython",
    "version": 3
   },
   "file_extension": ".py",
   "mimetype": "text/x-python",
   "name": "python",
   "nbconvert_exporter": "python",
   "pygments_lexer": "ipython3",
   "version": "3.6.6"
  }
 },
 "nbformat": 4,
 "nbformat_minor": 2
}

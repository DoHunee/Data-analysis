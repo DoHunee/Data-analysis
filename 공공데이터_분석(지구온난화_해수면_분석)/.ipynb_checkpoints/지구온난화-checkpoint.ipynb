{
 "cells": [
  {
   "cell_type": "markdown",
   "id": "228505bc",
   "metadata": {},
   "source": [
    "# 기온 변화"
   ]
  },
  {
   "cell_type": "markdown",
   "id": "bafffe9a",
   "metadata": {},
   "source": [
    "# Data\n",
    "\n",
    "##### 출처 : https://www.kma.go.kr/w/obs-climate/climate/korea-climate/data-guide.do\n",
    "\n",
    "###### 기상청 국가기후자료관리시스템 참고\n",
    "\n",
    "\n",
    "2019년도부터 2021년도까지 3년간 평균 기온 데이터"
   ]
  },
  {
   "cell_type": "code",
   "execution_count": 1,
   "id": "2826d7d8",
   "metadata": {},
   "outputs": [
    {
     "data": {
      "text/plain": [
       "{'년도': [2017, 2018, 2019, 2020, 2021],\n",
       " '연 평균 기온': [12.8, 12.3, 13.3, 13.0, 13.3],\n",
       " '봄 평균 기온': [12.7, 12.9, 12.5, 12.0, 12.8],\n",
       " '여름 평균 기온': [24.3, 25.3, 23.9, 23.9, 24.2],\n",
       " '가을 평균 기온': [14.0, 13.5, 15.2, 14.1, 14.9],\n",
       " '겨울 평균 기온': [-1.1, 1.0, 2.8, 0.9, 0.3]}"
      ]
     },
     "execution_count": 1,
     "metadata": {},
     "output_type": "execute_result"
    }
   ],
   "source": [
    "data = {\n",
    "    '년도' : [2017, 2018, 2019, 2020, 2021],\n",
    "    '연 평균 기온' : [12.8, 12.3, 13.3, 13.0, 13.3],\n",
    "    '봄 평균 기온' : [12.7, 12.9, 12.5, 12.0, 12.8],\n",
    "    '여름 평균 기온' : [24.3, 25.3, 23.9, 23.9, 24.2],\n",
    "    '가을 평균 기온' : [14.0, 13.5, 15.2, 14.1, 14.9],\n",
    "    '겨울 평균 기온' : [-1.1, 1.0, 2.8, 0.9, 0.3]\n",
    "    \n",
    "}\n",
    "data"
   ]
  },
  {
   "cell_type": "markdown",
   "id": "125a14f0",
   "metadata": {},
   "source": [
    "# DataFrame 객체 생성\n"
   ]
  },
  {
   "cell_type": "code",
   "execution_count": 2,
   "id": "ffdb005e",
   "metadata": {},
   "outputs": [],
   "source": [
    "#(단위 : ℃)\n",
    "import pandas as pd\n",
    "data = {\n",
    "    '년도' : [2017, 2018, 2019, 2020, 2021],\n",
    "    '연 평균 기온' : [12.8, 12.3, 13.3, 13.0, 13.3],\n",
    "    '봄 평균 기온' : [12.7, 12.9, 12.5, 12.0, 12.8],\n",
    "    '여름 평균 기온' : [24.3, 25.3, 23.9, 23.9, 24.2],\n",
    "    '가을 평균 기온' : [14.0, 13.5, 15.2, 14.1, 14.9],\n",
    "    '겨울 평균 기온' : [-1.1, 1.0, 2.8, 0.9, 0.3]\n",
    "    \n",
    "}\n",
    "df = pd.DataFrame(data)"
   ]
  },
  {
   "cell_type": "code",
   "execution_count": 3,
   "id": "2696c566",
   "metadata": {
    "scrolled": false
   },
   "outputs": [
    {
     "data": {
      "text/html": [
       "<div>\n",
       "<style scoped>\n",
       "    .dataframe tbody tr th:only-of-type {\n",
       "        vertical-align: middle;\n",
       "    }\n",
       "\n",
       "    .dataframe tbody tr th {\n",
       "        vertical-align: top;\n",
       "    }\n",
       "\n",
       "    .dataframe thead th {\n",
       "        text-align: right;\n",
       "    }\n",
       "</style>\n",
       "<table border=\"1\" class=\"dataframe\">\n",
       "  <thead>\n",
       "    <tr style=\"text-align: right;\">\n",
       "      <th></th>\n",
       "      <th>년도</th>\n",
       "      <th>연 평균 기온</th>\n",
       "      <th>봄 평균 기온</th>\n",
       "      <th>여름 평균 기온</th>\n",
       "      <th>가을 평균 기온</th>\n",
       "      <th>겨울 평균 기온</th>\n",
       "    </tr>\n",
       "  </thead>\n",
       "  <tbody>\n",
       "    <tr>\n",
       "      <th>0</th>\n",
       "      <td>2017</td>\n",
       "      <td>12.8</td>\n",
       "      <td>12.7</td>\n",
       "      <td>24.3</td>\n",
       "      <td>14.0</td>\n",
       "      <td>-1.1</td>\n",
       "    </tr>\n",
       "    <tr>\n",
       "      <th>1</th>\n",
       "      <td>2018</td>\n",
       "      <td>12.3</td>\n",
       "      <td>12.9</td>\n",
       "      <td>25.3</td>\n",
       "      <td>13.5</td>\n",
       "      <td>1.0</td>\n",
       "    </tr>\n",
       "    <tr>\n",
       "      <th>2</th>\n",
       "      <td>2019</td>\n",
       "      <td>13.3</td>\n",
       "      <td>12.5</td>\n",
       "      <td>23.9</td>\n",
       "      <td>15.2</td>\n",
       "      <td>2.8</td>\n",
       "    </tr>\n",
       "    <tr>\n",
       "      <th>3</th>\n",
       "      <td>2020</td>\n",
       "      <td>13.0</td>\n",
       "      <td>12.0</td>\n",
       "      <td>23.9</td>\n",
       "      <td>14.1</td>\n",
       "      <td>0.9</td>\n",
       "    </tr>\n",
       "    <tr>\n",
       "      <th>4</th>\n",
       "      <td>2021</td>\n",
       "      <td>13.3</td>\n",
       "      <td>12.8</td>\n",
       "      <td>24.2</td>\n",
       "      <td>14.9</td>\n",
       "      <td>0.3</td>\n",
       "    </tr>\n",
       "  </tbody>\n",
       "</table>\n",
       "</div>"
      ],
      "text/plain": [
       "     년도  연 평균 기온  봄 평균 기온  여름 평균 기온  가을 평균 기온  겨울 평균 기온\n",
       "0  2017     12.8     12.7      24.3      14.0      -1.1\n",
       "1  2018     12.3     12.9      25.3      13.5       1.0\n",
       "2  2019     13.3     12.5      23.9      15.2       2.8\n",
       "3  2020     13.0     12.0      23.9      14.1       0.9\n",
       "4  2021     13.3     12.8      24.2      14.9       0.3"
      ]
     },
     "execution_count": 3,
     "metadata": {},
     "output_type": "execute_result"
    }
   ],
   "source": [
    "df"
   ]
  },
  {
   "cell_type": "markdown",
   "id": "6fe45ebc",
   "metadata": {},
   "source": [
    "-> 2022년도 평균 기온은 아직 나오지 않음"
   ]
  },
  {
   "cell_type": "markdown",
   "id": "3a6980da",
   "metadata": {},
   "source": [
    "# DataFrame 확인"
   ]
  },
  {
   "cell_type": "code",
   "execution_count": 4,
   "id": "798bbbf3",
   "metadata": {
    "scrolled": false
   },
   "outputs": [
    {
     "name": "stdout",
     "output_type": "stream",
     "text": [
      "<class 'pandas.core.frame.DataFrame'>\n",
      "RangeIndex: 5 entries, 0 to 4\n",
      "Data columns (total 6 columns):\n",
      " #   Column    Non-Null Count  Dtype  \n",
      "---  ------    --------------  -----  \n",
      " 0   년도        5 non-null      int64  \n",
      " 1   연 평균 기온   5 non-null      float64\n",
      " 2   봄 평균 기온   5 non-null      float64\n",
      " 3   여름 평균 기온  5 non-null      float64\n",
      " 4   가을 평균 기온  5 non-null      float64\n",
      " 5   겨울 평균 기온  5 non-null      float64\n",
      "dtypes: float64(5), int64(1)\n",
      "memory usage: 368.0 bytes\n"
     ]
    }
   ],
   "source": [
    "df.info()"
   ]
  },
  {
   "cell_type": "markdown",
   "id": "6a5a5233",
   "metadata": {},
   "source": [
    "->데이터타입과 메모리가 얼마나 쓰이고 있는지 알 수 있다."
   ]
  },
  {
   "cell_type": "markdown",
   "id": "ec9ea1ec",
   "metadata": {},
   "source": [
    "## index 지정"
   ]
  },
  {
   "cell_type": "code",
   "execution_count": 5,
   "id": "090992f6",
   "metadata": {
    "scrolled": false
   },
   "outputs": [
    {
     "data": {
      "text/html": [
       "<div>\n",
       "<style scoped>\n",
       "    .dataframe tbody tr th:only-of-type {\n",
       "        vertical-align: middle;\n",
       "    }\n",
       "\n",
       "    .dataframe tbody tr th {\n",
       "        vertical-align: top;\n",
       "    }\n",
       "\n",
       "    .dataframe thead th {\n",
       "        text-align: right;\n",
       "    }\n",
       "</style>\n",
       "<table border=\"1\" class=\"dataframe\">\n",
       "  <thead>\n",
       "    <tr style=\"text-align: right;\">\n",
       "      <th></th>\n",
       "      <th>년도</th>\n",
       "      <th>연 평균 기온</th>\n",
       "      <th>봄 평균 기온</th>\n",
       "      <th>여름 평균 기온</th>\n",
       "      <th>가을 평균 기온</th>\n",
       "      <th>겨울 평균 기온</th>\n",
       "    </tr>\n",
       "  </thead>\n",
       "  <tbody>\n",
       "    <tr>\n",
       "      <th>v</th>\n",
       "      <td>2017</td>\n",
       "      <td>12.8</td>\n",
       "      <td>12.7</td>\n",
       "      <td>24.3</td>\n",
       "      <td>14.0</td>\n",
       "      <td>-1.1</td>\n",
       "    </tr>\n",
       "    <tr>\n",
       "      <th>v</th>\n",
       "      <td>2018</td>\n",
       "      <td>12.3</td>\n",
       "      <td>12.9</td>\n",
       "      <td>25.3</td>\n",
       "      <td>13.5</td>\n",
       "      <td>1.0</td>\n",
       "    </tr>\n",
       "    <tr>\n",
       "      <th>v</th>\n",
       "      <td>2019</td>\n",
       "      <td>13.3</td>\n",
       "      <td>12.5</td>\n",
       "      <td>23.9</td>\n",
       "      <td>15.2</td>\n",
       "      <td>2.8</td>\n",
       "    </tr>\n",
       "    <tr>\n",
       "      <th>v</th>\n",
       "      <td>2020</td>\n",
       "      <td>13.0</td>\n",
       "      <td>12.0</td>\n",
       "      <td>23.9</td>\n",
       "      <td>14.1</td>\n",
       "      <td>0.9</td>\n",
       "    </tr>\n",
       "    <tr>\n",
       "      <th>v</th>\n",
       "      <td>2021</td>\n",
       "      <td>13.3</td>\n",
       "      <td>12.8</td>\n",
       "      <td>24.2</td>\n",
       "      <td>14.9</td>\n",
       "      <td>0.3</td>\n",
       "    </tr>\n",
       "  </tbody>\n",
       "</table>\n",
       "</div>"
      ],
      "text/plain": [
       "     년도  연 평균 기온  봄 평균 기온  여름 평균 기온  가을 평균 기온  겨울 평균 기온\n",
       "v  2017     12.8     12.7      24.3      14.0      -1.1\n",
       "v  2018     12.3     12.9      25.3      13.5       1.0\n",
       "v  2019     13.3     12.5      23.9      15.2       2.8\n",
       "v  2020     13.0     12.0      23.9      14.1       0.9\n",
       "v  2021     13.3     12.8      24.2      14.9       0.3"
      ]
     },
     "execution_count": 5,
     "metadata": {},
     "output_type": "execute_result"
    }
   ],
   "source": [
    "df = pd.DataFrame(data, index=['v', 'v', 'v', 'v', 'v'])\n",
    "df"
   ]
  },
  {
   "cell_type": "markdown",
   "id": "f69bc1e5",
   "metadata": {},
   "source": [
    "# Matplotlib"
   ]
  },
  {
   "cell_type": "markdown",
   "id": "709b1f5e",
   "metadata": {},
   "source": [
    "# 연 평균 기온 변화"
   ]
  },
  {
   "cell_type": "code",
   "execution_count": 6,
   "id": "f8d359b0",
   "metadata": {},
   "outputs": [],
   "source": [
    "import matplotlib.pyplot as plt\n",
    "import matplotlib\n",
    "matplotlib.rcParams['font.family'] = 'HYHeadLine-Medium' #사용 가능한 글꼴을 찾아서 적용\n",
    "matplotlib.rcParams['font.size'] = 14\n",
    "matplotlib.rcParams['axes.unicode_minus'] = False"
   ]
  },
  {
   "cell_type": "code",
   "execution_count": 7,
   "id": "b569a372",
   "metadata": {
    "scrolled": false
   },
   "outputs": [],
   "source": [
    "#맑은 고딕 글꼴체로 하니까 오류가 생겨 사용 가능한 글꼴을 찾아보았다.\n",
    "#import matplotlib.font_manager as fm\n",
    "#fm.fontManager.ttflist\n",
    "#[f.name for f in fm.fontManager.ttflist]\n",
    "\n",
    "#너무 길어서 주석처리를 했다."
   ]
  },
  {
   "cell_type": "code",
   "execution_count": 8,
   "id": "1cd4b1c2",
   "metadata": {},
   "outputs": [],
   "source": [
    "y = [12.8, 12.3, 13.3, 13.0, 13.3]\n",
    "x = [2017, 2018, 2019, 2020, 2021]"
   ]
  },
  {
   "cell_type": "code",
   "execution_count": 9,
   "id": "74616675",
   "metadata": {
    "scrolled": false
   },
   "outputs": [
    {
     "data": {
      "text/plain": [
       "<Figure size 360x360 with 0 Axes>"
      ]
     },
     "execution_count": 9,
     "metadata": {},
     "output_type": "execute_result"
    },
    {
     "data": {
      "image/png": "[encoded data removed]",
      "text/plain": [
       "<Figure size 432x288 with 1 Axes>"
      ]
     },
     "metadata": {
      "needs_background": "light"
     },
     "output_type": "display_data"
    },
    {
     "data": {
      "text/plain": [
       "<Figure size 360x360 with 0 Axes>"
      ]
     },
     "metadata": {},
     "output_type": "display_data"
    }
   ],
   "source": [
    "fig = plt.figure()\n",
    "ax = fig.add_subplot()\n",
    "ax.spines['right'].set_visible(False)\n",
    "ax.spines['top'].set_visible(False)\n",
    "#필요 없는 축을 숨겼다.\n",
    "\n",
    "\n",
    "plt.plot(x,y)\n",
    "plt.title(\"연 평균 기온\")\n",
    "plt.plot(x, y, marker='o', markeredgecolor='orange', markerfacecolor='white', markersize=10)\n",
    "plt.figure(figsize=(5, 5))\n"
   ]
  },
  {
   "cell_type": "markdown",
   "id": "800ab1d8",
   "metadata": {},
   "source": [
    "연 평균 기온 -> 증가추세"
   ]
  },
  {
   "cell_type": "markdown",
   "id": "7ef7bb43",
   "metadata": {},
   "source": [
    "# 계절별 평균 기온 변화"
   ]
  },
  {
   "cell_type": "code",
   "execution_count": 10,
   "id": "ec5eb30b",
   "metadata": {
    "scrolled": false
   },
   "outputs": [
    {
     "data": {
      "image/png": "[encoded data removed]",
      "text/plain": [
       "<Figure size 432x288 with 1 Axes>"
      ]
     },
     "metadata": {
      "needs_background": "light"
     },
     "output_type": "display_data"
    }
   ],
   "source": [
    "fig = plt.figure()\n",
    "ax = fig.add_subplot()\n",
    "ax.spines['right'].set_visible(False)\n",
    "ax.spines['top'].set_visible(False)\n",
    "#필요 없는 축을 숨겼다.\n",
    "\n",
    "years = [2017, 2018, 2019, 2020, 2021]\n",
    "spring = [12.7, 12.9, 12.5, 12.0, 12.8]\n",
    "summer = [24.3, 25.3, 23.9, 23.9, 24.2]\n",
    "fall = [14.0, 13.5, 15.2, 14.1, 14.9]\n",
    "winter = [-1.1, 1.0, 2.8, 0.9, 0.3]\n",
    "\n",
    "\n",
    "plt.plot(years, spring, label='spring')\n",
    "plt.plot(years, summer, label='summer', marker='o', linestyle='--')\n",
    "plt.plot(years, fall, label='fall',marker='s', ls='-.')\n",
    "plt.plot(years, winter, label='winter',marker='o',markerfacecolor='white')\n",
    "\n",
    "plt.legend(ncol=1, loc=(0.02,0.14))\n",
    "\n",
    "\n",
    "import matplotlib.pyplot as plt\n",
    "import matplotlib\n",
    "matplotlib.rcParams['font.size'] = 14\n"
   ]
  },
  {
   "cell_type": "markdown",
   "id": "aa7d2ce1",
   "metadata": {},
   "source": [
    "-> 전년도 대비 2021년의 봄, 여름, 가을 기온이 높아짐                                                                                \n",
    "-> 코로나가 완화되면서 공장 재가동, 의료폐기물 증가 등으로 기온은 계속 증가할 것으로 예상됨"
   ]
  },
  {
   "cell_type": "markdown",
   "id": "2012c96c",
   "metadata": {},
   "source": [
    "--------------------------------------------------------------------------------------------------------------                      --------------------------------------------------------------------------------------------------------------"
   ]
  },
  {
   "cell_type": "markdown",
   "id": "bd34d193",
   "metadata": {},
   "source": [
    "# 해수면 높이 상승\n",
    "\n",
    "###### 부산, 인천, 목포, 포항으로 해수면 높이 상승 변화 알아보기"
   ]
  },
  {
   "cell_type": "markdown",
   "id": "acdba7ac",
   "metadata": {},
   "source": [
    "# Data\n",
    "#### 출처 : http://www.climate.go.kr/home/09_monitoring/marine/sl_height\n",
    "#### 기후정보포털 참고"
   ]
  },
  {
   "cell_type": "code",
   "execution_count": 11,
   "id": "05725c36",
   "metadata": {},
   "outputs": [
    {
     "data": {
      "text/plain": [
       "{'년도': [1990, 1995, 2000, 2005, 2010, 2015, 2020],\n",
       " '부산': [66.4, 66.2, 70.1, 68.8, 74.6, 74.2, 77.1],\n",
       " '인천': [461.8, 456.4, 460.5, 458.3, 463.1, 464.3, 468.4],\n",
       " '목포': [237.5, 237.6, 241.8, 239.9, 244.6, 244.5, 250.1],\n",
       " '포항': [18.1, 16.4, 21.1, 17.7, 22.8, 26.0, 33.4]}"
      ]
     },
     "execution_count": 11,
     "metadata": {},
     "output_type": "execute_result"
    }
   ],
   "source": [
    "#(출처) 국립해양조사원\n",
    "\n",
    "data = {\n",
    "    '년도' : [1990, 1995, 2000, 2005, 2010, 2015, 2020],\n",
    "    '부산' : [66.4, 66.2, 70.1, 68.8, 74.6, 74.2, 77.1],\n",
    "    '인천' : [461.8, 456.4, 460.5, 458.3, 463.1, 464.3, 468.4],\n",
    "    '목포' : [237.5, 237.6, 241.8, 239.9, 244.6, 244.5, 250.1],\n",
    "    '포항' : [18.1, 16.4, 21.1, 17.7, 22.8, 26.0, 33.4]\n",
    "        \n",
    "}\n",
    "data"
   ]
  },
  {
   "cell_type": "markdown",
   "id": "a1a77ed1",
   "metadata": {},
   "source": [
    "# DataFrame 객체 생성"
   ]
  },
  {
   "cell_type": "code",
   "execution_count": 16,
   "id": "d096b216",
   "metadata": {},
   "outputs": [],
   "source": [
    "##(단위 : ℃)\n",
    "import pandas as pd\n",
    "data = {\n",
    "    '년도' : [1990, 1995, 2000, 2005, 2010, 2015, 2020],\n",
    "    '부산' : [66.4, 66.2, 70.1, 68.8, 74.6, 74.2, 77.1],\n",
    "    '인천' : [461.8, 456.4, 460.5, 458.3, 463.1, 464.3, 468.4],\n",
    "    '목포' : [237.5, 237.6, 241.8, 239.9, 244.6, 244.5, 250.1],\n",
    "    '포항' : [18.1, 16.4, 21.1, 17.7, 22.8, 26.0, 33.4]\n",
    "    \n",
    "}\n",
    "df = pd.DataFrame(data)"
   ]
  },
  {
   "cell_type": "code",
   "execution_count": 17,
   "id": "cba252d2",
   "metadata": {},
   "outputs": [
    {
     "data": {
      "text/html": [
       "<div>\n",
       "<style scoped>\n",
       "    .dataframe tbody tr th:only-of-type {\n",
       "        vertical-align: middle;\n",
       "    }\n",
       "\n",
       "    .dataframe tbody tr th {\n",
       "        vertical-align: top;\n",
       "    }\n",
       "\n",
       "    .dataframe thead th {\n",
       "        text-align: right;\n",
       "    }\n",
       "</style>\n",
       "<table border=\"1\" class=\"dataframe\">\n",
       "  <thead>\n",
       "    <tr style=\"text-align: right;\">\n",
       "      <th></th>\n",
       "      <th>년도</th>\n",
       "      <th>부산</th>\n",
       "      <th>인천</th>\n",
       "      <th>목포</th>\n",
       "      <th>포항</th>\n",
       "    </tr>\n",
       "  </thead>\n",
       "  <tbody>\n",
       "    <tr>\n",
       "      <th>0</th>\n",
       "      <td>1990</td>\n",
       "      <td>66.4</td>\n",
       "      <td>461.8</td>\n",
       "      <td>237.5</td>\n",
       "      <td>18.1</td>\n",
       "    </tr>\n",
       "    <tr>\n",
       "      <th>1</th>\n",
       "      <td>1995</td>\n",
       "      <td>66.2</td>\n",
       "      <td>456.4</td>\n",
       "      <td>237.6</td>\n",
       "      <td>16.4</td>\n",
       "    </tr>\n",
       "    <tr>\n",
       "      <th>2</th>\n",
       "      <td>2000</td>\n",
       "      <td>70.1</td>\n",
       "      <td>460.5</td>\n",
       "      <td>241.8</td>\n",
       "      <td>21.1</td>\n",
       "    </tr>\n",
       "    <tr>\n",
       "      <th>3</th>\n",
       "      <td>2005</td>\n",
       "      <td>68.8</td>\n",
       "      <td>458.3</td>\n",
       "      <td>239.9</td>\n",
       "      <td>17.7</td>\n",
       "    </tr>\n",
       "    <tr>\n",
       "      <th>4</th>\n",
       "      <td>2010</td>\n",
       "      <td>74.6</td>\n",
       "      <td>463.1</td>\n",
       "      <td>244.6</td>\n",
       "      <td>22.8</td>\n",
       "    </tr>\n",
       "    <tr>\n",
       "      <th>5</th>\n",
       "      <td>2015</td>\n",
       "      <td>74.2</td>\n",
       "      <td>464.3</td>\n",
       "      <td>244.5</td>\n",
       "      <td>26.0</td>\n",
       "    </tr>\n",
       "    <tr>\n",
       "      <th>6</th>\n",
       "      <td>2020</td>\n",
       "      <td>77.1</td>\n",
       "      <td>468.4</td>\n",
       "      <td>250.1</td>\n",
       "      <td>33.4</td>\n",
       "    </tr>\n",
       "  </tbody>\n",
       "</table>\n",
       "</div>"
      ],
      "text/plain": [
       "     년도    부산     인천     목포    포항\n",
       "0  1990  66.4  461.8  237.5  18.1\n",
       "1  1995  66.2  456.4  237.6  16.4\n",
       "2  2000  70.1  460.5  241.8  21.1\n",
       "3  2005  68.8  458.3  239.9  17.7\n",
       "4  2010  74.6  463.1  244.6  22.8\n",
       "5  2015  74.2  464.3  244.5  26.0\n",
       "6  2020  77.1  468.4  250.1  33.4"
      ]
     },
     "execution_count": 17,
     "metadata": {},
     "output_type": "execute_result"
    }
   ],
   "source": [
    "df"
   ]
  },
  {
   "cell_type": "markdown",
   "id": "5a7badc0",
   "metadata": {},
   "source": [
    "# DataFrame 확인"
   ]
  },
  {
   "cell_type": "code",
   "execution_count": 18,
   "id": "c66369ba",
   "metadata": {
    "scrolled": true
   },
   "outputs": [
    {
     "name": "stdout",
     "output_type": "stream",
     "text": [
      "<class 'pandas.core.frame.DataFrame'>\n",
      "RangeIndex: 7 entries, 0 to 6\n",
      "Data columns (total 5 columns):\n",
      " #   Column  Non-Null Count  Dtype  \n",
      "---  ------  --------------  -----  \n",
      " 0   년도      7 non-null      int64  \n",
      " 1   부산      7 non-null      float64\n",
      " 2   인천      7 non-null      float64\n",
      " 3   목포      7 non-null      float64\n",
      " 4   포항      7 non-null      float64\n",
      "dtypes: float64(4), int64(1)\n",
      "memory usage: 408.0 bytes\n"
     ]
    }
   ],
   "source": [
    "df.info()"
   ]
  },
  {
   "cell_type": "markdown",
   "id": "5df849b3",
   "metadata": {},
   "source": [
    "# index 지정"
   ]
  },
  {
   "cell_type": "code",
   "execution_count": 19,
   "id": "d34ec4fe",
   "metadata": {},
   "outputs": [
    {
     "data": {
      "text/html": [
       "<div>\n",
       "<style scoped>\n",
       "    .dataframe tbody tr th:only-of-type {\n",
       "        vertical-align: middle;\n",
       "    }\n",
       "\n",
       "    .dataframe tbody tr th {\n",
       "        vertical-align: top;\n",
       "    }\n",
       "\n",
       "    .dataframe thead th {\n",
       "        text-align: right;\n",
       "    }\n",
       "</style>\n",
       "<table border=\"1\" class=\"dataframe\">\n",
       "  <thead>\n",
       "    <tr style=\"text-align: right;\">\n",
       "      <th></th>\n",
       "      <th>년도</th>\n",
       "      <th>부산</th>\n",
       "      <th>인천</th>\n",
       "      <th>목포</th>\n",
       "      <th>포항</th>\n",
       "    </tr>\n",
       "  </thead>\n",
       "  <tbody>\n",
       "    <tr>\n",
       "      <th>1</th>\n",
       "      <td>1990</td>\n",
       "      <td>66.4</td>\n",
       "      <td>461.8</td>\n",
       "      <td>237.5</td>\n",
       "      <td>18.1</td>\n",
       "    </tr>\n",
       "    <tr>\n",
       "      <th>2</th>\n",
       "      <td>1995</td>\n",
       "      <td>66.2</td>\n",
       "      <td>456.4</td>\n",
       "      <td>237.6</td>\n",
       "      <td>16.4</td>\n",
       "    </tr>\n",
       "    <tr>\n",
       "      <th>3</th>\n",
       "      <td>2000</td>\n",
       "      <td>70.1</td>\n",
       "      <td>460.5</td>\n",
       "      <td>241.8</td>\n",
       "      <td>21.1</td>\n",
       "    </tr>\n",
       "    <tr>\n",
       "      <th>4</th>\n",
       "      <td>2005</td>\n",
       "      <td>68.8</td>\n",
       "      <td>458.3</td>\n",
       "      <td>239.9</td>\n",
       "      <td>17.7</td>\n",
       "    </tr>\n",
       "    <tr>\n",
       "      <th>5</th>\n",
       "      <td>2010</td>\n",
       "      <td>74.6</td>\n",
       "      <td>463.1</td>\n",
       "      <td>244.6</td>\n",
       "      <td>22.8</td>\n",
       "    </tr>\n",
       "    <tr>\n",
       "      <th>6</th>\n",
       "      <td>2015</td>\n",
       "      <td>74.2</td>\n",
       "      <td>464.3</td>\n",
       "      <td>244.5</td>\n",
       "      <td>26.0</td>\n",
       "    </tr>\n",
       "    <tr>\n",
       "      <th>7</th>\n",
       "      <td>2020</td>\n",
       "      <td>77.1</td>\n",
       "      <td>468.4</td>\n",
       "      <td>250.1</td>\n",
       "      <td>33.4</td>\n",
       "    </tr>\n",
       "  </tbody>\n",
       "</table>\n",
       "</div>"
      ],
      "text/plain": [
       "     년도    부산     인천     목포    포항\n",
       "1  1990  66.4  461.8  237.5  18.1\n",
       "2  1995  66.2  456.4  237.6  16.4\n",
       "3  2000  70.1  460.5  241.8  21.1\n",
       "4  2005  68.8  458.3  239.9  17.7\n",
       "5  2010  74.6  463.1  244.6  22.8\n",
       "6  2015  74.2  464.3  244.5  26.0\n",
       "7  2020  77.1  468.4  250.1  33.4"
      ]
     },
     "execution_count": 19,
     "metadata": {},
     "output_type": "execute_result"
    }
   ],
   "source": [
    "df = pd.DataFrame(data, index=['1', '2', '3', '4','5','6','7'])\n",
    "df"
   ]
  },
  {
   "cell_type": "markdown",
   "id": "d5ce1c84",
   "metadata": {},
   "source": [
    "-> 10년 전에 비해 4개 모든 지역 해수면 높이가 증가함"
   ]
  },
  {
   "cell_type": "markdown",
   "id": "bc4c12c1",
   "metadata": {},
   "source": [
    "# Matplotlib"
   ]
  },
  {
   "cell_type": "code",
   "execution_count": 20,
   "id": "66ae6953",
   "metadata": {},
   "outputs": [],
   "source": [
    "import matplotlib.pyplot as plt\n",
    "import matplotlib\n",
    "matplotlib.rcParams['font.family'] = 'HYHeadLine-Medium'\n",
    "matplotlib.rcParams['font.size'] = 10\n",
    "matplotlib.rcParams['axes.unicode_minus'] = False\n"
   ]
  },
  {
   "cell_type": "code",
   "execution_count": 21,
   "id": "77266633",
   "metadata": {},
   "outputs": [
    {
     "data": {
      "text/plain": [
       "<matplotlib.legend.Legend at 0x1b99a62ed30>"
      ]
     },
     "execution_count": 21,
     "metadata": {},
     "output_type": "execute_result"
    },
    {
     "data": {
      "image/png": "[encoded data removed]",
      "text/plain": [
       "<Figure size 432x288 with 1 Axes>"
      ]
     },
     "metadata": {
      "needs_background": "light"
     },
     "output_type": "display_data"
    }
   ],
   "source": [
    "\n",
    "\n",
    "\n",
    "fig = plt.figure()\n",
    "ax = fig.add_subplot()\n",
    "ax.spines['right'].set_visible(False)\n",
    "ax.spines['top'].set_visible(False)\n",
    "#필요 없는 축을 숨겼다.\n",
    "\n",
    "\n",
    "# Y축의 범위: [xmin, xmax]\n",
    "plt.ylim([0, 500])  \n",
    "\n",
    "years = [1990, 1995, 2000, 2005, 2010, 2015, 2020]\n",
    "busan = [66.4, 66.2, 70.1, 68.8, 74.6, 74.2, 77.1]\n",
    "incheon = [461.8, 456.4, 460.5, 458.3, 463.1, 464.3, 468.4]\n",
    "mokpo = [237.5, 237.6, 241.8, 239.9, 244.6, 244.5, 250.1]\n",
    "pohang = [18.1, 16.4, 21.1, 17.7, 22.8, 26.0, 33.4]\n",
    "    \n",
    "plt.plot(years, busan, label='busan',marker='o', markersize=5,linestyle=':')\n",
    "plt.plot(years, incheon, label='incheon',marker='o', markersize=5,linestyle='--',markerfacecolor='white')\n",
    "plt.plot(years, mokpo, label='mokpo',marker='o', markersize=5,linestyle='-.')\n",
    "plt.plot(years, pohang, label='pohang',marker='o', markersize=5,markerfacecolor='white')\n",
    "\n",
    "plt.legend(ncol=2, loc=(0.02,0.7))\n",
    "\n"
   ]
  },
  {
   "cell_type": "markdown",
   "id": "4a7662c1",
   "metadata": {},
   "source": [
    "->그래프를 보면 4개 지역의 해수면의 높이가 증가하고 있다. 이는 기온 상승의 결과라고 볼 수 있다."
   ]
  },
  {
   "cell_type": "code",
   "execution_count": null,
   "id": "9e21931f",
   "metadata": {},
   "outputs": [],
   "source": []
  }
 ],
 "metadata": {
  "kernelspec": {
   "display_name": "Python 3",
   "language": "python",
   "name": "python3"
  },
  "language_info": {
   "codemirror_mode": {
    "name": "ipython",
    "version": 3
   },
   "file_extension": ".py",
   "mimetype": "text/x-python",
   "name": "python",
   "nbconvert_exporter": "python",
   "pygments_lexer": "ipython3",
   "version": "3.8.8"
  }
 },
 "nbformat": 4,
 "nbformat_minor": 5
}

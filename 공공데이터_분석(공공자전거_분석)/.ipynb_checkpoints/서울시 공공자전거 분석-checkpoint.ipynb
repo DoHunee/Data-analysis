{
 "cells": [
  {
   "cell_type": "markdown",
   "id": "03e42a01",
   "metadata": {},
   "source": [
    "# [프로젝트] 서울시 공공자전거 분석"
   ]
  },
  {
   "cell_type": "markdown",
   "id": "aad0a02e",
   "metadata": {},
   "source": [
    "--------------------------------------------------------------------------------------------------------------------------------------"
   ]
  },
  {
   "cell_type": "markdown",
   "id": "47ea4ad0",
   "metadata": {},
   "source": [
    "# 출처\n",
    "https://data.seoul.go.kr/dataList/OA-15182/F/1/datasetView.do 에서\n",
    "\n",
    "서울특별시 공공자전거 대여이력 정보 활용"
   ]
  },
  {
   "cell_type": "markdown",
   "id": "d300a00f",
   "metadata": {},
   "source": [
    "배경"
   ]
  },
  {
   "cell_type": "markdown",
   "id": "72076c58",
   "metadata": {},
   "source": [
    "모빌리티 공유서비스는 이용량이 증가하고있다.\n",
    "그에 따라 공유 모빌리티 양이 증가하고 있고 효율적인 관리를 통한 고객 유치에 힘써야한다. \n",
    "\n",
    "서울시 공공자전거인 \"따릉이\"는 지정된 대여소가 있고 대여소별 평균 자전거 갯수는 큰 차이를 보인다.\n",
    "\n",
    "예를 들어, 아파트 주변에는 50대가 넘게 주차된 구역이 있는 반면 한대도 없는 대여소도 많다."
   ]
  },
  {
   "cell_type": "markdown",
   "id": "5ec118bf",
   "metadata": {},
   "source": [
    "프로젝트 목표\n",
    "\n",
    "따릉이 이용량 분석을 통해 유의미한 정보를 도출하고 더 효율적인 관리를 목표로 한다."
   ]
  },
  {
   "cell_type": "code",
   "execution_count": 1,
   "id": "0ce38468",
   "metadata": {},
   "outputs": [],
   "source": [
    "import seaborn as sns\n",
    "import pandas as pd\n",
    "import matplotlib.pyplot as plt"
   ]
  },
  {
   "cell_type": "code",
   "execution_count": 2,
   "id": "8b843116",
   "metadata": {},
   "outputs": [
    {
     "data": {
      "text/html": [
       "<div>\n",
       "<style scoped>\n",
       "    .dataframe tbody tr th:only-of-type {\n",
       "        vertical-align: middle;\n",
       "    }\n",
       "\n",
       "    .dataframe tbody tr th {\n",
       "        vertical-align: top;\n",
       "    }\n",
       "\n",
       "    .dataframe thead th {\n",
       "        text-align: right;\n",
       "    }\n",
       "</style>\n",
       "<table border=\"1\" class=\"dataframe\">\n",
       "  <thead>\n",
       "    <tr style=\"text-align: right;\">\n",
       "      <th></th>\n",
       "      <th>자전거번호</th>\n",
       "      <th>대여일시</th>\n",
       "      <th>대여 대여소번호</th>\n",
       "      <th>대여 대여소명</th>\n",
       "      <th>대여거치대</th>\n",
       "      <th>반납일시</th>\n",
       "      <th>반납대여소번호</th>\n",
       "      <th>반납대여소명</th>\n",
       "      <th>반납거치대</th>\n",
       "      <th>이용시간</th>\n",
       "      <th>이용거리</th>\n",
       "    </tr>\n",
       "  </thead>\n",
       "  <tbody>\n",
       "    <tr>\n",
       "      <th>0</th>\n",
       "      <td>SPB-59614</td>\n",
       "      <td>2022-06-01 06:36:04</td>\n",
       "      <td>668</td>\n",
       "      <td>서울축산농협(장안지점)</td>\n",
       "      <td>0</td>\n",
       "      <td>2022-06-01 06:47:51</td>\n",
       "      <td>3</td>\n",
       "      <td>중랑센터</td>\n",
       "      <td>0</td>\n",
       "      <td>11</td>\n",
       "      <td>1970.00</td>\n",
       "    </tr>\n",
       "    <tr>\n",
       "      <th>1</th>\n",
       "      <td>SPB-33195</td>\n",
       "      <td>2022-06-01 07:57:48</td>\n",
       "      <td>529</td>\n",
       "      <td>장한평역 8번 출구 앞</td>\n",
       "      <td>0</td>\n",
       "      <td>2022-06-01 08:22:40</td>\n",
       "      <td>3</td>\n",
       "      <td>중랑센터</td>\n",
       "      <td>0</td>\n",
       "      <td>24</td>\n",
       "      <td>2076.38</td>\n",
       "    </tr>\n",
       "    <tr>\n",
       "      <th>2</th>\n",
       "      <td>SPB-56997</td>\n",
       "      <td>2022-06-01 12:26:32</td>\n",
       "      <td>529</td>\n",
       "      <td>장한평역 8번 출구 앞</td>\n",
       "      <td>0</td>\n",
       "      <td>2022-06-01 12:35:09</td>\n",
       "      <td>3</td>\n",
       "      <td>중랑센터</td>\n",
       "      <td>0</td>\n",
       "      <td>8</td>\n",
       "      <td>1370.00</td>\n",
       "    </tr>\n",
       "    <tr>\n",
       "      <th>3</th>\n",
       "      <td>SPB-51938</td>\n",
       "      <td>2022-06-01 21:10:16</td>\n",
       "      <td>3560</td>\n",
       "      <td>성동구 견인차량 보관소 앞</td>\n",
       "      <td>0</td>\n",
       "      <td>2022-06-01 21:24:59</td>\n",
       "      <td>3</td>\n",
       "      <td>중랑센터</td>\n",
       "      <td>0</td>\n",
       "      <td>14</td>\n",
       "      <td>1910.00</td>\n",
       "    </tr>\n",
       "    <tr>\n",
       "      <th>4</th>\n",
       "      <td>SPB-63085</td>\n",
       "      <td>2022-06-02 08:29:11</td>\n",
       "      <td>529</td>\n",
       "      <td>장한평역 8번 출구 앞</td>\n",
       "      <td>0</td>\n",
       "      <td>2022-06-02 08:33:24</td>\n",
       "      <td>3</td>\n",
       "      <td>중랑센터</td>\n",
       "      <td>0</td>\n",
       "      <td>4</td>\n",
       "      <td>2290.00</td>\n",
       "    </tr>\n",
       "    <tr>\n",
       "      <th>5</th>\n",
       "      <td>SPB-82108</td>\n",
       "      <td>2022-06-02 08:46:31</td>\n",
       "      <td>646</td>\n",
       "      <td>장한평역 1번출구</td>\n",
       "      <td>99</td>\n",
       "      <td>2022-06-02 08:53:14</td>\n",
       "      <td>3</td>\n",
       "      <td>중랑센터</td>\n",
       "      <td>99</td>\n",
       "      <td>6</td>\n",
       "      <td>1480.00</td>\n",
       "    </tr>\n",
       "    <tr>\n",
       "      <th>6</th>\n",
       "      <td>SPB-44360</td>\n",
       "      <td>2022-06-02 12:24:56</td>\n",
       "      <td>529</td>\n",
       "      <td>장한평역 8번 출구 앞</td>\n",
       "      <td>0</td>\n",
       "      <td>2022-06-02 12:31:06</td>\n",
       "      <td>3</td>\n",
       "      <td>중랑센터</td>\n",
       "      <td>0</td>\n",
       "      <td>6</td>\n",
       "      <td>1005.15</td>\n",
       "    </tr>\n",
       "    <tr>\n",
       "      <th>7</th>\n",
       "      <td>SPB-52401</td>\n",
       "      <td>2022-06-02 12:24:04</td>\n",
       "      <td>529</td>\n",
       "      <td>장한평역 8번 출구 앞</td>\n",
       "      <td>0</td>\n",
       "      <td>2022-06-02 12:32:38</td>\n",
       "      <td>3</td>\n",
       "      <td>중랑센터</td>\n",
       "      <td>0</td>\n",
       "      <td>8</td>\n",
       "      <td>1821.83</td>\n",
       "    </tr>\n",
       "    <tr>\n",
       "      <th>8</th>\n",
       "      <td>SPB-39634</td>\n",
       "      <td>2022-06-02 12:40:20</td>\n",
       "      <td>646</td>\n",
       "      <td>장한평역 1번출구</td>\n",
       "      <td>0</td>\n",
       "      <td>2022-06-02 12:46:48</td>\n",
       "      <td>3</td>\n",
       "      <td>중랑센터</td>\n",
       "      <td>0</td>\n",
       "      <td>6</td>\n",
       "      <td>909.18</td>\n",
       "    </tr>\n",
       "    <tr>\n",
       "      <th>9</th>\n",
       "      <td>SPB-48966</td>\n",
       "      <td>2022-06-03 03:49:31</td>\n",
       "      <td>605</td>\n",
       "      <td>신설동역8번출구</td>\n",
       "      <td>0</td>\n",
       "      <td>2022-06-03 04:09:17</td>\n",
       "      <td>3</td>\n",
       "      <td>중랑센터</td>\n",
       "      <td>0</td>\n",
       "      <td>19</td>\n",
       "      <td>4851.86</td>\n",
       "    </tr>\n",
       "  </tbody>\n",
       "</table>\n",
       "</div>"
      ],
      "text/plain": [
       "       자전거번호                 대여일시  대여 대여소번호         대여 대여소명  대여거치대  \\\n",
       "0  SPB-59614  2022-06-01 06:36:04       668    서울축산농협(장안지점)      0   \n",
       "1  SPB-33195  2022-06-01 07:57:48       529    장한평역 8번 출구 앞      0   \n",
       "2  SPB-56997  2022-06-01 12:26:32       529    장한평역 8번 출구 앞      0   \n",
       "3  SPB-51938  2022-06-01 21:10:16      3560  성동구 견인차량 보관소 앞      0   \n",
       "4  SPB-63085  2022-06-02 08:29:11       529    장한평역 8번 출구 앞      0   \n",
       "5  SPB-82108  2022-06-02 08:46:31       646       장한평역 1번출구     99   \n",
       "6  SPB-44360  2022-06-02 12:24:56       529    장한평역 8번 출구 앞      0   \n",
       "7  SPB-52401  2022-06-02 12:24:04       529    장한평역 8번 출구 앞      0   \n",
       "8  SPB-39634  2022-06-02 12:40:20       646       장한평역 1번출구      0   \n",
       "9  SPB-48966  2022-06-03 03:49:31       605        신설동역8번출구      0   \n",
       "\n",
       "                  반납일시  반납대여소번호 반납대여소명  반납거치대  이용시간     이용거리  \n",
       "0  2022-06-01 06:47:51        3   중랑센터      0    11  1970.00  \n",
       "1  2022-06-01 08:22:40        3   중랑센터      0    24  2076.38  \n",
       "2  2022-06-01 12:35:09        3   중랑센터      0     8  1370.00  \n",
       "3  2022-06-01 21:24:59        3   중랑센터      0    14  1910.00  \n",
       "4  2022-06-02 08:33:24        3   중랑센터      0     4  2290.00  \n",
       "5  2022-06-02 08:53:14        3   중랑센터     99     6  1480.00  \n",
       "6  2022-06-02 12:31:06        3   중랑센터      0     6  1005.15  \n",
       "7  2022-06-02 12:32:38        3   중랑센터      0     8  1821.83  \n",
       "8  2022-06-02 12:46:48        3   중랑센터      0     6   909.18  \n",
       "9  2022-06-03 04:09:17        3   중랑센터      0    19  4851.86  "
      ]
     },
     "execution_count": 2,
     "metadata": {},
     "output_type": "execute_result"
    }
   ],
   "source": [
    "#데이터 불러오기\n",
    "seoul = pd.read_csv('./공공자전거.csv', encoding='cp949')\n",
    "\n",
    "#상위 10개 데이터 출력\n",
    "seoul.head(10)"
   ]
  },
  {
   "cell_type": "code",
   "execution_count": 3,
   "id": "49464a9d",
   "metadata": {},
   "outputs": [
    {
     "name": "stdout",
     "output_type": "stream",
     "text": [
      "<class 'pandas.core.frame.DataFrame'>\n",
      "RangeIndex: 4196985 entries, 0 to 4196984\n",
      "Data columns (total 11 columns):\n",
      " #   Column    Dtype  \n",
      "---  ------    -----  \n",
      " 0   자전거번호     object \n",
      " 1   대여일시      object \n",
      " 2   대여 대여소번호  int64  \n",
      " 3   대여 대여소명   object \n",
      " 4   대여거치대     int64  \n",
      " 5   반납일시      object \n",
      " 6   반납대여소번호   int64  \n",
      " 7   반납대여소명    object \n",
      " 8   반납거치대     int64  \n",
      " 9   이용시간      int64  \n",
      " 10  이용거리      float64\n",
      "dtypes: float64(1), int64(5), object(5)\n",
      "memory usage: 352.2+ MB\n"
     ]
    }
   ],
   "source": [
    "#데이터 프레임 요약 출력\n",
    "seoul.info()"
   ]
  },
  {
   "cell_type": "code",
   "execution_count": 4,
   "id": "e39a1cb8",
   "metadata": {},
   "outputs": [
    {
     "data": {
      "text/html": [
       "<div>\n",
       "<style scoped>\n",
       "    .dataframe tbody tr th:only-of-type {\n",
       "        vertical-align: middle;\n",
       "    }\n",
       "\n",
       "    .dataframe tbody tr th {\n",
       "        vertical-align: top;\n",
       "    }\n",
       "\n",
       "    .dataframe thead th {\n",
       "        text-align: right;\n",
       "    }\n",
       "</style>\n",
       "<table border=\"1\" class=\"dataframe\">\n",
       "  <thead>\n",
       "    <tr style=\"text-align: right;\">\n",
       "      <th></th>\n",
       "      <th>대여 대여소번호</th>\n",
       "      <th>대여거치대</th>\n",
       "      <th>반납대여소번호</th>\n",
       "      <th>반납거치대</th>\n",
       "      <th>이용시간</th>\n",
       "      <th>이용거리</th>\n",
       "    </tr>\n",
       "  </thead>\n",
       "  <tbody>\n",
       "    <tr>\n",
       "      <th>count</th>\n",
       "      <td>4.196985e+06</td>\n",
       "      <td>4.196985e+06</td>\n",
       "      <td>4.196985e+06</td>\n",
       "      <td>4.196985e+06</td>\n",
       "      <td>4.196985e+06</td>\n",
       "      <td>4.196985e+06</td>\n",
       "    </tr>\n",
       "    <tr>\n",
       "      <th>mean</th>\n",
       "      <td>1.958480e+03</td>\n",
       "      <td>3.812681e+00</td>\n",
       "      <td>1.960405e+03</td>\n",
       "      <td>3.804472e+00</td>\n",
       "      <td>2.271690e+01</td>\n",
       "      <td>2.738117e+03</td>\n",
       "    </tr>\n",
       "    <tr>\n",
       "      <th>std</th>\n",
       "      <td>1.434555e+03</td>\n",
       "      <td>1.905043e+01</td>\n",
       "      <td>1.423324e+03</td>\n",
       "      <td>1.903073e+01</td>\n",
       "      <td>2.660410e+01</td>\n",
       "      <td>3.334007e+03</td>\n",
       "    </tr>\n",
       "    <tr>\n",
       "      <th>min</th>\n",
       "      <td>3.000000e+00</td>\n",
       "      <td>0.000000e+00</td>\n",
       "      <td>3.000000e+00</td>\n",
       "      <td>0.000000e+00</td>\n",
       "      <td>0.000000e+00</td>\n",
       "      <td>0.000000e+00</td>\n",
       "    </tr>\n",
       "    <tr>\n",
       "      <th>25%</th>\n",
       "      <td>7.690000e+02</td>\n",
       "      <td>0.000000e+00</td>\n",
       "      <td>7.710000e+02</td>\n",
       "      <td>0.000000e+00</td>\n",
       "      <td>7.000000e+00</td>\n",
       "      <td>9.016100e+02</td>\n",
       "    </tr>\n",
       "    <tr>\n",
       "      <th>50%</th>\n",
       "      <td>1.608000e+03</td>\n",
       "      <td>0.000000e+00</td>\n",
       "      <td>1.606000e+03</td>\n",
       "      <td>0.000000e+00</td>\n",
       "      <td>1.300000e+01</td>\n",
       "      <td>1.610000e+03</td>\n",
       "    </tr>\n",
       "    <tr>\n",
       "      <th>75%</th>\n",
       "      <td>2.903000e+03</td>\n",
       "      <td>0.000000e+00</td>\n",
       "      <td>2.904000e+03</td>\n",
       "      <td>0.000000e+00</td>\n",
       "      <td>2.900000e+01</td>\n",
       "      <td>3.130000e+03</td>\n",
       "    </tr>\n",
       "    <tr>\n",
       "      <th>max</th>\n",
       "      <td>9.999900e+04</td>\n",
       "      <td>9.900000e+01</td>\n",
       "      <td>9.999900e+04</td>\n",
       "      <td>9.900000e+01</td>\n",
       "      <td>1.428000e+03</td>\n",
       "      <td>1.433733e+05</td>\n",
       "    </tr>\n",
       "  </tbody>\n",
       "</table>\n",
       "</div>"
      ],
      "text/plain": [
       "           대여 대여소번호         대여거치대       반납대여소번호         반납거치대          이용시간  \\\n",
       "count  4.196985e+06  4.196985e+06  4.196985e+06  4.196985e+06  4.196985e+06   \n",
       "mean   1.958480e+03  3.812681e+00  1.960405e+03  3.804472e+00  2.271690e+01   \n",
       "std    1.434555e+03  1.905043e+01  1.423324e+03  1.903073e+01  2.660410e+01   \n",
       "min    3.000000e+00  0.000000e+00  3.000000e+00  0.000000e+00  0.000000e+00   \n",
       "25%    7.690000e+02  0.000000e+00  7.710000e+02  0.000000e+00  7.000000e+00   \n",
       "50%    1.608000e+03  0.000000e+00  1.606000e+03  0.000000e+00  1.300000e+01   \n",
       "75%    2.903000e+03  0.000000e+00  2.904000e+03  0.000000e+00  2.900000e+01   \n",
       "max    9.999900e+04  9.900000e+01  9.999900e+04  9.900000e+01  1.428000e+03   \n",
       "\n",
       "               이용거리  \n",
       "count  4.196985e+06  \n",
       "mean   2.738117e+03  \n",
       "std    3.334007e+03  \n",
       "min    0.000000e+00  \n",
       "25%    9.016100e+02  \n",
       "50%    1.610000e+03  \n",
       "75%    3.130000e+03  \n",
       "max    1.433733e+05  "
      ]
     },
     "execution_count": 4,
     "metadata": {},
     "output_type": "execute_result"
    }
   ],
   "source": [
    "seoul.describe()"
   ]
  },
  {
   "cell_type": "code",
   "execution_count": 5,
   "id": "712e969d",
   "metadata": {},
   "outputs": [
    {
     "name": "stdout",
     "output_type": "stream",
     "text": [
      "<class 'pandas.core.frame.DataFrame'>\n",
      "RangeIndex: 4196985 entries, 0 to 4196984\n",
      "Data columns (total 7 columns):\n",
      " #   Column   Dtype  \n",
      "---  ------   -----  \n",
      " 0   자전거번호    object \n",
      " 1   대여일시     object \n",
      " 2   대여 대여소명  object \n",
      " 3   반납일시     object \n",
      " 4   반납대여소명   object \n",
      " 5   이용시간     int64  \n",
      " 6   이용거리     float64\n",
      "dtypes: float64(1), int64(1), object(5)\n",
      "memory usage: 224.1+ MB\n"
     ]
    }
   ],
   "source": [
    "#필요없는 coulmn 지우기\n",
    "seoul_del = seoul.drop(columns = ['대여 대여소번호','대여거치대','반납대여소번호','반납거치대'])\n",
    "seoul_del.info()"
   ]
  },
  {
   "cell_type": "code",
   "execution_count": 6,
   "id": "1a00de11",
   "metadata": {},
   "outputs": [],
   "source": [
    "#자전거번호 앞에있는 'SPB-' 빼고 int로 바꾸기\n",
    "자전거번호_숫자만 = seoul_del['자전거번호'].str.split('-').str[1]"
   ]
  },
  {
   "cell_type": "code",
   "execution_count": 7,
   "id": "59f4addb",
   "metadata": {},
   "outputs": [],
   "source": [
    "seoul_del['자전거번호'] = 자전거번호_숫자만\n",
    "seoul_del['자전거번호'] = seoul_del['자전거번호'].astype('int64')"
   ]
  },
  {
   "cell_type": "code",
   "execution_count": 8,
   "id": "c2f4d662",
   "metadata": {},
   "outputs": [],
   "source": [
    "# 날짜정보 split\n",
    "대여며칠인지 = seoul_del['대여일시'].str.split(' ').str[0].str.split('-').str[-1]"
   ]
  },
  {
   "cell_type": "code",
   "execution_count": 9,
   "id": "39111df2",
   "metadata": {},
   "outputs": [],
   "source": [
    "seoul_del['대여일시'] = 대여며칠인지\n",
    "seoul_del['대여일시'] = seoul_del['대여일시'].astype('int64')"
   ]
  },
  {
   "cell_type": "code",
   "execution_count": 10,
   "id": "cc9eb662",
   "metadata": {},
   "outputs": [
    {
     "name": "stdout",
     "output_type": "stream",
     "text": [
      "<class 'pandas.core.frame.DataFrame'>\n",
      "RangeIndex: 4196985 entries, 0 to 4196984\n",
      "Data columns (total 7 columns):\n",
      " #   Column   Dtype  \n",
      "---  ------   -----  \n",
      " 0   자전거번호    int64  \n",
      " 1   대여일시     int64  \n",
      " 2   대여 대여소명  object \n",
      " 3   반납일시     object \n",
      " 4   반납대여소명   object \n",
      " 5   이용시간     int64  \n",
      " 6   이용거리     float64\n",
      "dtypes: float64(1), int64(3), object(3)\n",
      "memory usage: 224.1+ MB\n"
     ]
    }
   ],
   "source": [
    "seoul_del.info()"
   ]
  },
  {
   "cell_type": "code",
   "execution_count": 11,
   "id": "a446c304",
   "metadata": {},
   "outputs": [
    {
     "data": {
      "text/plain": [
       "<AxesSubplot:>"
      ]
     },
     "execution_count": 11,
     "metadata": {},
     "output_type": "execute_result"
    },
    {
     "data": {
      "image/png": "[encoded data removed]",
      "text/plain": [
       "<Figure size 432x288 with 1 Axes>"
      ]
     },
     "metadata": {
      "needs_background": "light"
     },
     "output_type": "display_data"
    }
   ],
   "source": [
    "seoul_del['대여일시'].value_counts().plot(kind='bar')"
   ]
  },
  {
   "cell_type": "code",
   "execution_count": 12,
   "id": "79bfb2a8",
   "metadata": {},
   "outputs": [
    {
     "data": {
      "text/plain": [
       "1     170048\n",
       "2     175895\n",
       "3     179010\n",
       "4     156057\n",
       "5     125360\n",
       "6     135462\n",
       "7     177698\n",
       "8     181083\n",
       "9     149323\n",
       "10    153399\n",
       "11    158046\n",
       "12    141756\n",
       "13    167656\n",
       "14    164028\n",
       "15     72395\n",
       "16    157328\n",
       "17    178524\n",
       "18    150736\n",
       "19    141254\n",
       "20    178103\n",
       "21    175428\n",
       "22    178849\n",
       "23     53565\n",
       "24    149083\n",
       "25    144163\n",
       "26    120153\n",
       "27     92875\n",
       "28    109655\n",
       "29     51455\n",
       "30      8598\n",
       "Name: 대여일시, dtype: int64"
      ]
     },
     "execution_count": 12,
     "metadata": {},
     "output_type": "execute_result"
    }
   ],
   "source": [
    "#일자별로 sort\n",
    "seoul_del['대여일시'].value_counts(sort=False)"
   ]
  },
  {
   "cell_type": "code",
   "execution_count": 13,
   "id": "7574c571",
   "metadata": {},
   "outputs": [
    {
     "data": {
      "text/plain": [
       "8     181083\n",
       "3     179010\n",
       "22    178849\n",
       "17    178524\n",
       "20    178103\n",
       "7     177698\n",
       "2     175895\n",
       "21    175428\n",
       "1     170048\n",
       "13    167656\n",
       "14    164028\n",
       "11    158046\n",
       "16    157328\n",
       "4     156057\n",
       "10    153399\n",
       "18    150736\n",
       "9     149323\n",
       "24    149083\n",
       "25    144163\n",
       "12    141756\n",
       "19    141254\n",
       "6     135462\n",
       "5     125360\n",
       "26    120153\n",
       "28    109655\n",
       "27     92875\n",
       "15     72395\n",
       "23     53565\n",
       "29     51455\n",
       "30      8598\n",
       "Name: 대여일시, dtype: int64"
      ]
     },
     "execution_count": 13,
     "metadata": {},
     "output_type": "execute_result"
    }
   ],
   "source": [
    "#대여횟수별 sort\n",
    "seoul_del['대여일시'].value_counts()"
   ]
  },
  {
   "cell_type": "code",
   "execution_count": 14,
   "id": "72771170",
   "metadata": {},
   "outputs": [
    {
     "data": {
      "text/plain": [
       "139899.5"
      ]
     },
     "execution_count": 14,
     "metadata": {},
     "output_type": "execute_result"
    }
   ],
   "source": [
    "#평균대여횟수\n",
    "seoul_del['대여일시'].value_counts().mean()"
   ]
  },
  {
   "cell_type": "code",
   "execution_count": 15,
   "id": "715e3f8e",
   "metadata": {},
   "outputs": [
    {
     "data": {
      "text/plain": [
       "60176    373\n",
       "63434    366\n",
       "63092    365\n",
       "63362    363\n",
       "63313    356\n",
       "63136    355\n",
       "62945    354\n",
       "63030    349\n",
       "59854    349\n",
       "59832    347\n",
       "Name: 자전거번호, dtype: int64"
      ]
     },
     "execution_count": 15,
     "metadata": {},
     "output_type": "execute_result"
    }
   ],
   "source": [
    "#대여 횟수가 많은 자전거 Top 10\n",
    "seoul_del['자전거번호'].value_counts().head(10)"
   ]
  },
  {
   "cell_type": "code",
   "execution_count": 16,
   "id": "5be20a20",
   "metadata": {},
   "outputs": [
    {
     "data": {
      "text/html": [
       "<div>\n",
       "<style scoped>\n",
       "    .dataframe tbody tr th:only-of-type {\n",
       "        vertical-align: middle;\n",
       "    }\n",
       "\n",
       "    .dataframe tbody tr th {\n",
       "        vertical-align: top;\n",
       "    }\n",
       "\n",
       "    .dataframe thead th {\n",
       "        text-align: right;\n",
       "    }\n",
       "</style>\n",
       "<table border=\"1\" class=\"dataframe\">\n",
       "  <thead>\n",
       "    <tr style=\"text-align: right;\">\n",
       "      <th></th>\n",
       "      <th>이용시간</th>\n",
       "    </tr>\n",
       "    <tr>\n",
       "      <th>자전거번호</th>\n",
       "      <th></th>\n",
       "    </tr>\n",
       "  </thead>\n",
       "  <tbody>\n",
       "    <tr>\n",
       "      <th>59832</th>\n",
       "      <td>347</td>\n",
       "    </tr>\n",
       "    <tr>\n",
       "      <th>63030</th>\n",
       "      <td>349</td>\n",
       "    </tr>\n",
       "    <tr>\n",
       "      <th>59854</th>\n",
       "      <td>349</td>\n",
       "    </tr>\n",
       "    <tr>\n",
       "      <th>62945</th>\n",
       "      <td>354</td>\n",
       "    </tr>\n",
       "    <tr>\n",
       "      <th>63136</th>\n",
       "      <td>355</td>\n",
       "    </tr>\n",
       "    <tr>\n",
       "      <th>63313</th>\n",
       "      <td>356</td>\n",
       "    </tr>\n",
       "    <tr>\n",
       "      <th>63362</th>\n",
       "      <td>363</td>\n",
       "    </tr>\n",
       "    <tr>\n",
       "      <th>63092</th>\n",
       "      <td>365</td>\n",
       "    </tr>\n",
       "    <tr>\n",
       "      <th>63434</th>\n",
       "      <td>366</td>\n",
       "    </tr>\n",
       "    <tr>\n",
       "      <th>60176</th>\n",
       "      <td>373</td>\n",
       "    </tr>\n",
       "  </tbody>\n",
       "</table>\n",
       "</div>"
      ],
      "text/plain": [
       "       이용시간\n",
       "자전거번호      \n",
       "59832   347\n",
       "63030   349\n",
       "59854   349\n",
       "62945   354\n",
       "63136   355\n",
       "63313   356\n",
       "63362   363\n",
       "63092   365\n",
       "63434   366\n",
       "60176   373"
      ]
     },
     "execution_count": 16,
     "metadata": {},
     "output_type": "execute_result"
    }
   ],
   "source": [
    "#자전거별 이용시간 Top 10\n",
    "seoul_del[['자전거번호', '이용시간']].groupby('자전거번호').count().sort_values('이용시간').tail(10)"
   ]
  },
  {
   "cell_type": "code",
   "execution_count": 17,
   "id": "cbafc084",
   "metadata": {},
   "outputs": [
    {
     "data": {
      "text/plain": [
       "(2602, 2600)"
      ]
     },
     "execution_count": 17,
     "metadata": {},
     "output_type": "execute_result"
    }
   ],
   "source": [
    "len(set(seoul_del['대여 대여소명'])), len(set(seoul_del['반납대여소명']))"
   ]
  },
  {
   "cell_type": "code",
   "execution_count": 18,
   "id": "7f8670b6",
   "metadata": {
    "scrolled": true
   },
   "outputs": [
    {
     "data": {
      "text/plain": [
       "{'상암단말정비', '영남배송'}"
      ]
     },
     "execution_count": 18,
     "metadata": {},
     "output_type": "execute_result"
    }
   ],
   "source": [
    "# 대여는 있지만 반납이 없는곳 \n",
    "set(seoul_del['대여 대여소명'])-set(seoul_del['반납대여소명'])"
   ]
  },
  {
   "cell_type": "code",
   "execution_count": 19,
   "id": "ef749672",
   "metadata": {},
   "outputs": [],
   "source": [
    "a = []\n",
    "for i in range(len(seoul_del)):\n",
    "    if seoul_del[\"대여 대여소명\"][i] == '영남배송' or seoul_del[\"대여 대여소명\"][i] == '상암단말정비':\n",
    "        a.append(i)"
   ]
  },
  {
   "cell_type": "code",
   "execution_count": 20,
   "id": "9ab2dfc0",
   "metadata": {},
   "outputs": [
    {
     "data": {
      "text/plain": [
       "399807     상암단말정비\n",
       "1060565      영남배송\n",
       "1081295      영남배송\n",
       "1081463      영남배송\n",
       "1081988      영남배송\n",
       "1082096      영남배송\n",
       "1083522      영남배송\n",
       "1083930      영남배송\n",
       "Name: 대여 대여소명, dtype: object"
      ]
     },
     "execution_count": 20,
     "metadata": {},
     "output_type": "execute_result"
    }
   ],
   "source": [
    "# 상암단말정비 1번, 영남배송 7번\n",
    "seoul_del[\"대여 대여소명\"][a]"
   ]
  },
  {
   "cell_type": "code",
   "execution_count": 21,
   "id": "7fc2ca4c",
   "metadata": {},
   "outputs": [
    {
     "data": {
      "text/plain": [
       "(시립)고덕평생학습관         901\n",
       "(재)FITI시험연구원       2242\n",
       "3645 구역삼세무서 교차로     853\n",
       "3919 CGV구로 앞       1587\n",
       "3호선 매봉역 3번출구앞      2280\n",
       "                   ... \n",
       "흥국사 정류장             167\n",
       "희성오피앙              1668\n",
       "희훈타워빌 앞            2259\n",
       "힐스테이트에코            4472\n",
       "힐스테이트클래시안아파트       1329\n",
       "Name: 대여 대여소명, Length: 2600, dtype: int64"
      ]
     },
     "execution_count": 21,
     "metadata": {},
     "output_type": "execute_result"
    }
   ],
   "source": [
    "# 대여만 있고 반납이 없는 대여소 빼기\n",
    "seoul_del['대여 대여소명'].value_counts().drop(index = ['영남배송','상암단말정비']).sort_index()"
   ]
  },
  {
   "cell_type": "code",
   "execution_count": 22,
   "id": "f1b69097",
   "metadata": {},
   "outputs": [
    {
     "data": {
      "text/plain": [
       "(시립)고덕평생학습관         898\n",
       "(재)FITI시험연구원       2033\n",
       "3645 구역삼세무서 교차로     867\n",
       "3919 CGV구로 앞       1576\n",
       "3호선 매봉역 3번출구앞      2381\n",
       "                   ... \n",
       "흥국사 정류장             193\n",
       "희성오피앙              1685\n",
       "희훈타워빌 앞            2168\n",
       "힐스테이트에코            4518\n",
       "힐스테이트클래시안아파트       1331\n",
       "Name: 반납대여소명, Length: 2600, dtype: int64"
      ]
     },
     "execution_count": 22,
     "metadata": {},
     "output_type": "execute_result"
    }
   ],
   "source": [
    "seoul_del['반납대여소명'].value_counts().sort_index()"
   ]
  },
  {
   "cell_type": "code",
   "execution_count": 23,
   "id": "c930a01d",
   "metadata": {},
   "outputs": [
    {
     "data": {
      "text/plain": [
       "{True}"
      ]
     },
     "execution_count": 23,
     "metadata": {},
     "output_type": "execute_result"
    }
   ],
   "source": [
    "# 반납대여소명과 대여 대여소명 인덱스 값 맞추기\n",
    "set(seoul_del['반납대여소명'].value_counts().sort_index().index == seoul_del['대여 대여소명'].value_counts().drop(index = ['영남배송','상암단말정비']).sort_index().index)"
   ]
  },
  {
   "cell_type": "code",
   "execution_count": 24,
   "id": "464674d9",
   "metadata": {},
   "outputs": [
    {
     "data": {
      "text/plain": [
       "(시립)고덕평생학습관          3\n",
       "(재)FITI시험연구원       209\n",
       "3645 구역삼세무서 교차로    -14\n",
       "3919 CGV구로 앞        11\n",
       "3호선 매봉역 3번출구앞     -101\n",
       "                  ... \n",
       "흥국사 정류장            -26\n",
       "희성오피앙              -17\n",
       "희훈타워빌 앞             91\n",
       "힐스테이트에코            -46\n",
       "힐스테이트클래시안아파트        -2\n",
       "Length: 2600, dtype: int64"
      ]
     },
     "execution_count": 24,
     "metadata": {},
     "output_type": "execute_result"
    }
   ],
   "source": [
    "# 대여와 반납 횟수 차이\n",
    "chi = (seoul_del['대여 대여소명'].value_counts().drop(index = ['영남배송','상암단말정비']).sort_index() - seoul_del['반납대여소명'].value_counts().sort_index())\n",
    "chi"
   ]
  },
  {
   "cell_type": "code",
   "execution_count": 25,
   "id": "e970ce04",
   "metadata": {},
   "outputs": [
    {
     "data": {
      "text/plain": [
       "뚝섬유원지역 1번출구 앞              -1314\n",
       "암사역 3번출구(국민은행앞)            -1153\n",
       "CJ 드림시티                    -1094\n",
       "한강공원 망원나들목                 -1082\n",
       "응암역2번출구 국민은행 앞             -1055\n",
       "                            ... \n",
       "고덕역 4번출구                     950\n",
       "우장산역 1번출구옆(우장산아이파크105동앞)    1104\n",
       "온곡초교 교차로                    1127\n",
       "신일해피트리아파트 앞                 1373\n",
       "아차산역4번출구                    1433\n",
       "Length: 2600, dtype: int64"
      ]
     },
     "execution_count": 25,
     "metadata": {},
     "output_type": "execute_result"
    }
   ],
   "source": [
    "chi.sort_values()"
   ]
  },
  {
   "cell_type": "code",
   "execution_count": 26,
   "id": "83d98dca",
   "metadata": {},
   "outputs": [
    {
     "data": {
      "text/plain": [
       "(14056, 15370)"
      ]
     },
     "execution_count": 26,
     "metadata": {},
     "output_type": "execute_result"
    }
   ],
   "source": [
    "# 대여보다 반납이 많은 곳\n",
    "seoul_del['대여 대여소명'].value_counts().loc['뚝섬유원지역 1번출구 앞'],seoul_del['반납대여소명'].value_counts().loc['뚝섬유원지역 1번출구 앞']"
   ]
  },
  {
   "cell_type": "code",
   "execution_count": 27,
   "id": "e9659dfa",
   "metadata": {},
   "outputs": [
    {
     "data": {
      "text/plain": [
       "(3392, 1959)"
      ]
     },
     "execution_count": 27,
     "metadata": {},
     "output_type": "execute_result"
    }
   ],
   "source": [
    "# 반납보다 대여가 많은 곳\n",
    "seoul_del['대여 대여소명'].value_counts().loc['아차산역4번출구'],seoul_del['반납대여소명'].value_counts().loc['아차산역4번출구']"
   ]
  },
  {
   "cell_type": "code",
   "execution_count": 28,
   "id": "42689f29",
   "metadata": {},
   "outputs": [
    {
     "data": {
      "text/plain": [
       "(901, 898)"
      ]
     },
     "execution_count": 28,
     "metadata": {},
     "output_type": "execute_result"
    }
   ],
   "source": [
    "# 횟수 차이가 거의 나지 않는 곳\n",
    "seoul_del['대여 대여소명'].value_counts().loc['(시립)고덕평생학습관'],seoul_del['반납대여소명'].value_counts().loc['(시립)고덕평생학습관']"
   ]
  },
  {
   "cell_type": "markdown",
   "id": "c24bc3ed",
   "metadata": {},
   "source": [
    "## 활용정보\n",
    "1. 자전거 한 대당 대여 횟수 또는 이용시간이 일정치를 넘어가면 점검함으로써 사고 예방과 품질 좋은 자전거 제공\n",
    "2. 대여와 반납을 분석하여 반납이 적고 대여가 많은 곳이나 대여가 많은 곳을 분석하여 다른 지역 따릉이 이전 혹은 수리 후 리스폰 지역 추천"
   ]
  },
  {
   "cell_type": "markdown",
   "id": "42fed948",
   "metadata": {},
   "source": [
    "## 한계점\n",
    "1. 몇년치 데이터를 받아서 csv 파일을 합친다음에 서울 날씨와 함께 AI모델링해서 계절이나 날씨별로 수요 예측 모델을 만들려고 했지만 데아터의 양이 너무 많고 시간이 부족해서 아직 못함\n",
    "2. 데이터가 400만개가 넘지만 일별로 쪼개보면 6월 한달만으로는 요일이나 특정 날짜들과 수요의 연관성을 찾지 못함\n",
    "3. 위치데이터의 좌표값을 활용해서 지도에 사용량을 지역별로 나타내고 싶었지만 정상적인 좌표값 데이터를 받아오는데 실패 "
   ]
  }
 ],
 "metadata": {
  "kernelspec": {
   "display_name": "Python 3",
   "language": "python",
   "name": "python3"
  },
  "language_info": {
   "codemirror_mode": {
    "name": "ipython",
    "version": 3
   },
   "file_extension": ".py",
   "mimetype": "text/x-python",
   "name": "python",
   "nbconvert_exporter": "python",
   "pygments_lexer": "ipython3",
   "version": "3.8.8"
  }
 },
 "nbformat": 4,
 "nbformat_minor": 5
}

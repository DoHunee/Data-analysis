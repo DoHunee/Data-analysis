{
 "cells": [
  {
   "cell_type": "markdown",
   "metadata": {
    "id": "WDDmuRGSeZaR"
   },
   "source": [
    "# **[프로젝트] 2019년 ~ 2022년 부산광역시 문화행사 수 분석 및 시각화**\n"
   ]
  },
  {
   "cell_type": "markdown",
   "metadata": {
    "id": "98bjzvQ8emi8"
   },
   "source": [
    "## **1. 프로젝트 기획 배경**\n",
    "*    일상을 회복을 하고 있는 요즘, 코로나-19 바이러스 확산으로 저조되었던 공연 및 행사의 수가 늘어나고 있습니다. \n",
    "*    부산광역시의 코로나-19 바이러스 확산 전후의 문화행사 수를 비교하고자 합니다.\n"
   ]
  },
  {
   "cell_type": "markdown",
   "metadata": {
    "id": "uQEOI62NyP55"
   },
   "source": [
    "## **2. 프로젝트 내용**\n",
    "\n"
   ]
  },
  {
   "cell_type": "markdown",
   "metadata": {
    "id": "UgGXF2YdySq3"
   },
   "source": [
    "### 2.1 초기설정"
   ]
  },
  {
   "cell_type": "code",
   "execution_count": null,
   "metadata": {
    "colab": {
     "base_uri": "https://localhost:8080/"
    },
    "id": "19T42JvQxamO",
    "outputId": "9b3554d4-8dc3-461d-83b5-9f5b1cd752c5"
   },
   "outputs": [
    {
     "name": "stdout",
     "output_type": "stream",
     "text": [
      "Drive already mounted at /content/gdrive; to attempt to forcibly remount, call drive.mount(\"/content/gdrive\", force_remount=True).\n"
     ]
    }
   ],
   "source": [
    "# 드라이브 마운트\n",
    "from google.colab import drive\n",
    "drive.mount('/content/gdrive')"
   ]
  },
  {
   "cell_type": "code",
   "execution_count": null,
   "metadata": {
    "colab": {
     "base_uri": "https://localhost:8080/"
    },
    "id": "FQQD-0wPxiC2",
    "outputId": "3e57207d-362d-41ec-c175-4a7671088018"
   },
   "outputs": [
    {
     "name": "stdout",
     "output_type": "stream",
     "text": [
      "Reading package lists... Done\n",
      "Building dependency tree       \n",
      "Reading state information... Done\n",
      "fonts-nanum is already the newest version (20170925-1).\n",
      "The following package was automatically installed and is no longer required:\n",
      "  libnvidia-common-460\n",
      "Use 'sudo apt autoremove' to remove it.\n",
      "0 upgraded, 0 newly installed, 0 to remove and 5 not upgraded.\n",
      "/usr/share/fonts: caching, new cache contents: 0 fonts, 1 dirs\n",
      "/usr/share/fonts/truetype: caching, new cache contents: 0 fonts, 3 dirs\n",
      "/usr/share/fonts/truetype/humor-sans: caching, new cache contents: 1 fonts, 0 dirs\n",
      "/usr/share/fonts/truetype/liberation: caching, new cache contents: 16 fonts, 0 dirs\n",
      "/usr/share/fonts/truetype/nanum: caching, new cache contents: 10 fonts, 0 dirs\n",
      "/usr/local/share/fonts: caching, new cache contents: 0 fonts, 0 dirs\n",
      "/root/.local/share/fonts: skipping, no such directory\n",
      "/root/.fonts: skipping, no such directory\n",
      "/var/cache/fontconfig: cleaning cache directory\n",
      "/root/.cache/fontconfig: not cleaning non-existent cache directory\n",
      "/root/.fontconfig: not cleaning non-existent cache directory\n",
      "fc-cache: succeeded\n"
     ]
    }
   ],
   "source": [
    "# 폰트 설치\n",
    "!sudo apt-get install -y fonts-nanum\n",
    "!sudo fc-cache -fv\n",
    "!rm ~/.cache/matplotlib -rf"
   ]
  },
  {
   "cell_type": "code",
   "execution_count": null,
   "metadata": {
    "id": "bTCJjyThxmFD"
   },
   "outputs": [],
   "source": [
    "import matplotlib.pyplot as plt\n",
    "plt.rc('font', family='NanumBarunGothic')"
   ]
  },
  {
   "cell_type": "code",
   "execution_count": null,
   "metadata": {
    "id": "rmRSrWbwxmdL"
   },
   "outputs": [],
   "source": [
    "import numpy as np\n",
    "import pandas as pd\n",
    "import seaborn as sns"
   ]
  },
  {
   "cell_type": "code",
   "execution_count": null,
   "metadata": {
    "id": "akW0lhbAxnkM"
   },
   "outputs": [],
   "source": [
    "sns.set(font='NanumGothic',\n",
    "        rc={\"axes.unicode_minus\":False},\n",
    "        style='darkgrid')"
   ]
  },
  {
   "cell_type": "markdown",
   "metadata": {
    "id": "L87sFXB3yXPN"
   },
   "source": [
    "## 2.2 데이터 전처리"
   ]
  },
  {
   "cell_type": "markdown",
   "metadata": {
    "id": "ayZy5N_-yYef"
   },
   "source": [
    "### 2.2.1 데이터 확인\n",
    "데이터 출처\n",
    "\n",
    "*   부산시 연극: https://data.busan.go.kr/dataSet/detail.nm?contentId=10&publicdatapk=15063721\n",
    "*   부산시 뮤지컬: https://data.busan.go.kr/dataSet/detail.nm?contentId=10&publicdatapk=15063728\n",
    "*   부산시 클래식: https://data.busan.go.kr/dataSet/detail.nm?contentId=10&publicdatapk=15063730\n",
    "*   부산시 전시: https://data.busan.go.kr/dataSet/detail.nm?contentId=10&publicdatapk=15063737\n",
    "*   부산시 콘서트: https://data.busan.go.kr/dataSet/detail.nm?contentId=10&publicdatapk=15063739\n",
    "*   부산시 무용: https://data.busan.go.kr/dataSet/detail.nm?contentId=10&publicdatapk=15063743\n",
    "*   부산시 오페라: https://data.busan.go.kr/dataSet/detail.nm?contentId=10&publicdatapk=15063745\n",
    "\n",
    "\n"
   ]
  },
  {
   "cell_type": "code",
   "execution_count": null,
   "metadata": {
    "id": "vqK0GYvRzaBc"
   },
   "outputs": [],
   "source": [
    "# 데이터 불러오기\n",
    "busan_play = pd.read_csv(\"/content/gdrive/MyDrive/ProjectFiles/부산광역시_연극 목록.csv\", encoding=\"euc-kr\") \n",
    "busan_musical = pd.read_csv(\"/content/gdrive/MyDrive/ProjectFiles/부산광역시_뮤지컬 목록 서비스.csv\", encoding=\"euc-kr\") \n",
    "busan_classic = pd.read_csv(\"/content/gdrive/MyDrive/ProjectFiles/부산광역시_클래식 목록 서비스.csv\", encoding=\"euc-kr\") \n",
    "busan_exhibition = pd.read_csv(\"/content/gdrive/MyDrive/ProjectFiles/부산광역시_전시 목록 서비스.csv\", encoding=\"euc-kr\") \n",
    "busan_concert = pd.read_csv(\"/content/gdrive/MyDrive/ProjectFiles/부산광역시_콘서트 목록 서비스.csv\", encoding=\"euc-kr\") \n",
    "busan_dance = pd.read_csv(\"/content/gdrive/MyDrive/ProjectFiles/부산광역시_무용 목록 서비스.csv\", encoding=\"euc-kr\") \n",
    "busan_opera = pd.read_csv(\"/content/gdrive/MyDrive/ProjectFiles/부산광역시_오페라 목록 서비스.csv\", encoding=\"euc-kr\") "
   ]
  },
  {
   "cell_type": "code",
   "execution_count": null,
   "metadata": {
    "colab": {
     "base_uri": "https://localhost:8080/"
    },
    "id": "tHlmwdfy0XXL",
    "outputId": "c383754a-6ff4-4649-c346-a5d615b9282d"
   },
   "outputs": [
    {
     "name": "stdout",
     "output_type": "stream",
     "text": [
      "<class 'pandas.core.frame.DataFrame'>\n",
      "RangeIndex: 658 entries, 0 to 657\n",
      "Data columns (total 7 columns):\n",
      " #   Column  Non-Null Count  Dtype \n",
      "---  ------  --------------  ----- \n",
      " 0   공연번호    658 non-null    int64 \n",
      " 1   제목      658 non-null    object\n",
      " 2   공연시작일   658 non-null    object\n",
      " 3   공연종료일   658 non-null    object\n",
      " 4   오픈런     658 non-null    object\n",
      " 5   시설명     658 non-null    object\n",
      " 6   유무료 구분  658 non-null    object\n",
      "dtypes: int64(1), object(6)\n",
      "memory usage: 36.1+ KB\n"
     ]
    }
   ],
   "source": [
    "busan_play.info()"
   ]
  },
  {
   "cell_type": "code",
   "execution_count": null,
   "metadata": {
    "colab": {
     "base_uri": "https://localhost:8080/"
    },
    "id": "jt74M0Bk0iC7",
    "outputId": "a38ed1f0-7492-4942-9172-332fd3584a1b"
   },
   "outputs": [
    {
     "name": "stdout",
     "output_type": "stream",
     "text": [
      "<class 'pandas.core.frame.DataFrame'>\n",
      "RangeIndex: 683 entries, 0 to 682\n",
      "Data columns (total 7 columns):\n",
      " #   Column  Non-Null Count  Dtype \n",
      "---  ------  --------------  ----- \n",
      " 0   공연번호    683 non-null    int64 \n",
      " 1   제목      683 non-null    object\n",
      " 2   공연시작일   683 non-null    object\n",
      " 3   공연종료일   683 non-null    object\n",
      " 4   오픈런     683 non-null    object\n",
      " 5   시설명     683 non-null    object\n",
      " 6   유무료 구분  683 non-null    object\n",
      "dtypes: int64(1), object(6)\n",
      "memory usage: 37.5+ KB\n"
     ]
    }
   ],
   "source": [
    "busan_musical.info()"
   ]
  },
  {
   "cell_type": "code",
   "execution_count": null,
   "metadata": {
    "colab": {
     "base_uri": "https://localhost:8080/"
    },
    "id": "M1NDJr_i0j6L",
    "outputId": "d393f7d3-0d69-4964-8520-ad86d7b81cb8"
   },
   "outputs": [
    {
     "name": "stdout",
     "output_type": "stream",
     "text": [
      "<class 'pandas.core.frame.DataFrame'>\n",
      "RangeIndex: 1703 entries, 0 to 1702\n",
      "Data columns (total 7 columns):\n",
      " #   Column  Non-Null Count  Dtype \n",
      "---  ------  --------------  ----- \n",
      " 0   공연번호    1703 non-null   int64 \n",
      " 1   제목      1703 non-null   object\n",
      " 2   공연시작일   1703 non-null   object\n",
      " 3   공연종료일   1703 non-null   object\n",
      " 4   오픈런     1703 non-null   object\n",
      " 5   시설명     1703 non-null   object\n",
      " 6   유무료 구분  1703 non-null   object\n",
      "dtypes: int64(1), object(6)\n",
      "memory usage: 93.3+ KB\n"
     ]
    }
   ],
   "source": [
    "busan_classic.info()"
   ]
  },
  {
   "cell_type": "code",
   "execution_count": null,
   "metadata": {
    "colab": {
     "base_uri": "https://localhost:8080/"
    },
    "id": "johzo0050m1m",
    "outputId": "187bec3f-06c6-40f6-bc0e-843ecce16b65"
   },
   "outputs": [
    {
     "name": "stdout",
     "output_type": "stream",
     "text": [
      "<class 'pandas.core.frame.DataFrame'>\n",
      "RangeIndex: 1910 entries, 0 to 1909\n",
      "Data columns (total 7 columns):\n",
      " #   Column  Non-Null Count  Dtype \n",
      "---  ------  --------------  ----- \n",
      " 0   전시번호    1910 non-null   int64 \n",
      " 1   제목      1910 non-null   object\n",
      " 2   전시시작일   1910 non-null   object\n",
      " 3   전시종료일   1910 non-null   object\n",
      " 4   오픈런     1910 non-null   object\n",
      " 5   시설명     1910 non-null   object\n",
      " 6   유무료 구분  1910 non-null   object\n",
      "dtypes: int64(1), object(6)\n",
      "memory usage: 104.6+ KB\n"
     ]
    }
   ],
   "source": [
    "busan_exhibition.info()"
   ]
  },
  {
   "cell_type": "code",
   "execution_count": null,
   "metadata": {
    "colab": {
     "base_uri": "https://localhost:8080/"
    },
    "id": "W9n1ctjL0xEJ",
    "outputId": "23a2f0bf-ab8a-4fc9-c2fc-4094558b465b"
   },
   "outputs": [
    {
     "name": "stdout",
     "output_type": "stream",
     "text": [
      "<class 'pandas.core.frame.DataFrame'>\n",
      "RangeIndex: 882 entries, 0 to 881\n",
      "Data columns (total 7 columns):\n",
      " #   Column  Non-Null Count  Dtype \n",
      "---  ------  --------------  ----- \n",
      " 0   공연번호    882 non-null    int64 \n",
      " 1   제목      882 non-null    object\n",
      " 2   공연시작일   882 non-null    object\n",
      " 3   공연종료일   882 non-null    object\n",
      " 4   오픈런     882 non-null    object\n",
      " 5   시설명     882 non-null    object\n",
      " 6   유무료 구분  882 non-null    object\n",
      "dtypes: int64(1), object(6)\n",
      "memory usage: 48.4+ KB\n"
     ]
    }
   ],
   "source": [
    "busan_concert.info()"
   ]
  },
  {
   "cell_type": "code",
   "execution_count": null,
   "metadata": {
    "colab": {
     "base_uri": "https://localhost:8080/"
    },
    "id": "-9LU2NYP02LE",
    "outputId": "e2a1fc20-3677-4c4c-8db0-7e4f705d8653"
   },
   "outputs": [
    {
     "name": "stdout",
     "output_type": "stream",
     "text": [
      "<class 'pandas.core.frame.DataFrame'>\n",
      "RangeIndex: 170 entries, 0 to 169\n",
      "Data columns (total 7 columns):\n",
      " #   Column  Non-Null Count  Dtype \n",
      "---  ------  --------------  ----- \n",
      " 0   시설명     170 non-null    object\n",
      " 1   공연번호    170 non-null    int64 \n",
      " 2   제목      170 non-null    object\n",
      " 3   공연시작일   170 non-null    object\n",
      " 4   공연종료일   170 non-null    object\n",
      " 5   오픈런     170 non-null    object\n",
      " 6   유무료 구분  170 non-null    object\n",
      "dtypes: int64(1), object(6)\n",
      "memory usage: 9.4+ KB\n"
     ]
    }
   ],
   "source": [
    "busan_dance.info()"
   ]
  },
  {
   "cell_type": "code",
   "execution_count": null,
   "metadata": {
    "colab": {
     "base_uri": "https://localhost:8080/"
    },
    "id": "1NrYN0dS05Cc",
    "outputId": "c3ddcc30-c6ad-4a93-e7ae-9b33827ae723"
   },
   "outputs": [
    {
     "name": "stdout",
     "output_type": "stream",
     "text": [
      "<class 'pandas.core.frame.DataFrame'>\n",
      "RangeIndex: 116 entries, 0 to 115\n",
      "Data columns (total 7 columns):\n",
      " #   Column  Non-Null Count  Dtype \n",
      "---  ------  --------------  ----- \n",
      " 0   공연번호    116 non-null    int64 \n",
      " 1   제목      116 non-null    object\n",
      " 2   공연시작일   116 non-null    object\n",
      " 3   공연종료일   116 non-null    object\n",
      " 4   오픈런     116 non-null    object\n",
      " 5   시설명     116 non-null    object\n",
      " 6   유무료 구분  116 non-null    object\n",
      "dtypes: int64(1), object(6)\n",
      "memory usage: 6.5+ KB\n"
     ]
    }
   ],
   "source": [
    "busan_opera.info()"
   ]
  },
  {
   "cell_type": "markdown",
   "metadata": {
    "id": "7HT_t0hE23ZI"
   },
   "source": [
    "### 2.2.2 불필요한 데이터 제거"
   ]
  },
  {
   "cell_type": "markdown",
   "metadata": {
    "id": "JVHcWyG-3P4D"
   },
   "source": [
    "#### 2.2.2.1 불필요한 열 제거\n"
   ]
  },
  {
   "cell_type": "code",
   "execution_count": null,
   "metadata": {
    "id": "_RZjuv0-3XT2"
   },
   "outputs": [],
   "source": [
    "busan_play1 = busan_play.drop(columns=['오픈런', '유무료 구분', '공연종료일', '공연번호']).copy()\n",
    "busan_musical1 = busan_musical.drop(columns=['오픈런', '유무료 구분', '공연종료일', '공연번호']).copy()\n",
    "busan_classic1 = busan_classic.drop(columns=['오픈런', '유무료 구분', '공연종료일', '공연번호']).copy()\n",
    "busan_exhibition1 = busan_exhibition.drop(columns=['오픈런', '유무료 구분', '전시종료일', '전시번호']).copy()\n",
    "busan_concert1 = busan_concert.drop(columns=['오픈런', '유무료 구분', '공연종료일', '공연번호']).copy()\n",
    "busan_dance1 = busan_dance.drop(columns=['오픈런', '유무료 구분', '공연종료일', '공연번호']).copy()\n",
    "busan_opera1 = busan_opera.drop(columns=['오픈런', '유무료 구분', '공연종료일', '공연번호']).copy()"
   ]
  },
  {
   "cell_type": "code",
   "execution_count": null,
   "metadata": {
    "colab": {
     "base_uri": "https://localhost:8080/",
     "height": 206
    },
    "id": "37aV8Kgc4MDp",
    "outputId": "2f52b122-c15c-45ed-c79d-6d3d47691d40"
   },
   "outputs": [
    {
     "data": {
      "text/html": [
       "\n",
       "  <div id=\"df-fdd1b3f3-d6dc-4c0c-889c-af2abc19a920\">\n",
       "    <div class=\"colab-df-container\">\n",
       "      <div>\n",
       "<style scoped>\n",
       "    .dataframe tbody tr th:only-of-type {\n",
       "        vertical-align: middle;\n",
       "    }\n",
       "\n",
       "    .dataframe tbody tr th {\n",
       "        vertical-align: top;\n",
       "    }\n",
       "\n",
       "    .dataframe thead th {\n",
       "        text-align: right;\n",
       "    }\n",
       "</style>\n",
       "<table border=\"1\" class=\"dataframe\">\n",
       "  <thead>\n",
       "    <tr style=\"text-align: right;\">\n",
       "      <th></th>\n",
       "      <th>제목</th>\n",
       "      <th>공연시작일</th>\n",
       "      <th>시설명</th>\n",
       "    </tr>\n",
       "  </thead>\n",
       "  <tbody>\n",
       "    <tr>\n",
       "      <th>653</th>\n",
       "      <td>KF아세안 어린이 공연 시리즈_앵콜［개굴개굴고래고래］</td>\n",
       "      <td>2022-12-07</td>\n",
       "      <td>부산시민회관</td>\n",
       "    </tr>\n",
       "    <tr>\n",
       "      <th>654</th>\n",
       "      <td>꺼삐딴 리</td>\n",
       "      <td>2022-11-23</td>\n",
       "      <td>부산예술회관</td>\n",
       "    </tr>\n",
       "    <tr>\n",
       "      <th>655</th>\n",
       "      <td>우리동네 홈쇼핑_영도편</td>\n",
       "      <td>2022-12-15</td>\n",
       "      <td>무대공감 소극장</td>\n",
       "    </tr>\n",
       "    <tr>\n",
       "      <th>656</th>\n",
       "      <td>원아워</td>\n",
       "      <td>2022-11-30</td>\n",
       "      <td>일터 소극장</td>\n",
       "    </tr>\n",
       "    <tr>\n",
       "      <th>657</th>\n",
       "      <td>니 부모 얼굴이 보고싶다</td>\n",
       "      <td>2022-11-24</td>\n",
       "      <td>해운대문화회관</td>\n",
       "    </tr>\n",
       "  </tbody>\n",
       "</table>\n",
       "</div>\n",
       "      <button class=\"colab-df-convert\" onclick=\"convertToInteractive('df-fdd1b3f3-d6dc-4c0c-889c-af2abc19a920')\"\n",
       "              title=\"Convert this dataframe to an interactive table.\"\n",
       "              style=\"display:none;\">\n",
       "        \n",
       "  <svg xmlns=\"http://www.w3.org/2000/svg\" height=\"24px\"viewBox=\"0 0 24 24\"\n",
       "       width=\"24px\">\n",
       "    <path d=\"M0 0h24v24H0V0z\" fill=\"none\"/>\n",
       "    <path d=\"M18.56 5.44l.94 2.06.94-2.06 2.06-.94-2.06-.94-.94-2.06-.94 2.06-2.06.94zm-11 1L8.5 8.5l.94-2.06 2.06-.94-2.06-.94L8.5 2.5l-.94 2.06-2.06.94zm10 10l.94 2.06.94-2.06 2.06-.94-2.06-.94-.94-2.06-.94 2.06-2.06.94z\"/><path d=\"M17.41 7.96l-1.37-1.37c-.4-.4-.92-.59-1.43-.59-.52 0-1.04.2-1.43.59L10.3 9.45l-7.72 7.72c-.78.78-.78 2.05 0 2.83L4 21.41c.39.39.9.59 1.41.59.51 0 1.02-.2 1.41-.59l7.78-7.78 2.81-2.81c.8-.78.8-2.07 0-2.86zM5.41 20L4 18.59l7.72-7.72 1.47 1.35L5.41 20z\"/>\n",
       "  </svg>\n",
       "      </button>\n",
       "      \n",
       "  <style>\n",
       "    .colab-df-container {\n",
       "      display:flex;\n",
       "      flex-wrap:wrap;\n",
       "      gap: 12px;\n",
       "    }\n",
       "\n",
       "    .colab-df-convert {\n",
       "      background-color: #E8F0FE;\n",
       "      border: none;\n",
       "      border-radius: 50%;\n",
       "      cursor: pointer;\n",
       "      display: none;\n",
       "      fill: #1967D2;\n",
       "      height: 32px;\n",
       "      padding: 0 0 0 0;\n",
       "      width: 32px;\n",
       "    }\n",
       "\n",
       "    .colab-df-convert:hover {\n",
       "      background-color: #E2EBFA;\n",
       "      box-shadow: 0px 1px 2px rgba(60, 64, 67, 0.3), 0px 1px 3px 1px rgba(60, 64, 67, 0.15);\n",
       "      fill: #174EA6;\n",
       "    }\n",
       "\n",
       "    [theme=dark] .colab-df-convert {\n",
       "      background-color: #3B4455;\n",
       "      fill: #D2E3FC;\n",
       "    }\n",
       "\n",
       "    [theme=dark] .colab-df-convert:hover {\n",
       "      background-color: #434B5C;\n",
       "      box-shadow: 0px 1px 3px 1px rgba(0, 0, 0, 0.15);\n",
       "      filter: drop-shadow(0px 1px 2px rgba(0, 0, 0, 0.3));\n",
       "      fill: #FFFFFF;\n",
       "    }\n",
       "  </style>\n",
       "\n",
       "      <script>\n",
       "        const buttonEl =\n",
       "          document.querySelector('#df-fdd1b3f3-d6dc-4c0c-889c-af2abc19a920 button.colab-df-convert');\n",
       "        buttonEl.style.display =\n",
       "          google.colab.kernel.accessAllowed ? 'block' : 'none';\n",
       "\n",
       "        async function convertToInteractive(key) {\n",
       "          const element = document.querySelector('#df-fdd1b3f3-d6dc-4c0c-889c-af2abc19a920');\n",
       "          const dataTable =\n",
       "            await google.colab.kernel.invokeFunction('convertToInteractive',\n",
       "                                                     [key], {});\n",
       "          if (!dataTable) return;\n",
       "\n",
       "          const docLinkHtml = 'Like what you see? Visit the ' +\n",
       "            '<a target=\"_blank\" href=https://colab.research.google.com/notebooks/data_table.ipynb>data table notebook</a>'\n",
       "            + ' to learn more about interactive tables.';\n",
       "          element.innerHTML = '';\n",
       "          dataTable['output_type'] = 'display_data';\n",
       "          await google.colab.output.renderOutput(dataTable, element);\n",
       "          const docLink = document.createElement('div');\n",
       "          docLink.innerHTML = docLinkHtml;\n",
       "          element.appendChild(docLink);\n",
       "        }\n",
       "      </script>\n",
       "    </div>\n",
       "  </div>\n",
       "  "
      ],
      "text/plain": [
       "                                제목       공연시작일       시설명\n",
       "653  KF아세안 어린이 공연 시리즈_앵콜［개굴개굴고래고래］  2022-12-07    부산시민회관\n",
       "654                          꺼삐딴 리  2022-11-23    부산예술회관\n",
       "655                   우리동네 홈쇼핑_영도편  2022-12-15  무대공감 소극장\n",
       "656                            원아워  2022-11-30    일터 소극장\n",
       "657                  니 부모 얼굴이 보고싶다  2022-11-24   해운대문화회관"
      ]
     },
     "execution_count": 15,
     "metadata": {},
     "output_type": "execute_result"
    }
   ],
   "source": [
    "busan_play1.tail()"
   ]
  },
  {
   "cell_type": "code",
   "execution_count": null,
   "metadata": {
    "colab": {
     "base_uri": "https://localhost:8080/",
     "height": 206
    },
    "id": "qrC0RjZN4PXA",
    "outputId": "076ae631-f172-4fdb-da82-4749f84c3996"
   },
   "outputs": [
    {
     "data": {
      "text/html": [
       "\n",
       "  <div id=\"df-f0b04bcd-d34f-482a-982c-4a41f23d370d\">\n",
       "    <div class=\"colab-df-container\">\n",
       "      <div>\n",
       "<style scoped>\n",
       "    .dataframe tbody tr th:only-of-type {\n",
       "        vertical-align: middle;\n",
       "    }\n",
       "\n",
       "    .dataframe tbody tr th {\n",
       "        vertical-align: top;\n",
       "    }\n",
       "\n",
       "    .dataframe thead th {\n",
       "        text-align: right;\n",
       "    }\n",
       "</style>\n",
       "<table border=\"1\" class=\"dataframe\">\n",
       "  <thead>\n",
       "    <tr style=\"text-align: right;\">\n",
       "      <th></th>\n",
       "      <th>제목</th>\n",
       "      <th>공연시작일</th>\n",
       "      <th>시설명</th>\n",
       "    </tr>\n",
       "  </thead>\n",
       "  <tbody>\n",
       "    <tr>\n",
       "      <th>678</th>\n",
       "      <td>바라던; 바다</td>\n",
       "      <td>2022-11-12</td>\n",
       "      <td>부산문화회관</td>\n",
       "    </tr>\n",
       "    <tr>\n",
       "      <th>679</th>\n",
       "      <td>가족뮤지컬 호두까기인형 - 명지</td>\n",
       "      <td>2022-12-11</td>\n",
       "      <td>성원아트홀</td>\n",
       "    </tr>\n",
       "    <tr>\n",
       "      <th>680</th>\n",
       "      <td>가족뮤지컬〈급식왕 - 발가락 떡볶이의 비밀〉</td>\n",
       "      <td>2023-01-14</td>\n",
       "      <td>부산시민회관</td>\n",
       "    </tr>\n",
       "    <tr>\n",
       "      <th>681</th>\n",
       "      <td>2022 신 별주부전 창작 뮤지컬［토장군을 찾아라!］</td>\n",
       "      <td>2022-11-23</td>\n",
       "      <td>안데르센극장</td>\n",
       "    </tr>\n",
       "    <tr>\n",
       "      <th>682</th>\n",
       "      <td>2022 루돌프와 산타클로스</td>\n",
       "      <td>2022-12-16</td>\n",
       "      <td>부산문화회관</td>\n",
       "    </tr>\n",
       "  </tbody>\n",
       "</table>\n",
       "</div>\n",
       "      <button class=\"colab-df-convert\" onclick=\"convertToInteractive('df-f0b04bcd-d34f-482a-982c-4a41f23d370d')\"\n",
       "              title=\"Convert this dataframe to an interactive table.\"\n",
       "              style=\"display:none;\">\n",
       "        \n",
       "  <svg xmlns=\"http://www.w3.org/2000/svg\" height=\"24px\"viewBox=\"0 0 24 24\"\n",
       "       width=\"24px\">\n",
       "    <path d=\"M0 0h24v24H0V0z\" fill=\"none\"/>\n",
       "    <path d=\"M18.56 5.44l.94 2.06.94-2.06 2.06-.94-2.06-.94-.94-2.06-.94 2.06-2.06.94zm-11 1L8.5 8.5l.94-2.06 2.06-.94-2.06-.94L8.5 2.5l-.94 2.06-2.06.94zm10 10l.94 2.06.94-2.06 2.06-.94-2.06-.94-.94-2.06-.94 2.06-2.06.94z\"/><path d=\"M17.41 7.96l-1.37-1.37c-.4-.4-.92-.59-1.43-.59-.52 0-1.04.2-1.43.59L10.3 9.45l-7.72 7.72c-.78.78-.78 2.05 0 2.83L4 21.41c.39.39.9.59 1.41.59.51 0 1.02-.2 1.41-.59l7.78-7.78 2.81-2.81c.8-.78.8-2.07 0-2.86zM5.41 20L4 18.59l7.72-7.72 1.47 1.35L5.41 20z\"/>\n",
       "  </svg>\n",
       "      </button>\n",
       "      \n",
       "  <style>\n",
       "    .colab-df-container {\n",
       "      display:flex;\n",
       "      flex-wrap:wrap;\n",
       "      gap: 12px;\n",
       "    }\n",
       "\n",
       "    .colab-df-convert {\n",
       "      background-color: #E8F0FE;\n",
       "      border: none;\n",
       "      border-radius: 50%;\n",
       "      cursor: pointer;\n",
       "      display: none;\n",
       "      fill: #1967D2;\n",
       "      height: 32px;\n",
       "      padding: 0 0 0 0;\n",
       "      width: 32px;\n",
       "    }\n",
       "\n",
       "    .colab-df-convert:hover {\n",
       "      background-color: #E2EBFA;\n",
       "      box-shadow: 0px 1px 2px rgba(60, 64, 67, 0.3), 0px 1px 3px 1px rgba(60, 64, 67, 0.15);\n",
       "      fill: #174EA6;\n",
       "    }\n",
       "\n",
       "    [theme=dark] .colab-df-convert {\n",
       "      background-color: #3B4455;\n",
       "      fill: #D2E3FC;\n",
       "    }\n",
       "\n",
       "    [theme=dark] .colab-df-convert:hover {\n",
       "      background-color: #434B5C;\n",
       "      box-shadow: 0px 1px 3px 1px rgba(0, 0, 0, 0.15);\n",
       "      filter: drop-shadow(0px 1px 2px rgba(0, 0, 0, 0.3));\n",
       "      fill: #FFFFFF;\n",
       "    }\n",
       "  </style>\n",
       "\n",
       "      <script>\n",
       "        const buttonEl =\n",
       "          document.querySelector('#df-f0b04bcd-d34f-482a-982c-4a41f23d370d button.colab-df-convert');\n",
       "        buttonEl.style.display =\n",
       "          google.colab.kernel.accessAllowed ? 'block' : 'none';\n",
       "\n",
       "        async function convertToInteractive(key) {\n",
       "          const element = document.querySelector('#df-f0b04bcd-d34f-482a-982c-4a41f23d370d');\n",
       "          const dataTable =\n",
       "            await google.colab.kernel.invokeFunction('convertToInteractive',\n",
       "                                                     [key], {});\n",
       "          if (!dataTable) return;\n",
       "\n",
       "          const docLinkHtml = 'Like what you see? Visit the ' +\n",
       "            '<a target=\"_blank\" href=https://colab.research.google.com/notebooks/data_table.ipynb>data table notebook</a>'\n",
       "            + ' to learn more about interactive tables.';\n",
       "          element.innerHTML = '';\n",
       "          dataTable['output_type'] = 'display_data';\n",
       "          await google.colab.output.renderOutput(dataTable, element);\n",
       "          const docLink = document.createElement('div');\n",
       "          docLink.innerHTML = docLinkHtml;\n",
       "          element.appendChild(docLink);\n",
       "        }\n",
       "      </script>\n",
       "    </div>\n",
       "  </div>\n",
       "  "
      ],
      "text/plain": [
       "                                제목       공연시작일     시설명\n",
       "678                        바라던; 바다  2022-11-12  부산문화회관\n",
       "679              가족뮤지컬 호두까기인형 - 명지  2022-12-11   성원아트홀\n",
       "680       가족뮤지컬〈급식왕 - 발가락 떡볶이의 비밀〉  2023-01-14  부산시민회관\n",
       "681  2022 신 별주부전 창작 뮤지컬［토장군을 찾아라!］  2022-11-23  안데르센극장\n",
       "682                2022 루돌프와 산타클로스  2022-12-16  부산문화회관"
      ]
     },
     "execution_count": 16,
     "metadata": {},
     "output_type": "execute_result"
    }
   ],
   "source": [
    "busan_musical1.tail()"
   ]
  },
  {
   "cell_type": "code",
   "execution_count": null,
   "metadata": {
    "colab": {
     "base_uri": "https://localhost:8080/",
     "height": 206
    },
    "id": "NCg6yNFB6XeO",
    "outputId": "6b73ba74-b9cd-4aa9-aea9-714d5911e460"
   },
   "outputs": [
    {
     "data": {
      "text/html": [
       "\n",
       "  <div id=\"df-0390c05a-71c5-4ac6-b2b6-eab46d4d985b\">\n",
       "    <div class=\"colab-df-container\">\n",
       "      <div>\n",
       "<style scoped>\n",
       "    .dataframe tbody tr th:only-of-type {\n",
       "        vertical-align: middle;\n",
       "    }\n",
       "\n",
       "    .dataframe tbody tr th {\n",
       "        vertical-align: top;\n",
       "    }\n",
       "\n",
       "    .dataframe thead th {\n",
       "        text-align: right;\n",
       "    }\n",
       "</style>\n",
       "<table border=\"1\" class=\"dataframe\">\n",
       "  <thead>\n",
       "    <tr style=\"text-align: right;\">\n",
       "      <th></th>\n",
       "      <th>제목</th>\n",
       "      <th>공연시작일</th>\n",
       "      <th>시설명</th>\n",
       "    </tr>\n",
       "  </thead>\n",
       "  <tbody>\n",
       "    <tr>\n",
       "      <th>1698</th>\n",
       "      <td>합창과 실내악으로 다시, 손을건네다</td>\n",
       "      <td>2022-11-15</td>\n",
       "      <td>금정문화회관</td>\n",
       "    </tr>\n",
       "    <tr>\n",
       "      <th>1699</th>\n",
       "      <td>제798회 금정수요음악회〈라움 트리오 정기연주회〉</td>\n",
       "      <td>2022-11-16</td>\n",
       "      <td>금정문화회관</td>\n",
       "    </tr>\n",
       "    <tr>\n",
       "      <th>1700</th>\n",
       "      <td>나의 인간 태양계</td>\n",
       "      <td>2022-11-26</td>\n",
       "      <td>게네랄파우제</td>\n",
       "    </tr>\n",
       "    <tr>\n",
       "      <th>1701</th>\n",
       "      <td>Quiet Nights of Stars</td>\n",
       "      <td>2022-11-29</td>\n",
       "      <td>게네랄파우제</td>\n",
       "    </tr>\n",
       "    <tr>\n",
       "      <th>1702</th>\n",
       "      <td>우크라이나 체르니우치 필하모니 국제교류음악회</td>\n",
       "      <td>2022-11-20</td>\n",
       "      <td>영화의전당</td>\n",
       "    </tr>\n",
       "  </tbody>\n",
       "</table>\n",
       "</div>\n",
       "      <button class=\"colab-df-convert\" onclick=\"convertToInteractive('df-0390c05a-71c5-4ac6-b2b6-eab46d4d985b')\"\n",
       "              title=\"Convert this dataframe to an interactive table.\"\n",
       "              style=\"display:none;\">\n",
       "        \n",
       "  <svg xmlns=\"http://www.w3.org/2000/svg\" height=\"24px\"viewBox=\"0 0 24 24\"\n",
       "       width=\"24px\">\n",
       "    <path d=\"M0 0h24v24H0V0z\" fill=\"none\"/>\n",
       "    <path d=\"M18.56 5.44l.94 2.06.94-2.06 2.06-.94-2.06-.94-.94-2.06-.94 2.06-2.06.94zm-11 1L8.5 8.5l.94-2.06 2.06-.94-2.06-.94L8.5 2.5l-.94 2.06-2.06.94zm10 10l.94 2.06.94-2.06 2.06-.94-2.06-.94-.94-2.06-.94 2.06-2.06.94z\"/><path d=\"M17.41 7.96l-1.37-1.37c-.4-.4-.92-.59-1.43-.59-.52 0-1.04.2-1.43.59L10.3 9.45l-7.72 7.72c-.78.78-.78 2.05 0 2.83L4 21.41c.39.39.9.59 1.41.59.51 0 1.02-.2 1.41-.59l7.78-7.78 2.81-2.81c.8-.78.8-2.07 0-2.86zM5.41 20L4 18.59l7.72-7.72 1.47 1.35L5.41 20z\"/>\n",
       "  </svg>\n",
       "      </button>\n",
       "      \n",
       "  <style>\n",
       "    .colab-df-container {\n",
       "      display:flex;\n",
       "      flex-wrap:wrap;\n",
       "      gap: 12px;\n",
       "    }\n",
       "\n",
       "    .colab-df-convert {\n",
       "      background-color: #E8F0FE;\n",
       "      border: none;\n",
       "      border-radius: 50%;\n",
       "      cursor: pointer;\n",
       "      display: none;\n",
       "      fill: #1967D2;\n",
       "      height: 32px;\n",
       "      padding: 0 0 0 0;\n",
       "      width: 32px;\n",
       "    }\n",
       "\n",
       "    .colab-df-convert:hover {\n",
       "      background-color: #E2EBFA;\n",
       "      box-shadow: 0px 1px 2px rgba(60, 64, 67, 0.3), 0px 1px 3px 1px rgba(60, 64, 67, 0.15);\n",
       "      fill: #174EA6;\n",
       "    }\n",
       "\n",
       "    [theme=dark] .colab-df-convert {\n",
       "      background-color: #3B4455;\n",
       "      fill: #D2E3FC;\n",
       "    }\n",
       "\n",
       "    [theme=dark] .colab-df-convert:hover {\n",
       "      background-color: #434B5C;\n",
       "      box-shadow: 0px 1px 3px 1px rgba(0, 0, 0, 0.15);\n",
       "      filter: drop-shadow(0px 1px 2px rgba(0, 0, 0, 0.3));\n",
       "      fill: #FFFFFF;\n",
       "    }\n",
       "  </style>\n",
       "\n",
       "      <script>\n",
       "        const buttonEl =\n",
       "          document.querySelector('#df-0390c05a-71c5-4ac6-b2b6-eab46d4d985b button.colab-df-convert');\n",
       "        buttonEl.style.display =\n",
       "          google.colab.kernel.accessAllowed ? 'block' : 'none';\n",
       "\n",
       "        async function convertToInteractive(key) {\n",
       "          const element = document.querySelector('#df-0390c05a-71c5-4ac6-b2b6-eab46d4d985b');\n",
       "          const dataTable =\n",
       "            await google.colab.kernel.invokeFunction('convertToInteractive',\n",
       "                                                     [key], {});\n",
       "          if (!dataTable) return;\n",
       "\n",
       "          const docLinkHtml = 'Like what you see? Visit the ' +\n",
       "            '<a target=\"_blank\" href=https://colab.research.google.com/notebooks/data_table.ipynb>data table notebook</a>'\n",
       "            + ' to learn more about interactive tables.';\n",
       "          element.innerHTML = '';\n",
       "          dataTable['output_type'] = 'display_data';\n",
       "          await google.colab.output.renderOutput(dataTable, element);\n",
       "          const docLink = document.createElement('div');\n",
       "          docLink.innerHTML = docLinkHtml;\n",
       "          element.appendChild(docLink);\n",
       "        }\n",
       "      </script>\n",
       "    </div>\n",
       "  </div>\n",
       "  "
      ],
      "text/plain": [
       "                               제목       공연시작일     시설명\n",
       "1698          합창과 실내악으로 다시, 손을건네다  2022-11-15  금정문화회관\n",
       "1699  제798회 금정수요음악회〈라움 트리오 정기연주회〉  2022-11-16  금정문화회관\n",
       "1700                    나의 인간 태양계  2022-11-26  게네랄파우제\n",
       "1701        Quiet Nights of Stars  2022-11-29  게네랄파우제\n",
       "1702     우크라이나 체르니우치 필하모니 국제교류음악회  2022-11-20   영화의전당"
      ]
     },
     "execution_count": 17,
     "metadata": {},
     "output_type": "execute_result"
    }
   ],
   "source": [
    "busan_classic1.tail()"
   ]
  },
  {
   "cell_type": "code",
   "execution_count": null,
   "metadata": {
    "colab": {
     "base_uri": "https://localhost:8080/",
     "height": 206
    },
    "id": "Tm4hQQAQ6a0B",
    "outputId": "76984063-6fe4-48ad-8e67-46c1ff9e193d"
   },
   "outputs": [
    {
     "data": {
      "text/html": [
       "\n",
       "  <div id=\"df-64c329ca-474d-43c6-a799-b3b4442e895e\">\n",
       "    <div class=\"colab-df-container\">\n",
       "      <div>\n",
       "<style scoped>\n",
       "    .dataframe tbody tr th:only-of-type {\n",
       "        vertical-align: middle;\n",
       "    }\n",
       "\n",
       "    .dataframe tbody tr th {\n",
       "        vertical-align: top;\n",
       "    }\n",
       "\n",
       "    .dataframe thead th {\n",
       "        text-align: right;\n",
       "    }\n",
       "</style>\n",
       "<table border=\"1\" class=\"dataframe\">\n",
       "  <thead>\n",
       "    <tr style=\"text-align: right;\">\n",
       "      <th></th>\n",
       "      <th>제목</th>\n",
       "      <th>전시시작일</th>\n",
       "      <th>시설명</th>\n",
       "    </tr>\n",
       "  </thead>\n",
       "  <tbody>\n",
       "    <tr>\n",
       "      <th>1905</th>\n",
       "      <td>전준자 회고전 - 축제</td>\n",
       "      <td>2022-11-11</td>\n",
       "      <td>미광화랑</td>\n",
       "    </tr>\n",
       "    <tr>\n",
       "      <th>1906</th>\n",
       "      <td>이건희컬렉션 한국 근현대 미술 특별전《수집: 위대한 여정》</td>\n",
       "      <td>2022-11-11</td>\n",
       "      <td>부산시립미술관</td>\n",
       "    </tr>\n",
       "    <tr>\n",
       "      <th>1907</th>\n",
       "      <td>2022 부산학생사진동아리 작품전</td>\n",
       "      <td>2022-11-03</td>\n",
       "      <td>부산학생예술문화회관</td>\n",
       "    </tr>\n",
       "    <tr>\n",
       "      <th>1908</th>\n",
       "      <td>최수환 : 하나의 의자 두 개의 기억</td>\n",
       "      <td>2022-11-11</td>\n",
       "      <td>홍티아트센터</td>\n",
       "    </tr>\n",
       "    <tr>\n",
       "      <th>1909</th>\n",
       "      <td>回想展 회상전 : 지나간 기억을 걷는 시간</td>\n",
       "      <td>2022-11-16</td>\n",
       "      <td>부산시민공원</td>\n",
       "    </tr>\n",
       "  </tbody>\n",
       "</table>\n",
       "</div>\n",
       "      <button class=\"colab-df-convert\" onclick=\"convertToInteractive('df-64c329ca-474d-43c6-a799-b3b4442e895e')\"\n",
       "              title=\"Convert this dataframe to an interactive table.\"\n",
       "              style=\"display:none;\">\n",
       "        \n",
       "  <svg xmlns=\"http://www.w3.org/2000/svg\" height=\"24px\"viewBox=\"0 0 24 24\"\n",
       "       width=\"24px\">\n",
       "    <path d=\"M0 0h24v24H0V0z\" fill=\"none\"/>\n",
       "    <path d=\"M18.56 5.44l.94 2.06.94-2.06 2.06-.94-2.06-.94-.94-2.06-.94 2.06-2.06.94zm-11 1L8.5 8.5l.94-2.06 2.06-.94-2.06-.94L8.5 2.5l-.94 2.06-2.06.94zm10 10l.94 2.06.94-2.06 2.06-.94-2.06-.94-.94-2.06-.94 2.06-2.06.94z\"/><path d=\"M17.41 7.96l-1.37-1.37c-.4-.4-.92-.59-1.43-.59-.52 0-1.04.2-1.43.59L10.3 9.45l-7.72 7.72c-.78.78-.78 2.05 0 2.83L4 21.41c.39.39.9.59 1.41.59.51 0 1.02-.2 1.41-.59l7.78-7.78 2.81-2.81c.8-.78.8-2.07 0-2.86zM5.41 20L4 18.59l7.72-7.72 1.47 1.35L5.41 20z\"/>\n",
       "  </svg>\n",
       "      </button>\n",
       "      \n",
       "  <style>\n",
       "    .colab-df-container {\n",
       "      display:flex;\n",
       "      flex-wrap:wrap;\n",
       "      gap: 12px;\n",
       "    }\n",
       "\n",
       "    .colab-df-convert {\n",
       "      background-color: #E8F0FE;\n",
       "      border: none;\n",
       "      border-radius: 50%;\n",
       "      cursor: pointer;\n",
       "      display: none;\n",
       "      fill: #1967D2;\n",
       "      height: 32px;\n",
       "      padding: 0 0 0 0;\n",
       "      width: 32px;\n",
       "    }\n",
       "\n",
       "    .colab-df-convert:hover {\n",
       "      background-color: #E2EBFA;\n",
       "      box-shadow: 0px 1px 2px rgba(60, 64, 67, 0.3), 0px 1px 3px 1px rgba(60, 64, 67, 0.15);\n",
       "      fill: #174EA6;\n",
       "    }\n",
       "\n",
       "    [theme=dark] .colab-df-convert {\n",
       "      background-color: #3B4455;\n",
       "      fill: #D2E3FC;\n",
       "    }\n",
       "\n",
       "    [theme=dark] .colab-df-convert:hover {\n",
       "      background-color: #434B5C;\n",
       "      box-shadow: 0px 1px 3px 1px rgba(0, 0, 0, 0.15);\n",
       "      filter: drop-shadow(0px 1px 2px rgba(0, 0, 0, 0.3));\n",
       "      fill: #FFFFFF;\n",
       "    }\n",
       "  </style>\n",
       "\n",
       "      <script>\n",
       "        const buttonEl =\n",
       "          document.querySelector('#df-64c329ca-474d-43c6-a799-b3b4442e895e button.colab-df-convert');\n",
       "        buttonEl.style.display =\n",
       "          google.colab.kernel.accessAllowed ? 'block' : 'none';\n",
       "\n",
       "        async function convertToInteractive(key) {\n",
       "          const element = document.querySelector('#df-64c329ca-474d-43c6-a799-b3b4442e895e');\n",
       "          const dataTable =\n",
       "            await google.colab.kernel.invokeFunction('convertToInteractive',\n",
       "                                                     [key], {});\n",
       "          if (!dataTable) return;\n",
       "\n",
       "          const docLinkHtml = 'Like what you see? Visit the ' +\n",
       "            '<a target=\"_blank\" href=https://colab.research.google.com/notebooks/data_table.ipynb>data table notebook</a>'\n",
       "            + ' to learn more about interactive tables.';\n",
       "          element.innerHTML = '';\n",
       "          dataTable['output_type'] = 'display_data';\n",
       "          await google.colab.output.renderOutput(dataTable, element);\n",
       "          const docLink = document.createElement('div');\n",
       "          docLink.innerHTML = docLinkHtml;\n",
       "          element.appendChild(docLink);\n",
       "        }\n",
       "      </script>\n",
       "    </div>\n",
       "  </div>\n",
       "  "
      ],
      "text/plain": [
       "                                    제목       전시시작일         시설명\n",
       "1905                      전준자 회고전 - 축제  2022-11-11        미광화랑\n",
       "1906  이건희컬렉션 한국 근현대 미술 특별전《수집: 위대한 여정》  2022-11-11     부산시립미술관\n",
       "1907                2022 부산학생사진동아리 작품전  2022-11-03  부산학생예술문화회관\n",
       "1908              최수환 : 하나의 의자 두 개의 기억  2022-11-11      홍티아트센터\n",
       "1909           回想展 회상전 : 지나간 기억을 걷는 시간  2022-11-16      부산시민공원"
      ]
     },
     "execution_count": 18,
     "metadata": {},
     "output_type": "execute_result"
    }
   ],
   "source": [
    "busan_exhibition1.tail()"
   ]
  },
  {
   "cell_type": "code",
   "execution_count": null,
   "metadata": {
    "colab": {
     "base_uri": "https://localhost:8080/",
     "height": 206
    },
    "id": "JsyrWT366iul",
    "outputId": "d0bc0ee5-5799-492e-b236-69d099055f6b"
   },
   "outputs": [
    {
     "data": {
      "text/html": [
       "\n",
       "  <div id=\"df-df75594c-4510-4104-921f-b967bab395e1\">\n",
       "    <div class=\"colab-df-container\">\n",
       "      <div>\n",
       "<style scoped>\n",
       "    .dataframe tbody tr th:only-of-type {\n",
       "        vertical-align: middle;\n",
       "    }\n",
       "\n",
       "    .dataframe tbody tr th {\n",
       "        vertical-align: top;\n",
       "    }\n",
       "\n",
       "    .dataframe thead th {\n",
       "        text-align: right;\n",
       "    }\n",
       "</style>\n",
       "<table border=\"1\" class=\"dataframe\">\n",
       "  <thead>\n",
       "    <tr style=\"text-align: right;\">\n",
       "      <th></th>\n",
       "      <th>제목</th>\n",
       "      <th>공연시작일</th>\n",
       "      <th>시설명</th>\n",
       "    </tr>\n",
       "  </thead>\n",
       "  <tbody>\n",
       "    <tr>\n",
       "      <th>877</th>\n",
       "      <td>악성, 베토벤</td>\n",
       "      <td>2022-11-26</td>\n",
       "      <td>게네랄파우제</td>\n",
       "    </tr>\n",
       "    <tr>\n",
       "      <th>878</th>\n",
       "      <td>크리스마스 매직쇼</td>\n",
       "      <td>2022-12-03</td>\n",
       "      <td>초록마술극장</td>\n",
       "    </tr>\n",
       "    <tr>\n",
       "      <th>879</th>\n",
       "      <td>2022 장민호 단독 콘서트 ‘호시절 : 好時節’’</td>\n",
       "      <td>2022-12-10</td>\n",
       "      <td>KBS 부산홀</td>\n",
       "    </tr>\n",
       "    <tr>\n",
       "      <th>880</th>\n",
       "      <td>2022 임창정 전국투어콘서트 ‘Multiverse’</td>\n",
       "      <td>2022-12-31</td>\n",
       "      <td>벡스코 제1전시장</td>\n",
       "    </tr>\n",
       "    <tr>\n",
       "      <th>881</th>\n",
       "      <td>2022 뮤지컬 갈라 송년콘서트 in 영도</td>\n",
       "      <td>2022-12-09</td>\n",
       "      <td>영도문화예술회관</td>\n",
       "    </tr>\n",
       "  </tbody>\n",
       "</table>\n",
       "</div>\n",
       "      <button class=\"colab-df-convert\" onclick=\"convertToInteractive('df-df75594c-4510-4104-921f-b967bab395e1')\"\n",
       "              title=\"Convert this dataframe to an interactive table.\"\n",
       "              style=\"display:none;\">\n",
       "        \n",
       "  <svg xmlns=\"http://www.w3.org/2000/svg\" height=\"24px\"viewBox=\"0 0 24 24\"\n",
       "       width=\"24px\">\n",
       "    <path d=\"M0 0h24v24H0V0z\" fill=\"none\"/>\n",
       "    <path d=\"M18.56 5.44l.94 2.06.94-2.06 2.06-.94-2.06-.94-.94-2.06-.94 2.06-2.06.94zm-11 1L8.5 8.5l.94-2.06 2.06-.94-2.06-.94L8.5 2.5l-.94 2.06-2.06.94zm10 10l.94 2.06.94-2.06 2.06-.94-2.06-.94-.94-2.06-.94 2.06-2.06.94z\"/><path d=\"M17.41 7.96l-1.37-1.37c-.4-.4-.92-.59-1.43-.59-.52 0-1.04.2-1.43.59L10.3 9.45l-7.72 7.72c-.78.78-.78 2.05 0 2.83L4 21.41c.39.39.9.59 1.41.59.51 0 1.02-.2 1.41-.59l7.78-7.78 2.81-2.81c.8-.78.8-2.07 0-2.86zM5.41 20L4 18.59l7.72-7.72 1.47 1.35L5.41 20z\"/>\n",
       "  </svg>\n",
       "      </button>\n",
       "      \n",
       "  <style>\n",
       "    .colab-df-container {\n",
       "      display:flex;\n",
       "      flex-wrap:wrap;\n",
       "      gap: 12px;\n",
       "    }\n",
       "\n",
       "    .colab-df-convert {\n",
       "      background-color: #E8F0FE;\n",
       "      border: none;\n",
       "      border-radius: 50%;\n",
       "      cursor: pointer;\n",
       "      display: none;\n",
       "      fill: #1967D2;\n",
       "      height: 32px;\n",
       "      padding: 0 0 0 0;\n",
       "      width: 32px;\n",
       "    }\n",
       "\n",
       "    .colab-df-convert:hover {\n",
       "      background-color: #E2EBFA;\n",
       "      box-shadow: 0px 1px 2px rgba(60, 64, 67, 0.3), 0px 1px 3px 1px rgba(60, 64, 67, 0.15);\n",
       "      fill: #174EA6;\n",
       "    }\n",
       "\n",
       "    [theme=dark] .colab-df-convert {\n",
       "      background-color: #3B4455;\n",
       "      fill: #D2E3FC;\n",
       "    }\n",
       "\n",
       "    [theme=dark] .colab-df-convert:hover {\n",
       "      background-color: #434B5C;\n",
       "      box-shadow: 0px 1px 3px 1px rgba(0, 0, 0, 0.15);\n",
       "      filter: drop-shadow(0px 1px 2px rgba(0, 0, 0, 0.3));\n",
       "      fill: #FFFFFF;\n",
       "    }\n",
       "  </style>\n",
       "\n",
       "      <script>\n",
       "        const buttonEl =\n",
       "          document.querySelector('#df-df75594c-4510-4104-921f-b967bab395e1 button.colab-df-convert');\n",
       "        buttonEl.style.display =\n",
       "          google.colab.kernel.accessAllowed ? 'block' : 'none';\n",
       "\n",
       "        async function convertToInteractive(key) {\n",
       "          const element = document.querySelector('#df-df75594c-4510-4104-921f-b967bab395e1');\n",
       "          const dataTable =\n",
       "            await google.colab.kernel.invokeFunction('convertToInteractive',\n",
       "                                                     [key], {});\n",
       "          if (!dataTable) return;\n",
       "\n",
       "          const docLinkHtml = 'Like what you see? Visit the ' +\n",
       "            '<a target=\"_blank\" href=https://colab.research.google.com/notebooks/data_table.ipynb>data table notebook</a>'\n",
       "            + ' to learn more about interactive tables.';\n",
       "          element.innerHTML = '';\n",
       "          dataTable['output_type'] = 'display_data';\n",
       "          await google.colab.output.renderOutput(dataTable, element);\n",
       "          const docLink = document.createElement('div');\n",
       "          docLink.innerHTML = docLinkHtml;\n",
       "          element.appendChild(docLink);\n",
       "        }\n",
       "      </script>\n",
       "    </div>\n",
       "  </div>\n",
       "  "
      ],
      "text/plain": [
       "                                제목       공연시작일        시설명\n",
       "877                        악성, 베토벤  2022-11-26     게네랄파우제\n",
       "878                      크리스마스 매직쇼  2022-12-03     초록마술극장\n",
       "879   2022 장민호 단독 콘서트 ‘호시절 : 好時節’’  2022-12-10    KBS 부산홀\n",
       "880  2022 임창정 전국투어콘서트 ‘Multiverse’  2022-12-31  벡스코 제1전시장\n",
       "881        2022 뮤지컬 갈라 송년콘서트 in 영도  2022-12-09   영도문화예술회관"
      ]
     },
     "execution_count": 19,
     "metadata": {},
     "output_type": "execute_result"
    }
   ],
   "source": [
    "busan_concert1.tail()"
   ]
  },
  {
   "cell_type": "code",
   "execution_count": null,
   "metadata": {
    "colab": {
     "base_uri": "https://localhost:8080/",
     "height": 206
    },
    "id": "MwMuv76b6mqB",
    "outputId": "ba7191a9-5d0e-483c-8ad6-445c5ba6782a"
   },
   "outputs": [
    {
     "data": {
      "text/html": [
       "\n",
       "  <div id=\"df-543676b0-a911-4fd6-a620-3f3a31f8f6b7\">\n",
       "    <div class=\"colab-df-container\">\n",
       "      <div>\n",
       "<style scoped>\n",
       "    .dataframe tbody tr th:only-of-type {\n",
       "        vertical-align: middle;\n",
       "    }\n",
       "\n",
       "    .dataframe tbody tr th {\n",
       "        vertical-align: top;\n",
       "    }\n",
       "\n",
       "    .dataframe thead th {\n",
       "        text-align: right;\n",
       "    }\n",
       "</style>\n",
       "<table border=\"1\" class=\"dataframe\">\n",
       "  <thead>\n",
       "    <tr style=\"text-align: right;\">\n",
       "      <th></th>\n",
       "      <th>시설명</th>\n",
       "      <th>제목</th>\n",
       "      <th>공연시작일</th>\n",
       "    </tr>\n",
       "  </thead>\n",
       "  <tbody>\n",
       "    <tr>\n",
       "      <th>165</th>\n",
       "      <td>국립부산국악원</td>\n",
       "      <td>수요공감 11-1 - 법장 우한웅의 춤</td>\n",
       "      <td>2022-11-02</td>\n",
       "    </tr>\n",
       "    <tr>\n",
       "      <th>166</th>\n",
       "      <td>부산예술회관</td>\n",
       "      <td>소리로 풀어내는 김정원의 춤 나들이</td>\n",
       "      <td>2022-11-30</td>\n",
       "    </tr>\n",
       "    <tr>\n",
       "      <th>167</th>\n",
       "      <td>화명생태공원</td>\n",
       "      <td>풍물굿 ART FESTA〈북춤100인무〉</td>\n",
       "      <td>2022-11-19</td>\n",
       "    </tr>\n",
       "    <tr>\n",
       "      <th>168</th>\n",
       "      <td>민주공원</td>\n",
       "      <td>백조의호수 - 전통연희와 만나다</td>\n",
       "      <td>2022-11-20</td>\n",
       "    </tr>\n",
       "    <tr>\n",
       "      <th>169</th>\n",
       "      <td>부산시민회관</td>\n",
       "      <td>배시시 명품극장 - 춤을 말하다</td>\n",
       "      <td>2022-11-30</td>\n",
       "    </tr>\n",
       "  </tbody>\n",
       "</table>\n",
       "</div>\n",
       "      <button class=\"colab-df-convert\" onclick=\"convertToInteractive('df-543676b0-a911-4fd6-a620-3f3a31f8f6b7')\"\n",
       "              title=\"Convert this dataframe to an interactive table.\"\n",
       "              style=\"display:none;\">\n",
       "        \n",
       "  <svg xmlns=\"http://www.w3.org/2000/svg\" height=\"24px\"viewBox=\"0 0 24 24\"\n",
       "       width=\"24px\">\n",
       "    <path d=\"M0 0h24v24H0V0z\" fill=\"none\"/>\n",
       "    <path d=\"M18.56 5.44l.94 2.06.94-2.06 2.06-.94-2.06-.94-.94-2.06-.94 2.06-2.06.94zm-11 1L8.5 8.5l.94-2.06 2.06-.94-2.06-.94L8.5 2.5l-.94 2.06-2.06.94zm10 10l.94 2.06.94-2.06 2.06-.94-2.06-.94-.94-2.06-.94 2.06-2.06.94z\"/><path d=\"M17.41 7.96l-1.37-1.37c-.4-.4-.92-.59-1.43-.59-.52 0-1.04.2-1.43.59L10.3 9.45l-7.72 7.72c-.78.78-.78 2.05 0 2.83L4 21.41c.39.39.9.59 1.41.59.51 0 1.02-.2 1.41-.59l7.78-7.78 2.81-2.81c.8-.78.8-2.07 0-2.86zM5.41 20L4 18.59l7.72-7.72 1.47 1.35L5.41 20z\"/>\n",
       "  </svg>\n",
       "      </button>\n",
       "      \n",
       "  <style>\n",
       "    .colab-df-container {\n",
       "      display:flex;\n",
       "      flex-wrap:wrap;\n",
       "      gap: 12px;\n",
       "    }\n",
       "\n",
       "    .colab-df-convert {\n",
       "      background-color: #E8F0FE;\n",
       "      border: none;\n",
       "      border-radius: 50%;\n",
       "      cursor: pointer;\n",
       "      display: none;\n",
       "      fill: #1967D2;\n",
       "      height: 32px;\n",
       "      padding: 0 0 0 0;\n",
       "      width: 32px;\n",
       "    }\n",
       "\n",
       "    .colab-df-convert:hover {\n",
       "      background-color: #E2EBFA;\n",
       "      box-shadow: 0px 1px 2px rgba(60, 64, 67, 0.3), 0px 1px 3px 1px rgba(60, 64, 67, 0.15);\n",
       "      fill: #174EA6;\n",
       "    }\n",
       "\n",
       "    [theme=dark] .colab-df-convert {\n",
       "      background-color: #3B4455;\n",
       "      fill: #D2E3FC;\n",
       "    }\n",
       "\n",
       "    [theme=dark] .colab-df-convert:hover {\n",
       "      background-color: #434B5C;\n",
       "      box-shadow: 0px 1px 3px 1px rgba(0, 0, 0, 0.15);\n",
       "      filter: drop-shadow(0px 1px 2px rgba(0, 0, 0, 0.3));\n",
       "      fill: #FFFFFF;\n",
       "    }\n",
       "  </style>\n",
       "\n",
       "      <script>\n",
       "        const buttonEl =\n",
       "          document.querySelector('#df-543676b0-a911-4fd6-a620-3f3a31f8f6b7 button.colab-df-convert');\n",
       "        buttonEl.style.display =\n",
       "          google.colab.kernel.accessAllowed ? 'block' : 'none';\n",
       "\n",
       "        async function convertToInteractive(key) {\n",
       "          const element = document.querySelector('#df-543676b0-a911-4fd6-a620-3f3a31f8f6b7');\n",
       "          const dataTable =\n",
       "            await google.colab.kernel.invokeFunction('convertToInteractive',\n",
       "                                                     [key], {});\n",
       "          if (!dataTable) return;\n",
       "\n",
       "          const docLinkHtml = 'Like what you see? Visit the ' +\n",
       "            '<a target=\"_blank\" href=https://colab.research.google.com/notebooks/data_table.ipynb>data table notebook</a>'\n",
       "            + ' to learn more about interactive tables.';\n",
       "          element.innerHTML = '';\n",
       "          dataTable['output_type'] = 'display_data';\n",
       "          await google.colab.output.renderOutput(dataTable, element);\n",
       "          const docLink = document.createElement('div');\n",
       "          docLink.innerHTML = docLinkHtml;\n",
       "          element.appendChild(docLink);\n",
       "        }\n",
       "      </script>\n",
       "    </div>\n",
       "  </div>\n",
       "  "
      ],
      "text/plain": [
       "         시설명                      제목       공연시작일\n",
       "165  국립부산국악원   수요공감 11-1 - 법장 우한웅의 춤  2022-11-02\n",
       "166   부산예술회관     소리로 풀어내는 김정원의 춤 나들이  2022-11-30\n",
       "167   화명생태공원  풍물굿 ART FESTA〈북춤100인무〉  2022-11-19\n",
       "168     민주공원       백조의호수 - 전통연희와 만나다  2022-11-20\n",
       "169   부산시민회관       배시시 명품극장 - 춤을 말하다  2022-11-30"
      ]
     },
     "execution_count": 20,
     "metadata": {},
     "output_type": "execute_result"
    }
   ],
   "source": [
    "busan_dance1.tail()"
   ]
  },
  {
   "cell_type": "code",
   "execution_count": null,
   "metadata": {
    "colab": {
     "base_uri": "https://localhost:8080/",
     "height": 206
    },
    "id": "QCWFKoeN6ogl",
    "outputId": "88d907a4-9678-41dd-84a9-92b810c6de8b"
   },
   "outputs": [
    {
     "data": {
      "text/html": [
       "\n",
       "  <div id=\"df-fdedfba1-8e27-41ef-a8ee-692b5d9ca363\">\n",
       "    <div class=\"colab-df-container\">\n",
       "      <div>\n",
       "<style scoped>\n",
       "    .dataframe tbody tr th:only-of-type {\n",
       "        vertical-align: middle;\n",
       "    }\n",
       "\n",
       "    .dataframe tbody tr th {\n",
       "        vertical-align: top;\n",
       "    }\n",
       "\n",
       "    .dataframe thead th {\n",
       "        text-align: right;\n",
       "    }\n",
       "</style>\n",
       "<table border=\"1\" class=\"dataframe\">\n",
       "  <thead>\n",
       "    <tr style=\"text-align: right;\">\n",
       "      <th></th>\n",
       "      <th>제목</th>\n",
       "      <th>공연시작일</th>\n",
       "      <th>시설명</th>\n",
       "    </tr>\n",
       "  </thead>\n",
       "  <tbody>\n",
       "    <tr>\n",
       "      <th>111</th>\n",
       "      <td>예술의 전당〈영상으로 만나는 ‘마술피리’〉</td>\n",
       "      <td>2022-11-16</td>\n",
       "      <td>영도문화예술회관</td>\n",
       "    </tr>\n",
       "    <tr>\n",
       "      <th>112</th>\n",
       "      <td>키즈 오페라 콘서트 - 푸치니 나비부인</td>\n",
       "      <td>2022-11-19</td>\n",
       "      <td>청년창조발전소</td>\n",
       "    </tr>\n",
       "    <tr>\n",
       "      <th>113</th>\n",
       "      <td>영화관에서즐기는 오페라동화애니메이션- 베르디 라트라비아타</td>\n",
       "      <td>2022-12-03</td>\n",
       "      <td>메가박스 장산</td>\n",
       "    </tr>\n",
       "    <tr>\n",
       "      <th>114</th>\n",
       "      <td>라트라비아타</td>\n",
       "      <td>2022-12-11</td>\n",
       "      <td>영화의전당</td>\n",
       "    </tr>\n",
       "    <tr>\n",
       "      <th>115</th>\n",
       "      <td>오페라 라트라비아타</td>\n",
       "      <td>2022-12-09</td>\n",
       "      <td>영화의전당</td>\n",
       "    </tr>\n",
       "  </tbody>\n",
       "</table>\n",
       "</div>\n",
       "      <button class=\"colab-df-convert\" onclick=\"convertToInteractive('df-fdedfba1-8e27-41ef-a8ee-692b5d9ca363')\"\n",
       "              title=\"Convert this dataframe to an interactive table.\"\n",
       "              style=\"display:none;\">\n",
       "        \n",
       "  <svg xmlns=\"http://www.w3.org/2000/svg\" height=\"24px\"viewBox=\"0 0 24 24\"\n",
       "       width=\"24px\">\n",
       "    <path d=\"M0 0h24v24H0V0z\" fill=\"none\"/>\n",
       "    <path d=\"M18.56 5.44l.94 2.06.94-2.06 2.06-.94-2.06-.94-.94-2.06-.94 2.06-2.06.94zm-11 1L8.5 8.5l.94-2.06 2.06-.94-2.06-.94L8.5 2.5l-.94 2.06-2.06.94zm10 10l.94 2.06.94-2.06 2.06-.94-2.06-.94-.94-2.06-.94 2.06-2.06.94z\"/><path d=\"M17.41 7.96l-1.37-1.37c-.4-.4-.92-.59-1.43-.59-.52 0-1.04.2-1.43.59L10.3 9.45l-7.72 7.72c-.78.78-.78 2.05 0 2.83L4 21.41c.39.39.9.59 1.41.59.51 0 1.02-.2 1.41-.59l7.78-7.78 2.81-2.81c.8-.78.8-2.07 0-2.86zM5.41 20L4 18.59l7.72-7.72 1.47 1.35L5.41 20z\"/>\n",
       "  </svg>\n",
       "      </button>\n",
       "      \n",
       "  <style>\n",
       "    .colab-df-container {\n",
       "      display:flex;\n",
       "      flex-wrap:wrap;\n",
       "      gap: 12px;\n",
       "    }\n",
       "\n",
       "    .colab-df-convert {\n",
       "      background-color: #E8F0FE;\n",
       "      border: none;\n",
       "      border-radius: 50%;\n",
       "      cursor: pointer;\n",
       "      display: none;\n",
       "      fill: #1967D2;\n",
       "      height: 32px;\n",
       "      padding: 0 0 0 0;\n",
       "      width: 32px;\n",
       "    }\n",
       "\n",
       "    .colab-df-convert:hover {\n",
       "      background-color: #E2EBFA;\n",
       "      box-shadow: 0px 1px 2px rgba(60, 64, 67, 0.3), 0px 1px 3px 1px rgba(60, 64, 67, 0.15);\n",
       "      fill: #174EA6;\n",
       "    }\n",
       "\n",
       "    [theme=dark] .colab-df-convert {\n",
       "      background-color: #3B4455;\n",
       "      fill: #D2E3FC;\n",
       "    }\n",
       "\n",
       "    [theme=dark] .colab-df-convert:hover {\n",
       "      background-color: #434B5C;\n",
       "      box-shadow: 0px 1px 3px 1px rgba(0, 0, 0, 0.15);\n",
       "      filter: drop-shadow(0px 1px 2px rgba(0, 0, 0, 0.3));\n",
       "      fill: #FFFFFF;\n",
       "    }\n",
       "  </style>\n",
       "\n",
       "      <script>\n",
       "        const buttonEl =\n",
       "          document.querySelector('#df-fdedfba1-8e27-41ef-a8ee-692b5d9ca363 button.colab-df-convert');\n",
       "        buttonEl.style.display =\n",
       "          google.colab.kernel.accessAllowed ? 'block' : 'none';\n",
       "\n",
       "        async function convertToInteractive(key) {\n",
       "          const element = document.querySelector('#df-fdedfba1-8e27-41ef-a8ee-692b5d9ca363');\n",
       "          const dataTable =\n",
       "            await google.colab.kernel.invokeFunction('convertToInteractive',\n",
       "                                                     [key], {});\n",
       "          if (!dataTable) return;\n",
       "\n",
       "          const docLinkHtml = 'Like what you see? Visit the ' +\n",
       "            '<a target=\"_blank\" href=https://colab.research.google.com/notebooks/data_table.ipynb>data table notebook</a>'\n",
       "            + ' to learn more about interactive tables.';\n",
       "          element.innerHTML = '';\n",
       "          dataTable['output_type'] = 'display_data';\n",
       "          await google.colab.output.renderOutput(dataTable, element);\n",
       "          const docLink = document.createElement('div');\n",
       "          docLink.innerHTML = docLinkHtml;\n",
       "          element.appendChild(docLink);\n",
       "        }\n",
       "      </script>\n",
       "    </div>\n",
       "  </div>\n",
       "  "
      ],
      "text/plain": [
       "                                  제목       공연시작일       시설명\n",
       "111          예술의 전당〈영상으로 만나는 ‘마술피리’〉  2022-11-16  영도문화예술회관\n",
       "112            키즈 오페라 콘서트 - 푸치니 나비부인  2022-11-19   청년창조발전소\n",
       "113  영화관에서즐기는 오페라동화애니메이션- 베르디 라트라비아타  2022-12-03   메가박스 장산\n",
       "114                           라트라비아타  2022-12-11     영화의전당\n",
       "115                       오페라 라트라비아타  2022-12-09     영화의전당"
      ]
     },
     "execution_count": 21,
     "metadata": {},
     "output_type": "execute_result"
    }
   ],
   "source": [
    "busan_opera1.tail()"
   ]
  },
  {
   "cell_type": "markdown",
   "metadata": {
    "id": "uOhWzSLPUIlI"
   },
   "source": [
    "#### 2.2.2.2 Null값 확인"
   ]
  },
  {
   "cell_type": "code",
   "execution_count": null,
   "metadata": {
    "colab": {
     "base_uri": "https://localhost:8080/"
    },
    "id": "XalB2sx1T4YH",
    "outputId": "4ee580da-34ec-4467-f2c4-df4928bac2e8"
   },
   "outputs": [
    {
     "data": {
      "text/plain": [
       "제목       0\n",
       "공연시작일    0\n",
       "시설명      0\n",
       "dtype: int64"
      ]
     },
     "execution_count": 22,
     "metadata": {},
     "output_type": "execute_result"
    }
   ],
   "source": [
    "busan_play1.isnull().sum()"
   ]
  },
  {
   "cell_type": "code",
   "execution_count": null,
   "metadata": {
    "colab": {
     "base_uri": "https://localhost:8080/"
    },
    "id": "BsjspdMOT8NI",
    "outputId": "1e9ea3f0-ec7d-49a5-d84f-812e52c054d1"
   },
   "outputs": [
    {
     "data": {
      "text/plain": [
       "제목       0\n",
       "공연시작일    0\n",
       "시설명      0\n",
       "dtype: int64"
      ]
     },
     "execution_count": 23,
     "metadata": {},
     "output_type": "execute_result"
    }
   ],
   "source": [
    "busan_musical1.isnull().sum()"
   ]
  },
  {
   "cell_type": "code",
   "execution_count": null,
   "metadata": {
    "colab": {
     "base_uri": "https://localhost:8080/"
    },
    "id": "CWzRwWNBUAu1",
    "outputId": "1a858113-226a-415a-ddd6-ac9eb947a5d9"
   },
   "outputs": [
    {
     "data": {
      "text/plain": [
       "제목       0\n",
       "공연시작일    0\n",
       "시설명      0\n",
       "dtype: int64"
      ]
     },
     "execution_count": 24,
     "metadata": {},
     "output_type": "execute_result"
    }
   ],
   "source": [
    "busan_classic1.isnull().sum()"
   ]
  },
  {
   "cell_type": "code",
   "execution_count": null,
   "metadata": {
    "colab": {
     "base_uri": "https://localhost:8080/"
    },
    "id": "FjtxdFe6UdF7",
    "outputId": "f38e6621-a7c1-42b2-fe9d-4d7c63fbf433"
   },
   "outputs": [
    {
     "data": {
      "text/plain": [
       "제목       0\n",
       "전시시작일    0\n",
       "시설명      0\n",
       "dtype: int64"
      ]
     },
     "execution_count": 25,
     "metadata": {},
     "output_type": "execute_result"
    }
   ],
   "source": [
    "busan_exhibition1.isnull().sum()"
   ]
  },
  {
   "cell_type": "code",
   "execution_count": null,
   "metadata": {
    "colab": {
     "base_uri": "https://localhost:8080/"
    },
    "id": "HpGo1JnXUg7P",
    "outputId": "83e89664-9ee8-498c-a8b5-58219eaec844"
   },
   "outputs": [
    {
     "data": {
      "text/plain": [
       "제목       0\n",
       "공연시작일    0\n",
       "시설명      0\n",
       "dtype: int64"
      ]
     },
     "execution_count": 26,
     "metadata": {},
     "output_type": "execute_result"
    }
   ],
   "source": [
    "busan_concert1.isnull().sum()"
   ]
  },
  {
   "cell_type": "code",
   "execution_count": null,
   "metadata": {
    "colab": {
     "base_uri": "https://localhost:8080/"
    },
    "id": "3CHxDP3vUk6e",
    "outputId": "8a248120-83c7-4dfd-819f-dad6735fceff"
   },
   "outputs": [
    {
     "data": {
      "text/plain": [
       "시설명      0\n",
       "제목       0\n",
       "공연시작일    0\n",
       "dtype: int64"
      ]
     },
     "execution_count": 27,
     "metadata": {},
     "output_type": "execute_result"
    }
   ],
   "source": [
    "busan_dance1.isnull().sum()"
   ]
  },
  {
   "cell_type": "code",
   "execution_count": null,
   "metadata": {
    "colab": {
     "base_uri": "https://localhost:8080/"
    },
    "id": "vgWJV7vsUnM2",
    "outputId": "17d3cf2d-7dfb-49f2-883d-83eeaab5ecce"
   },
   "outputs": [
    {
     "data": {
      "text/plain": [
       "제목       0\n",
       "공연시작일    0\n",
       "시설명      0\n",
       "dtype: int64"
      ]
     },
     "execution_count": 28,
     "metadata": {},
     "output_type": "execute_result"
    }
   ],
   "source": [
    "busan_opera1.isnull().sum()"
   ]
  },
  {
   "cell_type": "markdown",
   "metadata": {
    "id": "vQcyk4ic79Vg"
   },
   "source": [
    "#### 2.2.2.3 2019년 ~ 2022년(4개년) 데이터 추출"
   ]
  },
  {
   "cell_type": "code",
   "execution_count": null,
   "metadata": {
    "id": "M0a_4j4P8Akr"
   },
   "outputs": [],
   "source": [
    "# sorted(list(set(busan_play1['공연시작일'])))"
   ]
  },
  {
   "cell_type": "code",
   "execution_count": null,
   "metadata": {
    "id": "IdjbjsId-qRF"
   },
   "outputs": [],
   "source": [
    "# sorted(list(set(busan_musical1['공연시작일'])))"
   ]
  },
  {
   "cell_type": "code",
   "execution_count": null,
   "metadata": {
    "id": "rF6XISxAjY-T"
   },
   "outputs": [],
   "source": [
    "def year_selection(data, name):\n",
    "  temp = data[(data[name].str.startswith('2022'))|(data[name].str.startswith('2021'))|(data[name].str.startswith('2020'))|(data[name].str.startswith('2019'))].copy()\n",
    "  return temp "
   ]
  },
  {
   "cell_type": "code",
   "execution_count": null,
   "metadata": {
    "id": "lvVv6e3d_9fi"
   },
   "outputs": [],
   "source": [
    "busan_play2 = year_selection(busan_play1,'공연시작일')\n",
    "busan_musical2 = year_selection(busan_musical1,'공연시작일')\n",
    "busan_classic2 = year_selection(busan_classic1,'공연시작일')\n",
    "busan_exhibition2 = year_selection(busan_exhibition1,'전시시작일')\n",
    "busan_concert2 = year_selection(busan_concert1,'공연시작일')\n",
    "busan_dance2 = year_selection(busan_dance1,'공연시작일')\n",
    "busan_opera2 = year_selection(busan_opera1,'공연시작일')"
   ]
  },
  {
   "cell_type": "code",
   "execution_count": null,
   "metadata": {
    "id": "RcmjzJv8AbDG"
   },
   "outputs": [],
   "source": [
    "# sorted(list(set(busan_opera2['공연시작일'])))"
   ]
  },
  {
   "cell_type": "markdown",
   "metadata": {
    "id": "S_EPejz61RX9"
   },
   "source": [
    "### 2.2.3 데이터 통합"
   ]
  },
  {
   "cell_type": "markdown",
   "metadata": {
    "id": "Nqg7AwxzBsYU"
   },
   "source": [
    "#### 2.2.3.1 열 이름 변경"
   ]
  },
  {
   "cell_type": "code",
   "execution_count": null,
   "metadata": {
    "id": "2FHXwfgkBkCs"
   },
   "outputs": [],
   "source": [
    "# 공연시작일-> 시작일\n",
    "busan_play2.rename(columns={'공연시작일':'시작일'}, inplace=True)\n",
    "busan_musical2.rename(columns={'공연시작일':'시작일'}, inplace=True)\n",
    "busan_opera2.rename(columns={'공연시작일':'시작일'}, inplace=True)\n",
    "busan_classic2.rename(columns={'공연시작일':'시작일'}, inplace=True)\n",
    "busan_exhibition2.rename(columns={'전시시작일':'시작일'}, inplace=True)\n",
    "busan_concert2.rename(columns={'공연시작일':'시작일'}, inplace=True)\n",
    "busan_dance2.rename(columns={'공연시작일':'시작일'}, inplace=True)"
   ]
  },
  {
   "cell_type": "code",
   "execution_count": null,
   "metadata": {
    "colab": {
     "base_uri": "https://localhost:8080/",
     "height": 206
    },
    "id": "9IkEuFxoBgCK",
    "outputId": "7508713d-1440-4188-fce1-3273b155c7e6"
   },
   "outputs": [
    {
     "data": {
      "text/html": [
       "\n",
       "  <div id=\"df-e00c98d0-3c66-489f-8ef2-fb2ac672d843\">\n",
       "    <div class=\"colab-df-container\">\n",
       "      <div>\n",
       "<style scoped>\n",
       "    .dataframe tbody tr th:only-of-type {\n",
       "        vertical-align: middle;\n",
       "    }\n",
       "\n",
       "    .dataframe tbody tr th {\n",
       "        vertical-align: top;\n",
       "    }\n",
       "\n",
       "    .dataframe thead th {\n",
       "        text-align: right;\n",
       "    }\n",
       "</style>\n",
       "<table border=\"1\" class=\"dataframe\">\n",
       "  <thead>\n",
       "    <tr style=\"text-align: right;\">\n",
       "      <th></th>\n",
       "      <th>제목</th>\n",
       "      <th>시작일</th>\n",
       "      <th>시설명</th>\n",
       "    </tr>\n",
       "  </thead>\n",
       "  <tbody>\n",
       "    <tr>\n",
       "      <th>0</th>\n",
       "      <td>옥탑방고양이 [부산]</td>\n",
       "      <td>2020-03-12</td>\n",
       "      <td>BNK부산은행 조은극장</td>\n",
       "    </tr>\n",
       "    <tr>\n",
       "      <th>1</th>\n",
       "      <td>여자만세2 [부산]</td>\n",
       "      <td>2020-03-19</td>\n",
       "      <td>부산문화회관</td>\n",
       "    </tr>\n",
       "    <tr>\n",
       "      <th>2</th>\n",
       "      <td>우리는 친구다 [부산]</td>\n",
       "      <td>2020-07-03</td>\n",
       "      <td>부산시민회관</td>\n",
       "    </tr>\n",
       "    <tr>\n",
       "      <th>3</th>\n",
       "      <td>우당탕 과학 탐험대 [부산]</td>\n",
       "      <td>2020-01-30</td>\n",
       "      <td>해운대문화회관</td>\n",
       "    </tr>\n",
       "    <tr>\n",
       "      <th>4</th>\n",
       "      <td>검정고무신 [부산]</td>\n",
       "      <td>2019-12-20</td>\n",
       "      <td>에저또소극장 [부산]</td>\n",
       "    </tr>\n",
       "  </tbody>\n",
       "</table>\n",
       "</div>\n",
       "      <button class=\"colab-df-convert\" onclick=\"convertToInteractive('df-e00c98d0-3c66-489f-8ef2-fb2ac672d843')\"\n",
       "              title=\"Convert this dataframe to an interactive table.\"\n",
       "              style=\"display:none;\">\n",
       "        \n",
       "  <svg xmlns=\"http://www.w3.org/2000/svg\" height=\"24px\"viewBox=\"0 0 24 24\"\n",
       "       width=\"24px\">\n",
       "    <path d=\"M0 0h24v24H0V0z\" fill=\"none\"/>\n",
       "    <path d=\"M18.56 5.44l.94 2.06.94-2.06 2.06-.94-2.06-.94-.94-2.06-.94 2.06-2.06.94zm-11 1L8.5 8.5l.94-2.06 2.06-.94-2.06-.94L8.5 2.5l-.94 2.06-2.06.94zm10 10l.94 2.06.94-2.06 2.06-.94-2.06-.94-.94-2.06-.94 2.06-2.06.94z\"/><path d=\"M17.41 7.96l-1.37-1.37c-.4-.4-.92-.59-1.43-.59-.52 0-1.04.2-1.43.59L10.3 9.45l-7.72 7.72c-.78.78-.78 2.05 0 2.83L4 21.41c.39.39.9.59 1.41.59.51 0 1.02-.2 1.41-.59l7.78-7.78 2.81-2.81c.8-.78.8-2.07 0-2.86zM5.41 20L4 18.59l7.72-7.72 1.47 1.35L5.41 20z\"/>\n",
       "  </svg>\n",
       "      </button>\n",
       "      \n",
       "  <style>\n",
       "    .colab-df-container {\n",
       "      display:flex;\n",
       "      flex-wrap:wrap;\n",
       "      gap: 12px;\n",
       "    }\n",
       "\n",
       "    .colab-df-convert {\n",
       "      background-color: #E8F0FE;\n",
       "      border: none;\n",
       "      border-radius: 50%;\n",
       "      cursor: pointer;\n",
       "      display: none;\n",
       "      fill: #1967D2;\n",
       "      height: 32px;\n",
       "      padding: 0 0 0 0;\n",
       "      width: 32px;\n",
       "    }\n",
       "\n",
       "    .colab-df-convert:hover {\n",
       "      background-color: #E2EBFA;\n",
       "      box-shadow: 0px 1px 2px rgba(60, 64, 67, 0.3), 0px 1px 3px 1px rgba(60, 64, 67, 0.15);\n",
       "      fill: #174EA6;\n",
       "    }\n",
       "\n",
       "    [theme=dark] .colab-df-convert {\n",
       "      background-color: #3B4455;\n",
       "      fill: #D2E3FC;\n",
       "    }\n",
       "\n",
       "    [theme=dark] .colab-df-convert:hover {\n",
       "      background-color: #434B5C;\n",
       "      box-shadow: 0px 1px 3px 1px rgba(0, 0, 0, 0.15);\n",
       "      filter: drop-shadow(0px 1px 2px rgba(0, 0, 0, 0.3));\n",
       "      fill: #FFFFFF;\n",
       "    }\n",
       "  </style>\n",
       "\n",
       "      <script>\n",
       "        const buttonEl =\n",
       "          document.querySelector('#df-e00c98d0-3c66-489f-8ef2-fb2ac672d843 button.colab-df-convert');\n",
       "        buttonEl.style.display =\n",
       "          google.colab.kernel.accessAllowed ? 'block' : 'none';\n",
       "\n",
       "        async function convertToInteractive(key) {\n",
       "          const element = document.querySelector('#df-e00c98d0-3c66-489f-8ef2-fb2ac672d843');\n",
       "          const dataTable =\n",
       "            await google.colab.kernel.invokeFunction('convertToInteractive',\n",
       "                                                     [key], {});\n",
       "          if (!dataTable) return;\n",
       "\n",
       "          const docLinkHtml = 'Like what you see? Visit the ' +\n",
       "            '<a target=\"_blank\" href=https://colab.research.google.com/notebooks/data_table.ipynb>data table notebook</a>'\n",
       "            + ' to learn more about interactive tables.';\n",
       "          element.innerHTML = '';\n",
       "          dataTable['output_type'] = 'display_data';\n",
       "          await google.colab.output.renderOutput(dataTable, element);\n",
       "          const docLink = document.createElement('div');\n",
       "          docLink.innerHTML = docLinkHtml;\n",
       "          element.appendChild(docLink);\n",
       "        }\n",
       "      </script>\n",
       "    </div>\n",
       "  </div>\n",
       "  "
      ],
      "text/plain": [
       "                제목         시작일           시설명\n",
       "0      옥탑방고양이 [부산]  2020-03-12  BNK부산은행 조은극장\n",
       "1       여자만세2 [부산]  2020-03-19        부산문화회관\n",
       "2     우리는 친구다 [부산]  2020-07-03        부산시민회관\n",
       "3  우당탕 과학 탐험대 [부산]  2020-01-30       해운대문화회관\n",
       "4       검정고무신 [부산]  2019-12-20   에저또소극장 [부산]"
      ]
     },
     "execution_count": 35,
     "metadata": {},
     "output_type": "execute_result"
    }
   ],
   "source": [
    "busan_play2.head()"
   ]
  },
  {
   "cell_type": "code",
   "execution_count": null,
   "metadata": {
    "colab": {
     "base_uri": "https://localhost:8080/",
     "height": 206
    },
    "id": "g_UWI8qbCwyW",
    "outputId": "9c929224-6865-4156-e74e-3c6e67a3f674"
   },
   "outputs": [
    {
     "data": {
      "text/html": [
       "\n",
       "  <div id=\"df-5a5da238-0d5b-4be6-9c20-3d23bd846843\">\n",
       "    <div class=\"colab-df-container\">\n",
       "      <div>\n",
       "<style scoped>\n",
       "    .dataframe tbody tr th:only-of-type {\n",
       "        vertical-align: middle;\n",
       "    }\n",
       "\n",
       "    .dataframe tbody tr th {\n",
       "        vertical-align: top;\n",
       "    }\n",
       "\n",
       "    .dataframe thead th {\n",
       "        text-align: right;\n",
       "    }\n",
       "</style>\n",
       "<table border=\"1\" class=\"dataframe\">\n",
       "  <thead>\n",
       "    <tr style=\"text-align: right;\">\n",
       "      <th></th>\n",
       "      <th>제목</th>\n",
       "      <th>시작일</th>\n",
       "      <th>시설명</th>\n",
       "    </tr>\n",
       "  </thead>\n",
       "  <tbody>\n",
       "    <tr>\n",
       "      <th>1</th>\n",
       "      <td>Missed connections : 리차드 케네디 (Richard Kennedy)...</td>\n",
       "      <td>2020-02-19</td>\n",
       "      <td>조현화랑</td>\n",
       "    </tr>\n",
       "    <tr>\n",
       "      <th>2</th>\n",
       "      <td>자화상ll - 나를보다</td>\n",
       "      <td>2020-02-20</td>\n",
       "      <td>시립미술관</td>\n",
       "    </tr>\n",
       "    <tr>\n",
       "      <th>3</th>\n",
       "      <td>새로운 시의 시대</td>\n",
       "      <td>2020-02-20</td>\n",
       "      <td>시립미술관</td>\n",
       "    </tr>\n",
       "    <tr>\n",
       "      <th>4</th>\n",
       "      <td>2020 아시아 국제도자교류전</td>\n",
       "      <td>2020-02-16</td>\n",
       "      <td>시립미술관</td>\n",
       "    </tr>\n",
       "    <tr>\n",
       "      <th>5</th>\n",
       "      <td>좌혜선 개인전 &lt;971. 855.....500&gt;</td>\n",
       "      <td>2020-02-07</td>\n",
       "      <td>오픈스페이스 배</td>\n",
       "    </tr>\n",
       "  </tbody>\n",
       "</table>\n",
       "</div>\n",
       "      <button class=\"colab-df-convert\" onclick=\"convertToInteractive('df-5a5da238-0d5b-4be6-9c20-3d23bd846843')\"\n",
       "              title=\"Convert this dataframe to an interactive table.\"\n",
       "              style=\"display:none;\">\n",
       "        \n",
       "  <svg xmlns=\"http://www.w3.org/2000/svg\" height=\"24px\"viewBox=\"0 0 24 24\"\n",
       "       width=\"24px\">\n",
       "    <path d=\"M0 0h24v24H0V0z\" fill=\"none\"/>\n",
       "    <path d=\"M18.56 5.44l.94 2.06.94-2.06 2.06-.94-2.06-.94-.94-2.06-.94 2.06-2.06.94zm-11 1L8.5 8.5l.94-2.06 2.06-.94-2.06-.94L8.5 2.5l-.94 2.06-2.06.94zm10 10l.94 2.06.94-2.06 2.06-.94-2.06-.94-.94-2.06-.94 2.06-2.06.94z\"/><path d=\"M17.41 7.96l-1.37-1.37c-.4-.4-.92-.59-1.43-.59-.52 0-1.04.2-1.43.59L10.3 9.45l-7.72 7.72c-.78.78-.78 2.05 0 2.83L4 21.41c.39.39.9.59 1.41.59.51 0 1.02-.2 1.41-.59l7.78-7.78 2.81-2.81c.8-.78.8-2.07 0-2.86zM5.41 20L4 18.59l7.72-7.72 1.47 1.35L5.41 20z\"/>\n",
       "  </svg>\n",
       "      </button>\n",
       "      \n",
       "  <style>\n",
       "    .colab-df-container {\n",
       "      display:flex;\n",
       "      flex-wrap:wrap;\n",
       "      gap: 12px;\n",
       "    }\n",
       "\n",
       "    .colab-df-convert {\n",
       "      background-color: #E8F0FE;\n",
       "      border: none;\n",
       "      border-radius: 50%;\n",
       "      cursor: pointer;\n",
       "      display: none;\n",
       "      fill: #1967D2;\n",
       "      height: 32px;\n",
       "      padding: 0 0 0 0;\n",
       "      width: 32px;\n",
       "    }\n",
       "\n",
       "    .colab-df-convert:hover {\n",
       "      background-color: #E2EBFA;\n",
       "      box-shadow: 0px 1px 2px rgba(60, 64, 67, 0.3), 0px 1px 3px 1px rgba(60, 64, 67, 0.15);\n",
       "      fill: #174EA6;\n",
       "    }\n",
       "\n",
       "    [theme=dark] .colab-df-convert {\n",
       "      background-color: #3B4455;\n",
       "      fill: #D2E3FC;\n",
       "    }\n",
       "\n",
       "    [theme=dark] .colab-df-convert:hover {\n",
       "      background-color: #434B5C;\n",
       "      box-shadow: 0px 1px 3px 1px rgba(0, 0, 0, 0.15);\n",
       "      filter: drop-shadow(0px 1px 2px rgba(0, 0, 0, 0.3));\n",
       "      fill: #FFFFFF;\n",
       "    }\n",
       "  </style>\n",
       "\n",
       "      <script>\n",
       "        const buttonEl =\n",
       "          document.querySelector('#df-5a5da238-0d5b-4be6-9c20-3d23bd846843 button.colab-df-convert');\n",
       "        buttonEl.style.display =\n",
       "          google.colab.kernel.accessAllowed ? 'block' : 'none';\n",
       "\n",
       "        async function convertToInteractive(key) {\n",
       "          const element = document.querySelector('#df-5a5da238-0d5b-4be6-9c20-3d23bd846843');\n",
       "          const dataTable =\n",
       "            await google.colab.kernel.invokeFunction('convertToInteractive',\n",
       "                                                     [key], {});\n",
       "          if (!dataTable) return;\n",
       "\n",
       "          const docLinkHtml = 'Like what you see? Visit the ' +\n",
       "            '<a target=\"_blank\" href=https://colab.research.google.com/notebooks/data_table.ipynb>data table notebook</a>'\n",
       "            + ' to learn more about interactive tables.';\n",
       "          element.innerHTML = '';\n",
       "          dataTable['output_type'] = 'display_data';\n",
       "          await google.colab.output.renderOutput(dataTable, element);\n",
       "          const docLink = document.createElement('div');\n",
       "          docLink.innerHTML = docLinkHtml;\n",
       "          element.appendChild(docLink);\n",
       "        }\n",
       "      </script>\n",
       "    </div>\n",
       "  </div>\n",
       "  "
      ],
      "text/plain": [
       "                                                  제목         시작일       시설명\n",
       "1  Missed connections : 리차드 케네디 (Richard Kennedy)...  2020-02-19      조현화랑\n",
       "2                                       자화상ll - 나를보다  2020-02-20     시립미술관\n",
       "3                                          새로운 시의 시대  2020-02-20     시립미술관\n",
       "4                                   2020 아시아 국제도자교류전  2020-02-16     시립미술관\n",
       "5                         좌혜선 개인전 <971. 855.....500>  2020-02-07  오픈스페이스 배"
      ]
     },
     "execution_count": 36,
     "metadata": {},
     "output_type": "execute_result"
    }
   ],
   "source": [
    "busan_exhibition2.head()"
   ]
  },
  {
   "cell_type": "markdown",
   "metadata": {
    "id": "DQbs0oSED4qV"
   },
   "source": [
    "#### 2.2.3.2 열 속성 추가"
   ]
  },
  {
   "cell_type": "code",
   "execution_count": null,
   "metadata": {
    "id": "DR6zJOhGEA1O"
   },
   "outputs": [],
   "source": [
    "# 분류 속성 추가\n",
    "busan_play2['분류'] = '연극'\n",
    "busan_musical2['분류'] = '뮤지컬'\n",
    "busan_classic2['분류'] = '클래식'\n",
    "busan_exhibition2['분류'] = '전시'\n",
    "busan_concert2['분류'] = '콘서트'\n",
    "busan_dance2['분류'] = '무용'\n",
    "busan_opera2['분류'] = '오페라'"
   ]
  },
  {
   "cell_type": "code",
   "execution_count": null,
   "metadata": {
    "colab": {
     "base_uri": "https://localhost:8080/",
     "height": 676
    },
    "id": "Qwv8ufAIFW6A",
    "outputId": "1af41475-5b42-441f-8ea4-93a2070bacd0"
   },
   "outputs": [
    {
     "data": {
      "text/html": [
       "\n",
       "  <div id=\"df-57f49a14-0448-4e8e-8a6a-c1f3d60dde67\">\n",
       "    <div class=\"colab-df-container\">\n",
       "      <div>\n",
       "<style scoped>\n",
       "    .dataframe tbody tr th:only-of-type {\n",
       "        vertical-align: middle;\n",
       "    }\n",
       "\n",
       "    .dataframe tbody tr th {\n",
       "        vertical-align: top;\n",
       "    }\n",
       "\n",
       "    .dataframe thead th {\n",
       "        text-align: right;\n",
       "    }\n",
       "</style>\n",
       "<table border=\"1\" class=\"dataframe\">\n",
       "  <thead>\n",
       "    <tr style=\"text-align: right;\">\n",
       "      <th></th>\n",
       "      <th>제목</th>\n",
       "      <th>시작일</th>\n",
       "      <th>시설명</th>\n",
       "      <th>분류</th>\n",
       "    </tr>\n",
       "  </thead>\n",
       "  <tbody>\n",
       "    <tr>\n",
       "      <th>0</th>\n",
       "      <td>디에이드 전국투어콘서트 [부산]</td>\n",
       "      <td>2020-03-01</td>\n",
       "      <td>부산시민회관</td>\n",
       "      <td>콘서트</td>\n",
       "    </tr>\n",
       "    <tr>\n",
       "      <th>1</th>\n",
       "      <td>제141회 concert 재즈 와인에 빠지다</td>\n",
       "      <td>2020-02-28</td>\n",
       "      <td>해운대문화회관</td>\n",
       "      <td>콘서트</td>\n",
       "    </tr>\n",
       "    <tr>\n",
       "      <th>2</th>\n",
       "      <td>임한별 단독 부산 콘서트: Agit</td>\n",
       "      <td>2020-02-08</td>\n",
       "      <td>소향씨어터</td>\n",
       "      <td>콘서트</td>\n",
       "    </tr>\n",
       "    <tr>\n",
       "      <th>3</th>\n",
       "      <td>엠씨더맥스 데뷔 20주년 콘서트: CEREMONIA [부산]</td>\n",
       "      <td>2020-03-28</td>\n",
       "      <td>사직종합운동장</td>\n",
       "      <td>콘서트</td>\n",
       "    </tr>\n",
       "    <tr>\n",
       "      <th>4</th>\n",
       "      <td>발렌타인데이콘서트 with 웅산밴드 [부산]</td>\n",
       "      <td>2020-02-14</td>\n",
       "      <td>체스154</td>\n",
       "      <td>콘서트</td>\n",
       "    </tr>\n",
       "    <tr>\n",
       "      <th>5</th>\n",
       "      <td>적재 콘서트: 어떤 하루 [부산]</td>\n",
       "      <td>2020-02-15</td>\n",
       "      <td>(재)영화의전당</td>\n",
       "      <td>콘서트</td>\n",
       "    </tr>\n",
       "    <tr>\n",
       "      <th>6</th>\n",
       "      <td>잔나비 전국투어: NONSENSE Ⅱ [부산]</td>\n",
       "      <td>2020-03-14</td>\n",
       "      <td>벡스코 (BEXCO)</td>\n",
       "      <td>콘서트</td>\n",
       "    </tr>\n",
       "    <tr>\n",
       "      <th>7</th>\n",
       "      <td>Select shop concert: 십센치X데이브레이크 [부산]</td>\n",
       "      <td>2020-03-14</td>\n",
       "      <td>KBS홀 [부산]</td>\n",
       "      <td>콘서트</td>\n",
       "    </tr>\n",
       "    <tr>\n",
       "      <th>8</th>\n",
       "      <td>한낮의 유U;콘서트 (1월)</td>\n",
       "      <td>2020-01-21</td>\n",
       "      <td>(재)영화의전당</td>\n",
       "      <td>콘서트</td>\n",
       "    </tr>\n",
       "    <tr>\n",
       "      <th>9</th>\n",
       "      <td>설 명절 디너쇼</td>\n",
       "      <td>2020-01-26</td>\n",
       "      <td>롯데호텔 [부산]</td>\n",
       "      <td>콘서트</td>\n",
       "    </tr>\n",
       "    <tr>\n",
       "      <th>10</th>\n",
       "      <td>초록마술사의 쿡&amp;매직</td>\n",
       "      <td>2020-01-08</td>\n",
       "      <td>초록마술극장</td>\n",
       "      <td>콘서트</td>\n",
       "    </tr>\n",
       "    <tr>\n",
       "      <th>11</th>\n",
       "      <td>개그SHOW콘서트 [부산]</td>\n",
       "      <td>2020-02-02</td>\n",
       "      <td>KBS홀 [부산]</td>\n",
       "      <td>콘서트</td>\n",
       "    </tr>\n",
       "    <tr>\n",
       "      <th>12</th>\n",
       "      <td>김재환 단독 콘서트: illusion; 환상 [부산]</td>\n",
       "      <td>2020-02-01</td>\n",
       "      <td>벡스코 (BEXCO)</td>\n",
       "      <td>콘서트</td>\n",
       "    </tr>\n",
       "    <tr>\n",
       "      <th>13</th>\n",
       "      <td>버드리와 품바콘서트 [부산]</td>\n",
       "      <td>2020-02-14</td>\n",
       "      <td>KBS홀 [부산]</td>\n",
       "      <td>콘서트</td>\n",
       "    </tr>\n",
       "    <tr>\n",
       "      <th>14</th>\n",
       "      <td>케니 지 월드투어 발렌타인 콘서트 [부산]</td>\n",
       "      <td>2020-02-23</td>\n",
       "      <td>벡스코 (BEXCO)</td>\n",
       "      <td>콘서트</td>\n",
       "    </tr>\n",
       "    <tr>\n",
       "      <th>15</th>\n",
       "      <td>비프리, 제이통, 먼치맨 Live [부산]</td>\n",
       "      <td>2020-01-11</td>\n",
       "      <td>클럽 노드(NODE)</td>\n",
       "      <td>콘서트</td>\n",
       "    </tr>\n",
       "    <tr>\n",
       "      <th>16</th>\n",
       "      <td>당신이 바로 보이스퀸 전국투어 콘서트 [부산]</td>\n",
       "      <td>2020-02-15</td>\n",
       "      <td>벡스코 (BEXCO)</td>\n",
       "      <td>콘서트</td>\n",
       "    </tr>\n",
       "    <tr>\n",
       "      <th>17</th>\n",
       "      <td>최현우의 신년 Special Magic Show</td>\n",
       "      <td>2020-01-28</td>\n",
       "      <td>신세계 문화홀 [센텀시티]</td>\n",
       "      <td>콘서트</td>\n",
       "    </tr>\n",
       "    <tr>\n",
       "      <th>18</th>\n",
       "      <td>신년맞이콘서트 트롯트리오</td>\n",
       "      <td>2020-01-17</td>\n",
       "      <td>신세계 문화홀 [센텀시티]</td>\n",
       "      <td>콘서트</td>\n",
       "    </tr>\n",
       "    <tr>\n",
       "      <th>19</th>\n",
       "      <td>김필 콘서트: COLOURS [부산]</td>\n",
       "      <td>2020-02-08</td>\n",
       "      <td>부산문화회관</td>\n",
       "      <td>콘서트</td>\n",
       "    </tr>\n",
       "  </tbody>\n",
       "</table>\n",
       "</div>\n",
       "      <button class=\"colab-df-convert\" onclick=\"convertToInteractive('df-57f49a14-0448-4e8e-8a6a-c1f3d60dde67')\"\n",
       "              title=\"Convert this dataframe to an interactive table.\"\n",
       "              style=\"display:none;\">\n",
       "        \n",
       "  <svg xmlns=\"http://www.w3.org/2000/svg\" height=\"24px\"viewBox=\"0 0 24 24\"\n",
       "       width=\"24px\">\n",
       "    <path d=\"M0 0h24v24H0V0z\" fill=\"none\"/>\n",
       "    <path d=\"M18.56 5.44l.94 2.06.94-2.06 2.06-.94-2.06-.94-.94-2.06-.94 2.06-2.06.94zm-11 1L8.5 8.5l.94-2.06 2.06-.94-2.06-.94L8.5 2.5l-.94 2.06-2.06.94zm10 10l.94 2.06.94-2.06 2.06-.94-2.06-.94-.94-2.06-.94 2.06-2.06.94z\"/><path d=\"M17.41 7.96l-1.37-1.37c-.4-.4-.92-.59-1.43-.59-.52 0-1.04.2-1.43.59L10.3 9.45l-7.72 7.72c-.78.78-.78 2.05 0 2.83L4 21.41c.39.39.9.59 1.41.59.51 0 1.02-.2 1.41-.59l7.78-7.78 2.81-2.81c.8-.78.8-2.07 0-2.86zM5.41 20L4 18.59l7.72-7.72 1.47 1.35L5.41 20z\"/>\n",
       "  </svg>\n",
       "      </button>\n",
       "      \n",
       "  <style>\n",
       "    .colab-df-container {\n",
       "      display:flex;\n",
       "      flex-wrap:wrap;\n",
       "      gap: 12px;\n",
       "    }\n",
       "\n",
       "    .colab-df-convert {\n",
       "      background-color: #E8F0FE;\n",
       "      border: none;\n",
       "      border-radius: 50%;\n",
       "      cursor: pointer;\n",
       "      display: none;\n",
       "      fill: #1967D2;\n",
       "      height: 32px;\n",
       "      padding: 0 0 0 0;\n",
       "      width: 32px;\n",
       "    }\n",
       "\n",
       "    .colab-df-convert:hover {\n",
       "      background-color: #E2EBFA;\n",
       "      box-shadow: 0px 1px 2px rgba(60, 64, 67, 0.3), 0px 1px 3px 1px rgba(60, 64, 67, 0.15);\n",
       "      fill: #174EA6;\n",
       "    }\n",
       "\n",
       "    [theme=dark] .colab-df-convert {\n",
       "      background-color: #3B4455;\n",
       "      fill: #D2E3FC;\n",
       "    }\n",
       "\n",
       "    [theme=dark] .colab-df-convert:hover {\n",
       "      background-color: #434B5C;\n",
       "      box-shadow: 0px 1px 3px 1px rgba(0, 0, 0, 0.15);\n",
       "      filter: drop-shadow(0px 1px 2px rgba(0, 0, 0, 0.3));\n",
       "      fill: #FFFFFF;\n",
       "    }\n",
       "  </style>\n",
       "\n",
       "      <script>\n",
       "        const buttonEl =\n",
       "          document.querySelector('#df-57f49a14-0448-4e8e-8a6a-c1f3d60dde67 button.colab-df-convert');\n",
       "        buttonEl.style.display =\n",
       "          google.colab.kernel.accessAllowed ? 'block' : 'none';\n",
       "\n",
       "        async function convertToInteractive(key) {\n",
       "          const element = document.querySelector('#df-57f49a14-0448-4e8e-8a6a-c1f3d60dde67');\n",
       "          const dataTable =\n",
       "            await google.colab.kernel.invokeFunction('convertToInteractive',\n",
       "                                                     [key], {});\n",
       "          if (!dataTable) return;\n",
       "\n",
       "          const docLinkHtml = 'Like what you see? Visit the ' +\n",
       "            '<a target=\"_blank\" href=https://colab.research.google.com/notebooks/data_table.ipynb>data table notebook</a>'\n",
       "            + ' to learn more about interactive tables.';\n",
       "          element.innerHTML = '';\n",
       "          dataTable['output_type'] = 'display_data';\n",
       "          await google.colab.output.renderOutput(dataTable, element);\n",
       "          const docLink = document.createElement('div');\n",
       "          docLink.innerHTML = docLinkHtml;\n",
       "          element.appendChild(docLink);\n",
       "        }\n",
       "      </script>\n",
       "    </div>\n",
       "  </div>\n",
       "  "
      ],
      "text/plain": [
       "                                      제목         시작일             시설명   분류\n",
       "0                      디에이드 전국투어콘서트 [부산]  2020-03-01          부산시민회관  콘서트\n",
       "1               제141회 concert 재즈 와인에 빠지다  2020-02-28         해운대문화회관  콘서트\n",
       "2                    임한별 단독 부산 콘서트: Agit  2020-02-08           소향씨어터  콘서트\n",
       "3      엠씨더맥스 데뷔 20주년 콘서트: CEREMONIA [부산]  2020-03-28         사직종합운동장  콘서트\n",
       "4               발렌타인데이콘서트 with 웅산밴드 [부산]  2020-02-14           체스154  콘서트\n",
       "5                     적재 콘서트: 어떤 하루 [부산]  2020-02-15        (재)영화의전당  콘서트\n",
       "6              잔나비 전국투어: NONSENSE Ⅱ [부산]  2020-03-14     벡스코 (BEXCO)  콘서트\n",
       "7   Select shop concert: 십센치X데이브레이크 [부산]  2020-03-14       KBS홀 [부산]  콘서트\n",
       "8                        한낮의 유U;콘서트 (1월)  2020-01-21        (재)영화의전당  콘서트\n",
       "9                               설 명절 디너쇼  2020-01-26       롯데호텔 [부산]  콘서트\n",
       "10                           초록마술사의 쿡&매직  2020-01-08          초록마술극장  콘서트\n",
       "11                        개그SHOW콘서트 [부산]  2020-02-02       KBS홀 [부산]  콘서트\n",
       "12         김재환 단독 콘서트: illusion; 환상 [부산]  2020-02-01     벡스코 (BEXCO)  콘서트\n",
       "13                       버드리와 품바콘서트 [부산]  2020-02-14       KBS홀 [부산]  콘서트\n",
       "14               케니 지 월드투어 발렌타인 콘서트 [부산]  2020-02-23     벡스코 (BEXCO)  콘서트\n",
       "15               비프리, 제이통, 먼치맨 Live [부산]  2020-01-11     클럽 노드(NODE)  콘서트\n",
       "16             당신이 바로 보이스퀸 전국투어 콘서트 [부산]  2020-02-15     벡스코 (BEXCO)  콘서트\n",
       "17            최현우의 신년 Special Magic Show  2020-01-28  신세계 문화홀 [센텀시티]  콘서트\n",
       "18                         신년맞이콘서트 트롯트리오  2020-01-17  신세계 문화홀 [센텀시티]  콘서트\n",
       "19                  김필 콘서트: COLOURS [부산]  2020-02-08          부산문화회관  콘서트"
      ]
     },
     "execution_count": 38,
     "metadata": {},
     "output_type": "execute_result"
    }
   ],
   "source": [
    "busan_concert2.head(20)"
   ]
  },
  {
   "cell_type": "markdown",
   "metadata": {
    "id": "_gHcrxc2D7cS"
   },
   "source": [
    "#### 2.2.3.3 데이터 병합"
   ]
  },
  {
   "cell_type": "code",
   "execution_count": null,
   "metadata": {
    "colab": {
     "base_uri": "https://localhost:8080/"
    },
    "id": "rY14ob6mGb-V",
    "outputId": "131c4c35-f0fb-40c7-8b6a-bda3b95be407"
   },
   "outputs": [
    {
     "data": {
      "text/plain": [
       "5578"
      ]
     },
     "execution_count": 39,
     "metadata": {},
     "output_type": "execute_result"
    }
   ],
   "source": [
    "# 전체 데이터 수 확인\n",
    "busan_play2['분류'].value_counts().sum() + busan_musical2['분류'].value_counts().sum() + busan_classic2['분류'].value_counts().sum() + busan_exhibition2['분류'].value_counts().sum() + busan_concert2['분류'].value_counts().sum() + busan_dance2['분류'].value_counts().sum() + busan_opera2['분류'].value_counts().sum()"
   ]
  },
  {
   "cell_type": "code",
   "execution_count": null,
   "metadata": {
    "colab": {
     "base_uri": "https://localhost:8080/",
     "height": 423
    },
    "id": "1tqcVNip1YHx",
    "outputId": "28d27ddc-0783-4a36-9654-eb3b93b4d444"
   },
   "outputs": [
    {
     "data": {
      "text/html": [
       "\n",
       "  <div id=\"df-1560ad89-2bd5-42b5-92f3-78ba5ae404fa\">\n",
       "    <div class=\"colab-df-container\">\n",
       "      <div>\n",
       "<style scoped>\n",
       "    .dataframe tbody tr th:only-of-type {\n",
       "        vertical-align: middle;\n",
       "    }\n",
       "\n",
       "    .dataframe tbody tr th {\n",
       "        vertical-align: top;\n",
       "    }\n",
       "\n",
       "    .dataframe thead th {\n",
       "        text-align: right;\n",
       "    }\n",
       "</style>\n",
       "<table border=\"1\" class=\"dataframe\">\n",
       "  <thead>\n",
       "    <tr style=\"text-align: right;\">\n",
       "      <th></th>\n",
       "      <th>제목</th>\n",
       "      <th>시작일</th>\n",
       "      <th>시설명</th>\n",
       "      <th>분류</th>\n",
       "    </tr>\n",
       "  </thead>\n",
       "  <tbody>\n",
       "    <tr>\n",
       "      <th>0</th>\n",
       "      <td>옥탑방고양이 [부산]</td>\n",
       "      <td>2020-03-12</td>\n",
       "      <td>BNK부산은행 조은극장</td>\n",
       "      <td>연극</td>\n",
       "    </tr>\n",
       "    <tr>\n",
       "      <th>1</th>\n",
       "      <td>여자만세2 [부산]</td>\n",
       "      <td>2020-03-19</td>\n",
       "      <td>부산문화회관</td>\n",
       "      <td>연극</td>\n",
       "    </tr>\n",
       "    <tr>\n",
       "      <th>2</th>\n",
       "      <td>우리는 친구다 [부산]</td>\n",
       "      <td>2020-07-03</td>\n",
       "      <td>부산시민회관</td>\n",
       "      <td>연극</td>\n",
       "    </tr>\n",
       "    <tr>\n",
       "      <th>3</th>\n",
       "      <td>우당탕 과학 탐험대 [부산]</td>\n",
       "      <td>2020-01-30</td>\n",
       "      <td>해운대문화회관</td>\n",
       "      <td>연극</td>\n",
       "    </tr>\n",
       "    <tr>\n",
       "      <th>4</th>\n",
       "      <td>검정고무신 [부산]</td>\n",
       "      <td>2019-12-20</td>\n",
       "      <td>에저또소극장 [부산]</td>\n",
       "      <td>연극</td>\n",
       "    </tr>\n",
       "    <tr>\n",
       "      <th>...</th>\n",
       "      <td>...</td>\n",
       "      <td>...</td>\n",
       "      <td>...</td>\n",
       "      <td>...</td>\n",
       "    </tr>\n",
       "    <tr>\n",
       "      <th>5573</th>\n",
       "      <td>예술의 전당〈영상으로 만나는 ‘마술피리’〉</td>\n",
       "      <td>2022-11-16</td>\n",
       "      <td>영도문화예술회관</td>\n",
       "      <td>오페라</td>\n",
       "    </tr>\n",
       "    <tr>\n",
       "      <th>5574</th>\n",
       "      <td>키즈 오페라 콘서트 - 푸치니 나비부인</td>\n",
       "      <td>2022-11-19</td>\n",
       "      <td>청년창조발전소</td>\n",
       "      <td>오페라</td>\n",
       "    </tr>\n",
       "    <tr>\n",
       "      <th>5575</th>\n",
       "      <td>영화관에서즐기는 오페라동화애니메이션- 베르디 라트라비아타</td>\n",
       "      <td>2022-12-03</td>\n",
       "      <td>메가박스 장산</td>\n",
       "      <td>오페라</td>\n",
       "    </tr>\n",
       "    <tr>\n",
       "      <th>5576</th>\n",
       "      <td>라트라비아타</td>\n",
       "      <td>2022-12-11</td>\n",
       "      <td>영화의전당</td>\n",
       "      <td>오페라</td>\n",
       "    </tr>\n",
       "    <tr>\n",
       "      <th>5577</th>\n",
       "      <td>오페라 라트라비아타</td>\n",
       "      <td>2022-12-09</td>\n",
       "      <td>영화의전당</td>\n",
       "      <td>오페라</td>\n",
       "    </tr>\n",
       "  </tbody>\n",
       "</table>\n",
       "<p>5578 rows × 4 columns</p>\n",
       "</div>\n",
       "      <button class=\"colab-df-convert\" onclick=\"convertToInteractive('df-1560ad89-2bd5-42b5-92f3-78ba5ae404fa')\"\n",
       "              title=\"Convert this dataframe to an interactive table.\"\n",
       "              style=\"display:none;\">\n",
       "        \n",
       "  <svg xmlns=\"http://www.w3.org/2000/svg\" height=\"24px\"viewBox=\"0 0 24 24\"\n",
       "       width=\"24px\">\n",
       "    <path d=\"M0 0h24v24H0V0z\" fill=\"none\"/>\n",
       "    <path d=\"M18.56 5.44l.94 2.06.94-2.06 2.06-.94-2.06-.94-.94-2.06-.94 2.06-2.06.94zm-11 1L8.5 8.5l.94-2.06 2.06-.94-2.06-.94L8.5 2.5l-.94 2.06-2.06.94zm10 10l.94 2.06.94-2.06 2.06-.94-2.06-.94-.94-2.06-.94 2.06-2.06.94z\"/><path d=\"M17.41 7.96l-1.37-1.37c-.4-.4-.92-.59-1.43-.59-.52 0-1.04.2-1.43.59L10.3 9.45l-7.72 7.72c-.78.78-.78 2.05 0 2.83L4 21.41c.39.39.9.59 1.41.59.51 0 1.02-.2 1.41-.59l7.78-7.78 2.81-2.81c.8-.78.8-2.07 0-2.86zM5.41 20L4 18.59l7.72-7.72 1.47 1.35L5.41 20z\"/>\n",
       "  </svg>\n",
       "      </button>\n",
       "      \n",
       "  <style>\n",
       "    .colab-df-container {\n",
       "      display:flex;\n",
       "      flex-wrap:wrap;\n",
       "      gap: 12px;\n",
       "    }\n",
       "\n",
       "    .colab-df-convert {\n",
       "      background-color: #E8F0FE;\n",
       "      border: none;\n",
       "      border-radius: 50%;\n",
       "      cursor: pointer;\n",
       "      display: none;\n",
       "      fill: #1967D2;\n",
       "      height: 32px;\n",
       "      padding: 0 0 0 0;\n",
       "      width: 32px;\n",
       "    }\n",
       "\n",
       "    .colab-df-convert:hover {\n",
       "      background-color: #E2EBFA;\n",
       "      box-shadow: 0px 1px 2px rgba(60, 64, 67, 0.3), 0px 1px 3px 1px rgba(60, 64, 67, 0.15);\n",
       "      fill: #174EA6;\n",
       "    }\n",
       "\n",
       "    [theme=dark] .colab-df-convert {\n",
       "      background-color: #3B4455;\n",
       "      fill: #D2E3FC;\n",
       "    }\n",
       "\n",
       "    [theme=dark] .colab-df-convert:hover {\n",
       "      background-color: #434B5C;\n",
       "      box-shadow: 0px 1px 3px 1px rgba(0, 0, 0, 0.15);\n",
       "      filter: drop-shadow(0px 1px 2px rgba(0, 0, 0, 0.3));\n",
       "      fill: #FFFFFF;\n",
       "    }\n",
       "  </style>\n",
       "\n",
       "      <script>\n",
       "        const buttonEl =\n",
       "          document.querySelector('#df-1560ad89-2bd5-42b5-92f3-78ba5ae404fa button.colab-df-convert');\n",
       "        buttonEl.style.display =\n",
       "          google.colab.kernel.accessAllowed ? 'block' : 'none';\n",
       "\n",
       "        async function convertToInteractive(key) {\n",
       "          const element = document.querySelector('#df-1560ad89-2bd5-42b5-92f3-78ba5ae404fa');\n",
       "          const dataTable =\n",
       "            await google.colab.kernel.invokeFunction('convertToInteractive',\n",
       "                                                     [key], {});\n",
       "          if (!dataTable) return;\n",
       "\n",
       "          const docLinkHtml = 'Like what you see? Visit the ' +\n",
       "            '<a target=\"_blank\" href=https://colab.research.google.com/notebooks/data_table.ipynb>data table notebook</a>'\n",
       "            + ' to learn more about interactive tables.';\n",
       "          element.innerHTML = '';\n",
       "          dataTable['output_type'] = 'display_data';\n",
       "          await google.colab.output.renderOutput(dataTable, element);\n",
       "          const docLink = document.createElement('div');\n",
       "          docLink.innerHTML = docLinkHtml;\n",
       "          element.appendChild(docLink);\n",
       "        }\n",
       "      </script>\n",
       "    </div>\n",
       "  </div>\n",
       "  "
      ],
      "text/plain": [
       "                                   제목         시작일           시설명   분류\n",
       "0                         옥탑방고양이 [부산]  2020-03-12  BNK부산은행 조은극장   연극\n",
       "1                          여자만세2 [부산]  2020-03-19        부산문화회관   연극\n",
       "2                        우리는 친구다 [부산]  2020-07-03        부산시민회관   연극\n",
       "3                     우당탕 과학 탐험대 [부산]  2020-01-30       해운대문화회관   연극\n",
       "4                          검정고무신 [부산]  2019-12-20   에저또소극장 [부산]   연극\n",
       "...                               ...         ...           ...  ...\n",
       "5573          예술의 전당〈영상으로 만나는 ‘마술피리’〉  2022-11-16      영도문화예술회관  오페라\n",
       "5574            키즈 오페라 콘서트 - 푸치니 나비부인  2022-11-19       청년창조발전소  오페라\n",
       "5575  영화관에서즐기는 오페라동화애니메이션- 베르디 라트라비아타  2022-12-03       메가박스 장산  오페라\n",
       "5576                           라트라비아타  2022-12-11         영화의전당  오페라\n",
       "5577                       오페라 라트라비아타  2022-12-09         영화의전당  오페라\n",
       "\n",
       "[5578 rows x 4 columns]"
      ]
     },
     "execution_count": 40,
     "metadata": {},
     "output_type": "execute_result"
    }
   ],
   "source": [
    "busan = pd.concat([busan_play2, busan_musical2, busan_classic2, busan_exhibition2, busan_concert2, busan_dance2, busan_opera2]).copy().reset_index()\n",
    "busan = busan.drop(columns = 'index')\n",
    "busan"
   ]
  },
  {
   "cell_type": "code",
   "execution_count": null,
   "metadata": {
    "colab": {
     "base_uri": "https://localhost:8080/"
    },
    "id": "tM44BGh0Hd8k",
    "outputId": "afad4654-9380-4939-f3f0-e7a4af810b59"
   },
   "outputs": [
    {
     "data": {
      "text/plain": [
       "['무용', '뮤지컬', '연극', '오페라', '전시', '콘서트', '클래식']"
      ]
     },
     "execution_count": 41,
     "metadata": {},
     "output_type": "execute_result"
    }
   ],
   "source": [
    "sorted(list(set(busan['분류'])))"
   ]
  },
  {
   "cell_type": "code",
   "execution_count": null,
   "metadata": {
    "colab": {
     "base_uri": "https://localhost:8080/"
    },
    "id": "2qnFgmBAWVrk",
    "outputId": "e71bad3c-47e4-4bff-e611-a959db142604"
   },
   "outputs": [
    {
     "data": {
      "text/plain": [
       "분류\n",
       "무용      170\n",
       "뮤지컬     502\n",
       "연극      493\n",
       "오페라     116\n",
       "전시     1905\n",
       "콘서트     793\n",
       "클래식    1599\n",
       "Name: 제목, dtype: int64"
      ]
     },
     "execution_count": 42,
     "metadata": {},
     "output_type": "execute_result"
    }
   ],
   "source": [
    "busan.groupby(['분류']).count()['제목']"
   ]
  },
  {
   "cell_type": "markdown",
   "metadata": {
    "id": "rw4qisB5VjIc"
   },
   "source": [
    "### 2.2.4 월별 항목 추가"
   ]
  },
  {
   "cell_type": "code",
   "execution_count": null,
   "metadata": {
    "id": "In18HkqcWV17"
   },
   "outputs": [],
   "source": [
    "busan_month = busan.copy()\n",
    "busan_month['시작월'] = ''"
   ]
  },
  {
   "cell_type": "code",
   "execution_count": null,
   "metadata": {
    "id": "dTXfxYcQVud2"
   },
   "outputs": [],
   "source": [
    "# 연도 및 월 데이터 추출\n",
    "for i in range(len(busan)):\n",
    "  year = busan['시작일'][i].split('-')[0]\n",
    "  month = busan['시작일'][i].split('-')[1]\n",
    "  busan_month['시작월'][i] = year+'년'+month+'월'"
   ]
  },
  {
   "cell_type": "code",
   "execution_count": null,
   "metadata": {
    "colab": {
     "base_uri": "https://localhost:8080/",
     "height": 676
    },
    "id": "PO6OEnpaWnYV",
    "outputId": "a69f684d-fa0f-41d0-f82d-cf5117f37fbf"
   },
   "outputs": [
    {
     "data": {
      "text/html": [
       "\n",
       "  <div id=\"df-0818284d-9520-4164-ab51-0f69f62bc3ba\">\n",
       "    <div class=\"colab-df-container\">\n",
       "      <div>\n",
       "<style scoped>\n",
       "    .dataframe tbody tr th:only-of-type {\n",
       "        vertical-align: middle;\n",
       "    }\n",
       "\n",
       "    .dataframe tbody tr th {\n",
       "        vertical-align: top;\n",
       "    }\n",
       "\n",
       "    .dataframe thead th {\n",
       "        text-align: right;\n",
       "    }\n",
       "</style>\n",
       "<table border=\"1\" class=\"dataframe\">\n",
       "  <thead>\n",
       "    <tr style=\"text-align: right;\">\n",
       "      <th></th>\n",
       "      <th>제목</th>\n",
       "      <th>시작일</th>\n",
       "      <th>시설명</th>\n",
       "      <th>분류</th>\n",
       "      <th>시작월</th>\n",
       "    </tr>\n",
       "  </thead>\n",
       "  <tbody>\n",
       "    <tr>\n",
       "      <th>5558</th>\n",
       "      <td>베르디 오페라 AIDA 하이라이트</td>\n",
       "      <td>2022-09-01</td>\n",
       "      <td>영도문화예술회관</td>\n",
       "      <td>오페라</td>\n",
       "      <td>2022년09월</td>\n",
       "    </tr>\n",
       "    <tr>\n",
       "      <th>5559</th>\n",
       "      <td>유럽극장 주역가수들과 함께하는 모차르트 갈라 콘서트</td>\n",
       "      <td>2022-08-20</td>\n",
       "      <td>부산문화회관</td>\n",
       "      <td>오페라</td>\n",
       "      <td>2022년08월</td>\n",
       "    </tr>\n",
       "    <tr>\n",
       "      <th>5560</th>\n",
       "      <td>영화관에서즐기는오페라동화애니메이션 - 로시니 세비야의이발사</td>\n",
       "      <td>2022-10-01</td>\n",
       "      <td>메가박스 장산</td>\n",
       "      <td>오페라</td>\n",
       "      <td>2022년10월</td>\n",
       "    </tr>\n",
       "    <tr>\n",
       "      <th>5561</th>\n",
       "      <td>키즈 오페라 콘서트 - 바그너 라인의 황금</td>\n",
       "      <td>2022-09-17</td>\n",
       "      <td>청년창조발전소</td>\n",
       "      <td>오페라</td>\n",
       "      <td>2022년09월</td>\n",
       "    </tr>\n",
       "    <tr>\n",
       "      <th>5562</th>\n",
       "      <td>라 보엠</td>\n",
       "      <td>2022-10-01</td>\n",
       "      <td>부산문화회관</td>\n",
       "      <td>오페라</td>\n",
       "      <td>2022년10월</td>\n",
       "    </tr>\n",
       "    <tr>\n",
       "      <th>5563</th>\n",
       "      <td>오페라 손양원</td>\n",
       "      <td>2022-09-23</td>\n",
       "      <td>부전교회 이음홀</td>\n",
       "      <td>오페라</td>\n",
       "      <td>2022년09월</td>\n",
       "    </tr>\n",
       "    <tr>\n",
       "      <th>5564</th>\n",
       "      <td>모차르트의〈마술피리〉</td>\n",
       "      <td>2022-10-27</td>\n",
       "      <td>금정문화회관</td>\n",
       "      <td>오페라</td>\n",
       "      <td>2022년10월</td>\n",
       "    </tr>\n",
       "    <tr>\n",
       "      <th>5565</th>\n",
       "      <td>뻔하지 않고 대단히 Fun한 세계 오페라 아리아 페스티벌</td>\n",
       "      <td>2022-09-20</td>\n",
       "      <td>금정문화회관</td>\n",
       "      <td>오페라</td>\n",
       "      <td>2022년09월</td>\n",
       "    </tr>\n",
       "    <tr>\n",
       "      <th>5566</th>\n",
       "      <td>소호오페라 코리아 “피가로의 결혼”</td>\n",
       "      <td>2022-10-05</td>\n",
       "      <td>부산문화회관</td>\n",
       "      <td>오페라</td>\n",
       "      <td>2022년10월</td>\n",
       "    </tr>\n",
       "    <tr>\n",
       "      <th>5567</th>\n",
       "      <td>키즈 오페라 콘서트 - 푸치니 나비부인</td>\n",
       "      <td>2022-10-15</td>\n",
       "      <td>청년창조발전소</td>\n",
       "      <td>오페라</td>\n",
       "      <td>2022년10월</td>\n",
       "    </tr>\n",
       "    <tr>\n",
       "      <th>5568</th>\n",
       "      <td>콘서트 오페라〈라 트라비아타〉</td>\n",
       "      <td>2022-10-29</td>\n",
       "      <td>영화의전당</td>\n",
       "      <td>오페라</td>\n",
       "      <td>2022년10월</td>\n",
       "    </tr>\n",
       "    <tr>\n",
       "      <th>5569</th>\n",
       "      <td>모두를 위한 오페라〈La Traviata〉</td>\n",
       "      <td>2022-11-09</td>\n",
       "      <td>부산문화회관</td>\n",
       "      <td>오페라</td>\n",
       "      <td>2022년11월</td>\n",
       "    </tr>\n",
       "    <tr>\n",
       "      <th>5570</th>\n",
       "      <td>어린이 오페라〈세발리아의 이발사〉</td>\n",
       "      <td>2022-10-05</td>\n",
       "      <td>을숙도문화회관</td>\n",
       "      <td>오페라</td>\n",
       "      <td>2022년10월</td>\n",
       "    </tr>\n",
       "    <tr>\n",
       "      <th>5571</th>\n",
       "      <td>캐주얼오페라〈라트라비아타 2022〉</td>\n",
       "      <td>2022-10-20</td>\n",
       "      <td>어댑터플레이스</td>\n",
       "      <td>오페라</td>\n",
       "      <td>2022년10월</td>\n",
       "    </tr>\n",
       "    <tr>\n",
       "      <th>5572</th>\n",
       "      <td>베토벤 연가곡〈멀리 있는 연인에게〉</td>\n",
       "      <td>2022-11-11</td>\n",
       "      <td>해운대문화회관</td>\n",
       "      <td>오페라</td>\n",
       "      <td>2022년11월</td>\n",
       "    </tr>\n",
       "    <tr>\n",
       "      <th>5573</th>\n",
       "      <td>예술의 전당〈영상으로 만나는 ‘마술피리’〉</td>\n",
       "      <td>2022-11-16</td>\n",
       "      <td>영도문화예술회관</td>\n",
       "      <td>오페라</td>\n",
       "      <td>2022년11월</td>\n",
       "    </tr>\n",
       "    <tr>\n",
       "      <th>5574</th>\n",
       "      <td>키즈 오페라 콘서트 - 푸치니 나비부인</td>\n",
       "      <td>2022-11-19</td>\n",
       "      <td>청년창조발전소</td>\n",
       "      <td>오페라</td>\n",
       "      <td>2022년11월</td>\n",
       "    </tr>\n",
       "    <tr>\n",
       "      <th>5575</th>\n",
       "      <td>영화관에서즐기는 오페라동화애니메이션- 베르디 라트라비아타</td>\n",
       "      <td>2022-12-03</td>\n",
       "      <td>메가박스 장산</td>\n",
       "      <td>오페라</td>\n",
       "      <td>2022년12월</td>\n",
       "    </tr>\n",
       "    <tr>\n",
       "      <th>5576</th>\n",
       "      <td>라트라비아타</td>\n",
       "      <td>2022-12-11</td>\n",
       "      <td>영화의전당</td>\n",
       "      <td>오페라</td>\n",
       "      <td>2022년12월</td>\n",
       "    </tr>\n",
       "    <tr>\n",
       "      <th>5577</th>\n",
       "      <td>오페라 라트라비아타</td>\n",
       "      <td>2022-12-09</td>\n",
       "      <td>영화의전당</td>\n",
       "      <td>오페라</td>\n",
       "      <td>2022년12월</td>\n",
       "    </tr>\n",
       "  </tbody>\n",
       "</table>\n",
       "</div>\n",
       "      <button class=\"colab-df-convert\" onclick=\"convertToInteractive('df-0818284d-9520-4164-ab51-0f69f62bc3ba')\"\n",
       "              title=\"Convert this dataframe to an interactive table.\"\n",
       "              style=\"display:none;\">\n",
       "        \n",
       "  <svg xmlns=\"http://www.w3.org/2000/svg\" height=\"24px\"viewBox=\"0 0 24 24\"\n",
       "       width=\"24px\">\n",
       "    <path d=\"M0 0h24v24H0V0z\" fill=\"none\"/>\n",
       "    <path d=\"M18.56 5.44l.94 2.06.94-2.06 2.06-.94-2.06-.94-.94-2.06-.94 2.06-2.06.94zm-11 1L8.5 8.5l.94-2.06 2.06-.94-2.06-.94L8.5 2.5l-.94 2.06-2.06.94zm10 10l.94 2.06.94-2.06 2.06-.94-2.06-.94-.94-2.06-.94 2.06-2.06.94z\"/><path d=\"M17.41 7.96l-1.37-1.37c-.4-.4-.92-.59-1.43-.59-.52 0-1.04.2-1.43.59L10.3 9.45l-7.72 7.72c-.78.78-.78 2.05 0 2.83L4 21.41c.39.39.9.59 1.41.59.51 0 1.02-.2 1.41-.59l7.78-7.78 2.81-2.81c.8-.78.8-2.07 0-2.86zM5.41 20L4 18.59l7.72-7.72 1.47 1.35L5.41 20z\"/>\n",
       "  </svg>\n",
       "      </button>\n",
       "      \n",
       "  <style>\n",
       "    .colab-df-container {\n",
       "      display:flex;\n",
       "      flex-wrap:wrap;\n",
       "      gap: 12px;\n",
       "    }\n",
       "\n",
       "    .colab-df-convert {\n",
       "      background-color: #E8F0FE;\n",
       "      border: none;\n",
       "      border-radius: 50%;\n",
       "      cursor: pointer;\n",
       "      display: none;\n",
       "      fill: #1967D2;\n",
       "      height: 32px;\n",
       "      padding: 0 0 0 0;\n",
       "      width: 32px;\n",
       "    }\n",
       "\n",
       "    .colab-df-convert:hover {\n",
       "      background-color: #E2EBFA;\n",
       "      box-shadow: 0px 1px 2px rgba(60, 64, 67, 0.3), 0px 1px 3px 1px rgba(60, 64, 67, 0.15);\n",
       "      fill: #174EA6;\n",
       "    }\n",
       "\n",
       "    [theme=dark] .colab-df-convert {\n",
       "      background-color: #3B4455;\n",
       "      fill: #D2E3FC;\n",
       "    }\n",
       "\n",
       "    [theme=dark] .colab-df-convert:hover {\n",
       "      background-color: #434B5C;\n",
       "      box-shadow: 0px 1px 3px 1px rgba(0, 0, 0, 0.15);\n",
       "      filter: drop-shadow(0px 1px 2px rgba(0, 0, 0, 0.3));\n",
       "      fill: #FFFFFF;\n",
       "    }\n",
       "  </style>\n",
       "\n",
       "      <script>\n",
       "        const buttonEl =\n",
       "          document.querySelector('#df-0818284d-9520-4164-ab51-0f69f62bc3ba button.colab-df-convert');\n",
       "        buttonEl.style.display =\n",
       "          google.colab.kernel.accessAllowed ? 'block' : 'none';\n",
       "\n",
       "        async function convertToInteractive(key) {\n",
       "          const element = document.querySelector('#df-0818284d-9520-4164-ab51-0f69f62bc3ba');\n",
       "          const dataTable =\n",
       "            await google.colab.kernel.invokeFunction('convertToInteractive',\n",
       "                                                     [key], {});\n",
       "          if (!dataTable) return;\n",
       "\n",
       "          const docLinkHtml = 'Like what you see? Visit the ' +\n",
       "            '<a target=\"_blank\" href=https://colab.research.google.com/notebooks/data_table.ipynb>data table notebook</a>'\n",
       "            + ' to learn more about interactive tables.';\n",
       "          element.innerHTML = '';\n",
       "          dataTable['output_type'] = 'display_data';\n",
       "          await google.colab.output.renderOutput(dataTable, element);\n",
       "          const docLink = document.createElement('div');\n",
       "          docLink.innerHTML = docLinkHtml;\n",
       "          element.appendChild(docLink);\n",
       "        }\n",
       "      </script>\n",
       "    </div>\n",
       "  </div>\n",
       "  "
      ],
      "text/plain": [
       "                                    제목         시작일       시설명   분류       시작월\n",
       "5558                베르디 오페라 AIDA 하이라이트  2022-09-01  영도문화예술회관  오페라  2022년09월\n",
       "5559      유럽극장 주역가수들과 함께하는 모차르트 갈라 콘서트  2022-08-20    부산문화회관  오페라  2022년08월\n",
       "5560  영화관에서즐기는오페라동화애니메이션 - 로시니 세비야의이발사  2022-10-01   메가박스 장산  오페라  2022년10월\n",
       "5561           키즈 오페라 콘서트 - 바그너 라인의 황금  2022-09-17   청년창조발전소  오페라  2022년09월\n",
       "5562                              라 보엠  2022-10-01    부산문화회관  오페라  2022년10월\n",
       "5563                           오페라 손양원  2022-09-23  부전교회 이음홀  오페라  2022년09월\n",
       "5564                       모차르트의〈마술피리〉  2022-10-27    금정문화회관  오페라  2022년10월\n",
       "5565   뻔하지 않고 대단히 Fun한 세계 오페라 아리아 페스티벌  2022-09-20    금정문화회관  오페라  2022년09월\n",
       "5566               소호오페라 코리아 “피가로의 결혼”  2022-10-05    부산문화회관  오페라  2022년10월\n",
       "5567             키즈 오페라 콘서트 - 푸치니 나비부인  2022-10-15   청년창조발전소  오페라  2022년10월\n",
       "5568                  콘서트 오페라〈라 트라비아타〉  2022-10-29     영화의전당  오페라  2022년10월\n",
       "5569           모두를 위한 오페라〈La Traviata〉  2022-11-09    부산문화회관  오페라  2022년11월\n",
       "5570                어린이 오페라〈세발리아의 이발사〉  2022-10-05   을숙도문화회관  오페라  2022년10월\n",
       "5571               캐주얼오페라〈라트라비아타 2022〉  2022-10-20   어댑터플레이스  오페라  2022년10월\n",
       "5572               베토벤 연가곡〈멀리 있는 연인에게〉  2022-11-11   해운대문화회관  오페라  2022년11월\n",
       "5573           예술의 전당〈영상으로 만나는 ‘마술피리’〉  2022-11-16  영도문화예술회관  오페라  2022년11월\n",
       "5574             키즈 오페라 콘서트 - 푸치니 나비부인  2022-11-19   청년창조발전소  오페라  2022년11월\n",
       "5575   영화관에서즐기는 오페라동화애니메이션- 베르디 라트라비아타  2022-12-03   메가박스 장산  오페라  2022년12월\n",
       "5576                            라트라비아타  2022-12-11     영화의전당  오페라  2022년12월\n",
       "5577                        오페라 라트라비아타  2022-12-09     영화의전당  오페라  2022년12월"
      ]
     },
     "execution_count": 45,
     "metadata": {},
     "output_type": "execute_result"
    }
   ],
   "source": [
    "busan_month.tail(20)"
   ]
  },
  {
   "cell_type": "markdown",
   "metadata": {
    "id": "CV5zwQavTVU4"
   },
   "source": [
    "## 2.3 데이터 시각화"
   ]
  },
  {
   "cell_type": "markdown",
   "metadata": {
    "id": "5bs_2EzkTbbX"
   },
   "source": [
    "### 2.3.1 연도별 공연/행사 수 시각화"
   ]
  },
  {
   "cell_type": "code",
   "execution_count": null,
   "metadata": {
    "id": "IcnR_dtyTaDc"
   },
   "outputs": [],
   "source": [
    "# 연도별로 추출한 후, 월별로 분류 데이터 수 계산\n",
    "busan_2019 = busan_month[busan_month['시작월'].str.startswith('2019')].copy().groupby(['시작월']).count()['분류']\n",
    "busan_2020 = busan_month[busan_month['시작월'].str.startswith('2020')].copy().groupby(['시작월']).count()['분류']\n",
    "busan_2021 = busan_month[busan_month['시작월'].str.startswith('2021')].copy().groupby(['시작월']).count()['분류']\n",
    "busan_2022 = busan_month[busan_month['시작월'].str.startswith('2022')].copy().groupby(['시작월']).count()['분류']"
   ]
  },
  {
   "cell_type": "code",
   "execution_count": null,
   "metadata": {
    "colab": {
     "base_uri": "https://localhost:8080/"
    },
    "id": "LPom0aNBvmdz",
    "outputId": "acb0c30b-8e13-4f6c-db8f-530938295acf"
   },
   "outputs": [
    {
     "name": "stdout",
     "output_type": "stream",
     "text": [
      "637\n",
      "495\n",
      "1919\n",
      "2527\n"
     ]
    }
   ],
   "source": [
    "print(busan_2019.sum())\n",
    "print(busan_2020.sum())\n",
    "print(busan_2021.sum())\n",
    "print(busan_2022.sum())"
   ]
  },
  {
   "cell_type": "code",
   "execution_count": null,
   "metadata": {
    "id": "dl9mURJkVZdh"
   },
   "outputs": [],
   "source": [
    "busan_month_1 = busan_month.groupby(['시작월']).count()['분류']"
   ]
  },
  {
   "cell_type": "code",
   "execution_count": null,
   "metadata": {
    "colab": {
     "base_uri": "https://localhost:8080/",
     "height": 1000
    },
    "id": "BVMmv8dta_aR",
    "outputId": "afa0ffaf-105c-4006-c201-4b1d7559f5bb"
   },
   "outputs": [
    {
     "data": {
      "image/png": "[encoded data removed]",
      "text/plain": [
       "<Figure size 1080x360 with 1 Axes>"
      ]
     },
     "metadata": {},
     "output_type": "display_data"
    },
    {
     "data": {
      "image/png": "[encoded data removed]",
      "text/plain": [
       "<Figure size 720x720 with 4 Axes>"
      ]
     },
     "metadata": {},
     "output_type": "display_data"
    }
   ],
   "source": [
    "# 월별 공연/행사 수 변화 시각화\n",
    "\n",
    "plt.rc('font', family=\"NanumBarunGothic\")\n",
    "plt.rcParams['axes.unicode_minus'] = False\n",
    "\n",
    "plt.figure(figsize=(15, 5))\n",
    "busan_month_1.plot(kind='bar')\n",
    "plt.show()\n",
    "\n",
    "plt.figure(figsize=(10, 10))\n",
    "plt.subplot(2, 2, 1)\n",
    "busan_2019.plot(kind='bar', color='firebrick')\n",
    "plt.title('2019년')\n",
    "plt.ylim([0, 300])\n",
    "\n",
    "plt.subplot(2, 2, 2)\n",
    "busan_2020.plot(kind='bar', color='darkorange')\n",
    "plt.title('2020년')\n",
    "plt.ylim([0, 300])\n",
    "\n",
    "plt.subplot(2, 2, 3)\n",
    "busan_2021.plot(kind='bar', color='forestgreen')\n",
    "plt.title('2021년')\n",
    "plt.ylim([0, 300])\n",
    "\n",
    "plt.subplot(2, 2, 4)\n",
    "busan_2022.plot(kind='bar', color='royalblue')\n",
    "plt.title('2022년')\n",
    "plt.ylim([0, 300])\n",
    "\n",
    "plt.tight_layout()\n",
    "plt.show()"
   ]
  },
  {
   "cell_type": "markdown",
   "metadata": {
    "id": "TADvumHVvhpP"
   },
   "source": [
    "2022년 11월 9일을 기준으로 데이터를 받아 2022년 11월 및 12월 데이터가 전부 입력되어 있지 않을 수 있어 분석이 이후의 데이터와 차이가 있을 수 있습니다.\n",
    "\n",
    "\n",
    "\n",
    "**추론**\n",
    "\n",
    "*   금년도를 제외하고 공연/행사가 12월에 제일 많습니다.\n",
    "*   연초에 공연/행사의 수가 적은 것을 확인할 수 있습니다.\n",
    "*   2019년은 코로나-19 바이러스가 확산전이지만 공연/행사의 수가 상대적으로 적은 것을 확인할 수 있습니다.\n",
    "*   집합금지 명령이 시행된 2020년 4월에 공연/행사의 수가 현저히 적은 것을 확인할 수 있습니다.\n",
    "\n",
    "\n"
   ]
  },
  {
   "cell_type": "markdown",
   "metadata": {
    "id": "6tTV6Bvy0OP5"
   },
   "source": [
    "### 2.3.2 분류 및 연도별 문화행사 수 시각화"
   ]
  },
  {
   "cell_type": "markdown",
   "metadata": {
    "id": "zX26zitSDK82"
   },
   "source": [
    "#### 2.3.2.1 연도별로 분류에 따라 분리"
   ]
  },
  {
   "cell_type": "code",
   "execution_count": null,
   "metadata": {
    "id": "lv_QE0JqJibj"
   },
   "outputs": [],
   "source": [
    "# 연도별로 분류에 따라 분리\n",
    "def classification(year):\n",
    "  temp = busan_month[busan_month['시작월'].str.startswith(year)].groupby(['시작월'])['분류'].value_counts()\n",
    "  return temp"
   ]
  },
  {
   "cell_type": "code",
   "execution_count": null,
   "metadata": {
    "colab": {
     "base_uri": "https://localhost:8080/"
    },
    "id": "QJx57yFg1DpK",
    "outputId": "2f56b473-21bc-4034-eaa6-7b55c87fa582"
   },
   "outputs": [
    {
     "name": "stdout",
     "output_type": "stream",
     "text": [
      "분류         뮤지컬    연극   전시   콘서트   클래식\n",
      "시작월                                  \n",
      "2019년01월   7.0   2.0  NaN   1.0   2.0\n",
      "2019년02월   4.0   4.0  NaN   2.0   2.0\n",
      "2019년03월   5.0  12.0  NaN   4.0   4.0\n",
      "2019년04월  11.0   3.0  NaN   6.0   8.0\n",
      "2019년05월  12.0   5.0  NaN   5.0   7.0\n",
      "2019년06월  15.0   8.0  NaN  13.0  13.0\n",
      "2019년07월  14.0  12.0  NaN  16.0  14.0\n",
      "2019년08월  15.0  14.0  NaN  27.0  24.0\n",
      "2019년09월   9.0   9.0  NaN  15.0  28.0\n",
      "2019년10월  15.0  16.0  NaN  20.0  22.0\n",
      "2019년11월  18.0  18.0  NaN  30.0  19.0\n",
      "2019년12월  30.0  15.0  2.0  50.0  30.0\n",
      "분류         무용   뮤지컬    연극  오페라    전시   콘서트   클래식\n",
      "시작월                                             \n",
      "2020년01월  NaN  13.0   4.0  NaN   4.0  12.0   8.0\n",
      "2020년02월  NaN  15.0   2.0  NaN  10.0  14.0  10.0\n",
      "2020년03월  NaN   9.0   4.0  NaN   3.0   7.0   3.0\n",
      "2020년04월  NaN   6.0   2.0  NaN   1.0   NaN   1.0\n",
      "2020년05월  1.0   4.0   4.0  NaN   3.0   5.0   4.0\n",
      "2020년06월  5.0   3.0   2.0  NaN   2.0   5.0   9.0\n",
      "2020년07월  8.0   5.0  11.0  2.0   9.0   6.0  12.0\n",
      "2020년08월  3.0   5.0   6.0  2.0   5.0   6.0   8.0\n",
      "2020년09월  NaN   4.0   4.0  NaN  10.0   5.0   9.0\n",
      "2020년10월  NaN   3.0   2.0  3.0  10.0   6.0  12.0\n",
      "2020년11월  5.0   7.0   6.0  1.0  13.0  12.0  15.0\n",
      "2020년12월  5.0   9.0   2.0  5.0  46.0  18.0  20.0\n",
      "분류         무용   뮤지컬    연극  오페라     전시   콘서트   클래식\n",
      "시작월                                              \n",
      "2021년01월  1.0   1.0   3.0  NaN   28.0   2.0  14.0\n",
      "2021년02월  2.0   3.0   5.0  NaN   39.0   1.0  24.0\n",
      "2021년03월  1.0   3.0   3.0  1.0   54.0   6.0  31.0\n",
      "2021년04월  3.0   3.0  10.0  NaN   63.0  12.0  33.0\n",
      "2021년05월  4.0  12.0   7.0  1.0   70.0  17.0  55.0\n",
      "2021년06월  7.0   7.0  11.0  3.0   61.0  11.0  42.0\n",
      "2021년07월  8.0   8.0  17.0  8.0   54.0  17.0  40.0\n",
      "2021년08월  8.0   6.0  10.0  3.0   80.0  16.0  40.0\n",
      "2021년09월  9.0  11.0  17.0  2.0   72.0  10.0  55.0\n",
      "2021년10월  9.0  10.0  17.0  7.0  102.0  23.0  69.0\n",
      "2021년11월  6.0  12.0  23.0  5.0  110.0  27.0  79.0\n",
      "2021년12월  8.0  19.0  14.0  8.0   97.0  39.0  90.0\n",
      "분류          무용   뮤지컬    연극   오페라     전시   콘서트   클래식\n",
      "시작월                                                \n",
      "2022년01월   NaN  11.0   5.0   NaN   60.0   5.0  34.0\n",
      "2022년02월   4.0  11.0   7.0   2.0   65.0  11.0  42.0\n",
      "2022년03월   5.0  13.0  15.0   2.0   76.0  14.0  44.0\n",
      "2022년04월   3.0  15.0  17.0   3.0   97.0  12.0  74.0\n",
      "2022년05월   5.0  17.0  17.0   5.0  105.0  32.0  69.0\n",
      "2022년06월   5.0  10.0  22.0  11.0   87.0  22.0  74.0\n",
      "2022년07월  17.0  17.0  22.0  15.0  102.0  39.0  78.0\n",
      "2022년08월   7.0  12.0  19.0   7.0   99.0  54.0  66.0\n",
      "2022년09월   9.0  15.0  19.0   4.0  105.0  23.0  89.0\n",
      "2022년10월  11.0  18.0  14.0   9.0  113.0  44.0  78.0\n",
      "2022년11월  10.0  16.0  29.0   4.0   47.0  44.0  78.0\n",
      "2022년12월   1.0  14.0   3.0   3.0    1.0  27.0  17.0\n"
     ]
    }
   ],
   "source": [
    "# groupby 해체 \n",
    "busan_2019_class = classification('2019').unstack()\n",
    "busan_2020_class = classification('2020').unstack()\n",
    "busan_2021_class = classification('2021').unstack()\n",
    "busan_2022_class = classification('2022').unstack()\n",
    "\n",
    "print(busan_2019_class)\n",
    "print(busan_2020_class)\n",
    "print(busan_2021_class)\n",
    "print(busan_2022_class)"
   ]
  },
  {
   "cell_type": "markdown",
   "metadata": {
    "id": "LJpTLq1pDTV3"
   },
   "source": [
    "#### 2.3.2.2 NaN값 및 Index 채우기"
   ]
  },
  {
   "cell_type": "code",
   "execution_count": null,
   "metadata": {
    "id": "AwWQ12cG7XxQ"
   },
   "outputs": [],
   "source": [
    "# Null 값 0으로 채우기\n",
    "busan_2019_class = busan_2019_class.fillna(0.0)\n",
    "busan_2020_class = busan_2020_class.fillna(0.0)\n",
    "busan_2021_class = busan_2021_class.fillna(0.0)\n",
    "busan_2022_class = busan_2022_class.fillna(0.0)"
   ]
  },
  {
   "cell_type": "code",
   "execution_count": null,
   "metadata": {
    "colab": {
     "base_uri": "https://localhost:8080/",
     "height": 457
    },
    "id": "yD5Gk9HADkUw",
    "outputId": "0e99c3f9-66f6-43fa-b633-f3afc86dd7de"
   },
   "outputs": [
    {
     "data": {
      "text/html": [
       "\n",
       "  <div id=\"df-e5c6d650-856b-4d37-93fb-86fadfff661d\">\n",
       "    <div class=\"colab-df-container\">\n",
       "      <div>\n",
       "<style scoped>\n",
       "    .dataframe tbody tr th:only-of-type {\n",
       "        vertical-align: middle;\n",
       "    }\n",
       "\n",
       "    .dataframe tbody tr th {\n",
       "        vertical-align: top;\n",
       "    }\n",
       "\n",
       "    .dataframe thead th {\n",
       "        text-align: right;\n",
       "    }\n",
       "</style>\n",
       "<table border=\"1\" class=\"dataframe\">\n",
       "  <thead>\n",
       "    <tr style=\"text-align: right;\">\n",
       "      <th>분류</th>\n",
       "      <th>뮤지컬</th>\n",
       "      <th>연극</th>\n",
       "      <th>전시</th>\n",
       "      <th>콘서트</th>\n",
       "      <th>클래식</th>\n",
       "    </tr>\n",
       "    <tr>\n",
       "      <th>시작월</th>\n",
       "      <th></th>\n",
       "      <th></th>\n",
       "      <th></th>\n",
       "      <th></th>\n",
       "      <th></th>\n",
       "    </tr>\n",
       "  </thead>\n",
       "  <tbody>\n",
       "    <tr>\n",
       "      <th>2019년01월</th>\n",
       "      <td>7.0</td>\n",
       "      <td>2.0</td>\n",
       "      <td>0.0</td>\n",
       "      <td>1.0</td>\n",
       "      <td>2.0</td>\n",
       "    </tr>\n",
       "    <tr>\n",
       "      <th>2019년02월</th>\n",
       "      <td>4.0</td>\n",
       "      <td>4.0</td>\n",
       "      <td>0.0</td>\n",
       "      <td>2.0</td>\n",
       "      <td>2.0</td>\n",
       "    </tr>\n",
       "    <tr>\n",
       "      <th>2019년03월</th>\n",
       "      <td>5.0</td>\n",
       "      <td>12.0</td>\n",
       "      <td>0.0</td>\n",
       "      <td>4.0</td>\n",
       "      <td>4.0</td>\n",
       "    </tr>\n",
       "    <tr>\n",
       "      <th>2019년04월</th>\n",
       "      <td>11.0</td>\n",
       "      <td>3.0</td>\n",
       "      <td>0.0</td>\n",
       "      <td>6.0</td>\n",
       "      <td>8.0</td>\n",
       "    </tr>\n",
       "    <tr>\n",
       "      <th>2019년05월</th>\n",
       "      <td>12.0</td>\n",
       "      <td>5.0</td>\n",
       "      <td>0.0</td>\n",
       "      <td>5.0</td>\n",
       "      <td>7.0</td>\n",
       "    </tr>\n",
       "    <tr>\n",
       "      <th>2019년06월</th>\n",
       "      <td>15.0</td>\n",
       "      <td>8.0</td>\n",
       "      <td>0.0</td>\n",
       "      <td>13.0</td>\n",
       "      <td>13.0</td>\n",
       "    </tr>\n",
       "    <tr>\n",
       "      <th>2019년07월</th>\n",
       "      <td>14.0</td>\n",
       "      <td>12.0</td>\n",
       "      <td>0.0</td>\n",
       "      <td>16.0</td>\n",
       "      <td>14.0</td>\n",
       "    </tr>\n",
       "    <tr>\n",
       "      <th>2019년08월</th>\n",
       "      <td>15.0</td>\n",
       "      <td>14.0</td>\n",
       "      <td>0.0</td>\n",
       "      <td>27.0</td>\n",
       "      <td>24.0</td>\n",
       "    </tr>\n",
       "    <tr>\n",
       "      <th>2019년09월</th>\n",
       "      <td>9.0</td>\n",
       "      <td>9.0</td>\n",
       "      <td>0.0</td>\n",
       "      <td>15.0</td>\n",
       "      <td>28.0</td>\n",
       "    </tr>\n",
       "    <tr>\n",
       "      <th>2019년10월</th>\n",
       "      <td>15.0</td>\n",
       "      <td>16.0</td>\n",
       "      <td>0.0</td>\n",
       "      <td>20.0</td>\n",
       "      <td>22.0</td>\n",
       "    </tr>\n",
       "    <tr>\n",
       "      <th>2019년11월</th>\n",
       "      <td>18.0</td>\n",
       "      <td>18.0</td>\n",
       "      <td>0.0</td>\n",
       "      <td>30.0</td>\n",
       "      <td>19.0</td>\n",
       "    </tr>\n",
       "    <tr>\n",
       "      <th>2019년12월</th>\n",
       "      <td>30.0</td>\n",
       "      <td>15.0</td>\n",
       "      <td>2.0</td>\n",
       "      <td>50.0</td>\n",
       "      <td>30.0</td>\n",
       "    </tr>\n",
       "  </tbody>\n",
       "</table>\n",
       "</div>\n",
       "      <button class=\"colab-df-convert\" onclick=\"convertToInteractive('df-e5c6d650-856b-4d37-93fb-86fadfff661d')\"\n",
       "              title=\"Convert this dataframe to an interactive table.\"\n",
       "              style=\"display:none;\">\n",
       "        \n",
       "  <svg xmlns=\"http://www.w3.org/2000/svg\" height=\"24px\"viewBox=\"0 0 24 24\"\n",
       "       width=\"24px\">\n",
       "    <path d=\"M0 0h24v24H0V0z\" fill=\"none\"/>\n",
       "    <path d=\"M18.56 5.44l.94 2.06.94-2.06 2.06-.94-2.06-.94-.94-2.06-.94 2.06-2.06.94zm-11 1L8.5 8.5l.94-2.06 2.06-.94-2.06-.94L8.5 2.5l-.94 2.06-2.06.94zm10 10l.94 2.06.94-2.06 2.06-.94-2.06-.94-.94-2.06-.94 2.06-2.06.94z\"/><path d=\"M17.41 7.96l-1.37-1.37c-.4-.4-.92-.59-1.43-.59-.52 0-1.04.2-1.43.59L10.3 9.45l-7.72 7.72c-.78.78-.78 2.05 0 2.83L4 21.41c.39.39.9.59 1.41.59.51 0 1.02-.2 1.41-.59l7.78-7.78 2.81-2.81c.8-.78.8-2.07 0-2.86zM5.41 20L4 18.59l7.72-7.72 1.47 1.35L5.41 20z\"/>\n",
       "  </svg>\n",
       "      </button>\n",
       "      \n",
       "  <style>\n",
       "    .colab-df-container {\n",
       "      display:flex;\n",
       "      flex-wrap:wrap;\n",
       "      gap: 12px;\n",
       "    }\n",
       "\n",
       "    .colab-df-convert {\n",
       "      background-color: #E8F0FE;\n",
       "      border: none;\n",
       "      border-radius: 50%;\n",
       "      cursor: pointer;\n",
       "      display: none;\n",
       "      fill: #1967D2;\n",
       "      height: 32px;\n",
       "      padding: 0 0 0 0;\n",
       "      width: 32px;\n",
       "    }\n",
       "\n",
       "    .colab-df-convert:hover {\n",
       "      background-color: #E2EBFA;\n",
       "      box-shadow: 0px 1px 2px rgba(60, 64, 67, 0.3), 0px 1px 3px 1px rgba(60, 64, 67, 0.15);\n",
       "      fill: #174EA6;\n",
       "    }\n",
       "\n",
       "    [theme=dark] .colab-df-convert {\n",
       "      background-color: #3B4455;\n",
       "      fill: #D2E3FC;\n",
       "    }\n",
       "\n",
       "    [theme=dark] .colab-df-convert:hover {\n",
       "      background-color: #434B5C;\n",
       "      box-shadow: 0px 1px 3px 1px rgba(0, 0, 0, 0.15);\n",
       "      filter: drop-shadow(0px 1px 2px rgba(0, 0, 0, 0.3));\n",
       "      fill: #FFFFFF;\n",
       "    }\n",
       "  </style>\n",
       "\n",
       "      <script>\n",
       "        const buttonEl =\n",
       "          document.querySelector('#df-e5c6d650-856b-4d37-93fb-86fadfff661d button.colab-df-convert');\n",
       "        buttonEl.style.display =\n",
       "          google.colab.kernel.accessAllowed ? 'block' : 'none';\n",
       "\n",
       "        async function convertToInteractive(key) {\n",
       "          const element = document.querySelector('#df-e5c6d650-856b-4d37-93fb-86fadfff661d');\n",
       "          const dataTable =\n",
       "            await google.colab.kernel.invokeFunction('convertToInteractive',\n",
       "                                                     [key], {});\n",
       "          if (!dataTable) return;\n",
       "\n",
       "          const docLinkHtml = 'Like what you see? Visit the ' +\n",
       "            '<a target=\"_blank\" href=https://colab.research.google.com/notebooks/data_table.ipynb>data table notebook</a>'\n",
       "            + ' to learn more about interactive tables.';\n",
       "          element.innerHTML = '';\n",
       "          dataTable['output_type'] = 'display_data';\n",
       "          await google.colab.output.renderOutput(dataTable, element);\n",
       "          const docLink = document.createElement('div');\n",
       "          docLink.innerHTML = docLinkHtml;\n",
       "          element.appendChild(docLink);\n",
       "        }\n",
       "      </script>\n",
       "    </div>\n",
       "  </div>\n",
       "  "
      ],
      "text/plain": [
       "분류         뮤지컬    연극   전시   콘서트   클래식\n",
       "시작월                                  \n",
       "2019년01월   7.0   2.0  0.0   1.0   2.0\n",
       "2019년02월   4.0   4.0  0.0   2.0   2.0\n",
       "2019년03월   5.0  12.0  0.0   4.0   4.0\n",
       "2019년04월  11.0   3.0  0.0   6.0   8.0\n",
       "2019년05월  12.0   5.0  0.0   5.0   7.0\n",
       "2019년06월  15.0   8.0  0.0  13.0  13.0\n",
       "2019년07월  14.0  12.0  0.0  16.0  14.0\n",
       "2019년08월  15.0  14.0  0.0  27.0  24.0\n",
       "2019년09월   9.0   9.0  0.0  15.0  28.0\n",
       "2019년10월  15.0  16.0  0.0  20.0  22.0\n",
       "2019년11월  18.0  18.0  0.0  30.0  19.0\n",
       "2019년12월  30.0  15.0  2.0  50.0  30.0"
      ]
     },
     "execution_count": 53,
     "metadata": {},
     "output_type": "execute_result"
    }
   ],
   "source": [
    "busan_2019_class"
   ]
  },
  {
   "cell_type": "code",
   "execution_count": null,
   "metadata": {
    "id": "A8fCirXcDXmf"
   },
   "outputs": [],
   "source": [
    "# 부족한 열 추가\n",
    "busan_2019_class['무용'] = 0.0\n",
    "busan_2019_class['오페라'] = 0.0"
   ]
  },
  {
   "cell_type": "code",
   "execution_count": null,
   "metadata": {
    "id": "6ufLTF7pDxBZ"
   },
   "outputs": [],
   "source": [
    "# 열 위치 변경\n",
    "busan_2019_class = busan_2019_class.reindex(columns=['무용','뮤지컬','연극','오페라','전시','콘서트','클래식'])\n",
    "# busan_2019_class"
   ]
  },
  {
   "cell_type": "markdown",
   "metadata": {
    "id": "u7tVvGpAJhtD"
   },
   "source": [
    "#### 2.3.2.3 연도별 분류에 따른 시각화"
   ]
  },
  {
   "cell_type": "code",
   "execution_count": null,
   "metadata": {
    "id": "-TFNrPIAHLxm"
   },
   "outputs": [],
   "source": [
    "# bar_chart 생성\n",
    "def bar_chart(data, year):\n",
    "  x = [year+'년'+str(i+1)+'월' for i in range(12)]\n",
    "  y1 = data['무용']\n",
    "  y2 = data['뮤지컬']\n",
    "  y3 = data['연극']\n",
    "  y4 = data['오페라']\n",
    "  y5 = data['전시']\n",
    "  y6 = data['콘서트']\n",
    "  y7 = data['클래식']\n",
    "\n",
    "  plt.title(year+'년')\n",
    "  plt.ylim([0, 300])\n",
    "  plt.bar(x, y1)\n",
    "  plt.bar(x, y2, bottom=y1)\n",
    "  plt.bar(x, y3, bottom=y1+y2)\n",
    "  plt.bar(x, y4, bottom=y1+y2+y3)\n",
    "  plt.bar(x, y5, bottom=y1+y2+y3+y4)\n",
    "  plt.bar(x, y6, bottom=y1+y2+y3+y4+y5)\n",
    "  plt.bar(x, y7, bottom=y1+y2+y3+y4+y5+y6)\n",
    "  plt.xticks(rotation=45)\n",
    "\n",
    "  plt.legend(['무용', '뮤지컬', '연극', '오페라', '전시', '콘서트', '클래식'])\n"
   ]
  },
  {
   "cell_type": "code",
   "execution_count": null,
   "metadata": {
    "colab": {
     "base_uri": "https://localhost:8080/",
     "height": 921
    },
    "id": "398p2OM03eyE",
    "outputId": "0225fa8a-dcfa-44e6-afa1-07e167d75d7e"
   },
   "outputs": [
    {
     "data": {
      "image/png": "[encoded data removed]",
      "text/plain": [
       "<Figure size 1080x1080 with 4 Axes>"
      ]
     },
     "metadata": {},
     "output_type": "display_data"
    }
   ],
   "source": [
    "# 월 및 분류별로 시각화\n",
    "plt.rc('font', family=\"NanumBarunGothic\")\n",
    "plt.rcParams['axes.unicode_minus'] = False\n",
    "plt.figure(figsize=(15,15))\n",
    "\n",
    "plt.subplot(2, 2, 1)\n",
    "bar_chart(busan_2019_class,'2019')\n",
    "\n",
    "plt.subplot(2, 2, 2)\n",
    "bar_chart(busan_2020_class,'2020')\n",
    "\n",
    "plt.subplot(2, 2, 3)\n",
    "bar_chart(busan_2021_class,'2021')\n",
    "\n",
    "plt.subplot(2, 2, 4)\n",
    "bar_chart(busan_2022_class,'2022')\n",
    "\n",
    "plt.show()"
   ]
  },
  {
   "cell_type": "markdown",
   "metadata": {
    "id": "kR0BfUM0J8wL"
   },
   "source": [
    "2022년 11월 9일을을 기준으로 데이터를 받아 2022년 11월 및 12월 데이터가 전부 입력되어 있지 않을 수 있어 분석이 이후의 데이터와 차이가 있을 수 있습니다.\n",
    "\n",
    "\n",
    "\n",
    "**추론**\n",
    "\n",
    "* 2019년에는 전시의 비율이 현저히 낮지만 2020년 12월부터 큰 비중을 차지하는 것을 확인할 수 있습니다.\n",
    "* 금년도를 제외하고 콘서트의 비중이 연말에 늘어나는 것을 확인할 수 있습니다.\n",
    "*   부산에서는 오페라를 볼 수 있는 기회가 흔치 않은 것을 확인할 수 있습니다.\n",
    "*   2019년은 코로나-19 바이러스가 확산전이지만 공연/행사의 수가 상대적으로 적은 것을 확인할 수 있습니다.\n",
    "*   2020년부터는 클래식 공연의 비율이 콘서트의 비율보다 높은 것을 확인할 수 있습니다.\n",
    "\n",
    "\n"
   ]
  },
  {
   "cell_type": "markdown",
   "metadata": {
    "id": "waHy7WuTML9o"
   },
   "source": [
    "### 2.3.3 분류별 변화 시각화"
   ]
  },
  {
   "cell_type": "code",
   "execution_count": null,
   "metadata": {
    "id": "9vqBAcHtXd-p"
   },
   "outputs": [],
   "source": [
    "# 분류마다 월별 groupby\n",
    "busan_month_dance = dict(busan_month[busan_month['분류']=='무용'].copy().groupby('시작월').count()['제목'])\n",
    "busan_month_musical = dict(busan_month[busan_month['분류']=='뮤지컬'].copy().groupby('시작월').count()['제목'])\n",
    "busan_month_play = dict(busan_month[busan_month['분류']=='연극'].copy().groupby('시작월').count()['제목'])\n",
    "busan_month_opera = dict(busan_month[busan_month['분류']=='오페라'].copy().groupby('시작월').count()['제목'])\n",
    "busan_month_exhibition = dict(busan_month[busan_month['분류']=='전시'].copy().groupby('시작월').count()['제목'])\n",
    "busan_month_concert = dict(busan_month[busan_month['분류']=='콘서트'].copy().groupby('시작월').count()['제목'])\n",
    "busan_month_classic = dict(busan_month[busan_month['분류']=='클래식'].copy().groupby('시작월').count()['제목'])\n",
    "\n",
    "# print(len(busan_month_dance))"
   ]
  },
  {
   "cell_type": "code",
   "execution_count": null,
   "metadata": {
    "colab": {
     "base_uri": "https://localhost:8080/"
    },
    "id": "rxYy5MbJbXQ-",
    "outputId": "c1fbe7e1-2344-4f6b-a1bc-1af82bf11d84"
   },
   "outputs": [
    {
     "name": "stdout",
     "output_type": "stream",
     "text": [
      "['2019년01월', '2019년02월', '2019년03월', '2019년04월', '2019년05월', '2019년06월', '2019년07월', '2019년08월', '2019년09월', '2019년10월', '2019년11월', '2019년12월', '2020년01월', '2020년02월', '2020년03월', '2020년04월', '2020년05월', '2020년06월', '2020년07월', '2020년08월', '2020년09월', '2020년10월', '2020년11월', '2020년12월', '2021년01월', '2021년02월', '2021년03월', '2021년04월', '2021년05월', '2021년06월', '2021년07월', '2021년08월', '2021년09월', '2021년10월', '2021년11월', '2021년12월', '2022년01월', '2022년02월', '2022년03월', '2022년04월', '2022년05월', '2022년06월', '2022년07월', '2022년08월', '2022년09월', '2022년10월', '2022년11월', '2022년12월']\n"
     ]
    }
   ],
   "source": [
    "x = []\n",
    "for i in range(2019,2023):\n",
    "  for j in range(1,13):\n",
    "    if j < 10:\n",
    "      x.append(str(i)+'년0'+str(j)+'월')\n",
    "    else:\n",
    "      x.append(str(i)+'년'+str(j)+'월')\n",
    "\n",
    "print(x)"
   ]
  },
  {
   "cell_type": "code",
   "execution_count": null,
   "metadata": {
    "id": "fHNmoHR8cpsh"
   },
   "outputs": [],
   "source": [
    "# 빠진 연월 채우기\n",
    "def checking_month(data):\n",
    "  for i in x:\n",
    "    if i not in data.keys():\n",
    "      data[i] = 0"
   ]
  },
  {
   "cell_type": "code",
   "execution_count": null,
   "metadata": {
    "id": "XoT7ZuTzfMUM"
   },
   "outputs": [],
   "source": [
    "checking_month(busan_month_dance)\n",
    "checking_month(busan_month_opera)\n",
    "checking_month(busan_month_exhibition)\n",
    "checking_month(busan_month_concert)\n",
    "\n",
    "# len(busan_month_exhibition)"
   ]
  },
  {
   "cell_type": "code",
   "execution_count": null,
   "metadata": {
    "id": "CvoPSHTDiJHj"
   },
   "outputs": [],
   "source": [
    "# key 정렬\n",
    "busan_month_dance = dict(sorted(busan_month_dance.items()))\n",
    "busan_month_opera = dict(sorted(busan_month_opera.items()))\n",
    "busan_month_exhibition = dict(sorted(busan_month_exhibition.items()))\n",
    "busan_month_concert = dict(sorted(busan_month_concert.items()))"
   ]
  },
  {
   "cell_type": "code",
   "execution_count": null,
   "metadata": {
    "colab": {
     "base_uri": "https://localhost:8080/",
     "height": 634
    },
    "id": "_z0UL7QjWght",
    "outputId": "9cbec5e7-ae40-4ca1-dc8f-e460b879f845"
   },
   "outputs": [
    {
     "data": {
      "image/png": "[encoded data removed]",
      "text/plain": [
       "<Figure size 1440x720 with 1 Axes>"
      ]
     },
     "metadata": {},
     "output_type": "display_data"
    }
   ],
   "source": [
    "plt.figure(figsize=(20,10))\n",
    "plt.rcParams['axes.unicode_minus'] = False\n",
    "\n",
    "plt.plot(x, list(busan_month_dance.values()), color='firebrick')\n",
    "plt.plot(x, list(busan_month_musical.values()), color='darkorange')\n",
    "plt.plot(x, list(busan_month_play.values()), color='gold')\n",
    "plt.plot(x, list(busan_month_opera.values()), color='forestgreen')\n",
    "plt.plot(x, list(busan_month_exhibition.values()), color='royalblue')\n",
    "plt.plot(x, list(busan_month_concert.values()), color='navy')\n",
    "plt.plot(x, list(busan_month_classic.values()), color='darkorchid')\n",
    "plt.xticks(rotation=45)\n",
    "plt.legend(['무용', '뮤지컬', '연극', '오페라', '전시', '콘서트', '클래식'])\n",
    "\n",
    "plt.show()"
   ]
  },
  {
   "cell_type": "code",
   "execution_count": null,
   "metadata": {
    "colab": {
     "base_uri": "https://localhost:8080/",
     "height": 725
    },
    "id": "4pMmz7ssmR9g",
    "outputId": "e5c18dd3-a4e2-41e1-f0d7-3a8256bc0f0f"
   },
   "outputs": [
    {
     "data": {
      "image/png": "[encoded data removed]",
      "text/plain": [
       "<Figure size 1440x720 with 2 Axes>"
      ]
     },
     "metadata": {},
     "output_type": "display_data"
    }
   ],
   "source": [
    "# 두 그룹으로 분리\n",
    "plt.figure(figsize=(20,10))\n",
    "plt.rcParams['axes.unicode_minus'] = False\n",
    "\n",
    "plt.subplot(2,1,1)\n",
    "plt.plot(x, list(busan_month_dance.values()), color='firebrick')\n",
    "plt.plot(x, list(busan_month_musical.values()), color='darkorange')\n",
    "plt.plot(x, list(busan_month_play.values()), color='gold')\n",
    "plt.plot(x, list(busan_month_opera.values()), color='forestgreen')\n",
    "plt.xticks(rotation=45)\n",
    "plt.legend(['무용', '뮤지컬', '연극', '오페라'])\n",
    "\n",
    "plt.subplot(2,1,2)\n",
    "plt.plot(x, list(busan_month_exhibition.values()), color='royalblue')\n",
    "plt.plot(x, list(busan_month_concert.values()), color='navy')\n",
    "plt.plot(x, list(busan_month_classic.values()), color='darkorchid')\n",
    "plt.xticks(rotation=45)\n",
    "plt.legend(['전시', '콘서트', '클래식'])\n",
    "\n",
    "plt.tight_layout()\n",
    "plt.show()"
   ]
  },
  {
   "cell_type": "markdown",
   "metadata": {
    "id": "A3MSgqhIuM6j"
   },
   "source": [
    "2022년 11월 9일을을 기준으로 데이터를 받아 2022년 11월 및 12월 데이터가 전부 입력되어 있지 않을 수 있어 분석이 이후의 데이터와 차이가 있을 수 있습니다.\n",
    "\n",
    "\n",
    "\n",
    "**추론**\n",
    "\n",
    "* 무용, 뮤지컬, 연극, 오페라 공연은 코로나-19 바이러스 확산 전후로 수가 크게 차이가 나지 않습니다.\n",
    "*  전시 행사는 코로나-19 바이러스 확산 이후로 수가 늘기 시작하면서 2020년 12월을 기점으로 크게 증가하였습니다. \n",
    "*   코로나-19 바이러스 확산 시에는 모든 공연/행사의 수가 적은 것을 확인할 수 있습니다. \n",
    "*   2021년부터 전시 행사 및 클래식 공연의 수의 증감 추세가 유사한 것을 확인할 수 있습니다. \n",
    "\n",
    "\n",
    "\n"
   ]
  },
  {
   "cell_type": "markdown",
   "metadata": {
    "id": "duvaVZBRW2hw"
   },
   "source": [
    "## 2.4 결론"
   ]
  },
  {
   "cell_type": "markdown",
   "metadata": {
    "id": "x2CpDswGWyZF"
   },
   "source": [
    "\n",
    "\n",
    "* 모든 공연과 행사의 수가 연말에 증가하고 연초에는 감소하는 경향이 있습니다.   \n",
    "* 코로나-19 바이러스 확산 후에 공연/행사 수가 감소하였지만, 위드코로나 시행 후, **전시 행사와 클래식 공연은 크게 증가**하였습니다. \n",
    "*   무용과 오페라 공연은 코로나-19 바이러스 확산 뒤에 수가 점차 증가하였습니다.\n",
    "* 뮤지컬, 연극, 콘서트의 수는 코로나-19 바이러스 확산 이전과 유사하게 증가하였습니다. \n",
    "\n",
    "\n",
    "> 가정: 코로나-19 바이러스 확산 후, 공연/행사의 수가 크게 감소하였을 것이다. \n",
    "\n",
    "> 결론\n",
    "* 되려 코로나-19 바이러스 확산 전인 2019년에 공연/행사의 수가 적었으며, **확산 후에 크게 증가한 행사/공연이 있었습니다.**\n",
    "* 수가 증가한 이유에 많은 요소들이 작용하였겠지만, 코로나-19 바이러스 확산으로 국내외여행이 줄어들면서 단시간 활동에 관심을 가졌을 수 있을 것으로 보입니다. \n",
    "\n"
   ]
  },
  {
   "cell_type": "markdown",
   "metadata": {
    "id": "p4ZeiF4tM-46"
   },
   "source": [
    "## **3. 프로젝트 발전 가능성**\n",
    "\n"
   ]
  },
  {
   "cell_type": "markdown",
   "metadata": {
    "id": "OQX7XCuTz-X5"
   },
   "source": [
    "점차 공연/행사의 수가 증가할 것으로 예상되는데 코로나-19 바이러스 확산 전후의 시민들의 관심의 변화 또는 소비자층 조사를 통해 상관관계를 파악하여 문화/공연 관련 회사에서 마케팅의 바탕자료로 활용할 수 있을 것으로 생각합니다. \n"
   ]
  },
  {
   "cell_type": "markdown",
   "metadata": {
    "id": "-rUYD675M_GN"
   },
   "source": [
    "## **4. 프로젝트 후기**\n",
    "\n"
   ]
  },
  {
   "cell_type": "markdown",
   "metadata": {
    "id": "DTcPS4Pvvp8c"
   },
   "source": [
    "groupby 함수를 사용하면서 다른 방향으로 결과가 도출되거나 TypeError 등의 오류가 발생하였습니다. \n",
    "\n",
    "인터넷으로 찾아보면서 해결방안을 모색하여 코드를 수정하였습니다. \n",
    "\n",
    "이를 통해, 함수를 사용하기 전후의 타입을 확인하여 사전에 실수 또는 오류를 방지해야겠다는 생각을 하였습니다. "
   ]
  }
 ],
 "metadata": {
  "colab": {
   "collapsed_sections": [
    "98bjzvQ8emi8"
   ],
   "provenance": []
  },
  "kernelspec": {
   "display_name": "Python 3",
   "language": "python",
   "name": "python3"
  },
  "language_info": {
   "codemirror_mode": {
    "name": "ipython",
    "version": 3
   },
   "file_extension": ".py",
   "mimetype": "text/x-python",
   "name": "python",
   "nbconvert_exporter": "python",
   "pygments_lexer": "ipython3",
   "version": "3.8.8"
  }
 },
 "nbformat": 4,
 "nbformat_minor": 1
}

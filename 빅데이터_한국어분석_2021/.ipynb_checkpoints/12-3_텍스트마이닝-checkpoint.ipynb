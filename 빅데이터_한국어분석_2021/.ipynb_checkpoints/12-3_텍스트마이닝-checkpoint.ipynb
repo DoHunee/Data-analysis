{
 "cells": [
  {
   "cell_type": "markdown",
   "id": "af7e7494",
   "metadata": {},
   "source": [
    "# Text Mining\n",
    "\n",
    "## 분석패키지 설치"
   ]
  },
  {
   "cell_type": "code",
   "execution_count": null,
   "id": "a73ee302",
   "metadata": {},
   "outputs": [],
   "source": [
    "import sys\n",
    "print(sys.version)"
   ]
  },
  {
   "cell_type": "code",
   "execution_count": null,
   "id": "72bf37aa",
   "metadata": {},
   "outputs": [],
   "source": [
    "# !pip install JPype1-1.3.0-cp38-cp38-win_amd64.whl"
   ]
  },
  {
   "cell_type": "code",
   "execution_count": null,
   "id": "ad993cb1",
   "metadata": {},
   "outputs": [],
   "source": [
    "# !pip install gensim"
   ]
  },
  {
   "cell_type": "code",
   "execution_count": null,
   "id": "302b38c6",
   "metadata": {},
   "outputs": [],
   "source": [
    "# !pip install pytagcloud"
   ]
  },
  {
   "cell_type": "code",
   "execution_count": null,
   "id": "c3f62d05",
   "metadata": {},
   "outputs": [],
   "source": [
    "# !pip install pygame"
   ]
  },
  {
   "cell_type": "code",
   "execution_count": null,
   "id": "e84e30ed",
   "metadata": {},
   "outputs": [],
   "source": [
    "# !pip install wordcloud"
   ]
  },
  {
   "cell_type": "code",
   "execution_count": null,
   "id": "c28d6da5",
   "metadata": {},
   "outputs": [],
   "source": [
    "# !pip install networkx"
   ]
  },
  {
   "cell_type": "code",
   "execution_count": null,
   "id": "5f766a33",
   "metadata": {},
   "outputs": [],
   "source": [
    "# !pip install konlpy"
   ]
  },
  {
   "cell_type": "markdown",
   "id": "8689481b",
   "metadata": {},
   "source": [
    "## 공통패키지"
   ]
  },
  {
   "cell_type": "code",
   "execution_count": 1,
   "id": "bb16f4d2",
   "metadata": {},
   "outputs": [],
   "source": [
    "# 1. 기본 데이터 처리, 정규식, 문자열처리 라이브러리\n",
    "import numpy as np\n",
    "import pandas as pd\n",
    "import re\n",
    "import string\n",
    "\n",
    "# 2. 텍스트 처리 라이브러리\n",
    "from bs4 import BeautifulSoup\n",
    "import nltk\n",
    "import konlpy\n",
    "from konlpy.tag import Okt\n",
    "\n",
    "# 3. 문자 빈도, 문자특성 추출, 워드클라우드\n",
    "from collections import Counter\n",
    "from sklearn.feature_extraction.text import CountVectorizer, TfidfVectorizer\n",
    "from wordcloud import WordCloud\n",
    "\n",
    "# 4. 데이터문서 및 날짜처리 라이브러리\n",
    "from itertools import chain\n",
    "import pickle\n",
    "from datetime import datetime\n",
    "\n",
    "# 5. 도표 및 시각화 라이브러리\n",
    "import matplotlib.pyplot as plt\n",
    "from matplotlib import font_manager\n",
    "import networkx as nx\n",
    "from networkx.drawing.nx_pydot import graphviz_layout"
   ]
  },
  {
   "cell_type": "markdown",
   "id": "26ec3dcd",
   "metadata": {},
   "source": [
    "## 1. 보령mud 축제 데이터"
   ]
  },
  {
   "cell_type": "markdown",
   "id": "514ff629",
   "metadata": {},
   "source": [
    "### 축제 후기 데이터 불러오기"
   ]
  },
  {
   "cell_type": "code",
   "execution_count": 2,
   "id": "d7c7479b",
   "metadata": {},
   "outputs": [],
   "source": [
    "# 1. 기본 데이터 처리, 정규식, 문자열처리 라이브러리\n",
    "import numpy as np\n",
    "import pandas as pd\n",
    "import re\n",
    "import string\n",
    "from bs4 import BeautifulSoup\n",
    "\n",
    "# 2. 텍스트 처리 라이브러리\n",
    "import konlpy\n",
    "from konlpy.tag import Okt"
   ]
  },
  {
   "cell_type": "code",
   "execution_count": 19,
   "id": "5f0cbe30",
   "metadata": {},
   "outputs": [],
   "source": [
    "Data = pd.read_csv('readData_All.csv')"
   ]
  },
  {
   "cell_type": "code",
   "execution_count": 8,
   "id": "39aa67c7",
   "metadata": {},
   "outputs": [
    {
     "data": {
      "text/html": [
       "<div>\n",
       "<style scoped>\n",
       "    .dataframe tbody tr th:only-of-type {\n",
       "        vertical-align: middle;\n",
       "    }\n",
       "\n",
       "    .dataframe tbody tr th {\n",
       "        vertical-align: top;\n",
       "    }\n",
       "\n",
       "    .dataframe thead th {\n",
       "        text-align: right;\n",
       "    }\n",
       "</style>\n",
       "<table border=\"1\" class=\"dataframe\">\n",
       "  <thead>\n",
       "    <tr style=\"text-align: right;\">\n",
       "      <th></th>\n",
       "      <th>title</th>\n",
       "      <th>blogurl</th>\n",
       "      <th>writedate</th>\n",
       "      <th>maincontent</th>\n",
       "    </tr>\n",
       "  </thead>\n",
       "  <tbody>\n",
       "    <tr>\n",
       "      <th>0</th>\n",
       "      <td>헬스 1주 일차 근황+보령머드축제 후기</td>\n",
       "      <td>https://blog.naver.com/cjh12011?Redirect=Log&amp;l...</td>\n",
       "      <td>20190725.0</td>\n",
       "      <td>\"공부가 젤 쉬웠어요\"​이 말에 다들 공감하나요....?​저 2년 가까이 공부하면서...</td>\n",
       "    </tr>\n",
       "    <tr>\n",
       "      <th>1</th>\n",
       "      <td>보령머드축제(2019년 22회차) 대천해수욕장</td>\n",
       "      <td>https://blog.naver.com/gkswlgp3594?Redirect=Lo...</td>\n",
       "      <td>20190726.0</td>\n",
       "      <td>보령머드축제(2019년 22회차) 대천해수욕장 보령머드축제(2019년 22회차)...</td>\n",
       "    </tr>\n",
       "    <tr>\n",
       "      <th>2</th>\n",
       "      <td>2018 여름 축제 :: 더위를 날려줄 국내 이색 축제 Pick 10! - 대구치맥...</td>\n",
       "      <td>https://blog.naver.com/daeguvisit?Redirect=Log...</td>\n",
       "      <td>20180621.0</td>\n",
       "      <td>2018 여름 축제국내 이색 축제 Pick 10대구치맥페스티벌, 보령머드축제 등다가...</td>\n",
       "    </tr>\n",
       "    <tr>\n",
       "      <th>3</th>\n",
       "      <td>제23회 보령머드축제 온라인축제 기간 프로그램</td>\n",
       "      <td>https://blog.naver.com/yoonseok8071?Redirect=L...</td>\n",
       "      <td>20200618.0</td>\n",
       "      <td>제23회 보령머드축제 온라인축제 안내보령시청●축제 기간: 2020.07.17(금) ...</td>\n",
       "    </tr>\n",
       "    <tr>\n",
       "      <th>4</th>\n",
       "      <td>보령)대천해수욕장 &amp; 2019 보령머드축제</td>\n",
       "      <td>https://blog.naver.com/jho0125?Redirect=Log&amp;lo...</td>\n",
       "      <td>20190716.0</td>\n",
       "      <td>안녕하세요오랜만에 포스팅을 시작하였어요!!  ​​이번에는 뭘할까 고민하다가...무더...</td>\n",
       "    </tr>\n",
       "  </tbody>\n",
       "</table>\n",
       "</div>"
      ],
      "text/plain": [
       "                                               title  \\\n",
       "0                             헬스 1주 일차 근황+보령머드축제 후기    \n",
       "1                         보령머드축제(2019년 22회차) 대천해수욕장    \n",
       "2  2018 여름 축제 :: 더위를 날려줄 국내 이색 축제 Pick 10! - 대구치맥...   \n",
       "3                         제23회 보령머드축제 온라인축제 기간 프로그램    \n",
       "4                           보령)대천해수욕장 & 2019 보령머드축제    \n",
       "\n",
       "                                             blogurl   writedate  \\\n",
       "0  https://blog.naver.com/cjh12011?Redirect=Log&l...  20190725.0   \n",
       "1  https://blog.naver.com/gkswlgp3594?Redirect=Lo...  20190726.0   \n",
       "2  https://blog.naver.com/daeguvisit?Redirect=Log...  20180621.0   \n",
       "3  https://blog.naver.com/yoonseok8071?Redirect=L...  20200618.0   \n",
       "4  https://blog.naver.com/jho0125?Redirect=Log&lo...  20190716.0   \n",
       "\n",
       "                                         maincontent  \n",
       "0  \"공부가 젤 쉬웠어요\"​이 말에 다들 공감하나요....?​저 2년 가까이 공부하면서...  \n",
       "1    보령머드축제(2019년 22회차) 대천해수욕장 보령머드축제(2019년 22회차)...  \n",
       "2  2018 여름 축제국내 이색 축제 Pick 10대구치맥페스티벌, 보령머드축제 등다가...  \n",
       "3  제23회 보령머드축제 온라인축제 안내보령시청●축제 기간: 2020.07.17(금) ...  \n",
       "4  안녕하세요오랜만에 포스팅을 시작하였어요!!  ​​이번에는 뭘할까 고민하다가...무더...  "
      ]
     },
     "execution_count": 8,
     "metadata": {},
     "output_type": "execute_result"
    }
   ],
   "source": [
    "Data.head()"
   ]
  },
  {
   "cell_type": "code",
   "execution_count": 9,
   "id": "c0650c04",
   "metadata": {},
   "outputs": [
    {
     "name": "stdout",
     "output_type": "stream",
     "text": [
      "<class 'pandas.core.frame.DataFrame'>\n",
      "RangeIndex: 1745 entries, 0 to 1744\n",
      "Data columns (total 4 columns):\n",
      " #   Column       Non-Null Count  Dtype  \n",
      "---  ------       --------------  -----  \n",
      " 0   title        1685 non-null   object \n",
      " 1   blogurl      1745 non-null   object \n",
      " 2   writedate    1531 non-null   float64\n",
      " 3   maincontent  1669 non-null   object \n",
      "dtypes: float64(1), object(3)\n",
      "memory usage: 54.7+ KB\n"
     ]
    }
   ],
   "source": [
    "Data.info()"
   ]
  },
  {
   "cell_type": "code",
   "execution_count": 10,
   "id": "7f5c2e95",
   "metadata": {},
   "outputs": [
    {
     "data": {
      "text/plain": [
       "'\"공부가 젤 쉬웠어요\"\\u200b이 말에 다들 공감하나요....?\\u200b저 2년 가까이 공부하면서 전~혀 공감할 수 없었지만\\u200b단기 알바도 하고 지금 하루에 2번 헬스장 가서\\u200b인상 쓸 때까지 운동하고 있는데\\u200b\\u200b조금씩 공부가 ... 하고 싶어지는 이 느낌은 멀까요 ㅠㅠ\\u200b잡설을 집어치우고...\\u200b식단 관리 정말 철저하게 하고 있다고 생각은 하는데...\\u200b하루 2끼는 닭 가슴살/셰이크 나머지 1끼는 일반식으로 먹고 있어요\\u200b사진 투척!!\\u200b           \\u200b요리하기 귀찮고 설거지도 매일매일 해야 해서 너무 귀찮네요 ㅋㅋㅋ채소는 정말 많이 먹는 듯..\\u200b지난주와 비교해보면\\u200b   \\u200b몸무게 증가체지방량 증가근육량 감소???\\u200b\\u200b이 먼 수취가 정 반대로 나왔냐...;\\u200b근육량이 줄어들다니 ㅋㅋㅋㅋㅋㅋㅋㅋㅋㅋㅋ\\u200b벌크업 과정이라서 그런가? 전문가님들 답변 좀 ㅠ.ㅠ\\u200b\\u200b\\u200b\\u200b여담으로 23일 날 보령 머드축제 당일치기로 다녀왔는데...\\u200b3년 전에 있었던 큰 슬라이드는 없어졌고\\u200b재미없는 놀이들로만 가득 차있어서\\u200b너무 아쉬웠네요     진 팀은 머드 세례 ㅋㅋㅋㅋㅋㅋ\\u200b전 꼬리 잡기, 공 넣기 놀이(?) 둘 다 져서 머드맨이 되었음\\u200b근데 ㅠㅠ\\u200b다 놀고 씻고 나오니깐 꼬리잡기 놀이했을 때 어떤 놈이 그랬는지\\u200b제 양팔에 스크래치를 냈습니다 ㅠㅠ 너무 따가움\\u200b     \\u200b\\u200b\\u200b\\u200b\\u200b    \\u200b억지로 재밌게(?) 놀고 다시 복귀 ㅋㅋㅋ\\u200b\\u200b\\u200b그래도... 갈 만(?) 한 축제인 거는 같네요 ㅎㅎ\\u200b\\u200b\\u200b '"
      ]
     },
     "execution_count": 10,
     "metadata": {},
     "output_type": "execute_result"
    }
   ],
   "source": [
    "Data['maincontent'][0]"
   ]
  },
  {
   "cell_type": "markdown",
   "id": "b93a6a97",
   "metadata": {},
   "source": [
    "### 날짜변수 생성 + 문서 카운드\n",
    "- 날짜변수(테스트 데이터의 경우 'writedate')로 년도, 월 등 구분하는 변수 생성"
   ]
  },
  {
   "cell_type": "code",
   "execution_count": 20,
   "id": "f843008c",
   "metadata": {},
   "outputs": [
    {
     "name": "stdout",
     "output_type": "stream",
     "text": [
      "<class 'pandas.core.frame.DataFrame'>\n",
      "Int64Index: 1475 entries, 0 to 1744\n",
      "Data columns (total 4 columns):\n",
      " #   Column       Non-Null Count  Dtype  \n",
      "---  ------       --------------  -----  \n",
      " 0   title        1475 non-null   object \n",
      " 1   blogurl      1475 non-null   object \n",
      " 2   writedate    1475 non-null   float64\n",
      " 3   maincontent  1475 non-null   object \n",
      "dtypes: float64(1), object(3)\n",
      "memory usage: 57.6+ KB\n"
     ]
    }
   ],
   "source": [
    "# NaN value가 있는 row/column 제거하기: dropna()\n",
    "Data.dropna(axis=0, how='any', inplace=True)\n",
    "Data.info()"
   ]
  },
  {
   "cell_type": "code",
   "execution_count": 21,
   "id": "8eda80db",
   "metadata": {},
   "outputs": [],
   "source": [
    "# 'writedate' 변수를 0000-00-00 형식의 datetime으로 변경하여 'Date' 변수 생성\n",
    "# 변경된 'Date'변수를 문자열처리(strtime): strtime를 적용해야 연도/월 등 특성을 뽑을 수 있음\n",
    "Data['Date'] = pd.to_datetime(Data['writedate'], format='%Y%m%d')\n",
    "Data['Date'] = Data['Date'].dt.strftime('%Y-%m-%d')"
   ]
  },
  {
   "cell_type": "code",
   "execution_count": 23,
   "id": "438c08da",
   "metadata": {},
   "outputs": [
    {
     "data": {
      "text/html": [
       "<div>\n",
       "<style scoped>\n",
       "    .dataframe tbody tr th:only-of-type {\n",
       "        vertical-align: middle;\n",
       "    }\n",
       "\n",
       "    .dataframe tbody tr th {\n",
       "        vertical-align: top;\n",
       "    }\n",
       "\n",
       "    .dataframe thead th {\n",
       "        text-align: right;\n",
       "    }\n",
       "</style>\n",
       "<table border=\"1\" class=\"dataframe\">\n",
       "  <thead>\n",
       "    <tr style=\"text-align: right;\">\n",
       "      <th></th>\n",
       "      <th>title</th>\n",
       "      <th>blogurl</th>\n",
       "      <th>writedate</th>\n",
       "      <th>maincontent</th>\n",
       "      <th>Date</th>\n",
       "    </tr>\n",
       "  </thead>\n",
       "  <tbody>\n",
       "    <tr>\n",
       "      <th>0</th>\n",
       "      <td>헬스 1주 일차 근황+보령머드축제 후기</td>\n",
       "      <td>https://blog.naver.com/cjh12011?Redirect=Log&amp;l...</td>\n",
       "      <td>20190725.0</td>\n",
       "      <td>\"공부가 젤 쉬웠어요\"​이 말에 다들 공감하나요....?​저 2년 가까이 공부하면서...</td>\n",
       "      <td>2019-07-25</td>\n",
       "    </tr>\n",
       "    <tr>\n",
       "      <th>1</th>\n",
       "      <td>보령머드축제(2019년 22회차) 대천해수욕장</td>\n",
       "      <td>https://blog.naver.com/gkswlgp3594?Redirect=Lo...</td>\n",
       "      <td>20190726.0</td>\n",
       "      <td>보령머드축제(2019년 22회차) 대천해수욕장 보령머드축제(2019년 22회차)...</td>\n",
       "      <td>2019-07-26</td>\n",
       "    </tr>\n",
       "    <tr>\n",
       "      <th>2</th>\n",
       "      <td>2018 여름 축제 :: 더위를 날려줄 국내 이색 축제 Pick 10! - 대구치맥...</td>\n",
       "      <td>https://blog.naver.com/daeguvisit?Redirect=Log...</td>\n",
       "      <td>20180621.0</td>\n",
       "      <td>2018 여름 축제국내 이색 축제 Pick 10대구치맥페스티벌, 보령머드축제 등다가...</td>\n",
       "      <td>2018-06-21</td>\n",
       "    </tr>\n",
       "    <tr>\n",
       "      <th>3</th>\n",
       "      <td>제23회 보령머드축제 온라인축제 기간 프로그램</td>\n",
       "      <td>https://blog.naver.com/yoonseok8071?Redirect=L...</td>\n",
       "      <td>20200618.0</td>\n",
       "      <td>제23회 보령머드축제 온라인축제 안내보령시청●축제 기간: 2020.07.17(금) ...</td>\n",
       "      <td>2020-06-18</td>\n",
       "    </tr>\n",
       "    <tr>\n",
       "      <th>4</th>\n",
       "      <td>보령)대천해수욕장 &amp; 2019 보령머드축제</td>\n",
       "      <td>https://blog.naver.com/jho0125?Redirect=Log&amp;lo...</td>\n",
       "      <td>20190716.0</td>\n",
       "      <td>안녕하세요오랜만에 포스팅을 시작하였어요!!  ​​이번에는 뭘할까 고민하다가...무더...</td>\n",
       "      <td>2019-07-16</td>\n",
       "    </tr>\n",
       "  </tbody>\n",
       "</table>\n",
       "</div>"
      ],
      "text/plain": [
       "                                               title  \\\n",
       "0                             헬스 1주 일차 근황+보령머드축제 후기    \n",
       "1                         보령머드축제(2019년 22회차) 대천해수욕장    \n",
       "2  2018 여름 축제 :: 더위를 날려줄 국내 이색 축제 Pick 10! - 대구치맥...   \n",
       "3                         제23회 보령머드축제 온라인축제 기간 프로그램    \n",
       "4                           보령)대천해수욕장 & 2019 보령머드축제    \n",
       "\n",
       "                                             blogurl   writedate  \\\n",
       "0  https://blog.naver.com/cjh12011?Redirect=Log&l...  20190725.0   \n",
       "1  https://blog.naver.com/gkswlgp3594?Redirect=Lo...  20190726.0   \n",
       "2  https://blog.naver.com/daeguvisit?Redirect=Log...  20180621.0   \n",
       "3  https://blog.naver.com/yoonseok8071?Redirect=L...  20200618.0   \n",
       "4  https://blog.naver.com/jho0125?Redirect=Log&lo...  20190716.0   \n",
       "\n",
       "                                         maincontent        Date  \n",
       "0  \"공부가 젤 쉬웠어요\"​이 말에 다들 공감하나요....?​저 2년 가까이 공부하면서...  2019-07-25  \n",
       "1    보령머드축제(2019년 22회차) 대천해수욕장 보령머드축제(2019년 22회차)...  2019-07-26  \n",
       "2  2018 여름 축제국내 이색 축제 Pick 10대구치맥페스티벌, 보령머드축제 등다가...  2018-06-21  \n",
       "3  제23회 보령머드축제 온라인축제 안내보령시청●축제 기간: 2020.07.17(금) ...  2020-06-18  \n",
       "4  안녕하세요오랜만에 포스팅을 시작하였어요!!  ​​이번에는 뭘할까 고민하다가...무더...  2019-07-16  "
      ]
     },
     "execution_count": 23,
     "metadata": {},
     "output_type": "execute_result"
    }
   ],
   "source": [
    "Data.head()"
   ]
  },
  {
   "cell_type": "code",
   "execution_count": 24,
   "id": "c13e3efe",
   "metadata": {},
   "outputs": [],
   "source": [
    "#'Date'변수에서 연도를 뽑아 'year'라는 새로운 변수 생성 및 적용\n",
    "from datetime import datetime\n",
    "\n",
    "year = lambda x: datetime.strptime(x, \"%Y-%m-%d\" ).year\n",
    "Data['year'] = Data['Date'].map(year)"
   ]
  },
  {
   "cell_type": "code",
   "execution_count": 25,
   "id": "4d0d3ee9",
   "metadata": {},
   "outputs": [
    {
     "data": {
      "text/html": [
       "<div>\n",
       "<style scoped>\n",
       "    .dataframe tbody tr th:only-of-type {\n",
       "        vertical-align: middle;\n",
       "    }\n",
       "\n",
       "    .dataframe tbody tr th {\n",
       "        vertical-align: top;\n",
       "    }\n",
       "\n",
       "    .dataframe thead th {\n",
       "        text-align: right;\n",
       "    }\n",
       "</style>\n",
       "<table border=\"1\" class=\"dataframe\">\n",
       "  <thead>\n",
       "    <tr style=\"text-align: right;\">\n",
       "      <th></th>\n",
       "      <th>title</th>\n",
       "      <th>blogurl</th>\n",
       "      <th>writedate</th>\n",
       "      <th>maincontent</th>\n",
       "      <th>Date</th>\n",
       "      <th>year</th>\n",
       "    </tr>\n",
       "  </thead>\n",
       "  <tbody>\n",
       "    <tr>\n",
       "      <th>0</th>\n",
       "      <td>헬스 1주 일차 근황+보령머드축제 후기</td>\n",
       "      <td>https://blog.naver.com/cjh12011?Redirect=Log&amp;l...</td>\n",
       "      <td>20190725.0</td>\n",
       "      <td>\"공부가 젤 쉬웠어요\"​이 말에 다들 공감하나요....?​저 2년 가까이 공부하면서...</td>\n",
       "      <td>2019-07-25</td>\n",
       "      <td>2019</td>\n",
       "    </tr>\n",
       "    <tr>\n",
       "      <th>1</th>\n",
       "      <td>보령머드축제(2019년 22회차) 대천해수욕장</td>\n",
       "      <td>https://blog.naver.com/gkswlgp3594?Redirect=Lo...</td>\n",
       "      <td>20190726.0</td>\n",
       "      <td>보령머드축제(2019년 22회차) 대천해수욕장 보령머드축제(2019년 22회차)...</td>\n",
       "      <td>2019-07-26</td>\n",
       "      <td>2019</td>\n",
       "    </tr>\n",
       "    <tr>\n",
       "      <th>2</th>\n",
       "      <td>2018 여름 축제 :: 더위를 날려줄 국내 이색 축제 Pick 10! - 대구치맥...</td>\n",
       "      <td>https://blog.naver.com/daeguvisit?Redirect=Log...</td>\n",
       "      <td>20180621.0</td>\n",
       "      <td>2018 여름 축제국내 이색 축제 Pick 10대구치맥페스티벌, 보령머드축제 등다가...</td>\n",
       "      <td>2018-06-21</td>\n",
       "      <td>2018</td>\n",
       "    </tr>\n",
       "    <tr>\n",
       "      <th>3</th>\n",
       "      <td>제23회 보령머드축제 온라인축제 기간 프로그램</td>\n",
       "      <td>https://blog.naver.com/yoonseok8071?Redirect=L...</td>\n",
       "      <td>20200618.0</td>\n",
       "      <td>제23회 보령머드축제 온라인축제 안내보령시청●축제 기간: 2020.07.17(금) ...</td>\n",
       "      <td>2020-06-18</td>\n",
       "      <td>2020</td>\n",
       "    </tr>\n",
       "    <tr>\n",
       "      <th>4</th>\n",
       "      <td>보령)대천해수욕장 &amp; 2019 보령머드축제</td>\n",
       "      <td>https://blog.naver.com/jho0125?Redirect=Log&amp;lo...</td>\n",
       "      <td>20190716.0</td>\n",
       "      <td>안녕하세요오랜만에 포스팅을 시작하였어요!!  ​​이번에는 뭘할까 고민하다가...무더...</td>\n",
       "      <td>2019-07-16</td>\n",
       "      <td>2019</td>\n",
       "    </tr>\n",
       "  </tbody>\n",
       "</table>\n",
       "</div>"
      ],
      "text/plain": [
       "                                               title  \\\n",
       "0                             헬스 1주 일차 근황+보령머드축제 후기    \n",
       "1                         보령머드축제(2019년 22회차) 대천해수욕장    \n",
       "2  2018 여름 축제 :: 더위를 날려줄 국내 이색 축제 Pick 10! - 대구치맥...   \n",
       "3                         제23회 보령머드축제 온라인축제 기간 프로그램    \n",
       "4                           보령)대천해수욕장 & 2019 보령머드축제    \n",
       "\n",
       "                                             blogurl   writedate  \\\n",
       "0  https://blog.naver.com/cjh12011?Redirect=Log&l...  20190725.0   \n",
       "1  https://blog.naver.com/gkswlgp3594?Redirect=Lo...  20190726.0   \n",
       "2  https://blog.naver.com/daeguvisit?Redirect=Log...  20180621.0   \n",
       "3  https://blog.naver.com/yoonseok8071?Redirect=L...  20200618.0   \n",
       "4  https://blog.naver.com/jho0125?Redirect=Log&lo...  20190716.0   \n",
       "\n",
       "                                         maincontent        Date  year  \n",
       "0  \"공부가 젤 쉬웠어요\"​이 말에 다들 공감하나요....?​저 2년 가까이 공부하면서...  2019-07-25  2019  \n",
       "1    보령머드축제(2019년 22회차) 대천해수욕장 보령머드축제(2019년 22회차)...  2019-07-26  2019  \n",
       "2  2018 여름 축제국내 이색 축제 Pick 10대구치맥페스티벌, 보령머드축제 등다가...  2018-06-21  2018  \n",
       "3  제23회 보령머드축제 온라인축제 안내보령시청●축제 기간: 2020.07.17(금) ...  2020-06-18  2020  \n",
       "4  안녕하세요오랜만에 포스팅을 시작하였어요!!  ​​이번에는 뭘할까 고민하다가...무더...  2019-07-16  2019  "
      ]
     },
     "execution_count": 25,
     "metadata": {},
     "output_type": "execute_result"
    }
   ],
   "source": [
    "Data.head()"
   ]
  },
  {
   "cell_type": "code",
   "execution_count": 26,
   "id": "c6ba40ab",
   "metadata": {},
   "outputs": [],
   "source": [
    "#'Date'변수에서 연도를 뽑아 'month'라는 새로운 변수 생성 및 적용\n",
    "month = lambda x: datetime.strptime(x, \"%Y-%m-%d\" ).month\n",
    "Data['month'] = Data['Date'].map(month)"
   ]
  },
  {
   "cell_type": "code",
   "execution_count": 27,
   "id": "12839169",
   "metadata": {},
   "outputs": [
    {
     "data": {
      "text/html": [
       "<div>\n",
       "<style scoped>\n",
       "    .dataframe tbody tr th:only-of-type {\n",
       "        vertical-align: middle;\n",
       "    }\n",
       "\n",
       "    .dataframe tbody tr th {\n",
       "        vertical-align: top;\n",
       "    }\n",
       "\n",
       "    .dataframe thead th {\n",
       "        text-align: right;\n",
       "    }\n",
       "</style>\n",
       "<table border=\"1\" class=\"dataframe\">\n",
       "  <thead>\n",
       "    <tr style=\"text-align: right;\">\n",
       "      <th></th>\n",
       "      <th>title</th>\n",
       "      <th>blogurl</th>\n",
       "      <th>writedate</th>\n",
       "      <th>maincontent</th>\n",
       "      <th>Date</th>\n",
       "      <th>year</th>\n",
       "      <th>month</th>\n",
       "    </tr>\n",
       "  </thead>\n",
       "  <tbody>\n",
       "    <tr>\n",
       "      <th>0</th>\n",
       "      <td>헬스 1주 일차 근황+보령머드축제 후기</td>\n",
       "      <td>https://blog.naver.com/cjh12011?Redirect=Log&amp;l...</td>\n",
       "      <td>20190725.0</td>\n",
       "      <td>\"공부가 젤 쉬웠어요\"​이 말에 다들 공감하나요....?​저 2년 가까이 공부하면서...</td>\n",
       "      <td>2019-07-25</td>\n",
       "      <td>2019</td>\n",
       "      <td>7</td>\n",
       "    </tr>\n",
       "    <tr>\n",
       "      <th>1</th>\n",
       "      <td>보령머드축제(2019년 22회차) 대천해수욕장</td>\n",
       "      <td>https://blog.naver.com/gkswlgp3594?Redirect=Lo...</td>\n",
       "      <td>20190726.0</td>\n",
       "      <td>보령머드축제(2019년 22회차) 대천해수욕장 보령머드축제(2019년 22회차)...</td>\n",
       "      <td>2019-07-26</td>\n",
       "      <td>2019</td>\n",
       "      <td>7</td>\n",
       "    </tr>\n",
       "    <tr>\n",
       "      <th>2</th>\n",
       "      <td>2018 여름 축제 :: 더위를 날려줄 국내 이색 축제 Pick 10! - 대구치맥...</td>\n",
       "      <td>https://blog.naver.com/daeguvisit?Redirect=Log...</td>\n",
       "      <td>20180621.0</td>\n",
       "      <td>2018 여름 축제국내 이색 축제 Pick 10대구치맥페스티벌, 보령머드축제 등다가...</td>\n",
       "      <td>2018-06-21</td>\n",
       "      <td>2018</td>\n",
       "      <td>6</td>\n",
       "    </tr>\n",
       "    <tr>\n",
       "      <th>3</th>\n",
       "      <td>제23회 보령머드축제 온라인축제 기간 프로그램</td>\n",
       "      <td>https://blog.naver.com/yoonseok8071?Redirect=L...</td>\n",
       "      <td>20200618.0</td>\n",
       "      <td>제23회 보령머드축제 온라인축제 안내보령시청●축제 기간: 2020.07.17(금) ...</td>\n",
       "      <td>2020-06-18</td>\n",
       "      <td>2020</td>\n",
       "      <td>6</td>\n",
       "    </tr>\n",
       "    <tr>\n",
       "      <th>4</th>\n",
       "      <td>보령)대천해수욕장 &amp; 2019 보령머드축제</td>\n",
       "      <td>https://blog.naver.com/jho0125?Redirect=Log&amp;lo...</td>\n",
       "      <td>20190716.0</td>\n",
       "      <td>안녕하세요오랜만에 포스팅을 시작하였어요!!  ​​이번에는 뭘할까 고민하다가...무더...</td>\n",
       "      <td>2019-07-16</td>\n",
       "      <td>2019</td>\n",
       "      <td>7</td>\n",
       "    </tr>\n",
       "  </tbody>\n",
       "</table>\n",
       "</div>"
      ],
      "text/plain": [
       "                                               title  \\\n",
       "0                             헬스 1주 일차 근황+보령머드축제 후기    \n",
       "1                         보령머드축제(2019년 22회차) 대천해수욕장    \n",
       "2  2018 여름 축제 :: 더위를 날려줄 국내 이색 축제 Pick 10! - 대구치맥...   \n",
       "3                         제23회 보령머드축제 온라인축제 기간 프로그램    \n",
       "4                           보령)대천해수욕장 & 2019 보령머드축제    \n",
       "\n",
       "                                             blogurl   writedate  \\\n",
       "0  https://blog.naver.com/cjh12011?Redirect=Log&l...  20190725.0   \n",
       "1  https://blog.naver.com/gkswlgp3594?Redirect=Lo...  20190726.0   \n",
       "2  https://blog.naver.com/daeguvisit?Redirect=Log...  20180621.0   \n",
       "3  https://blog.naver.com/yoonseok8071?Redirect=L...  20200618.0   \n",
       "4  https://blog.naver.com/jho0125?Redirect=Log&lo...  20190716.0   \n",
       "\n",
       "                                         maincontent        Date  year  month  \n",
       "0  \"공부가 젤 쉬웠어요\"​이 말에 다들 공감하나요....?​저 2년 가까이 공부하면서...  2019-07-25  2019      7  \n",
       "1    보령머드축제(2019년 22회차) 대천해수욕장 보령머드축제(2019년 22회차)...  2019-07-26  2019      7  \n",
       "2  2018 여름 축제국내 이색 축제 Pick 10대구치맥페스티벌, 보령머드축제 등다가...  2018-06-21  2018      6  \n",
       "3  제23회 보령머드축제 온라인축제 안내보령시청●축제 기간: 2020.07.17(금) ...  2020-06-18  2020      6  \n",
       "4  안녕하세요오랜만에 포스팅을 시작하였어요!!  ​​이번에는 뭘할까 고민하다가...무더...  2019-07-16  2019      7  "
      ]
     },
     "execution_count": 27,
     "metadata": {},
     "output_type": "execute_result"
    }
   ],
   "source": [
    "Data.head()"
   ]
  },
  {
   "cell_type": "code",
   "execution_count": null,
   "id": "cb75bb4c",
   "metadata": {},
   "outputs": [],
   "source": [
    "# 월별 문서건수를 카운드하기 위해 'Count'변수를 만들어 모두 1을 넣고 월별로 sum\n",
    "Data['Count'] = 1\n",
    "Data.groupby(by=['month']).agg({'Count':'sum'}).reset_index().sort_values(by=['month'])"
   ]
  },
  {
   "cell_type": "code",
   "execution_count": null,
   "id": "81703c74",
   "metadata": {},
   "outputs": [],
   "source": [
    "# 그래프로 확인 \n",
    "import matplotlib.pyplot as plt\n",
    "Data.groupby(by=['month']).agg({'Count':'sum'}).reset_index().sort_values(by=['month']).plot('month', 'Count', kind=\"line\")"
   ]
  },
  {
   "cell_type": "code",
   "execution_count": null,
   "id": "2e43c3c0",
   "metadata": {},
   "outputs": [],
   "source": [
    "# Data_Period.csv 파일로 저장해 둠\n",
    "Data.to_csv(\"Data_Period.csv\", index=False)"
   ]
  },
  {
   "cell_type": "markdown",
   "id": "fa623f53",
   "metadata": {},
   "source": [
    "## 2. 전처리와 정규식"
   ]
  },
  {
   "cell_type": "code",
   "execution_count": null,
   "id": "65c5526a",
   "metadata": {},
   "outputs": [],
   "source": [
    "# 블로그 글(TEXT)만 별로도 구성\n",
    "VOC = Data['maincontant']"
   ]
  },
  {
   "cell_type": "markdown",
   "id": "0a2bc53e",
   "metadata": {},
   "source": [
    "### 기본 전처리 \n",
    "- 첫번째 for문: 태그제거(html문서의 경우, 혹은 웹문서 크롤링 작업 시 남아 있는 경우)\n",
    "- 두번째 for문: 한글/영어/특수문자 등 제거 선택 \n",
    "- 세번째 for문: 형태소 추출(명사, 형용사, 동사....)\n",
    "- konlpy 형태소 종류는 'okt.tagset'로 확인 가능\n",
    "\n",
    "{'Adjective': '형용사', 'Adverb': '부사', 'Alpha': '알파벳', 'Conjunction': '접속사', 'Determiner': '관형사', 'Eomi': '어미', 'Exclamation': '감탄사', 'Foreign': '외국어, 한자 및 기타기호', 'Hashtag': '트위터 해쉬태그', 'Josa': '조사', 'KoreanParticle': '(ex: ㅋㅋ)', 'Noun': '명사', 'Number': '숫자', 'PreEomi': '선어말어미', 'Punctuation': '구두점', 'ScreenName': '트위터 아이디', 'Suffix': '접미사', 'Unknown': '미등록어', 'Verb': '동사'}"
   ]
  },
  {
   "cell_type": "code",
   "execution_count": null,
   "id": "a39f9549",
   "metadata": {},
   "outputs": [],
   "source": [
    "def clean_korean_documents(documents):\n",
    "    # 1. 텍스트 정제 (HTML 태그 제거)\n",
    "    for i, document in enumerate(documents):\n",
    "        document = BeautifulSoup(document, 'html.parser').text \n",
    "        documents[i] = document\n",
    "\n",
    "    # 2. 텍스트 정제 (특수기호 제거)\n",
    "    for i, document in enumerate(documents):\n",
    "        document = re.sub(r'[^ ㄱ-ㅣ가-힣]', '', document) #특수기호 제거, 정규 표현식\n",
    "        documents[i] = document\n",
    "\n",
    "    # 3. 텍스트 정제 (형태소 추출)\n",
    "    for i, document in enumerate(documents):\n",
    "        okt = konlpy.tag.Okt()\n",
    "        clean_words = []\n",
    "        for word in okt.pos(document, stem=True): #어간 추출\n",
    "            if word[1] in ['Noun', 'Adjective']: #명사, 형용사, okt.tagsets 참조\n",
    "                clean_words.append(word[0])\n",
    "        documents[i] = clean_words               # 이 경우 join 되지 않은 리스트 생성 ( ','로 구분 리스트)\n",
    "    \n",
    "    return documents"
   ]
  },
  {
   "cell_type": "code",
   "execution_count": null,
   "id": "305b72d1",
   "metadata": {},
   "outputs": [],
   "source": [
    "# 전처리 기본 함수 적용하여 PrePrecessed_TEXT 데이터셋(리스트) 생성\n",
    "Cleaned_VOC = clean_korean_documents(VOC)"
   ]
  },
  {
   "cell_type": "code",
   "execution_count": null,
   "id": "1abce0e8",
   "metadata": {},
   "outputs": [],
   "source": [
    "Cleaned_VOC[0]"
   ]
  },
  {
   "cell_type": "markdown",
   "id": "a8986ebe",
   "metadata": {},
   "source": [
    "### 추가 전처리1\n",
    "- 2글자 이상만: 1글자(예: 것, 저, 나.. 등은 의미를 알기 어렵고 중요도가 떨어질 수 있음)"
   ]
  },
  {
   "cell_type": "code",
   "execution_count": null,
   "id": "4f1e0882",
   "metadata": {},
   "outputs": [],
   "source": [
    "def lengthTxt(func):\n",
    "    newTxt = []\n",
    "    for doc in func:\n",
    "        filteredTxt = [w for w in doc if len(w) > 1]\n",
    "        newTxt.append(filteredTxt)\n",
    "    return newTxt"
   ]
  },
  {
   "cell_type": "code",
   "execution_count": null,
   "id": "0f537cbd",
   "metadata": {},
   "outputs": [],
   "source": [
    "Finished_VOC = lengthTxt(Cleaned_VOC)"
   ]
  },
  {
   "cell_type": "code",
   "execution_count": null,
   "id": "0458053e",
   "metadata": {},
   "outputs": [],
   "source": [
    "Finished_VOC[0]"
   ]
  },
  {
   "cell_type": "markdown",
   "id": "a59b9349",
   "metadata": {},
   "source": [
    "### 추가 전처리2\n",
    "- 불필요한, 무의미한 단어/글자 제거\n",
    "- 유사 단어의 통합 및 대체\n",
    "- <span style=\"color:red\"> 예: 보령 --> 보령시 </span>"
   ]
  },
  {
   "cell_type": "code",
   "execution_count": null,
   "id": "f9c99acc",
   "metadata": {},
   "outputs": [],
   "source": [
    "# 3. 문자 빈도, 문자특성 추출, 워드클라우드\n",
    "from collections import Counter\n",
    "from sklearn.feature_extraction.text import CountVectorizer\n",
    "from wordcloud import WordCloud\n",
    "from itertools import chain"
   ]
  },
  {
   "cell_type": "code",
   "execution_count": null,
   "id": "c64370c3",
   "metadata": {},
   "outputs": [],
   "source": [
    "print(Counter(list(chain.from_iterable(Finished_VOC))).most_common(10000))"
   ]
  },
  {
   "cell_type": "code",
   "execution_count": null,
   "id": "18ff1108",
   "metadata": {},
   "outputs": [],
   "source": [
    "def replaceTxt(func, old, new):\n",
    "    newList = []\n",
    "    for doc in func:\n",
    "        newTxt = []\n",
    "        for w in doc:\n",
    "            newTxt.append(w.replace(old, new))\n",
    "        newList.append(newTxt)\n",
    "    return newList"
   ]
  },
  {
   "cell_type": "code",
   "execution_count": null,
   "id": "b9e6af92",
   "metadata": {},
   "outputs": [],
   "source": [
    "# replaceTxt 정의함수(글자대체) 전처리 수행\n",
    "\n",
    "Finished_VOC = replaceTxt(Finished_VOC, '있다', '')\n",
    "Finished_VOC = replaceTxt(Finished_VOC, '없다', '')\n",
    "Finished_VOC = replaceTxt(Finished_VOC, '영상', '')\n",
    "Finished_VOC = replaceTxt(Finished_VOC, '리다', '')\n",
    "Finished_VOC = replaceTxt(Finished_VOC, '이다', '')\n",
    "Finished_VOC = replaceTxt(Finished_VOC, '같다', '')\n",
    "Finished_VOC = replaceTxt(Finished_VOC, '복사', '')\n",
    "Finished_VOC = replaceTxt(Finished_VOC, '이상', '')\n",
    "Finished_VOC = replaceTxt(Finished_VOC, '도움말', '')\n",
    "Finished_VOC = replaceTxt(Finished_VOC, '아니다', '')\n",
    "Finished_VOC = replaceTxt(Finished_VOC, '트랙', '')\n",
    "Finished_VOC = replaceTxt(Finished_VOC, '광고', '')\n",
    "Finished_VOC = replaceTxt(Finished_VOC, '소요', '')\n",
    "Finished_VOC = replaceTxt(Finished_VOC, '코드', '')\n",
    "Finished_VOC = replaceTxt(Finished_VOC, '화질', '')\n",
    "Finished_VOC = replaceTxt(Finished_VOC, '우리', '')\n",
    "Finished_VOC = replaceTxt(Finished_VOC, '비로', '')\n",
    "Finished_VOC = replaceTxt(Finished_VOC, '때문', '')\n",
    "Finished_VOC = replaceTxt(Finished_VOC, '주소', '')\n",
    "Finished_VOC = replaceTxt(Finished_VOC, '대표', '')\n",
    "Finished_VOC = replaceTxt(Finished_VOC, '동영상', '')\n",
    "Finished_VOC = replaceTxt(Finished_VOC, '가기', '')\n",
    "Finished_VOC = replaceTxt(Finished_VOC, '대한민국', '')\n",
    "Finished_VOC = replaceTxt(Finished_VOC, '화질', '')\n",
    "Finished_VOC = replaceTxt(Finished_VOC, '우리', '')\n",
    "Finished_VOC = replaceTxt(Finished_VOC, '그렇다', '')\n",
    "Finished_VOC = replaceTxt(Finished_VOC, '정도', '')\n",
    "Finished_VOC = replaceTxt(Finished_VOC, '이번', '')\n",
    "Finished_VOC = replaceTxt(Finished_VOC, '저희', '')\n",
    "Finished_VOC = replaceTxt(Finished_VOC, '해주다', '')\n",
    "\n",
    "# 다시 한번 lengthTxt(두 글자 이상) 함수 적용\n",
    "Finished_VOC = lengthTxt(Finished_VOC)"
   ]
  },
  {
   "cell_type": "code",
   "execution_count": null,
   "id": "c34bec70",
   "metadata": {},
   "outputs": [],
   "source": [
    "print(Counter(list(chain.from_iterable(Finished_VOC))).most_common(10000))"
   ]
  },
  {
   "cell_type": "markdown",
   "id": "3c303755",
   "metadata": {},
   "source": [
    "### 추가 전처리 함수3\n",
    "- 단어를 조인(join)할 함수\n",
    "- 실제 분석에서는 조인된 데이터를 주로 이용"
   ]
  },
  {
   "cell_type": "code",
   "execution_count": null,
   "id": "bb996938",
   "metadata": {},
   "outputs": [],
   "source": [
    "def joinTxt(func):\n",
    "    newTxt = []\n",
    "    for doc in func:\n",
    "        newTxt.append(\" \".join(doc))\n",
    "    return newTxt"
   ]
  },
  {
   "cell_type": "code",
   "execution_count": null,
   "id": "b9cb214b",
   "metadata": {},
   "outputs": [],
   "source": [
    "# 함수 적용\n",
    "Finished_VOC_JOIN = joinTxt(Finished_VOC)"
   ]
  },
  {
   "cell_type": "code",
   "execution_count": null,
   "id": "54ab66da",
   "metadata": {},
   "outputs": [],
   "source": [
    "Finished_VOC[:2]"
   ]
  },
  {
   "cell_type": "code",
   "execution_count": null,
   "id": "852d6608",
   "metadata": {},
   "outputs": [],
   "source": [
    "# 일부 확인\n",
    "Finished_VOC_JOIN[:2]"
   ]
  },
  {
   "cell_type": "markdown",
   "id": "7946091b",
   "metadata": {},
   "source": [
    "### 전처리 데이터 저장\n",
    "- bin파일로 저장하여 향후 분석시 본 데이터를 활용\n",
    "- 1: 단어별 컴마(,)로 구분된 데이터 (Finished_VOC)\n",
    "- 2: 단어를 조인, 문서(글) 단위의 데이터 (Finished_VOC_JOIN)"
   ]
  },
  {
   "cell_type": "code",
   "execution_count": null,
   "id": "2a7710ac",
   "metadata": {},
   "outputs": [],
   "source": [
    "import pickle\n",
    "\n",
    "with open('Finished_VOC.bin', 'wb') as fp:\n",
    "    pickle.dump(Finished_VOC, fp)"
   ]
  },
  {
   "cell_type": "code",
   "execution_count": null,
   "id": "3641ed6b",
   "metadata": {},
   "outputs": [],
   "source": [
    "with open('Finished_VOC_JOIN.bin', 'wb') as fp:\n",
    "    pickle.dump(Finished_VOC_JOIN, fp)"
   ]
  },
  {
   "cell_type": "markdown",
   "id": "2837f049",
   "metadata": {},
   "source": [
    "## 3. 워드클라우드"
   ]
  },
  {
   "cell_type": "markdown",
   "id": "fb1ee315",
   "metadata": {},
   "source": [
    "### 전체 문서 대상 분석"
   ]
  },
  {
   "cell_type": "code",
   "execution_count": null,
   "id": "24ece630",
   "metadata": {},
   "outputs": [],
   "source": [
    "# 전처리 완료된 데이터 중 조인(join)된 데이터 불러오기\n",
    "with open('Finished_VOC_JOIN.bin', 'rb') as fp:\n",
    "    ko_word = pickle.load(fp)"
   ]
  },
  {
   "cell_type": "code",
   "execution_count": null,
   "id": "38c6f071",
   "metadata": {},
   "outputs": [],
   "source": [
    "# 1. 상위 빈도 200개 단어 추출 \n",
    "# 2. dtm구조로 구성\n",
    "# 3. 단어명을 words에 저장\n",
    "cv=CountVectorizer(max_features=200)\n",
    "dtm=cv.fit_transform(ko_word)\n",
    "words=cv.get_feature_names()"
   ]
  },
  {
   "cell_type": "code",
   "execution_count": null,
   "id": "5cb0e5a3",
   "metadata": {},
   "outputs": [],
   "source": [
    "print(cv)\n",
    "print(dtm)\n",
    "print(words)"
   ]
  },
  {
   "cell_type": "code",
   "execution_count": null,
   "id": "8a3405e9",
   "metadata": {},
   "outputs": [],
   "source": [
    "# 1. 단어 합계계산\n",
    "# 2. 2차원을 1차원으로 변경(squeeze)\n",
    "# 3. 단어명-단어빈도 결합\n",
    "# 4. 빈도 높은 순으로 sort\n",
    "count_mat=dtm.sum(axis=0)\n",
    "count=np.squeeze(np.asarray(count_mat))\n",
    "word_count=list(zip(words,count))\n",
    "word_count=sorted(word_count, key=lambda x:x[1], reverse=True)\n",
    "word_count"
   ]
  },
  {
   "cell_type": "code",
   "execution_count": null,
   "id": "7722da71",
   "metadata": {},
   "outputs": [],
   "source": [
    "# 워드클라우드 시각화 \n",
    "wc=WordCloud(font_path='C:/Windows/Fonts/malgun.ttf', background_color='black', width=1200, height=800)\n",
    "cloud=wc.generate_from_frequencies(dict(word_count))\n",
    "\n",
    "plt.figure(figsize=(12,12))\n",
    "plt.imshow(cloud)\n",
    "plt.axis('off')\n",
    "plt.show()"
   ]
  },
  {
   "cell_type": "markdown",
   "id": "a11344ed",
   "metadata": {},
   "source": [
    "### 기간별(여기서는 월별) 분석"
   ]
  },
  {
   "cell_type": "code",
   "execution_count": null,
   "id": "065fde5d",
   "metadata": {},
   "outputs": [],
   "source": [
    "# 전처리 완료된 데이터 중 조인(join)된 데이터 불러오기\n",
    "with open('Finished_VOC_JOIN.bin', 'rb') as fp:\n",
    "    ko_word = pickle.load(fp)"
   ]
  },
  {
   "cell_type": "code",
   "execution_count": null,
   "id": "d7a44bec",
   "metadata": {},
   "outputs": [],
   "source": [
    "# 원데이터의 기간구분(연도, 월) 변수만 별도로 저장\n",
    "Data_Period=pd.read_csv(\"Data_Period.csv\")\n",
    "months = Data_Period['month']"
   ]
  },
  {
   "cell_type": "code",
   "execution_count": null,
   "id": "905ae00f",
   "metadata": {},
   "outputs": [],
   "source": [
    "# 월구분 변수 + 문서(글) 변수 병합\n",
    "Monthly_VOC = pd.DataFrame.from_records(zip(months, ko_word), columns=['month', 'VOC'])"
   ]
  },
  {
   "cell_type": "code",
   "execution_count": null,
   "id": "edb7777e",
   "metadata": {},
   "outputs": [],
   "source": [
    "Monthly_VOC"
   ]
  },
  {
   "cell_type": "markdown",
   "id": "cf43a267",
   "metadata": {},
   "source": [
    "#### 1월 VOC "
   ]
  },
  {
   "cell_type": "code",
   "execution_count": null,
   "id": "bebe96f5",
   "metadata": {},
   "outputs": [],
   "source": [
    "month_1=Monthly_VOC[Monthly_VOC['month']==1]\n",
    "\n",
    "cv=CountVectorizer(max_features=50)\n",
    "dtm_1=cv.fit_transform(month_1['VOC'])\n",
    "words_1=cv.get_feature_names()\n",
    "count_mat1=dtm_1.sum(axis=0)\n",
    "count1=np.squeeze(np.asarray(count_mat1))\n",
    "word_count1=list(zip(words_1,count1))\n",
    "word_count1=sorted(word_count1, key=lambda x:x[1], reverse=True)"
   ]
  },
  {
   "cell_type": "code",
   "execution_count": null,
   "id": "755f774d",
   "metadata": {},
   "outputs": [],
   "source": [
    "word_count1"
   ]
  },
  {
   "cell_type": "code",
   "execution_count": null,
   "id": "8afd14eb",
   "metadata": {},
   "outputs": [],
   "source": [
    "# 워드클라우드 시각화 \n",
    "wc=WordCloud(font_path='C:/Windows/Fonts/malgun.ttf', background_color='black', width=1200, height=800)\n",
    "cloud=wc.generate_from_frequencies(dict(word_count1))\n",
    "\n",
    "plt.figure(figsize=(12,12))\n",
    "plt.imshow(cloud)\n",
    "plt.axis('off')\n",
    "plt.show()"
   ]
  },
  {
   "cell_type": "markdown",
   "id": "fdcada3f",
   "metadata": {},
   "source": [
    "### 월별 워드카운드 분석"
   ]
  },
  {
   "cell_type": "code",
   "execution_count": null,
   "id": "e515cb31",
   "metadata": {},
   "outputs": [],
   "source": [
    "month_2=Monthly_VOC[Monthly_VOC['month']==2]\n",
    "month_3=Monthly_VOC[Monthly_VOC['month']==3]\n",
    "month_4=Monthly_VOC[Monthly_VOC['month']==4]\n",
    "month_5=Monthly_VOC[Monthly_VOC['month']==5]\n",
    "month_6=Monthly_VOC[Monthly_VOC['month']==6]\n",
    "month_7=Monthly_VOC[Monthly_VOC['month']==7]\n",
    "month_8=Monthly_VOC[Monthly_VOC['month']==8]\n",
    "month_9=Monthly_VOC[Monthly_VOC['month']==9]\n",
    "month_10=Monthly_VOC[Monthly_VOC['month']==10]\n",
    "month_11=Monthly_VOC[Monthly_VOC['month']==11]\n",
    "month_12=Monthly_VOC[Monthly_VOC['month']==12]"
   ]
  },
  {
   "cell_type": "code",
   "execution_count": null,
   "id": "c416c9b5",
   "metadata": {},
   "outputs": [],
   "source": [
    "## 2월\n",
    "dtm_2=cv.fit_transform(month_2['VOC'])\n",
    "words_2=cv.get_feature_names()\n",
    "count_mat2=dtm_2.sum(axis=0)\n",
    "count2=np.squeeze(np.asarray(count_mat2))\n",
    "word_count2=list(zip(words_2,count2))\n",
    "word_count2=sorted(word_count2, key=lambda x:x[1], reverse=True)\n",
    "\n",
    "## 3월\n",
    "dtm_3=cv.fit_transform(month_3['VOC'])\n",
    "words_3=cv.get_feature_names()\n",
    "count_mat3=dtm_3.sum(axis=0)\n",
    "count3=np.squeeze(np.asarray(count_mat3))\n",
    "word_count3=list(zip(words_3,count3))\n",
    "word_count3=sorted(word_count3, key=lambda x:x[1], reverse=True)\n",
    "\n",
    "## 4월\n",
    "dtm_4=cv.fit_transform(month_4['VOC'])\n",
    "words_4=cv.get_feature_names()\n",
    "count_mat4=dtm_4.sum(axis=0)\n",
    "count4=np.squeeze(np.asarray(count_mat4))\n",
    "word_count4=list(zip(words_4,count4))\n",
    "word_count4=sorted(word_count4, key=lambda x:x[1], reverse=True)\n",
    "\n",
    "## 5월\n",
    "dtm_5=cv.fit_transform(month_5['VOC'])\n",
    "words_5=cv.get_feature_names()\n",
    "count_mat5=dtm_5.sum(axis=0)\n",
    "count5=np.squeeze(np.asarray(count_mat5))\n",
    "word_count5=list(zip(words_5,count5))\n",
    "word_count5=sorted(word_count5, key=lambda x:x[1], reverse=True)\n",
    "\n",
    "## 6월\n",
    "dtm_6=cv.fit_transform(month_6['VOC'])\n",
    "words_6=cv.get_feature_names()\n",
    "count_mat6=dtm_6.sum(axis=0)\n",
    "count6=np.squeeze(np.asarray(count_mat6))\n",
    "word_count6=list(zip(words_6,count6))\n",
    "word_count6=sorted(word_count6, key=lambda x:x[1], reverse=True)\n",
    "\n",
    "## 7월\n",
    "dtm_7=cv.fit_transform(month_7['VOC'])\n",
    "words_7=cv.get_feature_names()\n",
    "count_mat7=dtm_7.sum(axis=0)\n",
    "count7=np.squeeze(np.asarray(count_mat7))\n",
    "word_count7=list(zip(words_7,count7))\n",
    "word_count7=sorted(word_count7, key=lambda x:x[1], reverse=True)\n",
    "\n",
    "## 8월\n",
    "dtm_8=cv.fit_transform(month_8['VOC'])\n",
    "words_8=cv.get_feature_names()\n",
    "count_mat8=dtm_8.sum(axis=0)\n",
    "count8=np.squeeze(np.asarray(count_mat8))\n",
    "word_count8=list(zip(words_8,count8))\n",
    "word_count8=sorted(word_count8, key=lambda x:x[1], reverse=True)\n",
    "\n",
    "## 9월\n",
    "dtm_9=cv.fit_transform(month_9['VOC'])\n",
    "words_9=cv.get_feature_names()\n",
    "count_mat9=dtm_9.sum(axis=0)\n",
    "count9=np.squeeze(np.asarray(count_mat9))\n",
    "word_count9=list(zip(words_9,count9))\n",
    "word_count9=sorted(word_count9, key=lambda x:x[1], reverse=True)\n",
    "\n",
    "## 10월\n",
    "dtm_10=cv.fit_transform(month_10['VOC'])\n",
    "words_10=cv.get_feature_names()\n",
    "count_mat10=dtm_10.sum(axis=0)\n",
    "count10=np.squeeze(np.asarray(count_mat10))\n",
    "word_count10=list(zip(words_10,count10))\n",
    "word_count10=sorted(word_count10, key=lambda x:x[1], reverse=True)\n",
    "\n",
    "## 11월\n",
    "dtm_11=cv.fit_transform(month_11['VOC'])\n",
    "words_11=cv.get_feature_names()\n",
    "count_mat11=dtm_11.sum(axis=0)\n",
    "count11=np.squeeze(np.asarray(count_mat11))\n",
    "word_count11=list(zip(words_11,count11))\n",
    "word_count11=sorted(word_count11, key=lambda x:x[1], reverse=True)\n",
    "\n",
    "## 12월\n",
    "dtm_12=cv.fit_transform(month_12['VOC'])\n",
    "words_12=cv.get_feature_names()\n",
    "count_mat12=dtm_12.sum(axis=0)\n",
    "count12=np.squeeze(np.asarray(count_mat12))\n",
    "word_count12=list(zip(words_12,count12))\n",
    "word_count12=sorted(word_count12, key=lambda x:x[1], reverse=True)"
   ]
  },
  {
   "cell_type": "code",
   "execution_count": null,
   "id": "49d05f43",
   "metadata": {},
   "outputs": [],
   "source": [
    "# 월별 상위 단어를 하나의 데이터 프레임 형식으로 합치기\n",
    "WordsCount_Monthly=pd.DataFrame.from_records(zip(word_count1, word_count2, word_count3, word_count4, word_count5, word_count6, word_count7, word_count8, word_count9, word_count10, word_count11, word_count12), \n",
    "                                             columns=['1월', '2월', '3월', '4월', '5월', '6월', '7월', '8월', '9월', '10월', '11월', '12월'])\n",
    "WordsCount_Monthly"
   ]
  },
  {
   "cell_type": "code",
   "execution_count": null,
   "id": "0ab1d99e",
   "metadata": {},
   "outputs": [],
   "source": [
    "WordsCount_Monthly.to_csv(\"월별집계.csv\", index=False, encoding='cp949')"
   ]
  },
  {
   "cell_type": "markdown",
   "id": "71903f80",
   "metadata": {},
   "source": [
    "## 4. 워드 네트워크"
   ]
  },
  {
   "cell_type": "code",
   "execution_count": null,
   "id": "dd7f57d8",
   "metadata": {},
   "outputs": [],
   "source": [
    "# 전처리 완료된 데이터 중 조인(join)된 데이터 불러오기\n",
    "with open('Finished_VOC_JOIN.bin', 'rb') as fp:\n",
    "    ko_word = pickle.load(fp)"
   ]
  },
  {
   "cell_type": "markdown",
   "id": "ff956d2d",
   "metadata": {},
   "source": [
    "### TF 기준 네트워크"
   ]
  },
  {
   "cell_type": "code",
   "execution_count": null,
   "id": "c1a02d84",
   "metadata": {},
   "outputs": [],
   "source": [
    "# 100개 상위 단어들만 추출\n",
    "# dtm 구성 후, 행렬로 만듬\n",
    "# 단어-단어간 행렬을 위해 dtm과 tdm 연상하여 ko_ttm 구성(네트워크 적용 데이터)\n",
    "# 상위 단어명 words_names에 저장\n",
    "ko_countVectorizer = CountVectorizer(max_features=100)\n",
    "ko_dtm = ko_countVectorizer.fit_transform(ko_word)\n",
    "ko_dtm_dense = ko_dtm.todense()\n",
    "ko_ttm=np.dot(ko_dtm_dense.T, ko_dtm_dense)\n",
    "words_name = ko_countVectorizer.get_feature_names()"
   ]
  },
  {
   "cell_type": "markdown",
   "id": "59297b29",
   "metadata": {},
   "source": [
    "### TFIDF 기준 네트워크"
   ]
  },
  {
   "cell_type": "code",
   "execution_count": null,
   "id": "8cc09e5a",
   "metadata": {},
   "outputs": [],
   "source": [
    "ko_countVectorizer = TfidfVectorizer(max_features=100)\n",
    "ko_dtm = ko_countVectorizer.fit_transform(ko_word)\n",
    "ko_dtm_dense = ko_dtm.todense()\n",
    "ko_ttm=np.dot(ko_dtm_dense.T, ko_dtm_dense)\n",
    "words_name = ko_countVectorizer.get_feature_names()"
   ]
  },
  {
   "cell_type": "code",
   "execution_count": null,
   "id": "6fc47060",
   "metadata": {},
   "outputs": [],
   "source": [
    "ko_ttm"
   ]
  },
  {
   "cell_type": "code",
   "execution_count": null,
   "id": "7afbd569",
   "metadata": {},
   "outputs": [],
   "source": [
    "# 한글 폰트 설정\n",
    "from matplotlib import font_manager\n",
    "ko_font_location = \"C:/Windows/Fonts/malgun.ttf\"\n",
    "ko_font_name = font_manager.FontProperties(fname=ko_font_location).get_name()\n",
    "plt.rc('font', family=words_name)"
   ]
  },
  {
   "cell_type": "code",
   "execution_count": null,
   "id": "e468c7e3",
   "metadata": {},
   "outputs": [],
   "source": [
    "# pip install networkx"
   ]
  },
  {
   "cell_type": "code",
   "execution_count": null,
   "id": "ba207598",
   "metadata": {},
   "outputs": [],
   "source": [
    "import networkx as nx\n",
    "from networkx.drawing.nx_pydot import graphviz_layout"
   ]
  },
  {
   "cell_type": "code",
   "execution_count": null,
   "id": "531bc9ef",
   "metadata": {},
   "outputs": [],
   "source": [
    "# 100개 단어간 network 시각화\n",
    "plt.figure(figsize=(12,10)) \n",
    "g = nx.Graph(ko_ttm[:, :])\n",
    "en_map = dict(zip(g.nodes(), words_name))\n",
    "pos=nx.spring_layout(g)\n",
    "nx.draw(g, pos=pos, labels=en_map, with_labels=True, font_family=ko_font_name,\n",
    "       node_color='pink', node_size=500, node_shape='s',\n",
    "       edge_color='grey', width=0.3)\n",
    "plt.show()"
   ]
  },
  {
   "cell_type": "markdown",
   "id": "8e601bd1",
   "metadata": {},
   "source": [
    "## 5. 키워드 매칭 텍스트 추출 및 분석"
   ]
  },
  {
   "cell_type": "code",
   "execution_count": null,
   "id": "2c003fc9",
   "metadata": {},
   "outputs": [],
   "source": [
    "# 원본 데이터 다시 불러오기\n",
    "Data2 = pd.read_csv('Mud_Festival.csv')\n",
    "Keyword_Text = Data2['maincontant']\n",
    "Keyword_List = list(Keyword_Text)"
   ]
  },
  {
   "cell_type": "code",
   "execution_count": null,
   "id": "f850911e",
   "metadata": {},
   "outputs": [],
   "source": [
    "# 몇 개만 확인\n",
    "Keyword_List[:2]"
   ]
  },
  {
   "cell_type": "code",
   "execution_count": null,
   "id": "98e16078",
   "metadata": {},
   "outputs": [],
   "source": [
    "# 추출할 키워드 설정\n",
    "keywords='머드 제품|머드제품|머드 화장품|머드화장품|머드 샴푸|머드샴푸|머드 컨디셔너|머드컨디셔너|머드 바디클렌저|머드바디크렌저|머드 팩|머드팩|머드 크렌징|머드크렌징|머드 비누|머드비누|머드 로션|머드로션|머드 크림|머드크림|머드 에센스|머드에센스|머드 마스크팩|머드마스크팩|머드 파우더|머드파우더|머드 원액|머드원액'"
   ]
  },
  {
   "cell_type": "code",
   "execution_count": null,
   "id": "d6d44990",
   "metadata": {},
   "outputs": [],
   "source": [
    "lines=[]\n",
    "keywords_TEXT=[]"
   ]
  },
  {
   "cell_type": "code",
   "execution_count": null,
   "id": "5216c21e",
   "metadata": {},
   "outputs": [],
   "source": [
    "for paragraph in Keyword_List:\n",
    "    lines=paragraph.split(\".\")\n",
    "    for each_line in lines:\n",
    "        if re.search(keywords, each_line):\n",
    "            keywords_TEXT.append(each_line)\n",
    "        else:\n",
    "            pass"
   ]
  },
  {
   "cell_type": "code",
   "execution_count": null,
   "id": "5ed84ce8",
   "metadata": {},
   "outputs": [],
   "source": [
    "print('추출된 키워드 포함 문장의 수는 {}개입니다.'.format(len(keywords_TEXT)))"
   ]
  },
  {
   "cell_type": "code",
   "execution_count": null,
   "id": "5b81849b",
   "metadata": {},
   "outputs": [],
   "source": [
    "keywords_TEXT[0]"
   ]
  },
  {
   "cell_type": "markdown",
   "id": "604b1e36",
   "metadata": {},
   "source": [
    "### 키워드 포함된 문장의 전처리 함수 적용"
   ]
  },
  {
   "cell_type": "code",
   "execution_count": null,
   "id": "0237ad94",
   "metadata": {},
   "outputs": [],
   "source": [
    "# 전처리 적용1: 1) html제거, 특수문자 제거, 형태소 추출 함수, 2) 2글자 이상 추출 함수\n",
    "Finished_Keywords = clean_korean_documents(keywords_TEXT)\n",
    "Finished_Keywords = lengthTxt(Finished_Keywords)\n",
    "print(Counter(list(chain.from_iterable(Finished_Keywords))).most_common(10000))"
   ]
  },
  {
   "cell_type": "code",
   "execution_count": null,
   "id": "a8b21cfd",
   "metadata": {},
   "outputs": [],
   "source": [
    "# 전처리 적용2: replaceTxt 정의함수(글자대체) 전처리 수행\n",
    "Finished_Keywords = replaceTxt(Finished_Keywords, '있다', '')\n",
    "Finished_Keywords = replaceTxt(Finished_Keywords, '없다', '')\n",
    "Finished_Keywords = replaceTxt(Finished_Keywords, '영상', '')\n",
    "Finished_Keywords = replaceTxt(Finished_Keywords, '리다', '')\n",
    "Finished_Keywords = replaceTxt(Finished_Keywords, '이다', '')\n",
    "Finished_Keywords = replaceTxt(Finished_Keywords, '같다', '')\n",
    "Finished_Keywords = replaceTxt(Finished_Keywords, '복사', '')\n",
    "Finished_Keywords = replaceTxt(Finished_Keywords, '이상', '')\n",
    "Finished_Keywords = replaceTxt(Finished_Keywords, '도움말', '')\n",
    "Finished_Keywords = replaceTxt(Finished_Keywords, '아니다', '')\n",
    "Finished_Keywords = replaceTxt(Finished_Keywords, '트랙', '')\n",
    "Finished_Keywords = replaceTxt(Finished_Keywords, '광고', '')\n",
    "Finished_Keywords = replaceTxt(Finished_Keywords, '소요', '')\n",
    "Finished_Keywords = replaceTxt(Finished_Keywords, '코드', '')\n",
    "Finished_Keywords = replaceTxt(Finished_Keywords, '화질', '')\n",
    "Finished_Keywords = replaceTxt(Finished_Keywords, '우리', '')\n",
    "Finished_Keywords = replaceTxt(Finished_Keywords, '비로', '')\n",
    "Finished_Keywords = replaceTxt(Finished_Keywords, '때문', '')\n",
    "Finished_Keywords = replaceTxt(Finished_Keywords, '주소', '')\n",
    "Finished_Keywords = replaceTxt(Finished_Keywords, '대표', '')\n",
    "Finished_Keywords = replaceTxt(Finished_Keywords, '동영상', '')\n",
    "Finished_Keywords = replaceTxt(Finished_Keywords, '가기', '')\n",
    "Finished_Keywords = replaceTxt(Finished_Keywords, '대한민국', '')\n",
    "Finished_Keywords = replaceTxt(Finished_Keywords, '화질', '')\n",
    "Finished_Keywords = replaceTxt(Finished_Keywords, '우리', '')\n",
    "Finished_Keywords = replaceTxt(Finished_Keywords, '그렇다', '')\n",
    "Finished_Keywords = replaceTxt(Finished_Keywords, '정도', '')\n",
    "Finished_Keywords = replaceTxt(Finished_Keywords, '이번', '')\n",
    "Finished_Keywords = replaceTxt(Finished_Keywords, '저희', '')\n",
    "Finished_Keywords = replaceTxt(Finished_Keywords, '해주다', '')\n",
    "\n",
    "# 2글지 이상 함수 재 적용\n",
    "Finished_Keywords = lengthTxt(Finished_Keywords)"
   ]
  },
  {
   "cell_type": "markdown",
   "id": "19a76566",
   "metadata": {},
   "source": [
    "- bin파일로 저장하여 향후 분석시 본 데이터를 활용\n",
    "- 1: 단어별 컴마(,)로 구분된 데이터 (FinishedKeywords_TEXT)\n",
    "- 2: 단어를 조인, 문서(글) 단위의 데이터 (FinishedKeywords_TEXT_JOIN)"
   ]
  },
  {
   "cell_type": "code",
   "execution_count": null,
   "id": "523efd37",
   "metadata": {},
   "outputs": [],
   "source": [
    "Finished_Keywords_JOIN = joinTxt(Finished_Keywords)"
   ]
  },
  {
   "cell_type": "code",
   "execution_count": null,
   "id": "f6fe5e7c",
   "metadata": {},
   "outputs": [],
   "source": [
    "with open('Finished_Keywords.bin', 'wb') as fp:\n",
    "    pickle.dump(Finished_Keywords, fp)\n",
    "\n",
    "with open('Finished_Keywords_JOIN.bin', 'wb') as fp:\n",
    "    pickle.dump(Finished_Keywords_JOIN, fp)"
   ]
  },
  {
   "cell_type": "markdown",
   "id": "d04b91e7",
   "metadata": {},
   "source": [
    "### 워드 빈도 및 워드크라우드: 키워드 포함 문장만"
   ]
  },
  {
   "cell_type": "code",
   "execution_count": null,
   "id": "591ca6b6",
   "metadata": {},
   "outputs": [],
   "source": [
    "with open('Finished_Keywords_JOIN.bin', 'rb') as fp:\n",
    "    ko_word = pickle.load(fp)\n",
    "\n",
    "cv=CountVectorizer(max_features=200)\n",
    "dtm=cv.fit_transform(ko_word)\n",
    "words=cv.get_feature_names()\n",
    "count_mat=dtm.sum(axis=0)\n",
    "\n",
    "count=np.squeeze(np.asarray(count_mat))\n",
    "word_count=list(zip(words,count))\n",
    "word_count=sorted(word_count, key=lambda x:x[1], reverse=True)\n",
    "word_count\n",
    "\n",
    "wc=WordCloud(font_path='C:/Windows/Fonts/malgun.ttf', background_color='black', width=1200, height=800)\n",
    "cloud=wc.generate_from_frequencies(dict(word_count))\n",
    "\n",
    "plt.figure(figsize=(12,12))\n",
    "plt.imshow(cloud)\n",
    "plt.axis('off')\n",
    "plt.show()"
   ]
  },
  {
   "cell_type": "markdown",
   "id": "81d0543b",
   "metadata": {},
   "source": [
    "### 워드 네트워크: 키워드 포함 문장만"
   ]
  },
  {
   "cell_type": "code",
   "execution_count": null,
   "id": "4e04cb1d",
   "metadata": {},
   "outputs": [],
   "source": [
    "with open('Finished_Keywords_JOIN.bin', 'rb') as fp:\n",
    "    ko_word = pickle.load(fp)\n",
    "\n",
    "ko_countVectorizer = CountVectorizer(max_features=50)\n",
    "ko_dtm = ko_countVectorizer.fit_transform(ko_word)\n",
    "ko_dtm_dense = ko_dtm.todense()\n",
    "\n",
    "words_name = ko_countVectorizer.get_feature_names()\n",
    "ko_ttm=np.dot(ko_dtm_dense.T, ko_dtm_dense)\n",
    "\n",
    "ko_font_location = \"C:/Windows/Fonts/malgun.ttf\"\n",
    "ko_font_name = font_manager.FontProperties(fname=ko_font_location).get_name()\n",
    "plt.rc('font', family=words_name)\n",
    "\n",
    "plt.figure(figsize=(12,10)) \n",
    "g = nx.Graph(ko_ttm[:, :])\n",
    "en_map = dict(zip(g.nodes(), words_name))\n",
    "pos=nx.spring_layout(g)\n",
    "nx.draw(g, pos=pos, labels=en_map, with_labels=True, font_family=ko_font_name,\n",
    "       node_color='pink', node_size=500, node_shape='s',\n",
    "       edge_color='grey', width=0.3)\n",
    "plt.show()"
   ]
  },
  {
   "cell_type": "markdown",
   "id": "ecf72b62",
   "metadata": {},
   "source": [
    "## 6. bi-gram"
   ]
  },
  {
   "cell_type": "code",
   "execution_count": null,
   "id": "55dadead",
   "metadata": {},
   "outputs": [],
   "source": [
    "with open('Finished_Keywords_JOIN.bin', 'rb') as fp:\n",
    "    ko_word = pickle.load(fp)"
   ]
  },
  {
   "cell_type": "code",
   "execution_count": null,
   "id": "471bcd15",
   "metadata": {},
   "outputs": [],
   "source": [
    "ko_word"
   ]
  },
  {
   "cell_type": "code",
   "execution_count": null,
   "id": "404d2ee8",
   "metadata": {},
   "outputs": [],
   "source": [
    "bi_cv=CountVectorizer(max_features=100, ngram_range=(2,2))"
   ]
  },
  {
   "cell_type": "code",
   "execution_count": null,
   "id": "f7ee76a7",
   "metadata": {},
   "outputs": [],
   "source": [
    "bi_gram=bi_cv.fit_transform(ko_word)"
   ]
  },
  {
   "cell_type": "code",
   "execution_count": null,
   "id": "1e580e8e",
   "metadata": {},
   "outputs": [],
   "source": [
    "print(bi_gram)"
   ]
  },
  {
   "cell_type": "code",
   "execution_count": null,
   "id": "24901240",
   "metadata": {},
   "outputs": [],
   "source": [
    "bi_words=bi_cv.get_feature_names()"
   ]
  },
  {
   "cell_type": "code",
   "execution_count": null,
   "id": "d703d593",
   "metadata": {},
   "outputs": [],
   "source": [
    "bi_words[:10]"
   ]
  },
  {
   "cell_type": "code",
   "execution_count": null,
   "id": "f2ecff03",
   "metadata": {},
   "outputs": [],
   "source": [
    "bi_count_mat=bi_gram.sum(axis=0)\n",
    "bi_count_mat"
   ]
  },
  {
   "cell_type": "code",
   "execution_count": null,
   "id": "c1cd29e5",
   "metadata": {},
   "outputs": [],
   "source": [
    "bi_count=np.squeeze(np.asarray(bi_count_mat))\n",
    "bi_word_count=list(zip(bi_words,bi_count))\n",
    "bi_word_count[:10]"
   ]
  },
  {
   "cell_type": "code",
   "execution_count": null,
   "id": "fef0b87f",
   "metadata": {},
   "outputs": [],
   "source": [
    "bi_word_count=sorted(bi_word_count, key=lambda x:x[1], reverse=True)"
   ]
  },
  {
   "cell_type": "code",
   "execution_count": null,
   "id": "af94f2ec",
   "metadata": {},
   "outputs": [],
   "source": [
    "bi_word_count[:10]"
   ]
  },
  {
   "cell_type": "code",
   "execution_count": null,
   "id": "2bf626c0",
   "metadata": {},
   "outputs": [],
   "source": [
    "bigram_df = pd.DataFrame(bi_word_count, columns=['bigram', 'count'])"
   ]
  },
  {
   "cell_type": "code",
   "execution_count": null,
   "id": "ed49ce29",
   "metadata": {},
   "outputs": [],
   "source": [
    "bigram_df.head()"
   ]
  },
  {
   "cell_type": "code",
   "execution_count": null,
   "id": "9f730413",
   "metadata": {},
   "outputs": [],
   "source": [
    "bigram_df['FROM'] = bigram_df.bigram.str.split(' ').str[0]\n",
    "bigram_df['TO'] = bigram_df.bigram.str.split(' ').str[1]"
   ]
  },
  {
   "cell_type": "code",
   "execution_count": null,
   "id": "3ae61aaf",
   "metadata": {},
   "outputs": [],
   "source": [
    "# del bigram_df['bigram']\n",
    "bigram_df.head()"
   ]
  },
  {
   "cell_type": "code",
   "execution_count": null,
   "id": "1138822e",
   "metadata": {},
   "outputs": [],
   "source": [
    "G = nx.from_pandas_edgelist(bigram_df, source = 'FROM', target = 'TO')"
   ]
  },
  {
   "cell_type": "code",
   "execution_count": null,
   "id": "0cabfb2b",
   "metadata": {},
   "outputs": [],
   "source": [
    "# 한글 폰트 설정\n",
    "ko_font_location = \"C:/Windows/Fonts/malgun.ttf\"\n",
    "ko_font_name = font_manager.FontProperties(fname=ko_font_location).get_name()"
   ]
  },
  {
   "cell_type": "code",
   "execution_count": null,
   "id": "35d0ba1a",
   "metadata": {},
   "outputs": [],
   "source": [
    "# Plot it\n",
    "plt.figure(figsize=(10,10)) \n",
    "nx.draw_kamada_kawai(G)\n",
    "pos=nx.kamada_kawai_layout(G)\n",
    "nx.draw_networkx_labels(G, pos, font_family=ko_font_name, font_size=10, font_color='white')\n",
    "nx.draw_networkx_nodes(G, pos, node_color='grey', node_size=1000, alpha=1)\n",
    "plt.show()"
   ]
  },
  {
   "cell_type": "code",
   "execution_count": null,
   "id": "c136b4ef",
   "metadata": {},
   "outputs": [],
   "source": []
  }
 ],
 "metadata": {
  "kernelspec": {
   "display_name": "Python 3",
   "language": "python",
   "name": "python3"
  },
  "language_info": {
   "codemirror_mode": {
    "name": "ipython",
    "version": 3
   },
   "file_extension": ".py",
   "mimetype": "text/x-python",
   "name": "python",
   "nbconvert_exporter": "python",
   "pygments_lexer": "ipython3",
   "version": "3.8.8"
  }
 },
 "nbformat": 4,
 "nbformat_minor": 5
}

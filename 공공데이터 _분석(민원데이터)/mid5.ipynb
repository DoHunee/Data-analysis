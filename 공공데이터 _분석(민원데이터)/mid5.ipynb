{
 "cells": [
  {
   "cell_type": "markdown",
   "metadata": {},
   "source": [
    "## 문제5\n",
    "공공데이터(data.go.kr)에서 <국민권익위원회 민원빅데이터 분석정보>\n",
    "\n",
    "1. 시작일(2021.03.01.) ~ 종료일(2021.06.30.) 사이에 일반 민원 발생 건수가 많은 순서대로 정렬하여 json 형식으로 저장\n",
    "2. 시작일(2021.01.01.) ~ 종료일(2021.12.31.) 사이에 월별 국가인권위원회의 일반민원, 고충민원을 csv 파일로 저장"
   ]
  },
  {
   "cell_type": "code",
   "execution_count": 1,
   "metadata": {},
   "outputs": [],
   "source": [
    "from datetime import datetime, timedelta\n",
    "\n",
    "def generate_date_period(first_date_str, last_date_str):\n",
    "    # 날짜를 YYYYmmdd 형식으로 입력한다.\n",
    "    first_date = datetime.strptime(first_date_str, '%Y%m%d')\n",
    "    last_date = datetime.strptime(last_date_str, '%Y%m%d')\n",
    "    date_str_generated = [datetime.strftime(first_date + timedelta(days=x), '%Y%m%d') for x in range(0, (last_date-first_date).days + 1)]\n",
    "    return date_str_generated\n",
    "\n",
    "#test\n",
    "#generate_date_period('2021-03-01', '2021-06-30')"
   ]
  },
  {
   "cell_type": "code",
   "execution_count": 2,
   "metadata": {},
   "outputs": [],
   "source": [
    "import requests\n",
    "import json\n",
    "\n",
    "api_key = 'U0%2Fs9G4kaV0wuxC5vNpgLfq%2Fm1S6NzGEs7U%2FJsTtSooG%2BfWfxHlxnMXnWRDE0Jo6mvmh62D%2FH3pqku9Dy7nWTQ%3D%3D'\n",
    "\n",
    "# 교수님\n",
    "#api_key = 'KoQvU3n5iWPhwcIINIlXksch6O5FI9%2Bpo7v5X4I2OTuEx5WmdZwPEdgH9zynJQMw0HH4NMoKC%2BcmrZv4z%2Br6QQ%3D%3D'\n",
    "\n",
    "normal_minwon = 'pttn'\n",
    "distress_minwon = 'dfpt'\n",
    "\n",
    "human_right_committee_subcode = '1620000'\n",
    "\n",
    "url_base = f'http://apis.data.go.kr/1140100/minAnalsInfoView3/minDFTopNKeyword3?serviceKey={api_key}&dataType=JSON'\n",
    "\n",
    "def crawl_minwon(begin_date_str, month_count=1, minwon_type='pttn', subcode=None):\n",
    "    url = f'{url_base}&target={minwon_type}&period=MONTHLY&analysisTime={begin_date_str}&rangeCount={month_count}&maxResult=10000'\n",
    "    if subcode:\n",
    "        url += f'&mainSubCode={subcode}'\n",
    "    \n",
    "    res = requests.get(url)\n",
    "    if res.status_code != 200:\n",
    "        print(f'error {res.status_code}')\n",
    "        return None\n",
    "\n",
    "    content = res.content.decode('utf-8').strip()\n",
    "    if not content or 'ERROR' in content:\n",
    "        print(f'ERROR: {begin_date_str}')\n",
    "        return None\n",
    "    \n",
    "    return json.loads(content)\n",
    "\n",
    "# test\n",
    "#print(json.dumps(crawl_minwon('20210301'), ensure_ascii=False, indent=2))\n"
   ]
  },
  {
   "cell_type": "code",
   "execution_count": 3,
   "metadata": {},
   "outputs": [],
   "source": [
    "# (1) 시작일(20210301) ~ 종료일(20210630) 사이에 일반민원 발생 건수 많은 순서대로 정렬 --> json\n",
    "import json\n",
    "\n",
    "begin_date = '20210301'\n",
    "minwon_j = crawl_minwon(begin_date, month_count=4)\n",
    "\n",
    "with open('answer5-1.json', 'w', encoding='utf-8') as f:\n",
    "    json.dump(minwon_j, f, ensure_ascii=False, indent=2)\n"
   ]
  },
  {
   "cell_type": "code",
   "execution_count": 4,
   "metadata": {},
   "outputs": [
    {
     "name": "stdout",
     "output_type": "stream",
     "text": [
      "고충민원 20200101 없음\n",
      "고충민원 20200201 없음\n",
      "고충민원 20200301 없음\n",
      "고충민원 20200401 없음\n",
      "고충민원 20200501 없음\n",
      "고충민원 20200601 없음\n",
      "고충민원 20200701 없음\n",
      "고충민원 20200801 없음\n",
      "고충민원 20200901 없음\n",
      "고충민원 20201001 없음\n",
      "고충민원 20201101 없음\n",
      "고충민원 20201201 없음\n",
      "고충민원 20210101 없음\n",
      "고충민원 20210201 없음\n",
      "고충민원 20210301 없음\n",
      "고충민원 20210401 없음\n",
      "고충민원 20210501 없음\n",
      "고충민원 20210601 없음\n",
      "고충민원 20210701 없음\n",
      "고충민원 20210801 없음\n",
      "고충민원 20210901 없음\n",
      "고충민원 20211001 없음\n",
      "고충민원 20211101 없음\n",
      "일반민원 20211201 없음\n",
      "고충민원 20211201 없음\n"
     ]
    }
   ],
   "source": [
    "# (2) 시작일(20200101) ~ 종료일(20211231) 사이에 월별 일반민원, 고충민원 --> csv\n",
    "import csv\n",
    "from tqdm.notebook import tqdm\n",
    "import json\n",
    "\n",
    "rows = []\n",
    "for y in range(2):\n",
    "    for m in range(1, 12+1):\n",
    "        date_str = f'202{y}{m:02d}01'\n",
    "        for k, v in {'일반민원': normal_minwon, '고충민원': distress_minwon}.items():\n",
    "            j = crawl_minwon(date_str, month_count=1, minwon_type=v, subcode=human_right_committee_subcode)\n",
    "            if not j:\n",
    "                print(f'{k} {date_str} 없음')\n",
    "                continue\n",
    "\n",
    "            for item in j:\n",
    "                rows.append([f'202{y}-{m:02d}', k, item['term'], item['df']])\n",
    "\n",
    "with open(f'answer5-2.csv', 'w', encoding='utf-8', newline='') as f:\n",
    "    writer = csv.writer(f)\n",
    "    writer.writerows(rows)\n"
   ]
  },
  {
   "cell_type": "code",
   "execution_count": null,
   "metadata": {},
   "outputs": [],
   "source": []
  }
 ],
 "metadata": {
  "interpreter": {
   "hash": "43ecac9bcac8886a5fc91dc6250513aa616fa40515bf43dca6f418f3f31cf1f3"
  },
  "kernelspec": {
   "display_name": "Python 3",
   "language": "python",
   "name": "python3"
  },
  "language_info": {
   "codemirror_mode": {
    "name": "ipython",
    "version": 3
   },
   "file_extension": ".py",
   "mimetype": "text/x-python",
   "name": "python",
   "nbconvert_exporter": "python",
   "pygments_lexer": "ipython3",
   "version": "3.8.8"
  }
 },
 "nbformat": 4,
 "nbformat_minor": 2
}

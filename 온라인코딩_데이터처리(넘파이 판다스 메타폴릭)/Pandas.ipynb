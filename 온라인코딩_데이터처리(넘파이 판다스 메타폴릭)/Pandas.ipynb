{
 "cells": [
  {
   "cell_type": "markdown",
   "id": "fc0b6eeb",
   "metadata": {},
   "source": [
    "## Series 데이터\n",
    "Series 데이터란 Numpy array가 보강된 형태로, Data와 index를 가지고 있는 데이터 형식입니다.\n",
    "\n",
    "주어진 예시는 Series 데이터를 만드는 방법입니다.\n",
    "\n",
    "이번 실습에서는 딕셔너리를 이용해서 인덱스와 값을 지정하여 Series 데이터를 직접 만들어봅시다.\n",
    "\n",
    "딕셔너리의 값은 다음과 같습니다."
   ]
  },
  {
   "cell_type": "code",
   "execution_count": 1,
   "id": "a7da38c3",
   "metadata": {},
   "outputs": [
    {
     "name": "stdout",
     "output_type": "stream",
     "text": [
      "korea      5180\n",
      "japan     12718\n",
      "china    141500\n",
      "usa       32676\n",
      "Name: Title, dtype: int64 \n",
      "\n"
     ]
    }
   ],
   "source": [
    "import numpy as np\n",
    "import pandas as pd\n",
    "\n",
    "# 예시) 시리즈 데이터를 만드는 방법.\n",
    "#series = pd.Series([1,2,3,4], index = ['a', 'b', 'c', 'd'], name=\"Title\")\n",
    "#print(series, \"\\n\")\n",
    "\n",
    "\n",
    "# 국가별 인구 수 시리즈 데이터를 딕셔너리를 사용하여 만들어보세요.\n",
    "\n",
    "country = pd.Series([5180,12718,141500,32676], index = ['korea', 'japan', 'china', 'usa'], name=\"Title\")\n",
    "print(country, \"\\n\")\n",
    "\n",
    "\n"
   ]
  },
  {
   "cell_type": "markdown",
   "id": "1ca49b77",
   "metadata": {},
   "source": [
    "## DataFrame\n",
    "시리즈 데이터는 하나의 컬럼 값으로 이루어진 반면 데이터 프레임은 여러 개의 컬럼 값을 가질 수 있습니다.\n",
    "\n",
    "이번 실습에서는 여러 개의 시리즈 데이터를 이용하여 데이터 프레임을 만드는 법을 배워봅니다.\n",
    "\n",
    "오른쪽 예제에 있는 국가별 GDP 시리즈 데이터와, 국가별 인구 시리즈 데이터를 이용하여 GDP와 인구 데이터를 모두 나타내는 데이터 프레임을 만들어 보세요!\n",
    "\n",
    "\n",
    "## 지시사항\n",
    "### Q1.\n",
    "\n",
    "국가별 인구를 나타내는 시리즈 데이터인 population과 국가별 GDP를 나타내는 시리즈 데이터인 gdp가 있습니다.\n",
    "\n",
    "두 시리즈 데이터로 country라는 데이터 프레임을 만드세요. 반드시 population, gdp의 순서로 만들어주셔야 합니다.\n",
    "\n",
    "### Q2.\n",
    "\n",
    "country의 두 컬럼을 이용하여 새로운 컬럼을 만들고자 합니다.\n",
    "\n",
    "1인당 GDP 를 나타내는 새로운 컬럼인 gdp per capita를 데이터 프레임에 추가해보세요.\n",
    "\n",
    "1인당 GDP는 gdp와 population을 나누어 얻을 수 있습니다.\n",
    "\n",
    "완성한 데이터 프레임을 출력해보세요!"
   ]
  },
  {
   "cell_type": "code",
   "execution_count": 2,
   "id": "b11ea16d",
   "metadata": {},
   "outputs": [
    {
     "name": "stdout",
     "output_type": "stream",
     "text": [
      "Population series data:\n",
      "korea      5180\n",
      "japan     12718\n",
      "china    141500\n",
      "usa       32676\n",
      "dtype: int64 \n",
      "\n",
      "GDP series data:\n",
      "korea     169320000\n",
      "japan     516700000\n",
      "china    1409250000\n",
      "usa      2041280000\n",
      "dtype: int64 \n",
      "\n"
     ]
    },
    {
     "data": {
      "text/plain": [
       "Index(['population', 'gdp', 'gdp per capita'], dtype='object')"
      ]
     },
     "execution_count": 2,
     "metadata": {},
     "output_type": "execute_result"
    }
   ],
   "source": [
    "import numpy as np\n",
    "import pandas as pd\n",
    "\n",
    "# 두 개의 시리즈 데이터가 있습니다.\n",
    "print(\"Population series data:\")\n",
    "population_dict = {\n",
    "    'korea': 5180,\n",
    "    'japan': 12718,\n",
    "    'china': 141500,\n",
    "    'usa': 32676\n",
    "}\n",
    "population = pd.Series(population_dict)\n",
    "print(population, \"\\n\")\n",
    "\n",
    "print(\"GDP series data:\")\n",
    "gdp_dict = {\n",
    "    'korea': 169320000,\n",
    "    'japan': 516700000,\n",
    "    'china': 1409250000,\n",
    "    'usa': 2041280000,\n",
    "}\n",
    "gdp = pd.Series(gdp_dict)\n",
    "print(gdp, \"\\n\")\n",
    "\n",
    "\n",
    "# 이곳에서 2개의 시리즈 값이 들어간 데이터프레임을 생성합니다.\n",
    "country = pd.DataFrame({\n",
    "    'population': population,\n",
    "    'gdp': gdp\n",
    "})\n",
    "\n",
    "# 데이터 프레임에 gdp per capita 칼럼을 추가하고 출력합니다.\n",
    "gdp_per_capita = country['gdp'] / country['population']\n",
    "country['gdp per capita'] =gdp_per_capita \n",
    "\n",
    "# 데이터 프레임을 만들었다면, index와 column도 각각 확인해보세요.\n",
    "country.index\n",
    "country.columns\n",
    "\n",
    "\n"
   ]
  },
  {
   "cell_type": "markdown",
   "id": "6b3eca46",
   "metadata": {},
   "source": [
    "## Indexing & Slicing\n",
    "데이터 프레임의 값을 참조하기 위해 사용하는 인덱싱과 슬라이싱에는 두 가지 방법이 있습니다.\n",
    "\n",
    "데이터 프레임의 인덱스의 이름으로 직접 참조하거나, 기존의 파이썬에서 배열의 인덱싱을 하는 방법 모두 사용할 수 있습니다.\n",
    "\n",
    "이번 실습에서는 명시적인 인덱스를 참조하는 인덱싱과 파이썬 스타일 정수 인덱싱의 차이와 사용 방법을 배워봅시다."
   ]
  },
  {
   "cell_type": "code",
   "execution_count": 6,
   "id": "7f644f10",
   "metadata": {},
   "outputs": [
    {
     "name": "stdout",
     "output_type": "stream",
     "text": [
      "Country DataFrame\n",
      "              gdp  population  gdp per capita\n",
      "china  1409250000      141500     9959.363958\n",
      "japan   516700000       12718    40627.457147\n",
      "korea   169320000        5180    32687.258687\n",
      "usa    2041280000       32676    62470.314604 \n",
      "\n",
      "gdp               1.409250e+09\n",
      "population        1.415000e+05\n",
      "gdp per capita    9.959364e+03\n",
      "Name: china, dtype: float64\n",
      "              gdp  population  gdp per capita\n",
      "japan   516700000       12718    40627.457147\n",
      "korea   169320000        5180    32687.258687\n",
      "usa    2041280000       32676    62470.314604\n"
     ]
    }
   ],
   "source": [
    "import numpy as np\n",
    "import pandas as pd\n",
    "\n",
    "# 첫번째 컬럼을 인덱스로 country.csv 파일 읽어오기.\n",
    "print(\"Country DataFrame\")\n",
    "country = pd.read_csv(\"./data/country.csv\", index_col=0)\n",
    "print(country, \"\\n\")\n",
    "\n",
    "# 명시적 인덱싱을 사용하여 데이터프레임의 \"china\" 인덱스를 출력해봅시다.\n",
    "print(country.loc['china'])\n",
    "\n",
    "\n",
    "# 정수 인덱싱을 사용하여 데이터프레임의 1번째부터 3번째 인덱스를 출력해봅시다.\n",
    "\n",
    "print(country.iloc[1:4])\n"
   ]
  },
  {
   "cell_type": "markdown",
   "id": "73a32bad",
   "metadata": {},
   "source": [
    "## pandas 연산과 함수\n",
    "pandas의 데이터 형식은 다양한 연산을 지원합니다.\n",
    "\n",
    "영상을 보고 누락된 데이터 처리, 시리즈와 데이터 프레임의 연산과 집계 함수에 대해서 알아봅시다.\n",
    "\n",
    "그리고 pandas의 데이터 프레임에 여러가지 연산을 활용하여 적용해보세요!"
   ]
  },
  {
   "cell_type": "code",
   "execution_count": 7,
   "id": "bc175033",
   "metadata": {},
   "outputs": [
    {
     "name": "stdout",
     "output_type": "stream",
     "text": [
      "A: \n",
      "   A  B\n",
      "0  5  4\n",
      "1  3  3 \n",
      "\n",
      "B: \n",
      "   B  A  C\n",
      "0  0  2  4\n",
      "1  5  9  8\n",
      "2  3  3  4 \n",
      "\n"
     ]
    }
   ],
   "source": [
    "import numpy as np\n",
    "import pandas as pd\n",
    "\n",
    "\n",
    "print(\"A: \")\n",
    "A = pd.DataFrame(np.random.randint(0, 10, (2, 2)), columns=['A', 'B'])      #칼럼이 A, B입니다.\n",
    "print(A, \"\\n\")\n",
    "\n",
    "\n",
    "print(\"B: \")\n",
    "B = pd.DataFrame(np.random.randint(0, 10, (3, 3)), columns=['B', 'A', 'C'])     #칼럼이 B, A, C입니다.\n",
    "print(B, \"\\n\")\n",
    "\n",
    "\n",
    "# 아래에 다양한 연산을 자유롭게 적용해보세요.\n",
    "\n",
    "\n",
    "\n",
    "\n"
   ]
  },
  {
   "cell_type": "markdown",
   "id": "b790ddaf",
   "metadata": {},
   "source": [
    "## Dataframe 값으로 정렬하기!\n",
    "데이터를 처리하다 보면 일정한 기준에 맞추어 정렬하는 일이 빈번하게 발생합니다.\n",
    "\n",
    "pandas에서도 데이터를 필요에 맞게 정렬할 수 있습니다.\n",
    "\n",
    "이번 실습에서는 데이터 프레임에 입력되어 있는 값을 오름차순, 내림차순으로 정렬해 봅시다."
   ]
  },
  {
   "cell_type": "code",
   "execution_count": 8,
   "id": "743a6a35",
   "metadata": {},
   "outputs": [
    {
     "name": "stdout",
     "output_type": "stream",
     "text": [
      "DataFrame: \n",
      "   col1 col2  col3\n",
      "0     2    A     0\n",
      "1     1    A     1\n",
      "2     9    B     9\n",
      "3     8  NaN     4\n",
      "4     7    D     2\n",
      "5     4    C     3 \n",
      "\n",
      "   col1 col2  col3\n",
      "1     1    A     1\n",
      "0     2    A     0\n",
      "5     4    C     3\n",
      "4     7    D     2\n",
      "3     8  NaN     4\n",
      "2     9    B     9\n",
      "   col1 col2  col3\n",
      "4     7    D     2\n",
      "5     4    C     3\n",
      "2     9    B     9\n",
      "0     2    A     0\n",
      "1     1    A     1\n",
      "3     8  NaN     4\n",
      "   col1 col2  col3\n",
      "0     2    A     0\n",
      "1     1    A     1\n",
      "2     9    B     9\n",
      "5     4    C     3\n",
      "4     7    D     2\n",
      "3     8  NaN     4\n"
     ]
    }
   ],
   "source": [
    "import numpy as np\n",
    "import pandas as pd\n",
    "\n",
    "print(\"DataFrame: \")\n",
    "df = pd.DataFrame({\n",
    "    'col1' : [2, 1, 9, 8, 7, 4],\n",
    "    'col2' : ['A', 'A', 'B', np.nan, 'D', 'C'],\n",
    "    'col3': [0, 1, 9, 4, 2, 3],\n",
    "})\n",
    "print(df, \"\\n\")\n",
    "\n",
    "\n",
    "# 정렬 코드 입력해보기    \n",
    "# Q1. col1을 기준으로 오름차순으로 정렬하기.\n",
    "sorted_df1 = df.sort_values('col1', ascending = True)\n",
    "print(sorted_df1)\n",
    "\n",
    "\n",
    "# Q2. col2를 기준으로 내림차순으로 정렬하기.\n",
    "sorted_df2 = df.sort_values('col2', ascending = False)\n",
    "print(sorted_df2)\n",
    "\n",
    "\n",
    "# Q3. col2를 기준으로 오름차순으로, col1를 기준으로 내림차순으로 정렬하기.\n",
    "sorted_df3 = df.sort_values(['col2', 'col1'], ascending=[True, False])\n",
    "print(sorted_df3)\n",
    "\n"
   ]
  },
  {
   "cell_type": "code",
   "execution_count": null,
   "id": "6e3c1041",
   "metadata": {},
   "outputs": [],
   "source": []
  },
  {
   "cell_type": "code",
   "execution_count": null,
   "id": "d79aef12",
   "metadata": {},
   "outputs": [],
   "source": []
  },
  {
   "cell_type": "code",
   "execution_count": null,
   "id": "8aa4b718",
   "metadata": {},
   "outputs": [],
   "source": []
  },
  {
   "cell_type": "markdown",
   "id": "c891b825",
   "metadata": {},
   "source": [
    "## 조건으로 검색하기\n",
    "데이터 프레임에서, 각 컬럼마다 조건을 충족하는 값만 추출할 수 있습니다.\n",
    "\n",
    "Numpy의 마스킹 연산처럼 조건식을 직접 쓸 수도 있고, query() 함수를 이용하는 방법도 있습니다.\n",
    "\n",
    "영상을 보며 데이터 프레임내에서 원하는 데이터를 조건을 주어 검색하는 방법을 배우고, 실습 문제를 해결해봐요."
   ]
  },
  {
   "cell_type": "code",
   "execution_count": 12,
   "id": "984d5df6",
   "metadata": {},
   "outputs": [
    {
     "name": "stdout",
     "output_type": "stream",
     "text": [
      "Masking & query\n",
      "          A         B\n",
      "0  0.874831  0.237618\n",
      "1  0.770050  0.849265\n",
      "2  0.536377  0.330040\n",
      "3  0.727931  0.755155\n",
      "4  0.890745  0.618312 \n",
      "\n"
     ]
    },
    {
     "data": {
      "text/html": [
       "<div>\n",
       "<style scoped>\n",
       "    .dataframe tbody tr th:only-of-type {\n",
       "        vertical-align: middle;\n",
       "    }\n",
       "\n",
       "    .dataframe tbody tr th {\n",
       "        vertical-align: top;\n",
       "    }\n",
       "\n",
       "    .dataframe thead th {\n",
       "        text-align: right;\n",
       "    }\n",
       "</style>\n",
       "<table border=\"1\" class=\"dataframe\">\n",
       "  <thead>\n",
       "    <tr style=\"text-align: right;\">\n",
       "      <th></th>\n",
       "      <th>A</th>\n",
       "      <th>B</th>\n",
       "    </tr>\n",
       "  </thead>\n",
       "  <tbody>\n",
       "  </tbody>\n",
       "</table>\n",
       "</div>"
      ],
      "text/plain": [
       "Empty DataFrame\n",
       "Columns: [A, B]\n",
       "Index: []"
      ]
     },
     "execution_count": 12,
     "metadata": {},
     "output_type": "execute_result"
    }
   ],
   "source": [
    "import numpy as np\n",
    "import pandas as pd\n",
    "\n",
    "print(\"Masking & query\")\n",
    "df = pd.DataFrame(np.random.rand(5, 2), columns=[\"A\", \"B\"])\n",
    "print(df, \"\\n\")\n",
    "\n",
    "#데이터 프레임에서 A컬럼값이 0.5보다 작고 B컬럼 값이 0.3보다 큰값들을 구해봅시다.\n",
    "df[(df[\"A\"] < 0.5) & (df[\"B\"]>0.3)]\n",
    "df.query(\"A < 0.5 and B>0.3\")\n",
    "\n",
    "\n",
    "\n"
   ]
  },
  {
   "cell_type": "markdown",
   "id": "200e1a09",
   "metadata": {},
   "source": [
    "## 함수로 데이터 처리하기\n",
    "apply() 를 이용하면 함수를 이용하여 데이터 프레임에 값을 적용할 수 있습니다\n",
    "\n",
    "일정한 동작으로 데이터 프레임을 수정하고자 할 때 편리하게 이용할 수 있는 기능입니다.\n",
    "\n",
    "영상을 보며 apply()의 다양한 활용법을 알아보고, 실습 문제도 풀어보세요.\n",
    "\n",
    "\n",
    "## 지시사항\n",
    "데이터 프레임df에는 정수를 담고있는 Num 칼럼이 있습니다.\n",
    "\n",
    "df 데이터 프레임에 함수를 이용하여 Num의 제곱수를 나타내는 칼럼인 Square 칼럼을 추가하고, 데이터프레임을 출력해봅시다.\n",
    "\n",
    "### Q1\n",
    "\n",
    "값을 받으면 제곱을 해서 돌려주는 함수를 만들어 봅시다.\n",
    "\n",
    "def square(x):\n",
    "    return x**2\n",
    "\n",
    "df[\"Square\"] = df[\"Num\"].apply(square)\n",
    "Copy\n",
    "\n",
    "apply로 칼럼에 함수를 적용해 봅시다.\n",
    "\n",
    "### Q2\n",
    "\n",
    "함수 대신 람다 표현식으로도 적용하실 수 있습니다.\n",
    "\n",
    "df[\"Square\"] = df[\"Num\"].apply(lambda x: x ** 2)"
   ]
  },
  {
   "cell_type": "code",
   "execution_count": 13,
   "id": "b79a647d",
   "metadata": {},
   "outputs": [
    {
     "name": "stdout",
     "output_type": "stream",
     "text": [
      "   Num\n",
      "0    0\n",
      "1    1\n",
      "2    2\n",
      "3    3\n",
      "4    4 \n",
      "\n"
     ]
    }
   ],
   "source": [
    "import numpy as np\n",
    "import pandas as pd\n",
    "\n",
    "df = pd.DataFrame(np.arange(5), columns=[\"Num\"])\n",
    "print(df, \"\\n\")\n",
    "\n",
    "# 값을 받으면 제곱을 해서 돌려주는 함수\n",
    "def square(x):\n",
    "    return x**2\n",
    "\n",
    "df[\"Square\"] = df[\"Num\"].apply(square)\n",
    "\n",
    "\n",
    "\n",
    "# apply로 컬럼에 함수 적용\n",
    "\n",
    "\n",
    "\n",
    "\n",
    "# 람다 표현식으로도 적용하기\n",
    "\n"
   ]
  },
  {
   "cell_type": "markdown",
   "id": "c61084a0",
   "metadata": {},
   "source": [
    "## 그룹으로 묶기\n",
    "groupby() 함수를 이용하면 키 값을 기준으로 그룹으로 묶을 수 있습니다.\n",
    "\n",
    "groupby() 함수의 사용 예시를 들자면, 시험 성적 데이터에서 각 반을 그룹으로 묶어 각 반의 평균 점수를 구할 수 있습니다.\n",
    "\n",
    "‘그룹으로 묶는다’ 는 의미가 잘 와닿지 않으신가요?\n",
    "\n",
    "영상을 보고 groupby함수의 사용법을 알아보고, 실습 문제를 풀어 제출해봅시다.\n",
    "\n",
    "\n",
    "## 지시사항\n",
    "### Q1\n",
    "\n",
    "데이터 프레임의 key 칼럼을 groupby함수로 묶고, key별로 data1과 data2 합계를 출력해보세요.\n",
    "\n",
    "### Q2\n",
    "\n",
    "데이터 프레임의 key와 data1칼럼을 groupby함수로 묶고, key와 data1별로 data2의 합계를 출력해보세요."
   ]
  },
  {
   "cell_type": "code",
   "execution_count": 14,
   "id": "89122b3f",
   "metadata": {},
   "outputs": [
    {
     "name": "stdout",
     "output_type": "stream",
     "text": [
      "DataFrame:\n",
      "     data1  data2\n",
      "key              \n",
      "A        2      4\n",
      "B        4     10\n",
      "C        6      7\n",
      "           data2\n",
      "key data1       \n",
      "A   1          4\n",
      "B   2         10\n",
      "C   3          7\n"
     ]
    }
   ],
   "source": [
    "import numpy as np\n",
    "import pandas as pd\n",
    "\n",
    "df = pd.DataFrame({\n",
    "    'key': ['A', 'B', 'C', 'A', 'B', 'C'],\n",
    "    'data1': [1, 2, 3, 1, 2, 3],\n",
    "    'data2': [4, 4, 6, 0, 6, 1]\n",
    "})\n",
    "print(\"DataFrame:\")\n",
    "#print(df, \"\\n\")\n",
    "\n",
    "# groupby 함수를 이용해봅시다.\n",
    "# key를 기준으로 묶어 합계를 구해 출력해보세요.\n",
    "df1=df.groupby('key').sum()\n",
    "print(df1)\n",
    "\n",
    "\n",
    "\n",
    "# key와 data1을 기준으로 묶어 합계를 구해 출력해보세요.\n",
    "df2=df.groupby(['key','data1']).sum()\n",
    "print(df2)\n",
    "\n",
    "\n"
   ]
  },
  {
   "cell_type": "markdown",
   "id": "f839387b",
   "metadata": {},
   "source": [
    "## 그룹으로 묶기(2)\n",
    "aggregate() 함수를 이용하여 키값을 기준으로 그룹으로 묶은 결과의 요약 통계량을 구해봅시다.\n",
    "\n",
    "aggregate() 함수의 결과값 또한 데이터프레임으로 반환되어 한 눈에 보기 편리합니다.\n",
    "\n",
    "영상을 보며 aggregate() 함수의 사용법을 익히고 실습 문제를 풀어 제출해봅시다.\n",
    "\n",
    "\n",
    "## 지시사항\n",
    "aggregate()함수로 요약 통계량을 출력해보세요.\n",
    "\n",
    "### Q1\n",
    "\n",
    "데이터 프레임을 key를 기준으로 묶고, key별 data1과 data2 각각의 최솟값과 중앙값, 최댓값을 출력해봅시다.\n",
    "\n",
    "### Q2\n",
    "\n",
    "데이터 프레임을 key를 기준으로 묶고, key별 data1의 최솟값과 data2의 합계를 출력해봅시다."
   ]
  },
  {
   "cell_type": "code",
   "execution_count": 15,
   "id": "028f5f56",
   "metadata": {},
   "outputs": [
    {
     "name": "stdout",
     "output_type": "stream",
     "text": [
      "  key  data1  data2\n",
      "0   A      0      4\n",
      "1   B      1      4\n",
      "2   C      2      6\n",
      "3   A      3      0\n",
      "4   B      4      6\n",
      "5   C      5      1 \n",
      "\n",
      "    data1            data2           \n",
      "      min median max   min median max\n",
      "key                                  \n",
      "A       0    1.5   3     0    2.0   4\n",
      "B       1    2.5   4     4    5.0   6\n",
      "C       2    3.5   5     1    3.5   6\n",
      "     data1  data2\n",
      "key              \n",
      "A        0      4\n",
      "B        1     10\n",
      "C        2      7\n"
     ]
    }
   ],
   "source": [
    "import numpy as np\n",
    "import pandas as pd\n",
    "\n",
    "df = pd.DataFrame({\n",
    "    'key': ['A', 'B', 'C', 'A', 'B', 'C'],\n",
    "    'data1': [0, 1, 2, 3, 4, 5],\n",
    "    'data2': [4, 4, 6, 0, 6, 1]\n",
    "})\n",
    "#print(\"DataFrame:\")\n",
    "print(df, \"\\n\")\n",
    "\n",
    "# aggregate를 이용하여 요약 통계량을 산출해봅시다.\n",
    "# 데이터 프레임을 'key' 칼럼으로 묶고, data1과 data2 각각의 최솟값, 중앙값, 최댓값을 출력하세요.\n",
    "\n",
    "df1 = df.groupby('key').aggregate([min, np.median, max])\n",
    "print(df1)\n",
    "\n",
    "# 데이터 프레임을 'key' 칼럼으로 묶고, data1의 최솟값, data2의 합계를 출력하세요.\n",
    "df2 = df.groupby('key').aggregate({'data1':'min','data2':np.sum})\n",
    "print(df2)\n",
    "\n"
   ]
  },
  {
   "cell_type": "markdown",
   "id": "4d4317cf",
   "metadata": {},
   "source": [
    "## 그룹으로 묶기(3)\n",
    "그룹으로 묶은 값에 filter() 함수와 apply() 함수를 적용하고, 설정한 조건으로 데이터 프레임에서 원하는 값만 추출할 수 있습니다.\n",
    "\n",
    "영상을 보며 그룹핑한 데이터 프레임에 filter() 함수와 apply() 함수를 적용하는 방법을 알아보고, 실습 문제를 풀어보세요.\n",
    "\n",
    "\n",
    "## 지시사항\n",
    "### Q1\n",
    "\n",
    "filter 함수를 이용하여 key별로 그룹을 묶고, 그룹별 data2 평균이 3이 넘는 데이터만 출력해봅시다.\n",
    "\n",
    "### Q2\n",
    "\n",
    "apply 함수와 람다식을 이용해서, key를 기준으로 묶은 그룹별 data1과 data2 변수의 최댓값에서 최솟값을 뺀 값을 출력해보세요."
   ]
  },
  {
   "cell_type": "code",
   "execution_count": 16,
   "id": "c817b15e",
   "metadata": {},
   "outputs": [
    {
     "name": "stdout",
     "output_type": "stream",
     "text": [
      "  key  data1  data2\n",
      "0   A      0      4\n",
      "1   B      1      4\n",
      "2   C      2      6\n",
      "3   A      3      0\n",
      "4   B      4      6\n",
      "5   C      5      1 \n",
      "\n",
      "filtering : \n",
      "  key  data1  data2\n",
      "1   B      1      4\n",
      "2   C      2      6\n",
      "4   B      4      6\n",
      "5   C      5      1\n",
      "applying : \n",
      "     data1  data2\n",
      "key              \n",
      "A        3      4\n",
      "B        3      2\n",
      "C        3      5\n"
     ]
    }
   ],
   "source": [
    "import numpy as np\n",
    "import pandas as pd\n",
    "\n",
    "df = pd.DataFrame({\n",
    "    'key': ['A', 'B', 'C', 'A', 'B', 'C'],\n",
    "    'data1': [0, 1, 2, 3, 4, 5],\n",
    "    'data2': [4, 4, 6, 0, 6, 1]\n",
    "})\n",
    "#print(\"DataFrame:\")\n",
    "print(df, \"\\n\")\n",
    "\n",
    "# groupby()로 묶은 데이터에 filter를 적용해봅시다.\n",
    "# key별 data2의 평균이 3이 넘는 인덱스만 출력해봅시다.\n",
    "\n",
    "print(\"filtering : \")\n",
    "def filter_bt_mean(x):\n",
    "    return x['data2'].mean() > 3\n",
    "\n",
    "df.groupby('key').mean()\n",
    "df1 = df.groupby('key').filter(filter_bt_mean)\n",
    "print(df1)\n",
    "\n",
    "\n",
    "\n",
    "\n",
    "\n",
    "# groupby()로 묶은 데이터에 apply도 적용해봅시다.\n",
    "# 람다식을 이용해 최댓값에서 최솟값을 뺀 값을 적용해봅시다.\n",
    "\n",
    "print(\"applying : \")\n",
    "df2=df.groupby('key').apply(lambda x: x.max() - x.min())\n",
    "print(df2)\n",
    "\n",
    "\n"
   ]
  },
  {
   "cell_type": "markdown",
   "id": "5cf41c8f",
   "metadata": {},
   "source": [
    "## Multi Index & Pivot Table\n",
    "인덱스를 계층적으로 만드는 방법 Multi Index에 대해 알아봅시다.\n",
    "\n",
    "또한, 데이터에서 필요한 데이터만 뽑아서 새롭게 요약 분석할 수 있는 Pivot Table에 대해서도 알아봅시다."
   ]
  },
  {
   "cell_type": "code",
   "execution_count": 17,
   "id": "45873058",
   "metadata": {},
   "outputs": [
    {
     "name": "stdout",
     "output_type": "stream",
     "text": [
      "DataFrame1\n",
      "        data1     data2\n",
      "A 1 -0.254737  0.992661\n",
      "  2  0.572630 -0.457200\n",
      "B 1  0.305942 -0.676120\n",
      "  2  2.014784  0.144380 \n",
      "\n",
      "DataFrame2\n",
      "          A                   B          \n",
      "          1         2         1         2\n",
      "0 -0.160319 -0.563538 -1.882496 -0.875771\n",
      "1 -1.272405 -0.261433 -0.970665 -0.928950\n",
      "2 -1.606065 -0.764525  0.552369 -0.208196\n",
      "3 -1.159473 -0.614791 -0.530901 -0.492681 \n",
      "\n",
      "df1.loc['A', 1]\n",
      "data1   -0.254737\n",
      "data2    0.992661\n",
      "Name: (A, 1), dtype: float64 \n",
      "\n",
      "df2[\"A\"][\"1\"]\n",
      "0   -0.160319\n",
      "1   -1.272405\n",
      "2   -1.606065\n",
      "3   -1.159473\n",
      "Name: 1, dtype: float64 \n",
      "\n"
     ]
    }
   ],
   "source": [
    "import numpy as np\n",
    "import pandas as pd\n",
    "\n",
    "df1 = pd.DataFrame(\n",
    "    np.random.randn(4, 2), \n",
    "    index=[['A', 'A', 'B', 'B'], [1, 2, 1, 2]],\n",
    "    columns=['data1', 'data2']\n",
    ")\n",
    "print(\"DataFrame1\")\n",
    "print(df1, \"\\n\")\n",
    "\n",
    "df2 = pd.DataFrame(\n",
    "    np.random.randn(4, 4),\n",
    "    columns=[[\"A\", \"A\", \"B\", \"B\"], [\"1\", \"2\", \"1\", \"2\"]]\n",
    ")\n",
    "print(\"DataFrame2\")\n",
    "print(df2, \"\\n\")\n",
    "\n",
    "# 명시적 인덱싱을 활용한 df1의 인덱스 출력\n",
    "print(\"df1.loc['A', 1]\")\n",
    "print(df1.loc['A', 1], \"\\n\") \n",
    "\n",
    "\n",
    "# df2의 [A][1] 칼럼 출력\n",
    "print('df2[\"A\"][\"1\"]')\n",
    "print(df2[\"A\"][\"1\"], \"\\n\")\n"
   ]
  },
  {
   "cell_type": "code",
   "execution_count": null,
   "id": "39ade071",
   "metadata": {},
   "outputs": [],
   "source": []
  }
 ],
 "metadata": {
  "kernelspec": {
   "display_name": "Python 3",
   "language": "python",
   "name": "python3"
  },
  "language_info": {
   "codemirror_mode": {
    "name": "ipython",
    "version": 3
   },
   "file_extension": ".py",
   "mimetype": "text/x-python",
   "name": "python",
   "nbconvert_exporter": "python",
   "pygments_lexer": "ipython3",
   "version": "3.8.8"
  }
 },
 "nbformat": 4,
 "nbformat_minor": 5
}
